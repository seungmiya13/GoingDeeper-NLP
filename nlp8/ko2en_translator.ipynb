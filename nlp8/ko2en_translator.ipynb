{
 "cells": [
  {
   "cell_type": "markdown",
   "id": "professional-conducting",
   "metadata": {},
   "source": [
    "프로젝트: 한영 번역기 만들기\n",
    "===\n",
    "\n",
    "한국어-영어 말뭉치를 사용하여 Seq2seq 기반 번역기를 직접 만들고 구조를 이해해 본다. 또한 Attention 기법을 추가하여 성능을 높여본다. \n",
    "    \n",
    "[목차]\n",
    "1. 데이터 다운로드\n",
    "2. 데이터 정제\n",
    "3. 데이터 토큰화\n",
    "4. 모델 설계\n",
    "5. 훈련하기"
   ]
  },
  {
   "cell_type": "code",
   "execution_count": 2,
   "id": "talented-raleigh",
   "metadata": {},
   "outputs": [
    {
     "data": {
      "text/plain": [
       "'/usr/share/fonts/truetype/nanum/NanumBarunGothic.ttf'"
      ]
     },
     "execution_count": 2,
     "metadata": {},
     "output_type": "execute_result"
    }
   ],
   "source": [
    "# 한국어를 잘 시각화하기 위한 준비\n",
    "import matplotlib as mpl\n",
    "import matplotlib.pyplot as plt\n",
    " \n",
    "%config InlineBackend.figure_format = 'retina'\n",
    " \n",
    "import matplotlib.font_manager as fm\n",
    "fontpath = '/usr/share/fonts/truetype/nanum/NanumBarunGothic.ttf'\n",
    "font = fm.FontProperties(fname=fontpath, size=9)\n",
    "plt.rc('font', family='NanumBarunGothic') \n",
    "mpl.font_manager.findfont(font)"
   ]
  },
  {
   "cell_type": "code",
   "execution_count": 4,
   "id": "violent-sperm",
   "metadata": {},
   "outputs": [
    {
     "name": "stdout",
     "output_type": "stream",
     "text": [
      "2.4.1\n"
     ]
    }
   ],
   "source": [
    "# 라이브러리 임포트\n",
    "import tensorflow as tf\n",
    "import numpy as np\n",
    "\n",
    "from sklearn.model_selection import train_test_split\n",
    "\n",
    "import matplotlib.ticker as ticker\n",
    "import matplotlib.pyplot as plt\n",
    "\n",
    "import time\n",
    "import re\n",
    "import os\n",
    "import io\n",
    "\n",
    "print(tf.__version__)"
   ]
  },
  {
   "cell_type": "markdown",
   "id": "objective-british",
   "metadata": {},
   "source": [
    "# 1. 데이터 다운로드\n",
    "\n",
    "한영 병렬 데이터를 사용합니다. \n",
    "- [jungyeul/korean-parallel-corpora](https://github.com/jungyeul/korean-parallel-corpora/tree/master/korean-english-news-v1)"
   ]
  },
  {
   "cell_type": "code",
   "execution_count": 1,
   "id": "brutal-cyprus",
   "metadata": {},
   "outputs": [
    {
     "name": "stdout",
     "output_type": "stream",
     "text": [
      "/aiffel/aiffel/GoingDeeper/nlp8/korean-english-park.train.tar.gz\r\n"
     ]
    }
   ],
   "source": [
    "!ls ~/aiffel/GoingDeeper/nlp8/*.gz"
   ]
  },
  {
   "cell_type": "markdown",
   "id": "loving-journal",
   "metadata": {},
   "source": [
    "# 2. 데이터 정제\n",
    "\n",
    "1) 중복 제거    \n",
    "    set 데이터형이 중복을 허용하지 않는다는 것을 활용해 중복된 데이터를 제거합니다. 데이터의 병렬 쌍이 흐트러지지 않게 주의합니다. 중복을 제거한 데이터를 cleaned_corpus 에 저장합니다.\n",
    "\n",
    "2) 정규식 추가    \n",
    "    앞서 정의한 preprocessing() 함수는 한글에서는 동작하지 않습니다. 한글에 적용할 수 있는 정규식을 추가하여 함수를 재정의합니다.\n",
    "\n",
    "3) 토큰 추가    \n",
    "    타겟 언어인 영문엔 \\<start> 토큰과 \\<end> 토큰을 추가하고 split() 함수를 이용하여 토큰화합니다. 한글 토큰화는 KoNLPy의 mecab 클래스를 사용합니다.\n",
    "    \n",
    "모든 데이터를 사용할 경우 학습에 굉장히 오랜 시간이 걸립니다. cleaned_corpus로부터 토큰의 길이가 40 이하인 데이터를 선별하여 eng_corpus와 kor_corpus를 각각 구축합니다."
   ]
  },
  {
   "cell_type": "code",
   "execution_count": null,
   "id": "canadian-prompt",
   "metadata": {},
   "outputs": [],
   "source": []
  }
 ],
 "metadata": {
  "kernelspec": {
   "display_name": "Python 3",
   "language": "python",
   "name": "python3"
  },
  "language_info": {
   "codemirror_mode": {
    "name": "ipython",
    "version": 3
   },
   "file_extension": ".py",
   "mimetype": "text/x-python",
   "name": "python",
   "nbconvert_exporter": "python",
   "pygments_lexer": "ipython3",
   "version": "3.7.9"
  }
 },
 "nbformat": 4,
 "nbformat_minor": 5
}
