{
 "cells": [
  {
   "cell_type": "markdown",
   "id": "furnished-judge",
   "metadata": {},
   "source": [
    "프로젝트: 한영 번역기 만들기\n",
    "===\n",
    "\n",
    "한국어-영어 말뭉치를 사용하여 Seq2seq 기반 번역기를 직접 만들고 구조를 이해해 본다. 또한 Attention 기법을 추가하여 성능을 높여본다. \n",
    "    \n",
    "[목차]\n",
    "1. 데이터 다운로드\n",
    "2. 데이터 정제\n",
    "3. 데이터 토큰화\n",
    "4. 모델 설계\n",
    "5. 훈련하기"
   ]
  },
  {
   "cell_type": "markdown",
   "id": "compatible-german",
   "metadata": {},
   "source": [
    "# 1. 데이터 다운로드\n",
    "\n",
    "한영 병렬 데이터를 사용합니다. \n",
    "- [jungyeul/korean-parallel-corpora](https://github.com/jungyeul/korean-parallel-corpora/tree/master/korean-english-news-v1)"
   ]
  },
  {
   "cell_type": "code",
   "execution_count": null,
   "id": "moved-juice",
   "metadata": {},
   "outputs": [],
   "source": []
  }
 ],
 "metadata": {
  "kernelspec": {
   "display_name": "Python 3",
   "language": "python",
   "name": "python3"
  },
  "language_info": {
   "codemirror_mode": {
    "name": "ipython",
    "version": 3
   },
   "file_extension": ".py",
   "mimetype": "text/x-python",
   "name": "python",
   "nbconvert_exporter": "python",
   "pygments_lexer": "ipython3",
   "version": "3.7.9"
  }
 },
 "nbformat": 4,
 "nbformat_minor": 5
}
