{
 "cells": [
  {
   "cell_type": "markdown",
   "id": "accessible-girlfriend",
   "metadata": {},
   "source": [
    "GoingDeeper-NLP 8. Seq2seq으로 번역기 만들기\n",
    "===\n",
    "\n",
    "Seq2seq 기반 번역기를 직접 만들어보며 구조를 이해해 본다. Attention 기법을 추가하여 성능을 높여볼 수 있다. 영어-스페인어 말뭉치와 한국어-영어 말뭉치를 활용해 본다.\n",
    "\n",
    "[학습 목차]\n",
    "- 8-2. 데이터 전처리\n",
    "- 8-3. 모델 설계\n",
    "- 8-4. 훈련하기 (1) Optimizer & Loss\n",
    "- 8-5. 훈련하기 (2) train_step 구현하기\n",
    "- 8-6. 훈련하기 (3) 훈련 시작하기"
   ]
  },
  {
   "cell_type": "code",
   "execution_count": null,
   "id": "saving-graphics",
   "metadata": {},
   "outputs": [],
   "source": []
  }
 ],
 "metadata": {
  "kernelspec": {
   "display_name": "Python 3",
   "language": "python",
   "name": "python3"
  },
  "language_info": {
   "codemirror_mode": {
    "name": "ipython",
    "version": 3
   },
   "file_extension": ".py",
   "mimetype": "text/x-python",
   "name": "python",
   "nbconvert_exporter": "python",
   "pygments_lexer": "ipython3",
   "version": "3.7.9"
  }
 },
 "nbformat": 4,
 "nbformat_minor": 5
}
