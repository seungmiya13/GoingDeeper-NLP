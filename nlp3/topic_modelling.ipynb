{
 "cells": [
  {
   "cell_type": "markdown",
   "id": "criminal-ecology",
   "metadata": {},
   "source": [
    "GD-NLP 3. 텍스트의 분포로 벡터화 하기\n",
    "====\n",
    "\n",
    "텍스트 분포를 이용한 텍스트의 벡터화 방법들(BoW, DTM, TF-IDF, LSA, LDA)을 실습을 통해 익혀보고, 텍스트 분포 기반으로 구현된 토큰화 기법에 대해서도 살펴본다.    \n",
    "\n",
    "1. 단어 빈도를 이용한 벡터화<br>\n",
    "    (1) Bag of Words<br>\n",
    "    (2) Bag of Words 구현해보기<br>\n",
    "    (3) DTM과 코사인 유사도<br>\n",
    "    (4) DTM의 구현과 한계점<br>\n",
    "    (5) TF-IDF<br>\n",
    "    (6) TF-IDF 구현하기\n",
    "2. LSA와 LDA<br>\n",
    "    (1) LSA<br>\n",
    "    (2) LSA 실습<br>\n",
    "    (3) LDA<br>\n",
    "    (4) LDA 실습\n",
    "3. 텍스트 분포를 이용한 비지도 학습 토크나이저<br>\n",
    "    (1) 형태소 분석기와 단어 미등록 문제<br>\n",
    "    (2) soynlp"
   ]
  },
  {
   "cell_type": "markdown",
   "id": "wireless-embassy",
   "metadata": {},
   "source": [
    "# 3-3. 단어 빈도를 이용한 벡터화 (2) Bag of Words 구현해보기\n",
    "\n",
    "아래에서는 각각 텐서플로우 케라스와 사이킷런 라이브러리를 사용해 Bag of Words를 만들겠습니다."
   ]
  },
  {
   "cell_type": "markdown",
   "id": "unique-singer",
   "metadata": {},
   "source": [
    "## keras Tokenizer 활용\n",
    "\n",
    "케라스 토크나이저를 통해 Bag of Words를 만들어 보겠습니다."
   ]
  },
  {
   "cell_type": "code",
   "execution_count": 1,
   "id": "operating-medline",
   "metadata": {},
   "outputs": [
    {
     "name": "stdout",
     "output_type": "stream",
     "text": [
      "Bag of Words : {'john': 1, 'likes': 3, 'to': 2, 'watch': 2, 'movies': 2, 'mary': 2, 'too': 1, 'also': 1, 'football': 1, 'games': 1}\n",
      "단어장(Vocabulary)의 크기 : 10\n"
     ]
    }
   ],
   "source": [
    "from tensorflow.keras.preprocessing.text import Tokenizer\n",
    "\n",
    "sentence = [\"John likes to watch movies. Mary likes movies too! Mary also likes to watch football games.\"]\n",
    "\n",
    "tokenizer = Tokenizer()\n",
    "tokenizer.fit_on_texts(sentence) # 단어장 생성\n",
    "bow = dict(tokenizer.word_counts) # 각 단어와 각 단어의 빈도를 bow에 저장\n",
    "\n",
    "print(\"Bag of Words :\", bow) # bow 출력\n",
    "print('단어장(Vocabulary)의 크기 :', len(tokenizer.word_counts)) # 중복을 제거한 단어들의 개수"
   ]
  },
  {
   "cell_type": "markdown",
   "id": "quality-booth",
   "metadata": {},
   "source": [
    "- fit_on_texts() : Updates internal vocabulary based on a list of texts    \n",
    "    https://www.tensorflow.org/api_docs/python/tf/keras/preprocessing/text/Tokenizer#fit_on_texts\n",
    "     \n",
    "     \n",
    "- 여기서 단어장(Vocabulary) 이라는 또 다른 개념을 이해해 보겠습니다. 문헌에 따라 사전 또는 단어 집합이라고 불리는데요. 단어장이란 중복을 제거한 단어들의 집합을 말합니다. 이는 Bag of Words랑은 다른 개념입니다.     \n",
    "    위의 예제에서는 단어장의 크기가 10개네요!"
   ]
  },
  {
   "cell_type": "code",
   "execution_count": 2,
   "id": "moving-establishment",
   "metadata": {},
   "outputs": [
    {
     "data": {
      "text/plain": [
       "collections.OrderedDict"
      ]
     },
     "execution_count": 2,
     "metadata": {},
     "output_type": "execute_result"
    }
   ],
   "source": [
    "type(tokenizer.word_counts)"
   ]
  },
  {
   "cell_type": "markdown",
   "id": "solar-approach",
   "metadata": {},
   "source": [
    "## scikit-learn CountVectorizer 활용\n",
    "\n",
    "Bag of Words를 만드는 또 다른 방법은 사이킷런의 CountVectorizer를 사용하는 것입니다."
   ]
  },
  {
   "cell_type": "code",
   "execution_count": 3,
   "id": "future-smith",
   "metadata": {},
   "outputs": [
    {
     "name": "stdout",
     "output_type": "stream",
     "text": [
      "Bag of Words :  [[1 1 1 1 3 2 2 2 1 2]]\n",
      "각 단어의 인덱스 : {'john': 3, 'likes': 4, 'to': 7, 'watch': 9, 'movies': 6, 'mary': 5, 'too': 8, 'also': 0, 'football': 1, 'games': 2}\n"
     ]
    }
   ],
   "source": [
    "from sklearn.feature_extraction.text import CountVectorizer\n",
    "\n",
    "sentence = [\"John likes to watch movies. Mary likes movies too! Mary also likes to watch football games.\"]\n",
    "\n",
    "vector = CountVectorizer()\n",
    "bow = vector.fit_transform(sentence).toarray()\n",
    "\n",
    "print('Bag of Words : ', bow) # 코퍼스로부터 각 단어의 빈도수를 기록한다.\n",
    "print('각 단어의 인덱스 :', vector.vocabulary_) # 각 단어의 인덱스가 어떻게 부여되었는지를 보여준다."
   ]
  },
  {
   "cell_type": "markdown",
   "id": "level-archive",
   "metadata": {},
   "source": [
    "- CountVectorizer() : Convert a collection of text documents to a matrix of token counts    \n",
    "    https://scikit-learn.org/stable/modules/generated/sklearn.feature_extraction.text.CountVectorizer.html    \n",
    "    + vocabulary_ : (dict) A mapping of terms to feature indices\n",
    "- fit_transform() : Learn the vocabulary dictionary and return document-term matrix    \n",
    "    https://scikit-learn.org/stable/modules/generated/sklearn.feature_extraction.text.CountVectorizer.html#sklearn.feature_extraction.text.CountVectorizer.fit_transform    \n",
    "- toarray() : Return a dense ndarray representation of this matrix     \n",
    "    https://docs.scipy.org/doc/scipy-0.18.1/reference/generated/scipy.sparse.spmatrix.toarray.html#scipy.sparse.spmatrix.toarray    \n",
    "\n",
    "    \n",
    "- CounterVectorizer의 vector.fit_transform(입력 문장).toarray()으로 출력되는 Bag of Words 결과를 보면 각 단어의 빈도만 출력될 뿐, 어떤 단어의 빈도인지는 나오지 않습니다. [[1 1 1 1 3 2 2 2 1 2]]이라는 값만으로는 각 숫자가 어떤 단어의 빈도인지 알 수가 없지요?\n",
    "\n",
    "- 이는 vector.vocabulary_를 통해서 각 단어에 부여된 인덱스를 확인하면 되는데요. 주의할 점은 이 인덱스는 0부터 시작한다는 점입니다. 가령, also의 인덱스는 0이네요. 그런데 BoW에서 0번째 위치한 값은 1이니까, also의 빈도는 1입니다. 또는 likes의 인덱스는 4인데, BoW에서 4번째 위치한 값은 3이니까 likes의 빈도는 3임을 알 수 있지요!\n",
    "\n",
    "그리고 이 Bag of Words의 단어장의 크기는 아래와 같이 구하면 되겠지요!"
   ]
  },
  {
   "cell_type": "code",
   "execution_count": 4,
   "id": "annual-jason",
   "metadata": {},
   "outputs": [
    {
     "name": "stdout",
     "output_type": "stream",
     "text": [
      "단어장(Vocabulary)의 크기 : 10\n"
     ]
    }
   ],
   "source": [
    "print('단어장(Vocabulary)의 크기 :', len(vector.vocabulary_))"
   ]
  },
  {
   "cell_type": "markdown",
   "id": "boolean-arbor",
   "metadata": {},
   "source": [
    "단어장이라는 개념은 Bag of Words를 위해 사용되는 개념이라기보다는, 자연어 처리에서 보편적으로 쓰이는 용어입니다. 그런데 이를 계속 강조하는 이유는 지금부터 사용할 DTM(Document-Term Matrix) 이라는 개념 이해를 돕기 위해서입니다. 지금 Bag of Words를 배우면서 이런 생각이 들지 않으셨나요? 그래서 이 개념을 도대체 어디서 사용할 수 있다는 거지? 이를 이해하기 위해서 DTM으로 가보겠습니다!"
   ]
  },
  {
   "cell_type": "code",
   "execution_count": 5,
   "id": "enabling-length",
   "metadata": {},
   "outputs": [
    {
     "data": {
      "text/plain": [
       "(numpy.ndarray, dict)"
      ]
     },
     "execution_count": 5,
     "metadata": {},
     "output_type": "execute_result"
    }
   ],
   "source": [
    "type(bow), type(vector.vocabulary_)"
   ]
  },
  {
   "cell_type": "markdown",
   "id": "applicable-victory",
   "metadata": {},
   "source": [
    "# 3-4. 단어 빈도를 이용한 벡터화 (3) DTM과 코사인 유사도\n",
    "\n",
    "DTM(Document-Term Matrix) 은 직역하면 문서-단어 행렬입니다. DTM은 여러 문서의 Bag of Words를 하나의 행렬로 구현한 것인데요. 다시 말해 DTM은 각 문서에 등장한 단어의 빈도수를 하나의 행렬로 통합시킵니다. DTM은 문서를 행으로, 단어를 열로 가지는 행렬이지만, 문헌에 따라서는 열을 문서로 하고 단어를 행으로 하여 TDM(Term-Document Matrix) 이라고 부르기도 합니다.    \n",
    "\n",
    "DTM을 사용하면 각 문서들을 비교하고, 각 문서 간 유사도를 구할 수 있게 됩니다.    \n",
    "\n",
    "각 문서 벡터의 유사도를 구해보겠습니다. 저자는 가장 보편적으로 사용되는 유사도 계산 방법인 코사인 유사도를 택했습니다. 아래와 같이 각 문서 벡터와 코사인 유사도 함수를 정의합니다."
   ]
  },
  {
   "cell_type": "code",
   "execution_count": 6,
   "id": "organizational-exclusion",
   "metadata": {},
   "outputs": [],
   "source": [
    "import numpy as np\n",
    "from numpy import dot\n",
    "from numpy.linalg import norm\n",
    "\n",
    "doc1 = np.array([0,1,1,1]) # 문서1 벡터\n",
    "doc2 = np.array([1,0,1,1]) # 문서2 벡터\n",
    "doc3 = np.array([2,0,2,2]) # 문서3 벡터\n",
    "\n",
    "def cos_sim(A, B):\n",
    "    return dot(A, B)/(norm(A)*norm(B))"
   ]
  },
  {
   "cell_type": "markdown",
   "id": "early-consultation",
   "metadata": {},
   "source": [
    "- 코사인 유사도 : https://wikidocs.net/24603    \n",
    "\n",
    "DTM에서 코사인 유사도는 0 이상 1 이하의 값을 가지며 값이 1에 가까울수록 유사도가 높다고 판단할 수 있습니다.\n",
    "    \n",
    "문서1, 문서2, 문서3의 각 문서 벡터에 대해서 코사인 유사도를 계산해 보겠습니다."
   ]
  },
  {
   "cell_type": "code",
   "execution_count": 7,
   "id": "decreased-scout",
   "metadata": {},
   "outputs": [
    {
     "name": "stdout",
     "output_type": "stream",
     "text": [
      "0.6666666666666667\n",
      "0.6666666666666667\n",
      "1.0000000000000002\n"
     ]
    }
   ],
   "source": [
    "print(cos_sim(doc1, doc2)) #문서1과 문서2의 코사인 유사도\n",
    "print(cos_sim(doc1, doc3)) #문서1과 문서3의 코사인 유사도\n",
    "print(cos_sim(doc2, doc3)) #문서2과 문서3의 코사인 유사도"
   ]
  },
  {
   "cell_type": "markdown",
   "id": "imported-measure",
   "metadata": {},
   "source": [
    "- 문서1과 문서2의 코사인 유사도는 0.67, 문서1과 문서3의 코사인 유사도 또한 0.67입니다. 그런데 문서2와 문서3의 코사인 유사도는 1입니다. 이는 한 문서 내의 모든 단어의 빈도수가 똑같이 증가하는 경우에는 기존의 문서와 코사인 유사도의 값이 1이 되기 때문입니다.\n"
   ]
  },
  {
   "cell_type": "markdown",
   "id": "corporate-cruise",
   "metadata": {},
   "source": [
    "# 3-5. 단어 빈도를 이용한 벡터화 (4) DTM의 구현과 한계점"
   ]
  },
  {
   "cell_type": "markdown",
   "id": "incomplete-hurricane",
   "metadata": {},
   "source": [
    "## scikit-learn CountVectorizer 활용\n",
    "\n",
    "사이킷런의 CountVectorizer를 이용하여 DTM을 만드는 방법은 앞서 Bag of Words를 만드는 방법과 동일합니다. 단지, 다수의 문서를 입력값으로 주면 됩니다. 다음은 3개의 문서에 대해서 DTM을 만드는 과정을 보여줍니다.\n",
    "\n"
   ]
  },
  {
   "cell_type": "code",
   "execution_count": 8,
   "id": "organized-candidate",
   "metadata": {},
   "outputs": [
    {
     "name": "stdout",
     "output_type": "stream",
     "text": [
      "[[0 0 0 1 1 0 1 1 0 1]\n",
      " [0 0 0 0 1 1 1 0 1 0]\n",
      " [1 1 1 0 1 1 0 1 0 1]]\n",
      "{'john': 3, 'likes': 4, 'to': 7, 'watch': 9, 'movies': 6, 'mary': 5, 'too': 8, 'also': 0, 'football': 1, 'games': 2}\n"
     ]
    }
   ],
   "source": [
    "from sklearn.feature_extraction.text import CountVectorizer\n",
    "\n",
    "corpus = [\n",
    "    'John likes to watch movies',\n",
    "    'Mary likes movies too',\n",
    "    'Mary also likes to watch football games',    \n",
    "]\n",
    "vector = CountVectorizer()\n",
    "\n",
    "print(vector.fit_transform(corpus).toarray()) # 코퍼스로부터 각 단어의 빈도수를 기록.\n",
    "print(vector.vocabulary_) # 각 단어의 인덱스가 어떻게 부여되었는지를 보여준다."
   ]
  },
  {
   "cell_type": "markdown",
   "id": "reported-sixth",
   "metadata": {},
   "source": [
    "# 3-7. 단어 빈도를 이용한 벡터화 (6) TF-IDF 구현하기"
   ]
  },
  {
   "cell_type": "markdown",
   "id": "champion-penetration",
   "metadata": {},
   "source": [
    "## TF-IDF 구현하기\n",
    "\n",
    "TF-IDF를 실제로 파이썬을 통해 구현해보겠습니다! 우선 필요한 도구를 임포트합니다."
   ]
  },
  {
   "cell_type": "code",
   "execution_count": 9,
   "id": "perceived-emission",
   "metadata": {},
   "outputs": [
    {
     "name": "stdout",
     "output_type": "stream",
     "text": [
      "=3\n"
     ]
    }
   ],
   "source": [
    "from math import log\n",
    "import pandas as pd\n",
    "print('=3')"
   ]
  },
  {
   "cell_type": "markdown",
   "id": "obvious-philippines",
   "metadata": {},
   "source": [
    "여기서는 3개의 문서를 사용할게요!"
   ]
  },
  {
   "cell_type": "code",
   "execution_count": 10,
   "id": "hispanic-rotation",
   "metadata": {},
   "outputs": [
    {
     "name": "stdout",
     "output_type": "stream",
     "text": [
      "=3\n"
     ]
    }
   ],
   "source": [
    "docs = [\n",
    "  'John likes to watch movies and Mary likes movies too',\n",
    "  'James likes to watch TV',\n",
    "  'Mary also likes to watch football games',  \n",
    "]\n",
    "print('=3')"
   ]
  },
  {
   "cell_type": "markdown",
   "id": "commercial-budget",
   "metadata": {},
   "source": [
    "우선 DTM의 열을 만들기 위해서 문서 3개의 단어들이 모두 들어간 통합 단어장을 만들겠습니다."
   ]
  },
  {
   "cell_type": "code",
   "execution_count": 11,
   "id": "informal-creature",
   "metadata": {},
   "outputs": [
    {
     "name": "stdout",
     "output_type": "stream",
     "text": [
      "단어장의 크기 : 13\n",
      "['James', 'John', 'Mary', 'TV', 'also', 'and', 'football', 'games', 'likes', 'movies', 'to', 'too', 'watch']\n"
     ]
    }
   ],
   "source": [
    "vocab = list(set(w for doc in docs for w in doc.split()))\n",
    "vocab.sort()\n",
    "print('단어장의 크기 :', len(vocab))\n",
    "print(vocab)"
   ]
  },
  {
   "cell_type": "markdown",
   "id": "upper-growing",
   "metadata": {},
   "source": [
    "- 현재 단어장의 크기는 13이네요. 중복을 제거한 단어들의 개수가 13개라는 의미입니다.    \n",
    "\n",
    "이제 총 문서의 수를 변수 N에다가 저장하겠습니다. 우리는 이미 이 값이 3이라는 사실을 알고 있지요?"
   ]
  },
  {
   "cell_type": "code",
   "execution_count": 12,
   "id": "committed-illustration",
   "metadata": {},
   "outputs": [
    {
     "data": {
      "text/plain": [
       "3"
      ]
     },
     "execution_count": 12,
     "metadata": {},
     "output_type": "execute_result"
    }
   ],
   "source": [
    "N = len(docs) # 총 문서의 수\n",
    "N"
   ]
  },
  {
   "cell_type": "markdown",
   "id": "suspected-bidding",
   "metadata": {},
   "source": [
    "이제 TF 함수, IDF 함수, TF-IDF 함수를 만들겠습니다.\n",
    "    \n",
    "여기서 IDF를 실제 구현할 때는 앞서 배운 식과는 다소 다른 식을 사용하게 됩니다. 실제로 많은 파이썬 패키지들이 앞에서 배운 식에서 조금씩 조정된, 서로 다른 식을 사용합니다.\n",
    "     \n",
    "우선, 여기서는 log 항의 분모에 1을 더해주겠습니다. 이는 (Bag of Words를 사용할 때 일반적인 상황은 아니지만) 특정 단어가 전체 문서에서 등장하지 않을 경우에 분모가 0이 되는 상황을 방지하기 위함입니다. 그리고 log 항에 1을 더해주겠습니다. 이는 log 항의 분자와 분모값이 동일해졌을 때, log의 진수가 1이 됨에 따라서 IDF의 값이 0이 되는 것을 방지하기 위함입니다."
   ]
  },
  {
   "cell_type": "code",
   "execution_count": 13,
   "id": "imported-friendly",
   "metadata": {},
   "outputs": [],
   "source": [
    "def tf(t, d):\n",
    "    return d.count(t)\n",
    " \n",
    "def idf(t):\n",
    "    df = 0\n",
    "    for doc in docs:\n",
    "        df += t in doc    \n",
    "    return log(N/(df + 1)) + 1\n",
    " \n",
    "def tfidf(t, d):\n",
    "    return tf(t,d)* idf(t)"
   ]
  },
  {
   "cell_type": "markdown",
   "id": "present-oregon",
   "metadata": {},
   "source": [
    "우선 TF 함수를 사용하여 DTM을 만들어봅시다."
   ]
  },
  {
   "cell_type": "code",
   "execution_count": 14,
   "id": "piano-rough",
   "metadata": {},
   "outputs": [
    {
     "data": {
      "text/html": [
       "<div>\n",
       "<style scoped>\n",
       "    .dataframe tbody tr th:only-of-type {\n",
       "        vertical-align: middle;\n",
       "    }\n",
       "\n",
       "    .dataframe tbody tr th {\n",
       "        vertical-align: top;\n",
       "    }\n",
       "\n",
       "    .dataframe thead th {\n",
       "        text-align: right;\n",
       "    }\n",
       "</style>\n",
       "<table border=\"1\" class=\"dataframe\">\n",
       "  <thead>\n",
       "    <tr style=\"text-align: right;\">\n",
       "      <th></th>\n",
       "      <th>James</th>\n",
       "      <th>John</th>\n",
       "      <th>Mary</th>\n",
       "      <th>TV</th>\n",
       "      <th>also</th>\n",
       "      <th>and</th>\n",
       "      <th>football</th>\n",
       "      <th>games</th>\n",
       "      <th>likes</th>\n",
       "      <th>movies</th>\n",
       "      <th>to</th>\n",
       "      <th>too</th>\n",
       "      <th>watch</th>\n",
       "    </tr>\n",
       "  </thead>\n",
       "  <tbody>\n",
       "    <tr>\n",
       "      <th>0</th>\n",
       "      <td>0</td>\n",
       "      <td>1</td>\n",
       "      <td>1</td>\n",
       "      <td>0</td>\n",
       "      <td>0</td>\n",
       "      <td>1</td>\n",
       "      <td>0</td>\n",
       "      <td>0</td>\n",
       "      <td>2</td>\n",
       "      <td>2</td>\n",
       "      <td>2</td>\n",
       "      <td>1</td>\n",
       "      <td>1</td>\n",
       "    </tr>\n",
       "    <tr>\n",
       "      <th>1</th>\n",
       "      <td>1</td>\n",
       "      <td>0</td>\n",
       "      <td>0</td>\n",
       "      <td>1</td>\n",
       "      <td>0</td>\n",
       "      <td>0</td>\n",
       "      <td>0</td>\n",
       "      <td>0</td>\n",
       "      <td>1</td>\n",
       "      <td>0</td>\n",
       "      <td>1</td>\n",
       "      <td>0</td>\n",
       "      <td>1</td>\n",
       "    </tr>\n",
       "    <tr>\n",
       "      <th>2</th>\n",
       "      <td>0</td>\n",
       "      <td>0</td>\n",
       "      <td>1</td>\n",
       "      <td>0</td>\n",
       "      <td>1</td>\n",
       "      <td>0</td>\n",
       "      <td>1</td>\n",
       "      <td>1</td>\n",
       "      <td>1</td>\n",
       "      <td>0</td>\n",
       "      <td>1</td>\n",
       "      <td>0</td>\n",
       "      <td>1</td>\n",
       "    </tr>\n",
       "  </tbody>\n",
       "</table>\n",
       "</div>"
      ],
      "text/plain": [
       "   James  John  Mary  TV  also  and  football  games  likes  movies  to  too  \\\n",
       "0      0     1     1   0     0    1         0      0      2       2   2    1   \n",
       "1      1     0     0   1     0    0         0      0      1       0   1    0   \n",
       "2      0     0     1   0     1    0         1      1      1       0   1    0   \n",
       "\n",
       "   watch  \n",
       "0      1  \n",
       "1      1  \n",
       "2      1  "
      ]
     },
     "execution_count": 14,
     "metadata": {},
     "output_type": "execute_result"
    }
   ],
   "source": [
    "result = []\n",
    "for i in range(N): # 각 문서에 대해서 아래 명령을 수행\n",
    "    result.append([])\n",
    "    d = docs[i]\n",
    "    for j in range(len(vocab)):\n",
    "        t = vocab[j]\n",
    "        \n",
    "        result[-1].append(tf(t, d))\n",
    "        \n",
    "tf_ = pd.DataFrame(result, columns = vocab)\n",
    "tf_"
   ]
  },
  {
   "cell_type": "markdown",
   "id": "stainless-focus",
   "metadata": {},
   "source": [
    "각 단어의 IDF를 구해봅시다."
   ]
  },
  {
   "cell_type": "code",
   "execution_count": 15,
   "id": "distinct-moment",
   "metadata": {},
   "outputs": [
    {
     "data": {
      "text/html": [
       "<div>\n",
       "<style scoped>\n",
       "    .dataframe tbody tr th:only-of-type {\n",
       "        vertical-align: middle;\n",
       "    }\n",
       "\n",
       "    .dataframe tbody tr th {\n",
       "        vertical-align: top;\n",
       "    }\n",
       "\n",
       "    .dataframe thead th {\n",
       "        text-align: right;\n",
       "    }\n",
       "</style>\n",
       "<table border=\"1\" class=\"dataframe\">\n",
       "  <thead>\n",
       "    <tr style=\"text-align: right;\">\n",
       "      <th></th>\n",
       "      <th>IDF</th>\n",
       "    </tr>\n",
       "  </thead>\n",
       "  <tbody>\n",
       "    <tr>\n",
       "      <th>James</th>\n",
       "      <td>1.405465</td>\n",
       "    </tr>\n",
       "    <tr>\n",
       "      <th>John</th>\n",
       "      <td>1.405465</td>\n",
       "    </tr>\n",
       "    <tr>\n",
       "      <th>Mary</th>\n",
       "      <td>1.000000</td>\n",
       "    </tr>\n",
       "    <tr>\n",
       "      <th>TV</th>\n",
       "      <td>1.405465</td>\n",
       "    </tr>\n",
       "    <tr>\n",
       "      <th>also</th>\n",
       "      <td>1.405465</td>\n",
       "    </tr>\n",
       "    <tr>\n",
       "      <th>and</th>\n",
       "      <td>1.405465</td>\n",
       "    </tr>\n",
       "    <tr>\n",
       "      <th>football</th>\n",
       "      <td>1.405465</td>\n",
       "    </tr>\n",
       "    <tr>\n",
       "      <th>games</th>\n",
       "      <td>1.405465</td>\n",
       "    </tr>\n",
       "    <tr>\n",
       "      <th>likes</th>\n",
       "      <td>0.712318</td>\n",
       "    </tr>\n",
       "    <tr>\n",
       "      <th>movies</th>\n",
       "      <td>1.405465</td>\n",
       "    </tr>\n",
       "    <tr>\n",
       "      <th>to</th>\n",
       "      <td>0.712318</td>\n",
       "    </tr>\n",
       "    <tr>\n",
       "      <th>too</th>\n",
       "      <td>1.405465</td>\n",
       "    </tr>\n",
       "    <tr>\n",
       "      <th>watch</th>\n",
       "      <td>0.712318</td>\n",
       "    </tr>\n",
       "  </tbody>\n",
       "</table>\n",
       "</div>"
      ],
      "text/plain": [
       "               IDF\n",
       "James     1.405465\n",
       "John      1.405465\n",
       "Mary      1.000000\n",
       "TV        1.405465\n",
       "also      1.405465\n",
       "and       1.405465\n",
       "football  1.405465\n",
       "games     1.405465\n",
       "likes     0.712318\n",
       "movies    1.405465\n",
       "to        0.712318\n",
       "too       1.405465\n",
       "watch     0.712318"
      ]
     },
     "execution_count": 15,
     "metadata": {},
     "output_type": "execute_result"
    }
   ],
   "source": [
    "result = []\n",
    "for j in range(len(vocab)):\n",
    "    t = vocab[j]\n",
    "    result.append(idf(t))\n",
    "\n",
    "idf_ = pd.DataFrame(result, index = vocab, columns=[\"IDF\"])\n",
    "idf_"
   ]
  },
  {
   "cell_type": "markdown",
   "id": "supposed-error",
   "metadata": {},
   "source": [
    "- IDF는 'likes'나 'to' 그리고 'watch'와 같이 모든 문서에 등장한 단어가 가장 낮은 값을 가집니다. 그리고 그다음으로 두 개의 문서에 등장한 'Mary'가 그다음으로 낮은 값을 가지며, 그 외의 1개의 문서에만 등장한 단어들은 가장 높은 값을 가지는 것을 볼 수 있습니다. \n",
    "\n",
    "\n",
    "이제 TF-IDF 행렬을 출력해봅시다. DTM에 있는 각 단어의 TF에 각 단어의 IDF를 곱해준 값입니다.\n"
   ]
  },
  {
   "cell_type": "code",
   "execution_count": 16,
   "id": "invisible-queens",
   "metadata": {},
   "outputs": [
    {
     "data": {
      "text/html": [
       "<div>\n",
       "<style scoped>\n",
       "    .dataframe tbody tr th:only-of-type {\n",
       "        vertical-align: middle;\n",
       "    }\n",
       "\n",
       "    .dataframe tbody tr th {\n",
       "        vertical-align: top;\n",
       "    }\n",
       "\n",
       "    .dataframe thead th {\n",
       "        text-align: right;\n",
       "    }\n",
       "</style>\n",
       "<table border=\"1\" class=\"dataframe\">\n",
       "  <thead>\n",
       "    <tr style=\"text-align: right;\">\n",
       "      <th></th>\n",
       "      <th>James</th>\n",
       "      <th>John</th>\n",
       "      <th>Mary</th>\n",
       "      <th>TV</th>\n",
       "      <th>also</th>\n",
       "      <th>and</th>\n",
       "      <th>football</th>\n",
       "      <th>games</th>\n",
       "      <th>likes</th>\n",
       "      <th>movies</th>\n",
       "      <th>to</th>\n",
       "      <th>too</th>\n",
       "      <th>watch</th>\n",
       "    </tr>\n",
       "  </thead>\n",
       "  <tbody>\n",
       "    <tr>\n",
       "      <th>0</th>\n",
       "      <td>0.000000</td>\n",
       "      <td>1.405465</td>\n",
       "      <td>1.0</td>\n",
       "      <td>0.000000</td>\n",
       "      <td>0.000000</td>\n",
       "      <td>1.405465</td>\n",
       "      <td>0.000000</td>\n",
       "      <td>0.000000</td>\n",
       "      <td>1.424636</td>\n",
       "      <td>2.81093</td>\n",
       "      <td>1.424636</td>\n",
       "      <td>1.405465</td>\n",
       "      <td>0.712318</td>\n",
       "    </tr>\n",
       "    <tr>\n",
       "      <th>1</th>\n",
       "      <td>1.405465</td>\n",
       "      <td>0.000000</td>\n",
       "      <td>0.0</td>\n",
       "      <td>1.405465</td>\n",
       "      <td>0.000000</td>\n",
       "      <td>0.000000</td>\n",
       "      <td>0.000000</td>\n",
       "      <td>0.000000</td>\n",
       "      <td>0.712318</td>\n",
       "      <td>0.00000</td>\n",
       "      <td>0.712318</td>\n",
       "      <td>0.000000</td>\n",
       "      <td>0.712318</td>\n",
       "    </tr>\n",
       "    <tr>\n",
       "      <th>2</th>\n",
       "      <td>0.000000</td>\n",
       "      <td>0.000000</td>\n",
       "      <td>1.0</td>\n",
       "      <td>0.000000</td>\n",
       "      <td>1.405465</td>\n",
       "      <td>0.000000</td>\n",
       "      <td>1.405465</td>\n",
       "      <td>1.405465</td>\n",
       "      <td>0.712318</td>\n",
       "      <td>0.00000</td>\n",
       "      <td>0.712318</td>\n",
       "      <td>0.000000</td>\n",
       "      <td>0.712318</td>\n",
       "    </tr>\n",
       "  </tbody>\n",
       "</table>\n",
       "</div>"
      ],
      "text/plain": [
       "      James      John  Mary        TV      also       and  football     games  \\\n",
       "0  0.000000  1.405465   1.0  0.000000  0.000000  1.405465  0.000000  0.000000   \n",
       "1  1.405465  0.000000   0.0  1.405465  0.000000  0.000000  0.000000  0.000000   \n",
       "2  0.000000  0.000000   1.0  0.000000  1.405465  0.000000  1.405465  1.405465   \n",
       "\n",
       "      likes   movies        to       too     watch  \n",
       "0  1.424636  2.81093  1.424636  1.405465  0.712318  \n",
       "1  0.712318  0.00000  0.712318  0.000000  0.712318  \n",
       "2  0.712318  0.00000  0.712318  0.000000  0.712318  "
      ]
     },
     "execution_count": 16,
     "metadata": {},
     "output_type": "execute_result"
    }
   ],
   "source": [
    "result = []\n",
    "for i in range(N):\n",
    "    result.append([])\n",
    "    d = docs[i]\n",
    "    for j in range(len(vocab)):\n",
    "        t = vocab[j]\n",
    "        \n",
    "        result[-1].append(tfidf(t,d))\n",
    "\n",
    "tfidf_ = pd.DataFrame(result, columns = vocab)\n",
    "tfidf_"
   ]
  },
  {
   "cell_type": "markdown",
   "id": "promising-roulette",
   "metadata": {},
   "source": [
    "## scikit-learn TFidVectorizer 활용\n",
    "\n",
    "사이킷런으로 DTM을 만들기 위해서는 CountVectorizer를 사용했었습니다. 이와 유사하게 사이킷런에서는 TF-IDF를 자동으로 계산하여 출력하는 TfidfVectorizer를 제공합니다.\n",
    "     \n",
    "향후 실습 중에 결괏값이 예상과 달라 혼란이 일어나는 일이 없도록 미리 언급하자면, 사이킷런의 TfidfVectorizer 또한 이번에 배운 기본식에서 조정된 식을 사용합니다. 간단히 언급하면, TfidfVectorizer는 위에서 우리가 파이썬으로 구현한 식에서 더 나아가 log 항의 분자에도 1을 더해주며, TF-IDF의 결과에 L2 Norm까지 추가로 수행한다는 점이 다릅니다.\n",
    "     \n",
    "사이킷런의 TfidfVectorizer를 통해 TF-IDF 행렬을 출력해봅시다."
   ]
  },
  {
   "cell_type": "code",
   "execution_count": 17,
   "id": "medieval-cooperative",
   "metadata": {},
   "outputs": [],
   "source": [
    "from sklearn.feature_extraction.text import TfidfVectorizer\n",
    "\n",
    "corpus = [\n",
    "  'John likes to watch movies and Mary likes movies too',\n",
    "  'James likes to watch TV',\n",
    "  'Mary also likes to watch football games',  \n",
    "]"
   ]
  },
  {
   "cell_type": "code",
   "execution_count": 18,
   "id": "irish-cambodia",
   "metadata": {},
   "outputs": [],
   "source": [
    "tfidfv = TfidfVectorizer().fit(corpus)\n",
    "vocab = list(tfidfv.vocabulary_.keys()) # 단어장을 리스트로 저장\n",
    "vocab.sort() # 단어장을 알파벳 순으로 정렬"
   ]
  },
  {
   "cell_type": "markdown",
   "id": "valuable-fellowship",
   "metadata": {},
   "source": [
    "- TfidfVectorizer() : Convert a collection of raw documents to a matrix of TF-IDF features    \n",
    "    https://scikit-learn.org/stable/modules/generated/sklearn.feature_extraction.text.TfidfVectorizer.html    \n",
    "         \n",
    "    - fit(raw_documents[, y]) : Learn vocabulary and idf from training set. Returns Fitted vectorizer.    \n",
    "\n",
    "    - fit_transform(raw_documents[, y]) : Learn vocabulary and idf, return document-term matrix."
   ]
  },
  {
   "cell_type": "code",
   "execution_count": 19,
   "id": "miniature-source",
   "metadata": {},
   "outputs": [
    {
     "data": {
      "text/html": [
       "<div>\n",
       "<style scoped>\n",
       "    .dataframe tbody tr th:only-of-type {\n",
       "        vertical-align: middle;\n",
       "    }\n",
       "\n",
       "    .dataframe tbody tr th {\n",
       "        vertical-align: top;\n",
       "    }\n",
       "\n",
       "    .dataframe thead th {\n",
       "        text-align: right;\n",
       "    }\n",
       "</style>\n",
       "<table border=\"1\" class=\"dataframe\">\n",
       "  <thead>\n",
       "    <tr style=\"text-align: right;\">\n",
       "      <th></th>\n",
       "      <th>also</th>\n",
       "      <th>and</th>\n",
       "      <th>football</th>\n",
       "      <th>games</th>\n",
       "      <th>james</th>\n",
       "      <th>john</th>\n",
       "      <th>likes</th>\n",
       "      <th>mary</th>\n",
       "      <th>movies</th>\n",
       "      <th>to</th>\n",
       "      <th>too</th>\n",
       "      <th>tv</th>\n",
       "      <th>watch</th>\n",
       "    </tr>\n",
       "  </thead>\n",
       "  <tbody>\n",
       "    <tr>\n",
       "      <th>0</th>\n",
       "      <td>0.000000</td>\n",
       "      <td>0.321556</td>\n",
       "      <td>0.000000</td>\n",
       "      <td>0.000000</td>\n",
       "      <td>0.000000</td>\n",
       "      <td>0.321556</td>\n",
       "      <td>0.379832</td>\n",
       "      <td>0.244551</td>\n",
       "      <td>0.643111</td>\n",
       "      <td>0.189916</td>\n",
       "      <td>0.321556</td>\n",
       "      <td>0.000000</td>\n",
       "      <td>0.189916</td>\n",
       "    </tr>\n",
       "    <tr>\n",
       "      <th>1</th>\n",
       "      <td>0.000000</td>\n",
       "      <td>0.000000</td>\n",
       "      <td>0.000000</td>\n",
       "      <td>0.000000</td>\n",
       "      <td>0.572929</td>\n",
       "      <td>0.000000</td>\n",
       "      <td>0.338381</td>\n",
       "      <td>0.000000</td>\n",
       "      <td>0.000000</td>\n",
       "      <td>0.338381</td>\n",
       "      <td>0.000000</td>\n",
       "      <td>0.572929</td>\n",
       "      <td>0.338381</td>\n",
       "    </tr>\n",
       "    <tr>\n",
       "      <th>2</th>\n",
       "      <td>0.464997</td>\n",
       "      <td>0.000000</td>\n",
       "      <td>0.464997</td>\n",
       "      <td>0.464997</td>\n",
       "      <td>0.000000</td>\n",
       "      <td>0.000000</td>\n",
       "      <td>0.274634</td>\n",
       "      <td>0.353642</td>\n",
       "      <td>0.000000</td>\n",
       "      <td>0.274634</td>\n",
       "      <td>0.000000</td>\n",
       "      <td>0.000000</td>\n",
       "      <td>0.274634</td>\n",
       "    </tr>\n",
       "  </tbody>\n",
       "</table>\n",
       "</div>"
      ],
      "text/plain": [
       "       also       and  football     games     james      john     likes  \\\n",
       "0  0.000000  0.321556  0.000000  0.000000  0.000000  0.321556  0.379832   \n",
       "1  0.000000  0.000000  0.000000  0.000000  0.572929  0.000000  0.338381   \n",
       "2  0.464997  0.000000  0.464997  0.464997  0.000000  0.000000  0.274634   \n",
       "\n",
       "       mary    movies        to       too        tv     watch  \n",
       "0  0.244551  0.643111  0.189916  0.321556  0.000000  0.189916  \n",
       "1  0.000000  0.000000  0.338381  0.000000  0.572929  0.338381  \n",
       "2  0.353642  0.000000  0.274634  0.000000  0.000000  0.274634  "
      ]
     },
     "execution_count": 19,
     "metadata": {},
     "output_type": "execute_result"
    }
   ],
   "source": [
    "# TF-IDF 행렬에 단어장을 데이터프레임의 열로 지정하여 데이터프레임 생성\n",
    "tfidf_ = pd.DataFrame(tfidfv.transform(corpus).toarray(), columns = vocab)\n",
    "tfidf_"
   ]
  },
  {
   "cell_type": "markdown",
   "id": "balanced-hearts",
   "metadata": {},
   "source": [
    "- transform(raw_documents): Transform documents to document-term matrix."
   ]
  },
  {
   "cell_type": "markdown",
   "id": "excited-spouse",
   "metadata": {},
   "source": [
    "# 3-9. LSA와 LDA (2) LSA 실습\n",
    "\n",
    "우선 필요한 도구를 임포트합니다."
   ]
  },
  {
   "cell_type": "code",
   "execution_count": 20,
   "id": "chief-hometown",
   "metadata": {},
   "outputs": [
    {
     "name": "stdout",
     "output_type": "stream",
     "text": [
      "=3\n"
     ]
    }
   ],
   "source": [
    "import pandas as pd\n",
    "import numpy as np\n",
    "import urllib.request\n",
    "from sklearn.feature_extraction.text import CountVectorizer\n",
    "from sklearn.feature_extraction.text import TfidfVectorizer\n",
    "import nltk\n",
    "from nltk.corpus import stopwords\n",
    "from nltk.stem import WordNetLemmatizer\n",
    "print('=3')"
   ]
  },
  {
   "cell_type": "code",
   "execution_count": 21,
   "id": "expensive-theorem",
   "metadata": {},
   "outputs": [
    {
     "name": "stderr",
     "output_type": "stream",
     "text": [
      "[nltk_data] Downloading package punkt to /aiffel/nltk_data...\n",
      "[nltk_data]   Unzipping tokenizers/punkt.zip.\n",
      "[nltk_data] Downloading package wordnet to /aiffel/nltk_data...\n",
      "[nltk_data]   Unzipping corpora/wordnet.zip.\n",
      "[nltk_data] Downloading package stopwords to /aiffel/nltk_data...\n",
      "[nltk_data]   Unzipping corpora/stopwords.zip.\n"
     ]
    },
    {
     "data": {
      "text/plain": [
       "True"
      ]
     },
     "execution_count": 21,
     "metadata": {},
     "output_type": "execute_result"
    }
   ],
   "source": [
    "nltk.download('punkt')\n",
    "nltk.download('wordnet')\n",
    "nltk.download('stopwords')"
   ]
  },
  {
   "cell_type": "markdown",
   "id": "loved-psychology",
   "metadata": {},
   "source": [
    "## 데이터 다운로드 및 확인\n",
    "\n",
    "실습을 위해 데이터를 다운로드합니다."
   ]
  },
  {
   "cell_type": "code",
   "execution_count": 22,
   "id": "greenhouse-birthday",
   "metadata": {},
   "outputs": [
    {
     "data": {
      "text/plain": [
       "('/aiffel/aiffel/GoingDeeper/nlp3/data/abcnews-date-text.csv',\n",
       " <http.client.HTTPMessage at 0x7fa3866b3d90>)"
      ]
     },
     "execution_count": 22,
     "metadata": {},
     "output_type": "execute_result"
    }
   ],
   "source": [
    "import os\n",
    "\n",
    "csv_filename = os.getenv('HOME')+'/aiffel/GoingDeeper/nlp3/data/abcnews-date-text.csv'\n",
    "\n",
    "urllib.request.urlretrieve(\"https://raw.githubusercontent.com/franciscadias/data/master/abcnews-date-text.csv\", \n",
    "                           filename=csv_filename)"
   ]
  },
  {
   "cell_type": "markdown",
   "id": "convinced-sunrise",
   "metadata": {},
   "source": [
    "다운로드한 데이터를 데이터프레임에 저장하고 전체 샘플의 수를 출력합니다."
   ]
  },
  {
   "cell_type": "code",
   "execution_count": 23,
   "id": "supreme-summary",
   "metadata": {},
   "outputs": [
    {
     "data": {
      "text/plain": [
       "(1082168, 2)"
      ]
     },
     "execution_count": 23,
     "metadata": {},
     "output_type": "execute_result"
    }
   ],
   "source": [
    "data = pd.read_csv(csv_filename, error_bad_lines=False)\n",
    "data.shape"
   ]
  },
  {
   "cell_type": "markdown",
   "id": "progressive-reality",
   "metadata": {},
   "source": [
    "약 108만 개의 샘플이 존재합니다. 5개의 샘플만 출력해봅시다."
   ]
  },
  {
   "cell_type": "code",
   "execution_count": 24,
   "id": "alternative-recipe",
   "metadata": {},
   "outputs": [
    {
     "data": {
      "text/html": [
       "<div>\n",
       "<style scoped>\n",
       "    .dataframe tbody tr th:only-of-type {\n",
       "        vertical-align: middle;\n",
       "    }\n",
       "\n",
       "    .dataframe tbody tr th {\n",
       "        vertical-align: top;\n",
       "    }\n",
       "\n",
       "    .dataframe thead th {\n",
       "        text-align: right;\n",
       "    }\n",
       "</style>\n",
       "<table border=\"1\" class=\"dataframe\">\n",
       "  <thead>\n",
       "    <tr style=\"text-align: right;\">\n",
       "      <th></th>\n",
       "      <th>publish_date</th>\n",
       "      <th>headline_text</th>\n",
       "    </tr>\n",
       "  </thead>\n",
       "  <tbody>\n",
       "    <tr>\n",
       "      <th>0</th>\n",
       "      <td>20030219</td>\n",
       "      <td>aba decides against community broadcasting lic...</td>\n",
       "    </tr>\n",
       "    <tr>\n",
       "      <th>1</th>\n",
       "      <td>20030219</td>\n",
       "      <td>act fire witnesses must be aware of defamation</td>\n",
       "    </tr>\n",
       "    <tr>\n",
       "      <th>2</th>\n",
       "      <td>20030219</td>\n",
       "      <td>a g calls for infrastructure protection summit</td>\n",
       "    </tr>\n",
       "    <tr>\n",
       "      <th>3</th>\n",
       "      <td>20030219</td>\n",
       "      <td>air nz staff in aust strike for pay rise</td>\n",
       "    </tr>\n",
       "    <tr>\n",
       "      <th>4</th>\n",
       "      <td>20030219</td>\n",
       "      <td>air nz strike to affect australian travellers</td>\n",
       "    </tr>\n",
       "  </tbody>\n",
       "</table>\n",
       "</div>"
      ],
      "text/plain": [
       "   publish_date                                      headline_text\n",
       "0      20030219  aba decides against community broadcasting lic...\n",
       "1      20030219     act fire witnesses must be aware of defamation\n",
       "2      20030219     a g calls for infrastructure protection summit\n",
       "3      20030219           air nz staff in aust strike for pay rise\n",
       "4      20030219      air nz strike to affect australian travellers"
      ]
     },
     "execution_count": 24,
     "metadata": {},
     "output_type": "execute_result"
    }
   ],
   "source": [
    "data.head()"
   ]
  },
  {
   "cell_type": "markdown",
   "id": "sexual-quilt",
   "metadata": {},
   "source": [
    "publish_date는 이번 실습에 불필요하므로 headline_text만 별도로 저장합니다."
   ]
  },
  {
   "cell_type": "code",
   "execution_count": 25,
   "id": "focused-abraham",
   "metadata": {},
   "outputs": [
    {
     "data": {
      "text/html": [
       "<div>\n",
       "<style scoped>\n",
       "    .dataframe tbody tr th:only-of-type {\n",
       "        vertical-align: middle;\n",
       "    }\n",
       "\n",
       "    .dataframe tbody tr th {\n",
       "        vertical-align: top;\n",
       "    }\n",
       "\n",
       "    .dataframe thead th {\n",
       "        text-align: right;\n",
       "    }\n",
       "</style>\n",
       "<table border=\"1\" class=\"dataframe\">\n",
       "  <thead>\n",
       "    <tr style=\"text-align: right;\">\n",
       "      <th></th>\n",
       "      <th>headline_text</th>\n",
       "    </tr>\n",
       "  </thead>\n",
       "  <tbody>\n",
       "    <tr>\n",
       "      <th>0</th>\n",
       "      <td>aba decides against community broadcasting lic...</td>\n",
       "    </tr>\n",
       "    <tr>\n",
       "      <th>1</th>\n",
       "      <td>act fire witnesses must be aware of defamation</td>\n",
       "    </tr>\n",
       "    <tr>\n",
       "      <th>2</th>\n",
       "      <td>a g calls for infrastructure protection summit</td>\n",
       "    </tr>\n",
       "    <tr>\n",
       "      <th>3</th>\n",
       "      <td>air nz staff in aust strike for pay rise</td>\n",
       "    </tr>\n",
       "    <tr>\n",
       "      <th>4</th>\n",
       "      <td>air nz strike to affect australian travellers</td>\n",
       "    </tr>\n",
       "  </tbody>\n",
       "</table>\n",
       "</div>"
      ],
      "text/plain": [
       "                                       headline_text\n",
       "0  aba decides against community broadcasting lic...\n",
       "1     act fire witnesses must be aware of defamation\n",
       "2     a g calls for infrastructure protection summit\n",
       "3           air nz staff in aust strike for pay rise\n",
       "4      air nz strike to affect australian travellers"
      ]
     },
     "execution_count": 25,
     "metadata": {},
     "output_type": "execute_result"
    }
   ],
   "source": [
    "text = data[['headline_text']].copy()\n",
    "text.head()"
   ]
  },
  {
   "cell_type": "markdown",
   "id": "sixth-affiliation",
   "metadata": {},
   "source": [
    "데이터에 중복이 있는지 확인해 봅시다."
   ]
  },
  {
   "cell_type": "code",
   "execution_count": 26,
   "id": "apart-munich",
   "metadata": {},
   "outputs": [
    {
     "data": {
      "text/plain": [
       "headline_text    1054983\n",
       "dtype: int64"
      ]
     },
     "execution_count": 26,
     "metadata": {},
     "output_type": "execute_result"
    }
   ],
   "source": [
    "text.nunique() # 중복을 제외하고 유일한 시퀀스를 가지는 샘플의 개수를 출력"
   ]
  },
  {
   "cell_type": "markdown",
   "id": "ultimate-doubt",
   "metadata": {},
   "source": [
    "- 약 108만 개의 샘플 중 중복을 제외하면 약 105만 개의 샘플이 존재합니다. \n",
    "\n",
    "이는 약 3만 개의 샘플이 중복 샘플임을 의미합니다. 중복 샘플을 제거합니다."
   ]
  },
  {
   "cell_type": "code",
   "execution_count": 27,
   "id": "brilliant-carbon",
   "metadata": {},
   "outputs": [
    {
     "data": {
      "text/plain": [
       "(1054983, 1)"
      ]
     },
     "execution_count": 27,
     "metadata": {},
     "output_type": "execute_result"
    }
   ],
   "source": [
    "text.drop_duplicates(inplace=True) # 중복 샘플 제거\n",
    "text.reset_index(drop=True, inplace=True)\n",
    "text.shape"
   ]
  },
  {
   "cell_type": "markdown",
   "id": "valuable-configuration",
   "metadata": {},
   "source": [
    "- pandas.DataFrame.reset_index() : Reset the index of the DataFrame, and use the default one instead     \n",
    "    https://pandas.pydata.org/docs/reference/api/pandas.DataFrame.reset_index.html\n",
    "    "
   ]
  },
  {
   "cell_type": "markdown",
   "id": "welsh-merchandise",
   "metadata": {},
   "source": [
    "## 데이터 정제 및 정규화\n",
    "\n",
    "이제 텍스트 데이터를 정제 및 정규화하는 과정을 진행해 보겠습니다. 우선 NLTK의 토크나이저를 이용해 전체 텍스트 데이터에 대해서 단어 토큰화를 수행하고, NLTK가 제공하는 불용어 리스트를 사용하여 불용어를 제거합니다.\n",
    "    \n",
    "아래 과정은 다소(몇 분 정도) 시간이 걸릴 수 있으니 당황하지 마세요."
   ]
  },
  {
   "cell_type": "code",
   "execution_count": 28,
   "id": "complimentary-drill",
   "metadata": {},
   "outputs": [
    {
     "data": {
      "text/html": [
       "<div>\n",
       "<style scoped>\n",
       "    .dataframe tbody tr th:only-of-type {\n",
       "        vertical-align: middle;\n",
       "    }\n",
       "\n",
       "    .dataframe tbody tr th {\n",
       "        vertical-align: top;\n",
       "    }\n",
       "\n",
       "    .dataframe thead th {\n",
       "        text-align: right;\n",
       "    }\n",
       "</style>\n",
       "<table border=\"1\" class=\"dataframe\">\n",
       "  <thead>\n",
       "    <tr style=\"text-align: right;\">\n",
       "      <th></th>\n",
       "      <th>headline_text</th>\n",
       "    </tr>\n",
       "  </thead>\n",
       "  <tbody>\n",
       "    <tr>\n",
       "      <th>0</th>\n",
       "      <td>[aba, decides, community, broadcasting, licence]</td>\n",
       "    </tr>\n",
       "    <tr>\n",
       "      <th>1</th>\n",
       "      <td>[act, fire, witnesses, must, aware, defamation]</td>\n",
       "    </tr>\n",
       "    <tr>\n",
       "      <th>2</th>\n",
       "      <td>[g, calls, infrastructure, protection, summit]</td>\n",
       "    </tr>\n",
       "    <tr>\n",
       "      <th>3</th>\n",
       "      <td>[air, nz, staff, aust, strike, pay, rise]</td>\n",
       "    </tr>\n",
       "    <tr>\n",
       "      <th>4</th>\n",
       "      <td>[air, nz, strike, affect, australian, travellers]</td>\n",
       "    </tr>\n",
       "  </tbody>\n",
       "</table>\n",
       "</div>"
      ],
      "text/plain": [
       "                                       headline_text\n",
       "0   [aba, decides, community, broadcasting, licence]\n",
       "1    [act, fire, witnesses, must, aware, defamation]\n",
       "2     [g, calls, infrastructure, protection, summit]\n",
       "3          [air, nz, staff, aust, strike, pay, rise]\n",
       "4  [air, nz, strike, affect, australian, travellers]"
      ]
     },
     "execution_count": 28,
     "metadata": {},
     "output_type": "execute_result"
    }
   ],
   "source": [
    "# NLTK 토크나이저를 이용해서 토큰화\n",
    "text['headline_text'] = text.apply(lambda row: nltk.word_tokenize(row['headline_text']), axis=1)\n",
    "\n",
    "# 불용어 제거\n",
    "stop_words = stopwords.words('english')\n",
    "text['headline_text'] = text['headline_text'].apply(lambda x: [word for word in x if word not in (stop_words)])\n",
    "\n",
    "text.head()"
   ]
  },
  {
   "cell_type": "markdown",
   "id": "respective-kidney",
   "metadata": {},
   "source": [
    "- pandas.DataFrame.apply() : Apply a function along an axis of the DataFrame    \n",
    "    https://pandas.pydata.org/docs/reference/api/pandas.DataFrame.apply.html\n",
    "- nltk.tokenize : Tokenizers divide strings into lists of substrings    \n",
    "    https://www.nltk.org/api/nltk.tokenize.html\n",
    "- strpwords : like the, to and also that we sometimes want to filter out of a document before further processing     \n",
    "    https://www.nltk.org/book/ch02.html     \n",
    "    \n",
    "이제 동일한 단어지만 다른 표현을 가지는 단어들을 하나의 단어로 통합(lemmatization)하는 단어 정규화 과정, 그리고 길이가 1 ~ 2인 단어를 제거하는 전처리를 진행합니다."
   ]
  },
  {
   "cell_type": "code",
   "execution_count": 29,
   "id": "complex-enlargement",
   "metadata": {},
   "outputs": [
    {
     "name": "stdout",
     "output_type": "stream",
     "text": [
      "0     [aba, decide, community, broadcast, licence]\n",
      "1    [act, fire, witness, must, aware, defamation]\n",
      "2       [call, infrastructure, protection, summit]\n",
      "3            [air, staff, aust, strike, pay, rise]\n",
      "4    [air, strike, affect, australian, travellers]\n",
      "Name: headline_text, dtype: object\n"
     ]
    }
   ],
   "source": [
    "# 단어 정규화. 3인칭 단수 표현 -> 1인칭 변환, 과거형 동사 -> 현재형 동사 등을 수행한다.\n",
    "text['headline_text'] = text['headline_text'].apply(lambda x: [WordNetLemmatizer().lemmatize(word, pos='v') for word in x])\n",
    "\n",
    "# 길이가 1 ~ 2인 단어는 제거.\n",
    "text = text['headline_text'].apply(lambda x: [word for word in x if len(word) > 2])\n",
    "print(text[:5])"
   ]
  },
  {
   "cell_type": "markdown",
   "id": "favorite-anaheim",
   "metadata": {},
   "source": [
    "- nltk.stem.wordnet.WordNetLemmatizer() : Lemmatize using WordNet’s built-in morphy function. Returns the input word unchanged if it cannot be found in WordNet    \n",
    "    pos='v' : verbs     \n",
    "    https://www.nltk.org/api/nltk.stem.wordnet.html#nltk.stem.wordnet.WordNetLemmatizer    \n",
    "- WordNetLemmatizer().lemmatize() : Lemmatize word using WordNet’s built-in morphy function. Returns the input word unchanged if it cannot be found in WordNet.    \n",
    "    https://www.nltk.org/api/nltk.stem.wordnet.html#nltk.stem.wordnet.WordNetLemmatizer.lemmatize    \n",
    "    \n",
    "* Lemmatisation : 언어학의 기본형 화는 단어의 변형 된 형태를 그룹화하여 단어의 기본형 또는 사전 형식으로 식별되는 단일 항목으로 분석 될 수 있도록하는 프로세스입니다. "
   ]
  },
  {
   "cell_type": "markdown",
   "id": "rubber-performance",
   "metadata": {},
   "source": [
    "## 역토큰화 및 DTM 생성\n",
    "\n",
    "DTM을 생성하는 CountVectorizer 또는 TF-IDF 행렬을 생성하는 TfidfVectorizer의 입력으로 사용하기 위해서 토큰화 과정을 역으로 되돌리는 역토큰화(detokenization) 를 수행해보겠습니다."
   ]
  },
  {
   "cell_type": "code",
   "execution_count": 30,
   "id": "signal-malta",
   "metadata": {},
   "outputs": [
    {
     "name": "stdout",
     "output_type": "stream",
     "text": [
      "=3\n"
     ]
    }
   ],
   "source": [
    "# 역토큰화 (토큰화 작업을 역으로 수행)\n",
    "detokenized_doc = []\n",
    "for i in range(len(text)):\n",
    "    t = ' '.join(text[i])\n",
    "    detokenized_doc.append(t)\n",
    "\n",
    "train_data = detokenized_doc\n",
    "print('=3')"
   ]
  },
  {
   "cell_type": "markdown",
   "id": "interested-salon",
   "metadata": {},
   "source": [
    "전처리 최종 결과는 train_data에 저장하였습니다. 5개의 샘플을 출력해봅시다."
   ]
  },
  {
   "cell_type": "code",
   "execution_count": 31,
   "id": "fewer-navigation",
   "metadata": {},
   "outputs": [
    {
     "data": {
      "text/plain": [
       "['aba decide community broadcast licence',\n",
       " 'act fire witness must aware defamation',\n",
       " 'call infrastructure protection summit',\n",
       " 'air staff aust strike pay rise',\n",
       " 'air strike affect australian travellers']"
      ]
     },
     "execution_count": 31,
     "metadata": {},
     "output_type": "execute_result"
    }
   ],
   "source": [
    "train_data[:5]"
   ]
  },
  {
   "cell_type": "markdown",
   "id": "banner-copper",
   "metadata": {},
   "source": [
    "전처리 최종 결과인 train_data는 다음에 배울 LDA 실습에서도 재사용 할 예정입니다. CountVectorizer를 사용하여 DTM을 생성해봅시다. 단어의 수는 5,000개로 제한하겠습니다."
   ]
  },
  {
   "cell_type": "code",
   "execution_count": 32,
   "id": "outside-terminology",
   "metadata": {},
   "outputs": [
    {
     "name": "stdout",
     "output_type": "stream",
     "text": [
      "=3\n"
     ]
    }
   ],
   "source": [
    "# 상위 5000개의 단어만 사용\n",
    "c_vectorizer = CountVectorizer(stop_words='english', max_features = 5000)\n",
    "document_term_matrix = c_vectorizer.fit_transform(train_data)\n",
    "print('=3')"
   ]
  },
  {
   "cell_type": "markdown",
   "id": "executive-marshall",
   "metadata": {},
   "source": [
    "- sklearn.feature_extraction.text.CountVectorizer()   \n",
    "    : Convert a collection of text documents to a matrix of token counts    \n",
    "    stop_words='english' : If 'english', a built-in stop word list for English is used    \n",
    "    https://scikit-learn.org/stable/modules/generated/sklearn.feature_extraction.text.CountVectorizer.html\n",
    "\n",
    "DTM을 생성했습니다. DTM의 크기를 확인해봅시다."
   ]
  },
  {
   "cell_type": "code",
   "execution_count": 33,
   "id": "political-rebate",
   "metadata": {},
   "outputs": [
    {
     "name": "stdout",
     "output_type": "stream",
     "text": [
      "행렬의 크기 : (1054983, 5000)\n"
     ]
    }
   ],
   "source": [
    "print('행렬의 크기 :',document_term_matrix.shape)"
   ]
  },
  {
   "cell_type": "markdown",
   "id": "valued-silly",
   "metadata": {},
   "source": [
    "- DTM의 크기(shape)는 (문서의 수 × 단어 집합의 크기)입니다."
   ]
  },
  {
   "cell_type": "markdown",
   "id": "experimental-significance",
   "metadata": {},
   "source": [
    "# scikit-learn TruncatedSVD 활용\n",
    "\n",
    "이제 Truncated SVD를 통해 LSA를 수행해 봅시다. 토픽의 수를 10으로 정하겠습니다. 이는 앞서 배운 하이퍼파라미터 k에 해당되며, 행렬 Vk^T 가 k × (단어의 수)의 크기를 가지도록 DTM에 TruncatedSVD를 수행합니다."
   ]
  },
  {
   "cell_type": "code",
   "execution_count": 34,
   "id": "sought-turning",
   "metadata": {},
   "outputs": [
    {
     "data": {
      "text/plain": [
       "array([[ 1.20233477e-02, -3.65226281e-03,  1.82664980e-02, ...,\n",
       "         3.02473345e-03,  2.44385785e-03,  1.70366380e-02],\n",
       "       [ 2.90502070e-02, -1.10307902e-02,  1.83270106e-02, ...,\n",
       "        -3.31826880e-03, -1.09986647e-02,  5.95110751e-03],\n",
       "       [ 5.02453688e-03, -2.02823502e-03,  9.71757102e-03, ...,\n",
       "        -3.70396008e-03,  1.55965141e-03,  4.52866921e-03],\n",
       "       ...,\n",
       "       [ 2.95843466e-02,  3.65933277e-03,  2.46975577e-02, ...,\n",
       "         2.01159496e-02,  2.10976132e-02,  3.09843216e-03],\n",
       "       [ 6.24319372e-02, -4.85226519e-03,  1.37525462e-01, ...,\n",
       "         7.79758448e-01,  8.43570566e-01, -2.89228058e-01],\n",
       "       [ 7.10185564e-02,  2.84626858e-02,  8.27193487e-04, ...,\n",
       "        -1.90858771e-02, -1.52521569e-02, -1.59734639e-02]])"
      ]
     },
     "execution_count": 34,
     "metadata": {},
     "output_type": "execute_result"
    }
   ],
   "source": [
    "from sklearn.decomposition import TruncatedSVD\n",
    "\n",
    "n_topics = 10 # k\n",
    "lsa_model = TruncatedSVD(n_components = n_topics)\n",
    "lsa_model.fit_transform(document_term_matrix)"
   ]
  },
  {
   "cell_type": "markdown",
   "id": "infrared-tulsa",
   "metadata": {},
   "source": [
    "- sklearn.decomposition.TruncatedSVD.fit_transform() : Fit model to X and perform dimensionality reduction on X    \n",
    "    https://scikit-learn.org/stable/modules/generated/sklearn.decomposition.TruncatedSVD.html#sklearn.decomposition.TruncatedSVD.fit_transform"
   ]
  },
  {
   "cell_type": "markdown",
   "id": "laden-electric",
   "metadata": {},
   "source": [
    "TruncatedSVD를 통해 얻은 행렬 V_k^T 의 크기를 확인해봅시다."
   ]
  },
  {
   "cell_type": "code",
   "execution_count": 35,
   "id": "wooden-booking",
   "metadata": {},
   "outputs": [
    {
     "name": "stdout",
     "output_type": "stream",
     "text": [
      "(10, 5000)\n"
     ]
    }
   ],
   "source": [
    "print(lsa_model.components_.shape)"
   ]
  },
  {
   "cell_type": "markdown",
   "id": "resistant-parker",
   "metadata": {},
   "source": [
    "- components_ : ndarray of shape (n_components, n_features)    \n",
    "    The right singular vectors of the input data    \n",
    "    https://scikit-learn.org/stable/modules/generated/sklearn.decomposition.TruncatedSVD.html#sklearn-decomposition-truncatedsvd    \n",
    "     \n",
    "행렬 V_k^T 가 k × (단어의 수) 의 크기를 가지는 것을 확인할 수 있습니다. 이제 각 행을 전체 코퍼스의 k개의 주제(topic)로 판단하고 각 주제에서 n개씩 단어를 출력해 봅시다."
   ]
  },
  {
   "cell_type": "code",
   "execution_count": 36,
   "id": "noticed-graduate",
   "metadata": {},
   "outputs": [
    {
     "name": "stdout",
     "output_type": "stream",
     "text": [
      "Topic 1: [('police', 0.7464), ('man', 0.45357), ('charge', 0.21092), ('new', 0.14094), ('court', 0.11156)]\n",
      "Topic 2: [('man', 0.69433), ('charge', 0.3005), ('court', 0.16775), ('face', 0.11545), ('murder', 0.10604)]\n",
      "Topic 3: [('new', 0.8368), ('plan', 0.23666), ('say', 0.18256), ('govt', 0.11097), ('council', 0.10983)]\n",
      "Topic 4: [('say', 0.73856), ('plan', 0.35938), ('govt', 0.16748), ('council', 0.12752), ('urge', 0.07596)]\n",
      "Topic 5: [('plan', 0.73247), ('council', 0.17962), ('govt', 0.14041), ('urge', 0.08269), ('water', 0.06609)]\n",
      "Topic 6: [('govt', 0.53408), ('court', 0.24051), ('urge', 0.24029), ('fund', 0.21714), ('win', 0.16066)]\n",
      "Topic 7: [('charge', 0.51865), ('court', 0.45839), ('face', 0.36212), ('murder', 0.12556), ('plan', 0.11619)]\n",
      "Topic 8: [('win', 0.55349), ('court', 0.39952), ('kill', 0.21192), ('council', 0.14527), ('crash', 0.12248)]\n",
      "Topic 9: [('win', 0.63778), ('charge', 0.45174), ('council', 0.0959), ('cup', 0.07022), ('open', 0.06882)]\n",
      "Topic 10: [('council', 0.82259), ('water', 0.09087), ('fund', 0.07355), ('miss', 0.07009), ('crash', 0.06506)]\n"
     ]
    }
   ],
   "source": [
    "terms = c_vectorizer.get_feature_names() # 단어 집합. 5,000개의 단어가 저장됨.\n",
    "\n",
    "def get_topics(components, feature_names, n=5):\n",
    "    for idx, topic in enumerate(components):\n",
    "        print(\"Topic %d:\" % (idx+1), [(feature_names[i], topic[i].round(5)) for i in topic.argsort()[:-n -1:-1]])\n",
    "\n",
    "get_topics(lsa_model.components_, terms)"
   ]
  },
  {
   "cell_type": "markdown",
   "id": "robust-benjamin",
   "metadata": {},
   "source": [
    "- numpy.argsort() : Returns the indices that would sort an array    \n",
    "    https://numpy.org/doc/stable/reference/generated/numpy.argsort.html\n",
    "- CountVectorizer().get_feature_names() : retrun list of feature names     \n",
    "    https://scikit-learn.org/stable/modules/generated/sklearn.feature_extraction.text.CountVectorizer.html#sklearn.feature_extraction.text.CountVectorizer.get_feature_names"
   ]
  },
  {
   "cell_type": "markdown",
   "id": "defensive-sample",
   "metadata": {},
   "source": [
    "# 3-11. LSA와 LDA (4) LDA 실습\n",
    "\n",
    "LDA 실습은 LSA 실습 과정에서 만들어둔 전처리가 완료된 train_data를 재사용한다고 가정합니다. 해당 데이터는 역토큰화 과정을 거친 데이터입니다."
   ]
  },
  {
   "cell_type": "markdown",
   "id": "sophisticated-jason",
   "metadata": {},
   "source": [
    "## TF-IDF 행렬 생성\n",
    "\n",
    "LDA는 DTM 또는 TF-IDF를 입력으로 받을 수 있습니다. 여기서는 TF-IDF를 사용하겠습니다.\n",
    "    \n",
    "TfidfVectorizer를 사용하여 TF-IDF 행렬을 생성해봅시다. 단어의 수는 5,000개로 제한하겠습니다. TF-IDF 행렬을 생성한 후에는 행렬의 크기를 확인합시다."
   ]
  },
  {
   "cell_type": "code",
   "execution_count": 37,
   "id": "bright-excuse",
   "metadata": {},
   "outputs": [
    {
     "name": "stdout",
     "output_type": "stream",
     "text": [
      "행렬의 크기 : (1054983, 5000)\n"
     ]
    }
   ],
   "source": [
    "# 상위 5,000개의 단어만 사용\n",
    "tfidf_vectorizer = TfidfVectorizer(stop_words='english', max_features=5000)\n",
    "tf_idf_matrix = tfidf_vectorizer.fit_transform(train_data)\n",
    "\n",
    "# TF-IDF 행렬의 크기를 확인해봅시다.\n",
    "print('행렬의 크기 :', tf_idf_matrix.shape)"
   ]
  },
  {
   "cell_type": "markdown",
   "id": "compliant-response",
   "metadata": {},
   "source": [
    "## scikit-learn LDA Model 활용\n",
    "\n",
    "사이킷런의 LDA 모델을 사용하여 학습합니다. LSA와 마찬가지로 동일한 사이킷런 패키지이므로 앞으로 진행되는 실습 과정은 LSA와 매우 유사합니다. 토픽의 개수는 10개로 정했습니다. 이는 n_components의 인자값입니다. 시간이 수분 정도 소요될 것이므로 느긋하게 기다려 주세요."
   ]
  },
  {
   "cell_type": "code",
   "execution_count": 38,
   "id": "underlying-brooklyn",
   "metadata": {},
   "outputs": [
    {
     "data": {
      "text/plain": [
       "array([[0.0335099 , 0.69841093, 0.0335099 , ..., 0.0335099 , 0.0335099 ,\n",
       "        0.0335099 ],\n",
       "       [0.03365631, 0.03365631, 0.03365631, ..., 0.03365631, 0.03365631,\n",
       "        0.03365631],\n",
       "       [0.0366096 , 0.0366096 , 0.0366096 , ..., 0.67051361, 0.0366096 ,\n",
       "        0.0366096 ],\n",
       "       ...,\n",
       "       [0.02914502, 0.02914502, 0.14077174, ..., 0.02914502, 0.02914502,\n",
       "        0.26688721],\n",
       "       [0.02637829, 0.12325014, 0.02638944, ..., 0.21422895, 0.02637829,\n",
       "        0.0996168 ],\n",
       "       [0.03376121, 0.03376055, 0.03376055, ..., 0.03376055, 0.50437083,\n",
       "        0.03376055]])"
      ]
     },
     "execution_count": 38,
     "metadata": {},
     "output_type": "execute_result"
    }
   ],
   "source": [
    "from sklearn.decomposition import LatentDirichletAllocation\n",
    "\n",
    "lda_model = LatentDirichletAllocation(n_components=10, learning_method='online', random_state=777, max_iter=1)\n",
    "lda_model.fit_transform(tf_idf_matrix)"
   ]
  },
  {
   "cell_type": "markdown",
   "id": "hispanic-steps",
   "metadata": {},
   "source": [
    "- sklearn.decomposition.LatentDirichletAllocation()   \n",
    "    components_ : (n_components, n_features) Variational parameters for topic word distribution    \n",
    "    https://scikit-learn.org/stable/modules/generated/sklearn.decomposition.LatentDirichletAllocation.html#sklearn.decomposition.LatentDirichletAllocation.fit_transform\n",
    "    \n",
    "LDA를 통해 얻은 결과 행렬의 크기를 확인해봅시다."
   ]
  },
  {
   "cell_type": "code",
   "execution_count": 39,
   "id": "pretty-celebration",
   "metadata": {},
   "outputs": [
    {
     "name": "stdout",
     "output_type": "stream",
     "text": [
      "(10, 5000)\n"
     ]
    }
   ],
   "source": [
    "print(lda_model.components_.shape)"
   ]
  },
  {
   "cell_type": "markdown",
   "id": "paperback-chambers",
   "metadata": {},
   "source": [
    "전체 코퍼스로부터 얻은 10개의 토픽과 각 토픽에서의 단어의 비중을 보겠습니다."
   ]
  },
  {
   "cell_type": "code",
   "execution_count": 40,
   "id": "digital-massachusetts",
   "metadata": {},
   "outputs": [
    {
     "name": "stdout",
     "output_type": "stream",
     "text": [
      "Topic 1: [('new', 6839.37079), ('government', 6344.47105), ('election', 5419.59529), ('adelaide', 4864.1739), ('home', 4048.41226)]\n",
      "Topic 2: [('say', 7929.44145), ('change', 4193.89405), ('year', 3924.88995), ('live', 3625.10473), ('market', 3541.15301)]\n",
      "Topic 3: [('australian', 7667.75985), ('south', 4846.36918), ('perth', 4552.99622), ('2016', 3955.96018), ('open', 3771.68108)]\n",
      "Topic 4: [('trump', 8187.32772), ('school', 3966.83143), ('jail', 3245.22756), ('women', 3029.28982), ('life', 2998.44275)]\n",
      "Topic 5: [('police', 5589.78951), ('melbourne', 5299.84238), ('warn', 3577.31091), ('rural', 3521.5736), ('hospital', 3106.7779)]\n",
      "Topic 6: [('world', 4536.54893), ('sydney', 4406.58731), ('country', 4167.71984), ('years', 3581.99631), ('man', 3520.89397)]\n",
      "Topic 7: [('charge', 5946.75892), ('day', 5062.31785), ('house', 4481.76928), ('murder', 4065.57534), ('crash', 3793.50261)]\n",
      "Topic 8: [('australia', 7253.84683), ('attack', 4787.62503), ('north', 3706.11788), ('state', 3658.17043), ('west', 2890.04311)]\n",
      "Topic 9: [('kill', 4093.71098), ('die', 4025.52754), ('woman', 3983.65518), ('death', 3465.80304), ('drug', 3050.84164)]\n",
      "Topic 10: [('queensland', 5552.50636), ('canberra', 4323.24), ('win', 4315.15603), ('coast', 3825.82182), ('tasmanian', 3552.17616)]\n"
     ]
    }
   ],
   "source": [
    "# LDA의 결과 토픽과 각 단어의 비중을 출력합시다.\n",
    "# [[YOUR CODE]]\n",
    "terms = tfidf_vectorizer.get_feature_names() # 단어 집합. 5,000개의 단어가 저장됨.\n",
    "\n",
    "def get_topics(components, feature_names, n=5):\n",
    "    for idx, topic in enumerate(components):\n",
    "        print(\"Topic %d:\" % (idx+1), [(feature_names[i], topic[i].round(5)) for i in topic.argsort()[:-n-1:-1]])\n",
    "\n",
    "get_topics(lda_model.components_, terms)"
   ]
  },
  {
   "cell_type": "markdown",
   "id": "running-heading",
   "metadata": {},
   "source": [
    "# 3-12. 텍스트 분포를 이용한 비지도 학습 토크나이저 (1) 형태소 분석기와 단어 미등록 문제\n",
    "\n",
    "지금까지 띄어쓰기 단위의 단어 분포를 이용해서 단어나 문서를 벡터화하는 방법에 대해 알아봤습니다. 이번에는 텍스트의 분포를 이용해서 토큰화를 수행하는 비지도 학습 토크나이저에 대해서 알아봅시다."
   ]
  },
  {
   "cell_type": "markdown",
   "id": "entitled-elements",
   "metadata": {},
   "source": [
    "## 형태소 분석기의 필요성\n",
    "\n",
    "한국어는 교착어입니다. 교착어란 하나의 낱말(엄밀히는 하나의 어절)이 하나의 어근(root)(혹은 어간(stem))과 각각 단일한 기능을 가지는 하나 이상의 접사(affix)의 결합으로 이루어져 있는 언어를 말합니다. 조사라는 품사는 교착어에만 존재합니다.\n",
    "    \n",
    "이런 특성으로 인해 한국어는 영어와 달리 조사나 접사가 존재하며, 영어처럼 띄어쓰기 단위 토큰화가 제대로 동작하지 않습니다.\n",
    "     \n",
    "영어 토큰화를 복습해봅시다. 다음과 같이 영어 문장은 단순히 띄어쓰기를 수행해도 단어 토큰화가 제대로 동작합니다."
   ]
  },
  {
   "cell_type": "code",
   "execution_count": 41,
   "id": "compressed-ownership",
   "metadata": {},
   "outputs": [
    {
     "name": "stdout",
     "output_type": "stream",
     "text": [
      "['The', 'dog', 'ran', 'back', 'to', 'the', 'corner', 'near', 'the', 'spare', 'bedrooms']\n"
     ]
    }
   ],
   "source": [
    "en_text = \"The dog ran back to the corner near the spare bedrooms\"\n",
    "print(en_text.split())"
   ]
  },
  {
   "cell_type": "markdown",
   "id": "aware-tourism",
   "metadata": {},
   "source": [
    "그런데 한국어의 경우에는 띄어쓰기 단위로 토큰화를 하면 문제가 생깁니다. 다음과 같은 한국어 문장을 띄어쓰기 기준으로 토큰화를 진행했다고 해봅시다."
   ]
  },
  {
   "cell_type": "code",
   "execution_count": 42,
   "id": "invisible-nashville",
   "metadata": {},
   "outputs": [
    {
     "name": "stdout",
     "output_type": "stream",
     "text": [
      "['사과의', '놀라운', '효능이라는', '글을', '봤어.', '그래서', '오늘', '사과를', '먹으려고', '했는데', '사과가', '썩어서', '슈퍼에', '가서', '사과랑', '오렌지', '사', '왔어']\n"
     ]
    }
   ],
   "source": [
    "kor_text = \"사과의 놀라운 효능이라는 글을 봤어. 그래서 오늘 사과를 먹으려고 했는데 사과가 썩어서 슈퍼에 가서 사과랑 오렌지 사 왔어\"\n",
    "print(kor_text.split())"
   ]
  },
  {
   "cell_type": "markdown",
   "id": "nominated-senate",
   "metadata": {},
   "source": [
    "위의 예제 문장에서 '사과'란 단어가 총 4번 등장했는데 모두 '의', '를', '가', '랑' 등이 붙어있어 이를 제거해주지 않으면 기계는 전부 다른 단어로 인식하게 됩니다. 이를 해결하기 위해서 한국어는 주로 형태소 분석기를 사용합니다. 가령, 형태소 분석기 중 하나인 Okt를 사용해서 형태소 분석을 할 경우에는 다음 결과를 얻습니다."
   ]
  },
  {
   "cell_type": "code",
   "execution_count": 43,
   "id": "present-climate",
   "metadata": {},
   "outputs": [
    {
     "name": "stdout",
     "output_type": "stream",
     "text": [
      "['사과', '의', '놀라운', '효능', '이라는', '글', '을', '봤어', '.', '그래서', '오늘', '사과', '를', '먹으려고', '했는데', '사과', '가', '썩어서', '슈퍼', '에', '가서', '사과', '랑', '오렌지', '사', '왔어']\n"
     ]
    }
   ],
   "source": [
    "from konlpy.tag import Okt\n",
    "\n",
    "tokenizer = Okt()\n",
    "print(tokenizer.morphs(kor_text))"
   ]
  },
  {
   "cell_type": "markdown",
   "id": "alike-bahamas",
   "metadata": {},
   "source": [
    "## 단어 미등록 문제\n",
    "\n",
    "하지만 기존의 형태소 분석기는 등록된 단어를 기준으로 형태소를 분류해 내어 새롭게 만들어진 단어를 인식하기 어렵다는 특징이 있습니다."
   ]
  },
  {
   "cell_type": "code",
   "execution_count": 44,
   "id": "separated-trick",
   "metadata": {},
   "outputs": [
    {
     "name": "stdout",
     "output_type": "stream",
     "text": [
      "['모두', '의', '연구소', '에서', '자연어', '처리', '를', '공부', '하는', '건', '정말', '즐거워']\n"
     ]
    }
   ],
   "source": [
    "print(tokenizer.morphs('모두의연구소에서 자연어 처리를 공부하는 건 정말 즐거워'))"
   ]
  },
  {
   "cell_type": "markdown",
   "id": "agricultural-sociology",
   "metadata": {},
   "source": [
    "'모두의연구소'는 하나의 단어이지만 위의 형태소 분석 결과에서는 전부 분리된 결과를 보여줍니다.\n",
    "     \n",
    "그렇다면 텍스트 데이터에서 특정 문자 시퀀스가 함께 자주 등장하는 빈도가 높고, 앞뒤로 조사 또는 완전히 다른 단어가 등장하는 것을 고려해서 해당 문자 시퀀스를 형태소라고 판단하는 형태소 분석기라면 어떨까요?\n",
    "    \n",
    "예를 들어, '모두의연구소'라는 문자열이 자주 연결되어 등장한다면 형태소라고 판단하고, '모두의연구소'라는 단어 앞, 뒤에 '최고', 'AI', '실력'과 같은 독립된 다른 단어들이 계속해서 등장한다면 '모두의연구소'를 형태소로 파악하는 식이지요. 이런 아이디어를 가진 형태소 분석기가 soynlp입니다."
   ]
  },
  {
   "cell_type": "markdown",
   "id": "expensive-defeat",
   "metadata": {},
   "source": [
    "# 3-13. 텍스트 분포를 이용한 비지도 학습 토크나이저 (2) soynlp\n",
    "\n",
    "soynlp는 품사 태깅, 형태소 분석 등을 지원하는 한국어 형태소 분석기입니다.    \n",
    "비지도 학습으로 형태소 분석을 한다는 특징을 갖고 있으며, 데이터에 자주 등장하는 단어들을 형태소로 분석합니다.     \n",
    "soynlp 형태소 분석기는 내부적으로 단어 점수표로 동작합니다. 이 점수는 응집 확률(cohesion probability) 과 브랜칭 엔트로피(branching entropy) 를 활용합니다.\n",
    "\n",
    "- soynlp: https://github.com/lovit/soynlp#soynlp"
   ]
  },
  {
   "cell_type": "markdown",
   "id": "attempted-walter",
   "metadata": {},
   "source": [
    "## soynlp 실습\n",
    "\n",
    "soynlp 깃허브에서 제공하는 예제 말뭉치를 다운로드합니다."
   ]
  },
  {
   "cell_type": "code",
   "execution_count": 45,
   "id": "close-croatia",
   "metadata": {},
   "outputs": [
    {
     "data": {
      "text/plain": [
       "('/aiffel/aiffel/GoingDeeper/nlp3/data/2016-10-20.txt',\n",
       " <http.client.HTTPMessage at 0x7fa379a2b5d0>)"
      ]
     },
     "execution_count": 45,
     "metadata": {},
     "output_type": "execute_result"
    }
   ],
   "source": [
    "import urllib.request\n",
    "\n",
    "txt_filename = os.getenv('HOME')+'/aiffel/GoingDeeper/nlp3/data/2016-10-20.txt'\n",
    "\n",
    "urllib.request.urlretrieve(\"https://raw.githubusercontent.com/lovit/soynlp/master/tutorials/2016-10-20.txt\",\\\n",
    "                            filename=txt_filename)"
   ]
  },
  {
   "cell_type": "markdown",
   "id": "successful-scoop",
   "metadata": {},
   "source": [
    "다운로드 한 말뭉치를 문서 단위로 분리합니다."
   ]
  },
  {
   "cell_type": "code",
   "execution_count": 46,
   "id": "painted-machine",
   "metadata": {},
   "outputs": [
    {
     "data": {
      "text/plain": [
       "30091"
      ]
     },
     "execution_count": 46,
     "metadata": {},
     "output_type": "execute_result"
    }
   ],
   "source": [
    "from soynlp import DoublespaceLineCorpus\n",
    "\n",
    "# 말뭉치에 대해서 다수의 문서로 분리\n",
    "corpus = DoublespaceLineCorpus(txt_filename)\n",
    "len(corpus)"
   ]
  },
  {
   "cell_type": "markdown",
   "id": "cheap-conditioning",
   "metadata": {},
   "source": [
    "- DoublespaceLineCorpus : https://github.com/lovit/soynlp#noun-extractor-ver-2\n",
    "\n",
    "총 30,091개의 문서가 존재합니다. 공백이 아닌 문서에 한해 상위 3개의 문서만 출력해봅시다."
   ]
  },
  {
   "cell_type": "code",
   "execution_count": 47,
   "id": "thorough-weekend",
   "metadata": {},
   "outputs": [
    {
     "name": "stdout",
     "output_type": "stream",
     "text": [
      "19  1990  52 1 22\n",
      "오패산터널 총격전 용의자 검거 서울 연합뉴스 경찰 관계자들이 19일 오후 서울 강북구 오패산 터널 인근에서 사제 총기를 발사해 경찰을 살해한 용의자 성모씨를 검거하고 있다 성씨는 검거 당시 서바이벌 게임에서 쓰는 방탄조끼에 헬멧까지 착용한 상태였다 독자제공 영상 캡처 연합뉴스  서울 연합뉴스 김은경 기자 사제 총기로 경찰을 살해한 범인 성모 46 씨는 주도면밀했다  경찰에 따르면 성씨는 19일 오후 강북경찰서 인근 부동산 업소 밖에서 부동산업자 이모 67 씨가 나오기를 기다렸다 이씨와는 평소에도 말다툼을 자주 한 것으로 알려졌다  이씨가 나와 걷기 시작하자 성씨는 따라가면서 미리 준비해온 사제 총기를 이씨에게 발사했다 총알이 빗나가면서 이씨는 도망갔다 그 빗나간 총알은 지나가던 행인 71 씨의 배를 스쳤다  성씨는 강북서 인근 치킨집까지 이씨 뒤를 쫓으며 실랑이하다 쓰러뜨린 후 총기와 함께 가져온 망치로 이씨 머리를 때렸다  이 과정에서 오후 6시 20분께 강북구 번동 길 위에서 사람들이 싸우고 있다 총소리가 났다 는 등의 신고가 여러건 들어왔다  5분 후에 성씨의 전자발찌가 훼손됐다는 신고가 보호관찰소 시스템을 통해 들어왔다 성범죄자로 전자발찌를 차고 있던 성씨는 부엌칼로 직접 자신의 발찌를 끊었다  용의자 소지 사제총기 2정 서울 연합뉴스 임헌정 기자 서울 시내에서 폭행 용의자가 현장 조사를 벌이던 경찰관에게 사제총기를 발사해 경찰관이 숨졌다 19일 오후 6시28분 강북구 번동에서 둔기로 맞았다 는 폭행 피해 신고가 접수돼 현장에서 조사하던 강북경찰서 번동파출소 소속 김모 54 경위가 폭행 용의자 성모 45 씨가 쏜 사제총기에 맞고 쓰러진 뒤 병원에 옮겨졌으나 숨졌다 사진은 용의자가 소지한 사제총기  신고를 받고 번동파출소에서 김창호 54 경위 등 경찰들이 오후 6시 29분께 현장으로 출동했다 성씨는 그사이 부동산 앞에 놓아뒀던 가방을 챙겨 오패산 쪽으로 도망간 후였다  김 경위는 오패산 터널 입구 오른쪽의 급경사에서 성씨에게 접근하다가 오후 6시 33분께 풀숲에 숨은 성씨가 허공에 난사한 10여발의 총알 중 일부를 왼쪽 어깨 뒷부분에 맞고 쓰러졌다  김 경위는 구급차가 도착했을 때 이미 의식이 없었고 심폐소생술을 하며 병원으로 옮겨졌으나 총알이 폐를 훼손해 오후 7시 40분께 사망했다  김 경위는 외근용 조끼를 입고 있었으나 총알을 막기에는 역부족이었다  머리에 부상을 입은 이씨도 함께 병원으로 이송됐으나 생명에는 지장이 없는 것으로 알려졌다  성씨는 오패산 터널 밑쪽 숲에서 오후 6시 45분께 잡혔다  총격현장 수색하는 경찰들 서울 연합뉴스 이효석 기자 19일 오후 서울 강북구 오패산 터널 인근에서 경찰들이 폭행 용의자가 사제총기를 발사해 경찰관이 사망한 사건을 조사 하고 있다  총 때문에 쫓던 경관들과 민간인들이 몸을 숨겼는데 인근 신발가게 직원 이모씨가 다가가 성씨를 덮쳤고 이어 현장에 있던 다른 상인들과 경찰이 가세해 체포했다  성씨는 경찰에 붙잡힌 직후 나 자살하려고 한 거다 맞아 죽어도 괜찮다 고 말한 것으로 전해졌다  성씨 자신도 경찰이 발사한 공포탄 1발 실탄 3발 중 실탄 1발을 배에 맞았으나 방탄조끼를 입은 상태여서 부상하지는 않았다  경찰은 인근을 수색해 성씨가 만든 사제총 16정과 칼 7개를 압수했다 실제 폭발할지는 알 수 없는 요구르트병에 무언가를 채워두고 심지를 꽂은 사제 폭탄도 발견됐다  일부는 숲에서 발견됐고 일부는 성씨가 소지한 가방 안에 있었다\n",
      "테헤란 연합뉴스 강훈상 특파원 이용 승객수 기준 세계 최대 공항인 아랍에미리트 두바이국제공항은 19일 현지시간 이 공항을 이륙하는 모든 항공기의 탑승객은 삼성전자의 갤럭시노트7을 휴대하면 안 된다고 밝혔다  두바이국제공항은 여러 항공 관련 기구의 권고에 따라 안전성에 우려가 있는 스마트폰 갤럭시노트7을 휴대하고 비행기를 타면 안 된다 며 탑승 전 검색 중 발견되면 압수할 계획 이라고 발표했다  공항 측은 갤럭시노트7의 배터리가 폭발 우려가 제기된 만큼 이 제품을 갖고 공항 안으로 들어오지 말라고 이용객에 당부했다  이런 조치는 두바이국제공항 뿐 아니라 신공항인 두바이월드센터에도 적용된다  배터리 폭발문제로 회수된 갤럭시노트7 연합뉴스자료사진\n"
     ]
    }
   ],
   "source": [
    "i = 0\n",
    "for document in corpus:\n",
    "  if len(document) > 0:\n",
    "    print(document)\n",
    "    i = i+1\n",
    "  if i == 3:\n",
    "    break"
   ]
  },
  {
   "cell_type": "markdown",
   "id": "tutorial-modeling",
   "metadata": {},
   "source": [
    "soynlp는 비지도학습 형태소 분석기이므로 기존의 형태소 분석기와는 달리 학습 과정을 거쳐야 합니다. 전체 코퍼스로부터 응집 확률과 브랜칭 엔트로피 단어 점수표를 만드는 과정이지요. WordExtractor.extract()를 통해서 전체 코퍼스에 대해 단어 점수표를 계산할 수 있습니다."
   ]
  },
  {
   "cell_type": "code",
   "execution_count": 48,
   "id": "unexpected-mechanics",
   "metadata": {},
   "outputs": [
    {
     "name": "stdout",
     "output_type": "stream",
     "text": [
      "training was done. used memory 2.797 Gb\n",
      "all cohesion probabilities was computed. # words = 223348\n",
      "all branching entropies was computed # words = 361598\n",
      "all accessor variety was computed # words = 361598\n"
     ]
    }
   ],
   "source": [
    "from soynlp.word import WordExtractor\n",
    "\n",
    "word_extractor = WordExtractor()\n",
    "word_extractor.train(corpus)\n",
    "word_score_table = word_extractor.extract()"
   ]
  },
  {
   "cell_type": "markdown",
   "id": "realistic-principal",
   "metadata": {},
   "source": [
    "- WordExtractor() : https://github.com/lovit/soynlp#word-extraction    \n",
    "    word_score_table : Scores 라는 namedtuple 을 value 로 지니는 dict 입니다."
   ]
  },
  {
   "cell_type": "code",
   "execution_count": 58,
   "id": "radio-franklin",
   "metadata": {},
   "outputs": [
    {
     "data": {
      "text/plain": [
       "Scores(cohesion_forward=0.37891487632839754, cohesion_backward=0, left_branching_entropy=0, right_branching_entropy=1.3542944153448395, left_accessor_variety=0, right_accessor_variety=6, leftside_frequency=83, rightside_frequency=0)"
      ]
     },
     "execution_count": 58,
     "metadata": {},
     "output_type": "execute_result"
    }
   ],
   "source": [
    "word_score_table[\"반포한강공원\"]"
   ]
  },
  {
   "attachments": {
    "image.png": {
     "image/png": "[encoded data removed]"
    }
   },
   "cell_type": "markdown",
   "id": "coordinated-romania",
   "metadata": {},
   "source": [
    "## soynlp의 응집 확률(cohesion probability)\n",
    "\n",
    "응집 확률은 내부 문자열(substring)이 얼마나 응집하여 자주 등장하는지를 판단하는 척도입니다. 응집 확률은 문자열을 문자 단위로 분리하여 내부 문자열을 만드는 과정에서, 왼쪽부터 순서대로 문자를 추가하면서 각 문자열이 주어졌을 때 그다음 문자가 나올 확률을 계산하여 누적 곱을 한 값입니다. 이 값이 높을수록 전체 코퍼스에서 이 문자열 시퀀스는 하나의 단어로 등장할 가능성이 높습니다. 수식은 아래와 같습니다.\n",
    "\n",
    "![image.png](attachment:image.png)\n",
    "\n",
    "실습을 통해 직접 응집 확률을 계산해 보겠습니다.\n",
    "\n"
   ]
  },
  {
   "cell_type": "code",
   "execution_count": 49,
   "id": "external-addiction",
   "metadata": {},
   "outputs": [
    {
     "data": {
      "text/plain": [
       "0.08838002913645132"
      ]
     },
     "execution_count": 49,
     "metadata": {},
     "output_type": "execute_result"
    }
   ],
   "source": [
    "word_score_table[\"반포한\"].cohesion_forward"
   ]
  },
  {
   "cell_type": "code",
   "execution_count": 50,
   "id": "amber-nitrogen",
   "metadata": {},
   "outputs": [
    {
     "data": {
      "text/plain": [
       "0.19841268168224552"
      ]
     },
     "execution_count": 50,
     "metadata": {},
     "output_type": "execute_result"
    }
   ],
   "source": [
    "word_score_table[\"반포한강\"].cohesion_forward"
   ]
  },
  {
   "cell_type": "code",
   "execution_count": 51,
   "id": "assisted-branch",
   "metadata": {},
   "outputs": [
    {
     "data": {
      "text/plain": [
       "0.2972877884078849"
      ]
     },
     "execution_count": 51,
     "metadata": {},
     "output_type": "execute_result"
    }
   ],
   "source": [
    "word_score_table[\"반포한강공\"].cohesion_forward"
   ]
  },
  {
   "cell_type": "code",
   "execution_count": 52,
   "id": "written-might",
   "metadata": {},
   "outputs": [
    {
     "data": {
      "text/plain": [
       "0.37891487632839754"
      ]
     },
     "execution_count": 52,
     "metadata": {},
     "output_type": "execute_result"
    }
   ],
   "source": [
    "word_score_table[\"반포한강공원\"].cohesion_forward"
   ]
  },
  {
   "cell_type": "code",
   "execution_count": 53,
   "id": "german-immigration",
   "metadata": {},
   "outputs": [
    {
     "data": {
      "text/plain": [
       "0.33492963377557666"
      ]
     },
     "execution_count": 53,
     "metadata": {},
     "output_type": "execute_result"
    }
   ],
   "source": [
    "word_score_table[\"반포한강공원에\"].cohesion_forward"
   ]
  },
  {
   "cell_type": "markdown",
   "id": "eastern-renaissance",
   "metadata": {},
   "source": [
    "응집 확률이 최대화가 되는 내부 문자열 구간은 '반포한강공원'입니다. 다시 말해 '반포한강공원'이 하나의 단어일 확률이 높습니다.\n",
    "\n",
    "- Cohesion Score : Branching Entropy와 Accessor Variety는 단어의 좌/우의 경계에 등장하는 글자들의 정보를 이용하여 단어의 경계를 판단하는 exterior boundary scoring 방법     \n",
    "    https://github.com/lovit/soynlp/blob/master/tutorials/wordextractor_lecture.ipynb"
   ]
  },
  {
   "cell_type": "markdown",
   "id": "administrative-fundamental",
   "metadata": {},
   "source": [
    "## soynlp의 브랜칭 엔트로피(branching entropy)\n",
    "\n",
    "브랜칭 엔트로피(Branching Entropy) 는 확률 분포의 엔트로피값을 사용합니다. 이는 주어진 문자열에서 다음 문자가 등장할 수 있는 가능성을 판단하는 척도입니다.    \n",
    "\n",
    "브랜칭 엔트로피를 주어진 문자 시퀀스에서 다음 문자 예측을 위해 헷갈리는 정도라고 비유해 봅시다. 브랜칭 엔트로피의 값은 하나의 완성된 단어에 가까워질수록 문맥으로 인해 정확히 예측할 수 있게 되므로 점차 줄어듭니다. 실습해 볼게요."
   ]
  },
  {
   "cell_type": "code",
   "execution_count": 54,
   "id": "molecular-intelligence",
   "metadata": {},
   "outputs": [
    {
     "data": {
      "text/plain": [
       "1.6371694761537934"
      ]
     },
     "execution_count": 54,
     "metadata": {},
     "output_type": "execute_result"
    }
   ],
   "source": [
    "word_score_table[\"디스\"].right_branching_entropy"
   ]
  },
  {
   "cell_type": "code",
   "execution_count": 55,
   "id": "actual-turner",
   "metadata": {},
   "outputs": [
    {
     "data": {
      "text/plain": [
       "-0.0"
      ]
     },
     "execution_count": 55,
     "metadata": {},
     "output_type": "execute_result"
    }
   ],
   "source": [
    "word_score_table[\"디스플\"].right_branching_entropy"
   ]
  },
  {
   "cell_type": "markdown",
   "id": "personalized-commonwealth",
   "metadata": {},
   "source": [
    "- '디스' 다음에는 다양한 문자가 올 수 있으니까 1.63이라는 값을 가지는 반면, '디스플'이라는 문자열 다음에는 다음 문자로 '레'가 오는 것이 너무나 명백하기 때문에 0이란 값을 가집니다."
   ]
  },
  {
   "cell_type": "code",
   "execution_count": 56,
   "id": "registered-worth",
   "metadata": {},
   "outputs": [
    {
     "data": {
      "text/plain": [
       "-0.0"
      ]
     },
     "execution_count": 56,
     "metadata": {},
     "output_type": "execute_result"
    }
   ],
   "source": [
    "word_score_table[\"디스플레\"].right_branching_entropy"
   ]
  },
  {
   "cell_type": "markdown",
   "id": "registered-teacher",
   "metadata": {},
   "source": [
    "- '디스플레' 다음도 마찬가지겠죠. 다음 문자가 '이'라는 사실이 너무나 명백해서 0이란 값을 가집니다. 그런데 '디스플레이' 다음에는 어떤 값을 가질까요?"
   ]
  },
  {
   "cell_type": "code",
   "execution_count": 57,
   "id": "weighted-appraisal",
   "metadata": {},
   "outputs": [
    {
     "data": {
      "text/plain": [
       "3.1400392861792916"
      ]
     },
     "execution_count": 57,
     "metadata": {},
     "output_type": "execute_result"
    }
   ],
   "source": [
    "word_score_table[\"디스플레이\"].right_branching_entropy"
   ]
  },
  {
   "cell_type": "markdown",
   "id": "exotic-saturn",
   "metadata": {},
   "source": [
    "갑자기 값이 급증합니다. 그 이유는 문자 시퀀스 '디스플레이'라는 문자 시퀀스 다음에는 조사나 다른 단어가 나올 수 있는 다양한 경우가 있을 수 있기 때문입니다. 즉 하나의 단어가 끝나면 그 경계 부분부터 다시 브랜칭 엔트로피값이 증가함을 의미합니다. 그러면 이 값으로 단어를 판단하는 것이 가능하겠죠?\n",
    "     \n",
    "soynlp 패키지는 이렇게 계산한 점수를 사용해 두 가지 문자열 토큰화 방법을 제공합니다."
   ]
  },
  {
   "cell_type": "markdown",
   "id": "extensive-generic",
   "metadata": {},
   "source": [
    "## soynlp의 LTokenizer\n",
    "\n",
    "띄어쓰기 단위로 잘 나뉜 문장은 L 토크나이저(LTokenizer)를 사용하면 좋습니다.\n",
    "       \n",
    "한국어는 띄어쓰기 단위로 나눈 어절 토큰이 주로 L 토큰 + R 토큰의 형식을 가질 때가 많습니다. 예를 들어서 '공원에'는 '공원 + 에'로 나눌 수 있겠지요. 또는 '공부하는'은 '공부 + 하는'으로 나눌 수도 있을 것입니다. L 토크나이저는 L 토큰 + R 토큰으로 나누되, 점수가 가장 높은 L 토큰을 찾아내는 분리 기준을 가지고 있습니다."
   ]
  },
  {
   "cell_type": "code",
   "execution_count": 59,
   "id": "identical-optimum",
   "metadata": {},
   "outputs": [
    {
     "data": {
      "text/plain": [
       "[('국제사회', '와'), ('우리', '의'), ('노력', '들로'), ('범죄', '를'), ('척결', '하자')]"
      ]
     },
     "execution_count": 59,
     "metadata": {},
     "output_type": "execute_result"
    }
   ],
   "source": [
    "from soynlp.tokenizer import LTokenizer\n",
    "\n",
    "scores = {word:score.cohesion_forward for word, score in word_score_table.items()}\n",
    "l_tokenizer = LTokenizer(scores=scores)\n",
    "l_tokenizer.tokenize(\"국제사회와 우리의 노력들로 범죄를 척결하자\", flatten=False)"
   ]
  },
  {
   "cell_type": "markdown",
   "id": "alert-agenda",
   "metadata": {},
   "source": [
    "- LTokenizer : L parts 에는 명사/동사/형용사/부사가 위치할 수 있습니다. 어절에서 L 만 잘 인식한다면 나머지 부분이 R parts 가 됩니다. LTokenizer 에는 L parts 의 단어 점수를 입력합니다.      \n",
    "    https://github.com/lovit/soynlp#ltokenizer"
   ]
  },
  {
   "cell_type": "markdown",
   "id": "marked-tomorrow",
   "metadata": {},
   "source": [
    "## 최대 점수 토크나이저\n",
    "\n",
    "최대 점수 토크나이저(MaxScoreTokenizer)는 띄어쓰기가 되어 있지 않은 문장에서 점수가 높은 글자 시퀀스를 순차적으로 찾아내는 토크나이저입니다. 띄어쓰기가 되어 있지 않은 문장을 넣어서 토큰화된 결과를 점수를 통해 알아보겠습니다."
   ]
  },
  {
   "cell_type": "code",
   "execution_count": 60,
   "id": "cellular-punishment",
   "metadata": {},
   "outputs": [
    {
     "data": {
      "text/plain": [
       "['국제사회', '와', '우리', '의', '노력', '들로', '범죄', '를', '척결', '하자']"
      ]
     },
     "execution_count": 60,
     "metadata": {},
     "output_type": "execute_result"
    }
   ],
   "source": [
    "from soynlp.tokenizer import MaxScoreTokenizer\n",
    "\n",
    "maxscore_tokenizer = MaxScoreTokenizer(scores=scores)\n",
    "maxscore_tokenizer.tokenize(\"국제사회와우리의노력들로범죄를척결하자\")"
   ]
  },
  {
   "cell_type": "markdown",
   "id": "diagnostic-nashville",
   "metadata": {},
   "source": [
    "- MaxScoreTokenizer : 띄어쓰기가 제대로 지켜지지 않은 데이터라면, 문장의 띄어쓰기 기준으로 나뉘어진 단위가 L + [R] 구조라 가정할 수 없습니다. 하지만 사람은 띄어쓰기가 지켜지지 않은 문장에서 익숙한 단어부터 눈에 들어옵니다. 이 과정을 모델로 옮긴 MaxScoreTokenizer 역시 단어 점수를 이용합니다     \n",
    "    https://github.com/lovit/soynlp#maxscoretokenizer"
   ]
  }
 ],
 "metadata": {
  "kernelspec": {
   "display_name": "Python 3",
   "language": "python",
   "name": "python3"
  },
  "language_info": {
   "codemirror_mode": {
    "name": "ipython",
    "version": 3
   },
   "file_extension": ".py",
   "mimetype": "text/x-python",
   "name": "python",
   "nbconvert_exporter": "python",
   "pygments_lexer": "ipython3",
   "version": "3.7.9"
  }
 },
 "nbformat": 4,
 "nbformat_minor": 5
}
