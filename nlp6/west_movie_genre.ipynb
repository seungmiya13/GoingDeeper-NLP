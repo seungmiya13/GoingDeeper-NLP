{
 "cells": [
  {
   "cell_type": "markdown",
   "id": "abandoned-greenhouse",
   "metadata": {},
   "source": [
    "프로젝트 : 모든 장르 간 편향성 측정해 보기\n",
    "===\n",
    "\n",
    "영화 시놉시스 코퍼스를 가지고 영화 구분과 모든 영화 장르 간에 내재된 편향성을 측정하는 작업을 진행해 보겠습니다. \n",
    "    \n",
    "\n",
    "- WEAT(Word Embedding Association Test)       \n",
    "    워드 임베딩에 내포된 편향성을 정량적으로 측정하는 방법    \n",
    "    논문 : https://arxiv.org/pdf/1608.07187.pdf\n",
    "    \n",
    "    \n",
    "[ 목차 ]\n",
    "1. 형태소 분석기를 이용하여 품사가 명사인 경우 해당 단어를 추출하기\n",
    "2. 추출된 결과로 embedding model 만들기\n",
    "3. target, attribute 단어 셋 만들기\n",
    "4. WEAT score 계산과 시각화"
   ]
  },
  {
   "cell_type": "markdown",
   "id": "romantic-hebrew",
   "metadata": {},
   "source": [
    "## 1. 형태소 분석기를 이용하여 품사가 명사인 경우 해당 단어를 추출하기\n",
    "     \n",
    "synopsis.txt(대략 17MB)에는 2001년부터 2019년 8월까지 제작된 영화들의 시놉시스 정보가 있습니다. (개봉된 영화 중 일부만 포함되어있습니다. 더 많은 영화 정보는 KOBIS에서 확인 가능합니다.) synopsis.txt의 일부를 읽어봅니다."
   ]
  },
  {
   "cell_type": "code",
   "execution_count": 1,
   "id": "existing-treasure",
   "metadata": {},
   "outputs": [
    {
     "name": "stdout",
     "output_type": "stream",
     "text": [
      "사운드 엔지니어 상우(유지태 분)는 치매에 걸린 할머니(백성희 분)와\n",
      " 젊은 시절 상처한 한 아버지(박인환 분), 고모(신신애 분)와 함께 살고 있다.\n",
      " 어느 겨울 그는 지방 방송국 라디오 PD 은수(이영애 분)를 만난다.\n",
      " 자연의 소리를 채집해 틀어주는 라디오 프로그램을 준비하는 은수는 상우와 녹음 여행을 떠난다.\n",
      " 자연스레 가까워지는 두 사람은 어느 날, 은수의 아파트에서 밤을 보낸다.\n",
      " 너무 쉽게 사랑에 빠진 두 사람... 상우는 주체할 수 없을 정도로 그녀에게 빨려든다.\n",
      " 그러나 겨울에 만난 두 사람의 관계는 봄을 지나 여름을 맞이하면서 삐걱거린다.\n",
      " 이혼 경험이 있는 은수는 상우에게 결혼할 생각이 없다며 부담스러운 표정을 내비친다.\n",
      " \"어떻게 사랑이 변하니?...\"라고 묻는 상우에게 은수는 그저 \"헤어져\" 라고 단호하게 말한다.\n",
      " 영원히 변할 것 같지 않던 사랑이 변하고, 그 사실을 받아들이지 못하는 상우는 어찌 할 바를 모른다.\n"
     ]
    }
   ],
   "source": [
    "import os\n",
    "\n",
    "with open(os.getenv('HOME')+'/aiffel/GoingDeeper/nlp6/data/synopsis.txt', 'r') as file:\n",
    "    for i in range(10):\n",
    "        print(file.readline(), end='')"
   ]
  },
  {
   "cell_type": "markdown",
   "id": "scheduled-barrier",
   "metadata": {},
   "source": [
    "이제 synopsis.txt 파일을 읽어 품사가 명사인 경우만 남겨 tokenized라는 변수명으로 저장해봅니다. konlpy 패키지를 이용해봅니다."
   ]
  },
  {
   "cell_type": "code",
   "execution_count": 2,
   "id": "expired-monday",
   "metadata": {},
   "outputs": [],
   "source": [
    "# 약 15분정도 걸립니다.\n",
    "from konlpy.tag import Okt\n",
    "okt = Okt()\n",
    "tokenized = []\n",
    "with open(os.getenv('HOME')+'/aiffel/GoingDeeper/nlp6/data/synopsis.txt', 'r') as file:\n",
    "    while True:\n",
    "        line = file.readline()\n",
    "        if not line: break\n",
    "        words = okt.pos(line, stem=True, norm=True)\n",
    "        res = []\n",
    "        for w in words:\n",
    "            if w[1] in [\"Noun\"]:     # \"Adjective\", \"Verb\" 등을 포함할 수도 있습니다\n",
    "                res.append(w[0])     # 명사(\"Noun\")일 때만 tokenized 에 저장\n",
    "        tokenized.append(res)"
   ]
  },
  {
   "cell_type": "markdown",
   "id": "super-tenant",
   "metadata": {},
   "source": [
    "- class konlpy.tag.\\_okt.Okt     \n",
    "    okt.pos() : Part of Speech, POS (품사) tagger    \n",
    "    - stem=True : stem tokens\n",
    "    - norm=True : normalize tokens    \n",
    "    https://konlpy.org/en/latest/api/konlpy.tag/#okt-class"
   ]
  },
  {
   "cell_type": "code",
   "execution_count": 3,
   "id": "introductory-interface",
   "metadata": {},
   "outputs": [
    {
     "name": "stdout",
     "output_type": "stream",
     "text": [
      "71156\n"
     ]
    }
   ],
   "source": [
    "print(len(tokenized))"
   ]
  },
  {
   "cell_type": "markdown",
   "id": "eleven-aerospace",
   "metadata": {},
   "source": [
    "# 2. 추출된 결과로 embedding model 만들기\n"
   ]
  },
  {
   "cell_type": "code",
   "execution_count": 4,
   "id": "blessed-zealand",
   "metadata": {},
   "outputs": [
    {
     "name": "stderr",
     "output_type": "stream",
     "text": [
      "/opt/conda/lib/python3.7/site-packages/gensim/similarities/__init__.py:15: UserWarning: The gensim.similarities.levenshtein submodule is disabled, because the optional Levenshtein package <https://pypi.org/project/python-Levenshtein/> is unavailable. Install Levenhstein (e.g. `pip install python-Levenshtein`) to suppress this warning.\n",
      "  warnings.warn(msg)\n"
     ]
    },
    {
     "data": {
      "text/plain": [
       "[('작품', 0.8873289227485657),\n",
       " ('다큐멘터리', 0.8450316190719604),\n",
       " ('드라마', 0.8140425086021423),\n",
       " ('영화로', 0.8049192428588867),\n",
       " ('설정', 0.786869466304779),\n",
       " ('형식', 0.7782349586486816),\n",
       " ('코미디', 0.7765371799468994),\n",
       " ('스토리', 0.7690247893333435),\n",
       " ('감동', 0.7674833536148071),\n",
       " ('모티브', 0.7670546174049377)]"
      ]
     },
     "execution_count": 4,
     "metadata": {},
     "output_type": "execute_result"
    }
   ],
   "source": [
    "from gensim.models import Word2Vec\n",
    "\n",
    "# tokenized에 담긴 데이터를 가지고 Word2Vec을 생성 (Gensim 4.0 기준)\n",
    "model = Word2Vec(tokenized, vector_size=100, window=5, min_count=3, sg=0)  \n",
    "model.wv.most_similar(positive=['영화'])"
   ]
  },
  {
   "cell_type": "markdown",
   "id": "unnecessary-guatemala",
   "metadata": {},
   "source": [
    "- Word2Vec()    \n",
    "    vector size : 학습 후 임베딩 벡터의 차원     \n",
    "    window : 컨텍스트 윈도우 크기     \n",
    "    min_count : 단어 최소 빈도수 제한     \n",
    "    sg : 0은 CBoW, 1은 Skip-gram    \n",
    "    https://radimrehurek.com/gensim/models/word2vec.html"
   ]
  },
  {
   "cell_type": "code",
   "execution_count": 5,
   "id": "raising-indiana",
   "metadata": {},
   "outputs": [
    {
     "data": {
      "text/plain": [
       "[('정일', 0.7549949884414673),\n",
       " ('애정', 0.7251827120780945),\n",
       " ('만남', 0.7046142220497131),\n",
       " ('첫사랑', 0.7043058276176453),\n",
       " ('행복', 0.6887596249580383),\n",
       " ('진심', 0.6808720827102661),\n",
       " ('나비문신', 0.6771438121795654),\n",
       " ('비랄', 0.6725327968597412),\n",
       " ('가슴', 0.6718639731407166),\n",
       " ('우정', 0.6680269241333008)]"
      ]
     },
     "execution_count": 5,
     "metadata": {},
     "output_type": "execute_result"
    }
   ],
   "source": [
    "model.wv.most_similar(positive=['사랑'])"
   ]
  },
  {
   "cell_type": "code",
   "execution_count": 6,
   "id": "adaptive-understanding",
   "metadata": {},
   "outputs": [
    {
     "data": {
      "text/plain": [
       "[('시나리오', 0.9056504964828491),\n",
       " ('영화감독', 0.9031640291213989),\n",
       " ('영감', 0.8886488676071167),\n",
       " ('대본', 0.8882438540458679),\n",
       " ('배우', 0.8837581276893616),\n",
       " ('데뷔', 0.8724600076675415),\n",
       " ('캐스팅', 0.8578909635543823),\n",
       " ('출연', 0.8575723767280579),\n",
       " ('팬', 0.8560932874679565),\n",
       " ('예술가', 0.8551438450813293)]"
      ]
     },
     "execution_count": 6,
     "metadata": {},
     "output_type": "execute_result"
    }
   ],
   "source": [
    "model.wv.most_similar(positive=['연극'])"
   ]
  },
  {
   "cell_type": "markdown",
   "id": "english-fleet",
   "metadata": {},
   "source": [
    "- Word2Vec가 잘 훈련된 것을 볼 수 있습니다. "
   ]
  },
  {
   "cell_type": "markdown",
   "id": "dressed-riverside",
   "metadata": {},
   "source": [
    "# 3. target, attribute 단어 셋 만들기\n",
    "\n",
    "TF-IDF로 해당 데이터를 가장 잘 표현하는 단어 셋을 만들어 보겠습니다.    \n",
    "WEAT score를 구할 때 단어 셋을 만들어주어야 합니다. 두 축을 어떤 기준으로 잡고, 해당 축의 어떤 항목을 사용할지 정해야 합니다.\n",
    "     \n",
    "여기서는 두 축을 영화 장르, 영화 구분 정보를 이용하겠습니다. (영화 구분 정보란 일반영화, 예술영화, 독립영화로 구분된 정보입니다. KOBIS에서 제공한 정보를 기준으로 분류하였습니다.)\n",
    "\n",
    "- 영화 구분    \n",
    "    synopsis_art.txt : 예술영화, synopsis_gen.txt : 일반영화(상업영화), 그 외는 독립영화 등으로 분류됩니다.\n",
    "- 장르 구분    \n",
    "    synopsis_SF.txt: SF, synopsis_family.txt: 가족, synopsis_show.txt: 공연, synopsis_horror.txt: 공포(호러), synopsis_etc.txt: 기타, synopsis_documentary.txt: 다큐멘터리, synopsis_drama.txt: 드라마, synopsis_romance.txt: 멜로로맨스, synopsis_musical.txt: 뮤지컬, synopsis_mystery.txt: 미스터리, synopsis_crime.txt: 범죄, synopsis_historical.txt: 사극, synopsis_western.txt: 서부극(웨스턴), synopsis_adult.txt: 성인물(에로), synopsis_thriller.txt: 스릴러, synopsis_animation.txt: 애니메이션, synopsis_action.txt: 액션, synopsis_adventure.txt: 어드벤처, synopsis_war.txt: 전쟁, synopsis_comedy.txt: 코미디, synopsis_fantasy.txt: 판타지\n",
    "    \n",
    "예술영화와 일반영화(상업영화)라는 영화구분을 target으로 삼고, 장르구분을 attribute로 삼아 WEAT score를 계산해 보겠습니다.    \n",
    "ex) 드라마 장르에는 예술영화적 성격이 강하고, 액션 장르에는 일반(상업)영화적 성격이 강할 것이라는 편향성이 워드 임베딩 상에 얼마나 나타나고 있는지를 측정해 봅니다.\n",
    "    "
   ]
  },
  {
   "cell_type": "markdown",
   "id": "worldwide-voice",
   "metadata": {},
   "source": [
    "## target 단어 셋 만들기 \n",
    "\n",
    "'synopsis_art.txt', 'synopsis_gen.txt' 두 파일을 읽고, 명사에 대해서만 추출하여 art, gen 변수에 할당합니다."
   ]
  },
  {
   "cell_type": "code",
   "execution_count": 7,
   "id": "muslim-hometown",
   "metadata": {},
   "outputs": [],
   "source": [
    "import os\n",
    "from sklearn.feature_extraction.text import TfidfVectorizer\n",
    "import numpy as np\n",
    "from konlpy.tag import Okt\n",
    "\n",
    "art_txt = 'synopsis_art.txt'\n",
    "gen_txt = 'synopsis_gen.txt'"
   ]
  },
  {
   "cell_type": "code",
   "execution_count": 8,
   "id": "solid-annex",
   "metadata": {},
   "outputs": [],
   "source": [
    "def read_token(file_name):\n",
    "    okt = Okt()\n",
    "    result = []\n",
    "    with open(os.getenv('HOME')+'/aiffel/GoingDeeper/nlp6/data/'+file_name, 'r') as fread: \n",
    "        print(file_name, '파일을 읽고 있습니다.')\n",
    "        while True:\n",
    "            line = fread.readline() \n",
    "            if not line: break \n",
    "            tokenlist = okt.pos(line, stem=True, norm=True) \n",
    "            for word in tokenlist:\n",
    "                if word[1] in [\"Noun\"]:#, \"Adjective\", \"Verb\"]:\n",
    "                    result.append((word[0])) \n",
    "    return ' '.join(result)"
   ]
  },
  {
   "cell_type": "code",
   "execution_count": 9,
   "id": "checked-rebound",
   "metadata": {},
   "outputs": [
    {
     "name": "stdout",
     "output_type": "stream",
     "text": [
      "synopsis_art.txt 파일을 읽고 있습니다.\n",
      "synopsis_gen.txt 파일을 읽고 있습니다.\n"
     ]
    }
   ],
   "source": [
    "art = read_token(art_txt)\n",
    "gen = read_token(gen_txt)"
   ]
  },
  {
   "cell_type": "markdown",
   "id": "skilled-architecture",
   "metadata": {},
   "source": [
    "WEAT 계산을 위해서는 총 4개의 단어 셋 X, Y, A, B가 필요합니다.     \n",
    "ex) 예술영화라는 개념을 가장 잘 대표하는 단어들을 art_txt를 처리해서 만든 art라는 단어 리스트에서 골라냅니다.    \n",
    "    \n",
    "이를 위해서 상식을 동원해서 적절한 단어를 골라낼 수도 있지만 보다 납득할 수 있는 보편적인 방법을 사용하는 것이 좋습니다.\n",
    "예술영화, 일반영화라는 영화 구분별로 시놉시스를 모아 데이터를 구성했습니다. 그렇다면 예술영화를 잘 대표하는 단어란 예술영화 시놉시스에는 자주 나타나지만 그 외 다른 구분의 영화(예를 들어 일반영화) 시놉시스에는 자주 나타나지 않는 것을 고르는 것이 적당합니다.\n",
    "   \n",
    "이런 것과 비슷한 개념의 단어 분석 방식 중, TF-IDF 방식을 사용해 봅니다.    \n",
    "코퍼스에서 자주 나타나는(TF가 높은) 단어이지만, 다른 코퍼스에까지 두루 걸쳐 나오지는 않는(IDF가 높은) 단어를 선정합니다. \n",
    "\n",
    "- TF-IDF : https://ko.wikipedia.org/wiki/Tf-idf"
   ]
  },
  {
   "cell_type": "code",
   "execution_count": 10,
   "id": "mature-distinction",
   "metadata": {},
   "outputs": [
    {
     "name": "stdout",
     "output_type": "stream",
     "text": [
      "(2, 41082)\n"
     ]
    }
   ],
   "source": [
    "vectorizer = TfidfVectorizer()\n",
    "X = vectorizer.fit_transform([art, gen])\n",
    "\n",
    "print(X.shape)"
   ]
  },
  {
   "cell_type": "markdown",
   "id": "religious-secretariat",
   "metadata": {},
   "source": [
    "- sklearn.feature_extraction.text.TfidfVectorizer : Convert a collection of raw documents to a matrix of TF-IDF features     \n",
    "    https://scikit-learn.org/stable/modules/generated/sklearn.feature_extraction.text.TfidfVectorizer.html\n",
    "- .fit_transform(raw_documents) : Learn vocabulary and idf, return document-term matrix\n",
    "- vocabulary_ : (attribute) dict, A mapping of terms to feature indices.\n",
    "- .get_feature_names() : Array mapping from feature integer indices to feature name"
   ]
  },
  {
   "cell_type": "code",
   "execution_count": 11,
   "id": "inappropriate-translator",
   "metadata": {},
   "outputs": [
    {
     "name": "stdout",
     "output_type": "stream",
     "text": [
      "23976\n",
      "영화\n"
     ]
    }
   ],
   "source": [
    "print(vectorizer.vocabulary_['영화'])\n",
    "print(vectorizer.get_feature_names()[23976])"
   ]
  },
  {
   "cell_type": "code",
   "execution_count": 12,
   "id": "manufactured-manner",
   "metadata": {},
   "outputs": [],
   "source": [
    "m1 = X[0].tocoo()   # art를 TF-IDF로 표현한 sparse matrix를 가져오기 \n",
    "m2 = X[1].tocoo()   # gen을 TF-IDF로 표현한 sparse matrix를 가져오기 \n",
    "\n",
    "w1 = [[i, j] for i, j in zip(m1.col, m1.data)]\n",
    "w2 = [[i, j] for i, j in zip(m2.col, m2.data)]\n",
    "\n",
    "w1.sort(key=lambda x: x[1], reverse=True)   # art를 구성하는 단어들을 TF-IDF가 높은 순으로 정렬 \n",
    "w2.sort(key=lambda x: x[1], reverse=True)   # gen을 구성하는 단어들을 TF-IDF가 높은 순으로 정렬"
   ]
  },
  {
   "cell_type": "code",
   "execution_count": 13,
   "id": "surrounded-basic",
   "metadata": {},
   "outputs": [
    {
     "name": "stdout",
     "output_type": "stream",
     "text": [
      "  (0, 24288)\t0.0001813433827312183\n",
      "  (0, 30456)\t0.0001813433827312183\n",
      "  (0, 11824)\t0.00025487179701503193\n",
      "  (0, 20957)\t0.00025487179701503193\n",
      "  (0, 23539)\t0.0001813433827312183\n",
      "  (0, 15055)\t0.0005440301481936549\n",
      "  (0, 22947)\t0.00025487179701503193\n",
      "  (0, 19974)\t0.0001813433827312183\n",
      "  (0, 22314)\t0.0001813433827312183\n",
      "  (0, 36911)\t0.0005097435940300639\n",
      "  (0, 36545)\t0.0001813433827312183\n",
      "  (0, 16222)\t0.00025487179701503193\n",
      "  (0, 870)\t0.0001813433827312183\n",
      "  (0, 10861)\t0.0001813433827312183\n",
      "  (0, 22324)\t0.0001813433827312183\n",
      "  (0, 5551)\t0.0001813433827312183\n",
      "  (0, 14795)\t0.0001813433827312183\n",
      "  (0, 17245)\t0.0001813433827312183\n",
      "  (0, 7774)\t0.0001813433827312183\n",
      "  (0, 36535)\t0.00025487179701503193\n",
      "  (0, 6081)\t0.0001813433827312183\n",
      "  (0, 17587)\t0.0001813433827312183\n",
      "  (0, 33441)\t0.0001813433827312183\n",
      "  (0, 23952)\t0.0001813433827312183\n",
      "  (0, 3794)\t0.0007646153910450958\n",
      "  :\t:\n",
      "  (0, 5484)\t0.0023574639755058377\n",
      "  (0, 30736)\t0.03717539345989975\n",
      "  (0, 37858)\t0.00743507869197995\n",
      "  (0, 32086)\t0.0003626867654624366\n",
      "  (0, 18416)\t0.0148701573839599\n",
      "  (0, 28257)\t0.010155229432948224\n",
      "  (0, 27166)\t0.0001813433827312183\n",
      "  (0, 26500)\t0.0010880602963873097\n",
      "  (0, 8220)\t0.0063470183955926405\n",
      "  (0, 13322)\t0.0027201507409682743\n",
      "  (0, 31138)\t0.0063470183955926405\n",
      "  (0, 1222)\t0.010336572815679443\n",
      "  (0, 20672)\t0.00025487179701503193\n",
      "  (0, 1682)\t0.0029014941236994926\n",
      "  (0, 12890)\t0.0003626867654624366\n",
      "  (0, 21403)\t0.09502393255115839\n",
      "  (0, 17008)\t0.03082837506430711\n",
      "  (0, 20436)\t0.02756419417514518\n",
      "  (0, 13570)\t0.0001813433827312183\n",
      "  (0, 38818)\t0.03064703168157589\n",
      "  (0, 33282)\t0.004533584568280458\n",
      "  (0, 26211)\t0.0003626867654624366\n",
      "  (0, 16979)\t0.003989554420086802\n",
      "  (0, 23276)\t0.0007253735309248732\n",
      "  (0, 16393)\t0.002538807358237056\n"
     ]
    }
   ],
   "source": [
    "print(m1)"
   ]
  },
  {
   "cell_type": "markdown",
   "id": "functioning-partner",
   "metadata": {},
   "source": [
    "- scipy.sparse.csc_matrix.tocoo() : Return a COOrdinate representation of this matrix    \n",
    "    https://docs.scipy.org/doc/scipy-0.14.0/reference/generated/scipy.sparse.csc_matrix.tocoo.html"
   ]
  },
  {
   "cell_type": "code",
   "execution_count": 15,
   "id": "thorough-retention",
   "metadata": {},
   "outputs": [
    {
     "name": "stdout",
     "output_type": "stream",
     "text": [
      "예술영화를 대표하는 단어들:\n",
      "그녀, 자신, 시작, 위해, 사랑, 사람, 영화, 친구, 남자, 가족, 이야기, 마을, 사건, 마음, 세상, 아버지, 아이, 엄마, 모든, 여자, 대한, 서로, 과연, 다시, 시간, 아들, 소녀, 아내, 다른, 사이, 영화제, 세계, 사실, 하나, 점점, 남편, 감독, 여행, 인생, 발견, 모두, 순간, 우리, 가장, 마지막, 생활, 아빠, 모습, 통해, 죽음, 기억, 비밀, 학교, 음악, 한편, 소년, 생각, 도시, 명의, 사고, 결혼, 전쟁, 때문, 위기, 이제, 최고, 이자, 과거, 일상, 경찰, 상황, 간다, 미국, 결심, 운명, 현실, 관계, 지금, 단편, 여인, 하루, 이름, 이후, 준비, 인간, 감정, 만난, 국제, 처음, 충격, 살인, 누구, 동안, 존재, 그린, 어머니, 연인, 계속, 동생, 작품, \n",
      "\n",
      "일반영화를 대표하는 단어들:\n",
      "자신, 그녀, 영화제, 위해, 사람, 시작, 국제, 영화, 친구, 사랑, 남자, 이야기, 대한, 서울, 여자, 사건, 남편, 아이, 가족, 아버지, 다른, 마을, 시간, 엄마, 아들, 모든, 단편, 마음, 사실, 다시, 세계, 모습, 작품, 통해, 생각, 서로, 세상, 발견, 감독, 아내, 관계, 소녀, 사이, 하나, 우리, 애니메이션, 때문, 여성, 죽음, 과연, 점점, 인간, 생활, 한편, 결혼, 상황, 모두, 기억, 명의, 소년, 여행, 가장, 간다, 순간, 이제, 도시, 비밀, 학교, 과거, 가지, 이자, 경찰, 마지막, 미국, 동안, 전쟁, 주인공, 대해, 존재, 현실, 연출, 사고, 살인, 일상, 어머니, 계속, 사회, 인생, 다큐멘터리, 부문, 섹스, 최고, 바로, 동생, 의도, 하루, 위기, 계획, 정체, 한국, "
     ]
    }
   ],
   "source": [
    "print('예술영화를 대표하는 단어들:')\n",
    "for i in range(100):\n",
    "    print(vectorizer.get_feature_names()[w1[i][0]], end=', ')\n",
    "\n",
    "print('\\n')\n",
    "    \n",
    "print('일반영화를 대표하는 단어들:')\n",
    "for i in range(100):\n",
    "    print(vectorizer.get_feature_names()[w2[i][0]], end=', ')"
   ]
  },
  {
   "cell_type": "markdown",
   "id": "resistant-isaac",
   "metadata": {},
   "source": [
    "- 두 개념을 대표하는 단어를 TF-IDF가 높은 순으로 추출하고 싶었는데, 양쪽에 중복된 단어가 너무 많은 것을 볼 수 있습니다.     \n",
    "\n",
    "두 개념축이 대조되도록 대표하는 단어 셋을 만들고 싶기 때문에 단어가 서로 중복되지 않게 단어셋을 추출해야 합니다. 우선 상위 100개의 단어들 중 중복되는 단어를 제외하고 상위 n(=15)개의 단어를 추출합니다."
   ]
  },
  {
   "cell_type": "code",
   "execution_count": 16,
   "id": "experienced-causing",
   "metadata": {},
   "outputs": [],
   "source": [
    "n = 15\n",
    "w1_, w2_ = [], []\n",
    "for i in range(100):\n",
    "    w1_.append(vectorizer.get_feature_names()[w1[i][0]])\n",
    "    w2_.append(vectorizer.get_feature_names()[w2[i][0]])\n",
    "\n",
    "# w1에만 있고 w2에는 없는, 예술영화를 잘 대표하는 단어 15개 추출\n",
    "target_art, target_gen = [], []\n",
    "for i in range(100):\n",
    "    if (w1_[i] not in w2_) and (w1_[i] in model.wv): target_art.append(w1_[i])\n",
    "    if len(target_art) == n: break \n",
    "\n",
    "# w2에만 있고 w1에는 없는, 일반영화를 잘 대표하는 단어 15개 추출\n",
    "for i in range(100):\n",
    "    if (w2_[i] not in w1_) and (w2_[i] in model.wv): target_gen.append(w2_[i])\n",
    "    if len(target_gen) == n: break"
   ]
  },
  {
   "cell_type": "markdown",
   "id": "selective-printing",
   "metadata": {},
   "source": [
    "추출된 단어를 살펴봅니다. "
   ]
  },
  {
   "cell_type": "code",
   "execution_count": 17,
   "id": "collected-intro",
   "metadata": {},
   "outputs": [
    {
     "name": "stdout",
     "output_type": "stream",
     "text": [
      "예술영화를 대표하는 단어들:  ['아빠', '음악', '결심', '운명', '지금', '여인', '이름', '이후', '준비', '감정', '만난', '처음', '충격', '누구', '그린']\n",
      "일반영화를 대표하는 단어들:  ['서울', '애니메이션', '여성', '가지', '주인공', '대해', '연출', '사회', '다큐멘터리', '부문', '섹스', '바로', '의도', '계획', '정체']\n"
     ]
    }
   ],
   "source": [
    "print('예술영화를 대표하는 단어들: ', target_art)\n",
    "print('일반영화를 대표하는 단어들: ', target_gen)"
   ]
  },
  {
   "cell_type": "markdown",
   "id": "brief-volume",
   "metadata": {},
   "source": [
    "## attribute단어 셋 만들기\n",
    "\n",
    "여러 장르의 파일을 읽고, 명사에 대해서만 추출하여 봅니다. "
   ]
  },
  {
   "cell_type": "code",
   "execution_count": 18,
   "id": "aggressive-modification",
   "metadata": {},
   "outputs": [],
   "source": [
    "genre_txt = ['synopsis_SF.txt', 'synopsis_family.txt', 'synopsis_show.txt', 'synopsis_horror.txt', 'synopsis_etc.txt', \n",
    "             'synopsis_documentary.txt', 'synopsis_drama.txt', 'synopsis_romance.txt', 'synopsis_musical.txt', \n",
    "             'synopsis_mystery.txt', 'synopsis_crime.txt', 'synopsis_historical.txt', 'synopsis_western.txt', \n",
    "             'synopsis_adult.txt', 'synopsis_thriller.txt', 'synopsis_animation.txt', 'synopsis_action.txt', \n",
    "             'synopsis_adventure.txt', 'synopsis_war.txt', 'synopsis_comedy.txt', 'synopsis_fantasy.txt']\n",
    "genre_name = ['SF', '가족', '공연', '공포(호러)', '기타', '다큐멘터리', '드라마', '멜로로맨스', '뮤지컬', '미스터리', '범죄', '사극', '서부극(웨스턴)',\n",
    "         '성인물(에로)', '스릴러', '애니메이션', '액션', '어드벤처', '전쟁', '코미디', '판타지']"
   ]
  },
  {
   "cell_type": "code",
   "execution_count": 19,
   "id": "adaptive-corporation",
   "metadata": {},
   "outputs": [
    {
     "name": "stdout",
     "output_type": "stream",
     "text": [
      "synopsis_SF.txt 파일을 읽고 있습니다.\n",
      "synopsis_family.txt 파일을 읽고 있습니다.\n",
      "synopsis_show.txt 파일을 읽고 있습니다.\n",
      "synopsis_horror.txt 파일을 읽고 있습니다.\n",
      "synopsis_etc.txt 파일을 읽고 있습니다.\n",
      "synopsis_documentary.txt 파일을 읽고 있습니다.\n",
      "synopsis_drama.txt 파일을 읽고 있습니다.\n",
      "synopsis_romance.txt 파일을 읽고 있습니다.\n",
      "synopsis_musical.txt 파일을 읽고 있습니다.\n",
      "synopsis_mystery.txt 파일을 읽고 있습니다.\n",
      "synopsis_crime.txt 파일을 읽고 있습니다.\n",
      "synopsis_historical.txt 파일을 읽고 있습니다.\n",
      "synopsis_western.txt 파일을 읽고 있습니다.\n",
      "synopsis_adult.txt 파일을 읽고 있습니다.\n",
      "synopsis_thriller.txt 파일을 읽고 있습니다.\n",
      "synopsis_animation.txt 파일을 읽고 있습니다.\n",
      "synopsis_action.txt 파일을 읽고 있습니다.\n",
      "synopsis_adventure.txt 파일을 읽고 있습니다.\n",
      "synopsis_war.txt 파일을 읽고 있습니다.\n",
      "synopsis_comedy.txt 파일을 읽고 있습니다.\n",
      "synopsis_fantasy.txt 파일을 읽고 있습니다.\n"
     ]
    }
   ],
   "source": [
    "genre = []\n",
    "for file_name in genre_txt:\n",
    "    genre.append(read_token(file_name))"
   ]
  },
  {
   "cell_type": "code",
   "execution_count": 20,
   "id": "metallic-elements",
   "metadata": {},
   "outputs": [
    {
     "name": "stdout",
     "output_type": "stream",
     "text": [
      "(21, 42191)\n"
     ]
    }
   ],
   "source": [
    "vectorizer = TfidfVectorizer()\n",
    "X = vectorizer.fit_transform(genre)\n",
    "\n",
    "print(X.shape)"
   ]
  },
  {
   "cell_type": "code",
   "execution_count": 21,
   "id": "intimate-mainstream",
   "metadata": {},
   "outputs": [],
   "source": [
    "m = [X[i].tocoo() for i in range(X.shape[0])] # TF-IDF로 표현한 sparse matrix를 가져오기\n",
    "\n",
    "w = [[[i, j] for i, j in zip(mm.col, mm.data)] for mm in m]\n",
    "\n",
    "for i in range(len(w)): # 구성하는 단어들을 TF-IDF가 높은 순으로 정렬\n",
    "    w[i].sort(key=lambda x: x[1], reverse=True)"
   ]
  },
  {
   "cell_type": "code",
   "execution_count": 22,
   "id": "seeing-obligation",
   "metadata": {},
   "outputs": [
    {
     "name": "stdout",
     "output_type": "stream",
     "text": [
      "SF: 위해, 자신, 지구, 시작, 사람, 인류, 인간, 미래, 우주, 그녀, 로봇, 세계, 모든, 박사, 우주선, \n",
      "가족: 엄마, 아빠, 가족, 영화제, 자신, 위해, 친구, 아주르, 아버지, 시작, 그녀, 아들, 마을, 국제, 낙타, \n",
      "공연: 오페라, 사랑, 토스카, 실황, 올레, 자신, 카바, 그녀, 공연, 오텔로, 리골레토, 백작, 프레, 베르디, 위해, \n",
      "공포(호러): 시작, 위해, 사람, 자신, 친구, 그녀, 사건, 공포, 발견, 죽음, 마을, 가족, 악령, 남자, 좀비, \n",
      "기타: 영화제, 국제, 서울, 단편, 영화, 자신, 사람, 이야기, 그녀, 남자, 위해, 시작, 사랑, 뉴미디어, 페스티벌, \n",
      "다큐멘터리: 영화제, 영화, 다큐, 국제, 다큐멘터리, 사람, 이야기, 대한, 자신, 감독, 위해, 서울, 우리, 시작, 세계, \n",
      "드라마: 자신, 영화제, 그녀, 사람, 사랑, 영화, 위해, 시작, 국제, 남자, 친구, 이야기, 엄마, 여자, 아버지, \n",
      "멜로로맨스: 그녀, 사랑, 자신, 시작, 남편, 남자, 여자, 사람, 친구, 섹스, 위해, 마음, 결혼, 서로, 아내, \n",
      "뮤지컬: 뮤지컬, 사랑, 에스메랄다, 그녀, 음악, 충무로, 모차르트, 영화, 토스카, 자신, 니웨, 카바, 영화제, 바흐, 페뷔스, \n",
      "미스터리: 사건, 그녀, 시작, 자신, 위해, 사람, 발견, 사고, 진실, 죽음, 기억, 살인, 친구, 아내, 남자, \n",
      "범죄: 사건, 위해, 자신, 경찰, 시작, 그녀, 범죄, 조직, 살인, 사람, 마약, 형사, 남자, 모든, 살해, \n",
      "사극: 조선, 위해, 시작, 신기전, 사랑, 자신, 아가멤논, 황제, 그녀, 루안, 최고, 운명, 사람, 하선, 전쟁, \n",
      "서부극(웨스턴): 서부, 보안관, 위해, 벌린, 카우보이, 그레이프바인, 헨리, 마을, 자신, 개릿, 아이, 시작, 무법자, 프린트, 마적, \n",
      "성인물(에로): 그녀, 남편, 마사지, 자신, 섹스, 관계, 영화, 정사, 남자, 위해, 시작, 여자, 유부녀, 마음, 사랑, \n",
      "스릴러: 자신, 그녀, 사건, 시작, 위해, 사람, 살인, 남자, 발견, 아내, 경찰, 친구, 모든, 사실, 살해, \n",
      "애니메이션: 애니메이션, 국제, 영화제, 친구, 인디애니페스트, 위해, 자신, 시작, 사람, 페스티벌, 서울, 이야기, 아이, 마을, 소녀, \n",
      "액션: 위해, 자신, 시작, 조직, 사건, 사람, 그녀, 경찰, 전쟁, 모든, 목숨, 사실, 친구, 가족, 요원, \n",
      "어드벤처: 위해, 자신, 시작, 친구, 마을, 아버지, 영화, 아이, 사람, 여행, 세계, 앤트, 세상, 가족, 모험, \n",
      "전쟁: 전쟁, 독일군, 전투, 위해, 작전, 시작, 부대, 윈터스, 독일, 연합군, 미군, 임무, 자신, 사람, 나치, \n",
      "코미디: 그녀, 자신, 시작, 위해, 사랑, 사람, 친구, 영화, 남자, 여자, 영화제, 가족, 과연, 마을, 사건, \n",
      "판타지: 자신, 그녀, 시작, 위해, 사람, 사랑, 요괴, 영화제, 이야기, 영화, 소녀, 남자, 인간, 세상, 마을, \n"
     ]
    }
   ],
   "source": [
    "# 상위 15개 까지만 추출된 단어를 살펴봅니다.\n",
    "attributes = []\n",
    "for i in range(len(w)):\n",
    "    print(genre_name[i], end=': ')\n",
    "    attr = []\n",
    "    j = 0\n",
    "    while (len(attr) < 15):\n",
    "        if vectorizer.get_feature_names()[w[i][j][0]] in model.wv:\n",
    "            attr.append(vectorizer.get_feature_names()[w[i][j][0]])\n",
    "            print(vectorizer.get_feature_names()[w[i][j][0]], end=', ')\n",
    "        j += 1\n",
    "    attributes.append(attr)\n",
    "    print()"
   ]
  },
  {
   "cell_type": "markdown",
   "id": "narrative-eleven",
   "metadata": {},
   "source": [
    "- 각 장르를 대표하는 단어들을 추출해보았습니다. 중복된 것이 종종 있지만 art, gen 두 개의 단어 셋을 추출했을 때에 비해 적습니다. 그러므로 중복을 체크해서 삭제하기보다 그대로 사용합니다."
   ]
  },
  {
   "cell_type": "markdown",
   "id": "specific-native",
   "metadata": {},
   "source": [
    "# 4. WEAT score 계산과 시각화\n",
    "\n",
    "영화 구분, 영화 장르에 따른 편향성을 측정하여 WEAT score로 계산해 보고 이를 Heatmap 형태로 시각화해 봅니다. "
   ]
  },
  {
   "attachments": {
    "image.png": {
     "image/png": "[encoded data removed]"
    }
   },
   "cell_type": "markdown",
   "id": "american-drink",
   "metadata": {},
   "source": [
    "## WEAT score 계산\n",
    "    \n",
    "WEAT score는 다음과 같이 정의합니다.\n",
    "![image.png](attachment:image.png)\n",
    "\n",
    "- 이 테스트는 두 벡터의 유사도를 측정하기 위해 cosine similarity를 이용합니다. cosine similarity는 두 벡터 사이의 cosine 값을 이용하여 두 벡터의 유사도를 측정합니다. 다시 말해, 두 벡터 i,j가 주어졌을 때, cosine similarity cos(θ)는 dot product와 magnitude를 사용하여 구할 수 있습니다. cosine similarity는 -1에서 1을 가질 수 있으며 두 벡터의 방향이 얼마나 유사한지를 나타내게 됩니다.\n",
    "- s(w,A,B)가 의미하는 것은 target에 있는 단어 w가 두 attribute 셋 A, B에 속한 단어들과의 유사도의 평균(mean)값이 얼마나 차이 나는지를 측정합니다. 즉, s(w,A,B)는 개별 단어 w가 개념축 A-B에 대해 가지는 편향성을 계산한 값이 됩니다. 이 편향성 값은 -2에서 2사이의 값을 가지게 되며, 그 절댓값이 클수록 w는 A-B 개념축에 대해 편향성을 가진다는 뜻이 됩니다.\n",
    "- 분자 부분은 target X, Y에 속하는 각 단어 x, y들이 개념축 A-B에 대해 가지는 편향성을 r각각 평균 내서 뺀 차이입니다. 즉, X에 속하는 단어들과 Y에 속하는 단어들이 A-B 개념축에 대해 가지는 편향성의 정도가 뚜렷이 차이 날수록 이 WEAT score 식의 분자값의 절댓값은 커지게 됩니다. 이 값을 X, Y에 속하는 모든 단어들이 가지는 편향성 값의 표준편차(std)로 normalize한 값이 최종 WEAT score가 됩니다."
   ]
  },
  {
   "cell_type": "code",
   "execution_count": 23,
   "id": "strong-medicine",
   "metadata": {},
   "outputs": [],
   "source": [
    "import numpy as np\n",
    "from numpy import dot\n",
    "from numpy.linalg import norm"
   ]
  },
  {
   "cell_type": "code",
   "execution_count": 24,
   "id": "academic-singles",
   "metadata": {},
   "outputs": [],
   "source": [
    "def cos_sim(i, j):\n",
    "    return dot(i, j.T)/(norm(i)*norm(j))\n",
    "\n",
    "def s(w, A, B):\n",
    "    c_a = cos_sim(w, A)\n",
    "    c_b = cos_sim(w, B)\n",
    "    mean_A = np.mean(c_a, axis=-1)\n",
    "    mean_B = np.mean(c_b, axis=-1)\n",
    "    return mean_A - mean_B #, c_a, c_b"
   ]
  },
  {
   "cell_type": "code",
   "execution_count": 25,
   "id": "supreme-relations",
   "metadata": {},
   "outputs": [],
   "source": [
    "def weat_score(X, Y, A, B):\n",
    "    \n",
    "    s_X = s(X, A, B)\n",
    "    s_Y = s(Y, A, B)\n",
    "\n",
    "    mean_X = np.mean(s_X)\n",
    "    mean_Y = np.mean(s_Y)\n",
    "    \n",
    "    std_dev = np.std(np.concatenate([s_X, s_Y], axis=0))\n",
    "    \n",
    "    return  (mean_X-mean_Y)/std_dev"
   ]
  },
  {
   "cell_type": "markdown",
   "id": "british-disposition",
   "metadata": {},
   "source": [
    "이제 WEAT_score를 구해봅니다.\n",
    "     \n",
    "target_X 는 art, target_Y 는 gen으로 고정하고 attribute_A, attribute_B를 바꿔가면서 구해봅니다. 구한 결과를 21x21 매트릭스 형태로 표현해서 matrix 라는 변수에 담아봅니다."
   ]
  },
  {
   "cell_type": "code",
   "execution_count": 26,
   "id": "difficult-constitutional",
   "metadata": {},
   "outputs": [
    {
     "name": "stdout",
     "output_type": "stream",
     "text": [
      "21\n"
     ]
    }
   ],
   "source": [
    "matrix = [[0 for _ in range(len(genre_name))] for _ in range(len(genre_name))]\n",
    "print(len(matrix))"
   ]
  },
  {
   "cell_type": "code",
   "execution_count": 27,
   "id": "educational-vulnerability",
   "metadata": {},
   "outputs": [],
   "source": [
    "X = np.array([model.wv[word] for word in target_art])\n",
    "Y = np.array([model.wv[word] for word in target_gen])\n",
    "\n",
    "for i in range(len(genre_name)-1):\n",
    "    for j in range(i+1, len(genre_name)):\n",
    "        A = np.array([model.wv[word] for word in attributes[i]])\n",
    "        B = np.array([model.wv[word] for word in attributes[j]])\n",
    "        matrix[i][j] = weat_score(X, Y, A, B)"
   ]
  },
  {
   "cell_type": "markdown",
   "id": "stone-territory",
   "metadata": {},
   "source": [
    "- matrix를 채워보았습니다. WEAT score 값을 보고, 편향성을 살펴봅니다. "
   ]
  },
  {
   "cell_type": "code",
   "execution_count": 28,
   "id": "other-fighter",
   "metadata": {},
   "outputs": [
    {
     "name": "stdout",
     "output_type": "stream",
     "text": [
      "SF 가족 -0.54946536\n",
      "SF 공연 -0.4137606\n",
      "SF 공포(호러) -0.68496734\n",
      "SF 기타 0.34931612\n",
      "SF 다큐멘터리 0.5797575\n",
      "SF 드라마 -0.41245207\n",
      "SF 멜로로맨스 -0.7853616\n",
      "SF 뮤지컬 0.3318262\n",
      "SF 미스터리 -0.70302033\n",
      "SF 범죄 -0.26240703\n",
      "SF 사극 -0.84965473\n",
      "SF 서부극(웨스턴) -0.44707945\n",
      "SF 성인물(에로) -0.5605805\n",
      "SF 스릴러 -0.54412216\n",
      "SF 애니메이션 0.35076717\n",
      "SF 액션 -0.47827128\n",
      "SF 어드벤처 -0.85931325\n",
      "SF 전쟁 0.25991127\n",
      "SF 코미디 -0.46269828\n",
      "SF 판타지 -0.20738283\n",
      "가족 공연 0.17407352\n",
      "가족 공포(호러) -0.14233069\n",
      "가족 기타 0.7700987\n",
      "가족 다큐멘터리 0.82541776\n",
      "가족 드라마 0.2177932\n",
      "가족 멜로로맨스 -0.6053762\n",
      "가족 뮤지컬 0.716329\n",
      "가족 미스터리 -0.3088354\n",
      "가족 범죄 0.20198666\n",
      "가족 사극 -0.052310918\n",
      "가족 서부극(웨스턴) 0.44416454\n",
      "가족 성인물(에로) -0.28859618\n",
      "가족 스릴러 -0.1427735\n",
      "가족 애니메이션 0.86765283\n",
      "가족 액션 0.11752534\n",
      "가족 어드벤처 -0.052102786\n",
      "가족 전쟁 0.68803084\n",
      "가족 코미디 0.23793964\n",
      "가족 판타지 0.45323488\n",
      "공연 공포(호러) -0.2224388\n",
      "공연 기타 0.9424972\n",
      "공연 다큐멘터리 0.91045225\n",
      "공연 드라마 0.02961111\n",
      "공연 멜로로맨스 -0.688334\n",
      "공연 뮤지컬 0.8868338\n",
      "공연 미스터리 -0.35109773\n",
      "공연 범죄 0.08268581\n",
      "공연 사극 -0.30295044\n",
      "공연 서부극(웨스턴) 0.08401138\n",
      "공연 성인물(에로) -0.44196427\n",
      "공연 스릴러 -0.21300694\n",
      "공연 애니메이션 0.88922465\n",
      "공연 액션 -0.013350687\n",
      "공연 어드벤처 -0.21396644\n",
      "공연 전쟁 0.63382006\n",
      "공연 코미디 0.0541524\n",
      "공연 판타지 0.36195767\n",
      "공포(호러) 기타 0.64628416\n",
      "공포(호러) 다큐멘터리 0.73485386\n",
      "공포(호러) 드라마 0.2922867\n",
      "공포(호러) 멜로로맨스 -0.61828744\n",
      "공포(호러) 뮤지컬 0.6151548\n",
      "공포(호러) 미스터리 -0.6081656\n",
      "공포(호러) 범죄 0.61137366\n",
      "공포(호러) 사극 0.121112436\n",
      "공포(호러) 서부극(웨스턴) 0.40306133\n",
      "공포(호러) 성인물(에로) -0.21059854\n",
      "공포(호러) 스릴러 -0.06722622\n",
      "공포(호러) 애니메이션 0.651949\n",
      "공포(호러) 액션 0.50921625\n",
      "공포(호러) 어드벤처 0.13521624\n",
      "공포(호러) 전쟁 0.6684571\n",
      "공포(호러) 코미디 0.4430303\n",
      "공포(호러) 판타지 0.52226734\n",
      "기타 다큐멘터리 0.57152784\n",
      "기타 드라마 -0.90090156\n",
      "기타 멜로로맨스 -0.8846364\n",
      "기타 뮤지컬 -0.06640243\n",
      "기타 미스터리 -0.66951716\n",
      "기타 범죄 -0.392983\n",
      "기타 사극 -0.8235849\n",
      "기타 서부극(웨스턴) -0.6241128\n",
      "기타 성인물(에로) -0.79361343\n",
      "기타 스릴러 -0.5723424\n",
      "기타 애니메이션 -0.089109495\n",
      "기타 액션 -0.48652652\n",
      "기타 어드벤처 -0.84445465\n",
      "기타 전쟁 -0.1999536\n",
      "기타 코미디 -0.74052346\n",
      "기타 판타지 -0.71530753\n",
      "다큐멘터리 드라마 -0.90746176\n",
      "다큐멘터리 멜로로맨스 -0.88196063\n",
      "다큐멘터리 뮤지컬 -0.71710676\n",
      "다큐멘터리 미스터리 -0.74342763\n",
      "다큐멘터리 범죄 -0.501386\n",
      "다큐멘터리 사극 -0.89003706\n",
      "다큐멘터리 서부극(웨스턴) -0.7138004\n",
      "다큐멘터리 성인물(에로) -0.8058696\n",
      "다큐멘터리 스릴러 -0.64857316\n",
      "다큐멘터리 애니메이션 -0.5251051\n",
      "다큐멘터리 액션 -0.6002486\n",
      "다큐멘터리 어드벤처 -0.95450836\n",
      "다큐멘터리 전쟁 -0.40639406\n",
      "다큐멘터리 코미디 -0.8101738\n",
      "다큐멘터리 판타지 -0.8875737\n",
      "드라마 멜로로맨스 -0.81457067\n",
      "드라마 뮤지컬 0.8344613\n",
      "드라마 미스터리 -0.42589\n",
      "드라마 범죄 0.075160995\n",
      "드라마 사극 -0.30276984\n",
      "드라마 서부극(웨스턴) 0.060721315\n",
      "드라마 성인물(에로) -0.53872883\n",
      "드라마 스릴러 -0.253596\n",
      "드라마 애니메이션 0.86374664\n",
      "드라마 액션 -0.027606037\n",
      "드라마 어드벤처 -0.31660157\n",
      "드라마 전쟁 0.50190246\n",
      "드라마 코미디 0.059031997\n",
      "드라마 판타지 0.5653229\n",
      "멜로로맨스 뮤지컬 0.8533098\n",
      "멜로로맨스 미스터리 0.43257183\n",
      "멜로로맨스 범죄 0.82353246\n",
      "멜로로맨스 사극 0.63438946\n",
      "멜로로맨스 서부극(웨스턴) 0.72784\n",
      "멜로로맨스 성인물(에로) 0.85689807\n",
      "멜로로맨스 스릴러 0.6345503\n",
      "멜로로맨스 애니메이션 0.8552071\n",
      "멜로로맨스 액션 0.7261912\n",
      "멜로로맨스 어드벤처 0.5679722\n",
      "멜로로맨스 전쟁 0.7983253\n",
      "멜로로맨스 코미디 0.8820148\n",
      "멜로로맨스 판타지 0.8095987\n",
      "뮤지컬 미스터리 -0.64600736\n",
      "뮤지컬 범죄 -0.3694779\n",
      "뮤지컬 사극 -0.78678834\n",
      "뮤지컬 서부극(웨스턴) -0.5727292\n",
      "뮤지컬 성인물(에로) -0.7654652\n",
      "뮤지컬 스릴러 -0.546941\n",
      "뮤지컬 애니메이션 -0.030811511\n",
      "뮤지컬 액션 -0.46357828\n",
      "뮤지컬 어드벤처 -0.8096606\n",
      "뮤지컬 전쟁 -0.17536536\n",
      "뮤지컬 코미디 -0.6866722\n",
      "뮤지컬 판타지 -0.6738358\n",
      "미스터리 범죄 1.0038538\n",
      "미스터리 사극 0.31420287\n",
      "미스터리 서부극(웨스턴) 0.5148392\n",
      "미스터리 성인물(에로) -0.008900094\n",
      "미스터리 스릴러 0.7708214\n",
      "미스터리 애니메이션 0.66688603\n",
      "미스터리 액션 0.78844583\n",
      "미스터리 어드벤처 0.3097811\n",
      "미스터리 전쟁 0.70012355\n",
      "미스터리 코미디 0.5601568\n",
      "미스터리 판타지 0.57844895\n",
      "범죄 사극 -0.2824977\n",
      "범죄 서부극(웨스턴) -0.05514256\n",
      "범죄 성인물(에로) -0.46592423\n",
      "범죄 스릴러 -0.9470579\n",
      "범죄 애니메이션 0.38424373\n",
      "범죄 액션 -0.3201185\n",
      "범죄 어드벤처 -0.23088907\n",
      "범죄 전쟁 0.41149113\n",
      "범죄 코미디 -0.07624819\n",
      "범죄 판타지 0.1123574\n",
      "사극 서부극(웨스턴) 0.4145783\n",
      "사극 성인물(에로) -0.30045298\n",
      "사극 스릴러 -0.12154232\n",
      "사극 애니메이션 0.8108525\n",
      "사극 액션 0.19665392\n",
      "사극 어드벤처 0.019970622\n",
      "사극 전쟁 0.90576726\n",
      "사극 코미디 0.4404657\n",
      "사극 판타지 0.6302057\n",
      "서부극(웨스턴) 성인물(에로) -0.4202079\n",
      "서부극(웨스턴) 스릴러 -0.34780797\n",
      "서부극(웨스턴) 애니메이션 0.67733175\n",
      "서부극(웨스턴) 액션 -0.100149155\n",
      "서부극(웨스턴) 어드벤처 -0.41997588\n",
      "서부극(웨스턴) 전쟁 0.71481586\n",
      "서부극(웨스턴) 코미디 -0.040782094\n",
      "서부극(웨스턴) 판타지 0.24618588\n",
      "성인물(에로) 스릴러 0.1862777\n",
      "성인물(에로) 애니메이션 0.73107594\n",
      "성인물(에로) 액션 0.3657369\n",
      "성인물(에로) 어드벤처 0.26553825\n",
      "성인물(에로) 전쟁 0.6055425\n",
      "성인물(에로) 코미디 0.5619771\n",
      "성인물(에로) 판타지 0.600272\n",
      "스릴러 애니메이션 0.57000315\n",
      "스릴러 액션 0.5318274\n",
      "스릴러 어드벤처 0.11996289\n",
      "스릴러 전쟁 0.6059994\n",
      "스릴러 코미디 0.34008467\n",
      "스릴러 판타지 0.4084136\n",
      "애니메이션 액션 -0.49059364\n",
      "애니메이션 어드벤처 -0.9095977\n",
      "애니메이션 전쟁 -0.18976957\n",
      "애니메이션 코미디 -0.7198698\n",
      "애니메이션 판타지 -0.6814318\n",
      "액션 어드벤처 -0.16010639\n",
      "액션 전쟁 0.58615685\n",
      "액션 코미디 0.058110848\n",
      "액션 판타지 0.23678745\n",
      "어드벤처 전쟁 0.7597727\n",
      "어드벤처 코미디 0.41726336\n",
      "어드벤처 판타지 0.80265284\n",
      "전쟁 코미디 -0.532946\n",
      "전쟁 판타지 -0.31184113\n",
      "코미디 판타지 0.49841174\n"
     ]
    }
   ],
   "source": [
    "for i in range(len(genre_name)-1):\n",
    "    for j in range(i+1, len(genre_name)):\n",
    "        print(genre_name[i], genre_name[j], matrix[i][j])"
   ]
  },
  {
   "cell_type": "code",
   "execution_count": 46,
   "id": "breathing-sucking",
   "metadata": {},
   "outputs": [
    {
     "name": "stdout",
     "output_type": "stream",
     "text": [
      "[  Over 0.8 :  18   ]\n",
      "가족 다큐멘터리 0.82541776\n",
      "가족 애니메이션 0.86765283\n",
      "공연 기타 0.9424972\n",
      "공연 다큐멘터리 0.91045225\n",
      "공연 뮤지컬 0.8868338\n",
      "공연 애니메이션 0.88922465\n",
      "드라마 뮤지컬 0.8344613\n",
      "드라마 애니메이션 0.86374664\n",
      "멜로로맨스 뮤지컬 0.8533098\n",
      "멜로로맨스 범죄 0.82353246\n",
      "멜로로맨스 성인물(에로) 0.85689807\n",
      "멜로로맨스 애니메이션 0.8552071\n",
      "멜로로맨스 코미디 0.8820148\n",
      "멜로로맨스 판타지 0.8095987\n",
      "미스터리 범죄 1.0038538\n",
      "사극 애니메이션 0.8108525\n",
      "사극 전쟁 0.90576726\n",
      "어드벤처 판타지 0.80265284\n",
      "\n",
      "[  Under -0.8 :  17   ]\n",
      "SF 사극 -0.84965473\n",
      "SF 어드벤처 -0.85931325\n",
      "기타 드라마 -0.90090156\n",
      "기타 멜로로맨스 -0.8846364\n",
      "기타 사극 -0.8235849\n",
      "기타 어드벤처 -0.84445465\n",
      "다큐멘터리 드라마 -0.90746176\n",
      "다큐멘터리 멜로로맨스 -0.88196063\n",
      "다큐멘터리 사극 -0.89003706\n",
      "다큐멘터리 성인물(에로) -0.8058696\n",
      "다큐멘터리 어드벤처 -0.95450836\n",
      "다큐멘터리 코미디 -0.8101738\n",
      "다큐멘터리 판타지 -0.8875737\n",
      "드라마 멜로로맨스 -0.81457067\n",
      "뮤지컬 어드벤처 -0.8096606\n",
      "범죄 스릴러 -0.9470579\n",
      "애니메이션 어드벤처 -0.9095977\n"
     ]
    }
   ],
   "source": [
    "over8 = []\n",
    "under_8 = []\n",
    "\n",
    "for i in range(len(genre_name)-1):\n",
    "    for j in range(i+1, len(genre_name)):\n",
    "        if matrix[i][j] >= 0.8 : \n",
    "            over8.append([i, j, matrix[i][j]])\n",
    "        if matrix[i][j] <= -0.8 : \n",
    "            under_8.append([i, j, matrix[i][j]])\n",
    "\n",
    "print(\"[  Over 0.8 : \", len(over8), \"  ]\")\n",
    "for i, j, score in over8:\n",
    "    print(genre_name[i], genre_name[j], score)\n",
    "print()\n",
    "print(\"[  Under -0.8 : \", len(under_8), \"  ]\")\n",
    "for i, j, score in under_8:\n",
    "    print(genre_name[i], genre_name[j], score)"
   ]
  },
  {
   "cell_type": "markdown",
   "id": "direct-bidder",
   "metadata": {},
   "source": [
    "- WEAT score를 보고 예술영화, 일반영화와 각 장르(A, B) 간의 관계를 볼 수 있습니다.      \n",
    "    WEAT score가 0.8 이상인 경우 : A장르는 예술영화, B장르는 일반영화와 가깝다    \n",
    "    WEAT score가 -0.8 이하인 경우 : A장르는 일반영화, B장르는 예술영화와 가깝다 (사람의 편향과는 반대) "
   ]
  },
  {
   "cell_type": "markdown",
   "id": "african-maker",
   "metadata": {},
   "source": [
    "## WEAT score 시각화\n",
    "\n",
    "앞에서 계산한 WEAT score를 Heatmap으로 시각화해 봅니다. "
   ]
  },
  {
   "cell_type": "code",
   "execution_count": 30,
   "id": "stuffed-respondent",
   "metadata": {},
   "outputs": [
    {
     "data": {
      "text/plain": [
       "<AxesSubplot:>"
      ]
     },
     "execution_count": 30,
     "metadata": {},
     "output_type": "execute_result"
    },
    {
     "data": {
      "image/png": "[encoded data removed]",
      "text/plain": [
       "<Figure size 432x288 with 2 Axes>"
      ]
     },
     "metadata": {},
     "output_type": "display_data"
    }
   ],
   "source": [
    "import numpy as np\n",
    "import seaborn as sns\n",
    "import matplotlib.pyplot as plt\n",
    "\n",
    "np.random.seed(0)\n",
    "\n",
    "# 한글 지원 폰트\n",
    "sns.set(font='NanumGothic')\n",
    "\n",
    "# 마이너스 부호 \n",
    "\n",
    "plt.rcParams['axes.unicode_minus'] = False\n",
    "\n",
    "ax = sns.heatmap(matrix, xticklabels=genre_name, yticklabels=genre_name, annot=True,  cmap='RdYlGn_r')\n",
    "ax"
   ]
  },
  {
   "cell_type": "markdown",
   "id": "realistic-extreme",
   "metadata": {},
   "source": [
    "- seaborn.heatmap(data, xticklabels, yticklabels, annot, cmap)     \n",
    "    data : rectangular dataset    \n",
    "    xticklabels, yticklabels : list-like, plot these alternate labels as the xticklabels    \n",
    "    annot=True : write the data value in each cell     \n",
    "    cmap : The mapping from data values to color space    \n",
    "    https://seaborn.pydata.org/generated/seaborn.heatmap.html     \n",
    "    \n",
    "WEAT score가 0.8 이상이거나 -0.8 이하인 관계만 따로 시각화 해봅니다. "
   ]
  },
  {
   "cell_type": "code",
   "execution_count": 39,
   "id": "racial-swift",
   "metadata": {},
   "outputs": [],
   "source": [
    "matrix2 = [[0 for _ in range(len(genre_name))] for _ in range(len(genre_name))]"
   ]
  },
  {
   "cell_type": "code",
   "execution_count": 40,
   "id": "broadband-education",
   "metadata": {},
   "outputs": [],
   "source": [
    "for i, j, score in over8:\n",
    "    matrix2[i][j] = score\n",
    "    \n",
    "for i, j, score in under_8:\n",
    "    matrix2[i][j] = score"
   ]
  },
  {
   "cell_type": "code",
   "execution_count": 45,
   "id": "stunning-technical",
   "metadata": {},
   "outputs": [
    {
     "data": {
      "text/plain": [
       "<AxesSubplot:>"
      ]
     },
     "execution_count": 45,
     "metadata": {},
     "output_type": "execute_result"
    },
    {
     "data": {
      "image/png": "[encoded data removed]",
      "text/plain": [
       "<Figure size 432x288 with 2 Axes>"
      ]
     },
     "metadata": {},
     "output_type": "display_data"
    }
   ],
   "source": [
    "np.random.seed(0)\n",
    "\n",
    "# 한글 지원 폰트\n",
    "sns.set(font='NanumGothic')\n",
    "\n",
    "# 마이너스 부호 \n",
    "\n",
    "plt.rcParams['axes.unicode_minus'] = False\n",
    "\n",
    "ax = sns.heatmap(matrix2, xticklabels=genre_name, yticklabels=genre_name, linewidth=0.3, cmap='RdYlGn_r')\n",
    "ax"
   ]
  },
  {
   "cell_type": "markdown",
   "id": "rough-teach",
   "metadata": {},
   "source": [
    "# 회고\n",
    "\n",
    "1. 주어진 영화 코퍼스를 바탕으로 워드임베딩 모델을 정상적으로 만들었다.\n",
    "    - synopsis.txt(영화들의 시놉시스 정보)의 명사인 경우만 코퍼스로 저장하였다. \n",
    "    - 위의 코퍼스 데이터를 가지고 Word2Vec을 생성하였다. \n",
    "    - 워드임베딩의 most_similar() 메소드 결과가 의미상 바르게 나온것을 확인하였다.  \n",
    "\n",
    "\n",
    "2. 영화 구분, 장르별로 target, attribute에 대한 대표성있는 단어 셋을 생성하였다. \n",
    "    - TF-IDF를 사용하여 높은 순으로 해당 데이터를 가장 잘 표현하는 단어 셋을 만들었다. \n",
    "    - target의 단어 셋의 중복을 제거하여 개념축을 의미적으로 잘 대표하는 단어 셋이 만들어졌다.\n",
    "    - attribute의 단어 셋은 중복이 많이 겹치지 않으므로 중복을 제거하지 않고 그대로 사용하였다.\n",
    "\n",
    "\n",
    "3. WEAT score 계산 및 시각화를 정상적으로 진행하였다.\n",
    "    - 전체 영화 장르별로 예술/일반 영화에 대한 편향성 WEAT score를 계산하였다.      \n",
    "        WEAT score가 가장 큰 장르는 미스터리-범죄 (1.0038538)이고,    \n",
    "        WEAT score가 가장 작은 장르는 범죄-스릴러 (-0.9470579)였다.     \n",
    "    - WEAT score를 Heatmap으로 잘 시각화하였다."
   ]
  }
 ],
 "metadata": {
  "kernelspec": {
   "display_name": "Python 3",
   "language": "python",
   "name": "python3"
  },
  "language_info": {
   "codemirror_mode": {
    "name": "ipython",
    "version": 3
   },
   "file_extension": ".py",
   "mimetype": "text/x-python",
   "name": "python",
   "nbconvert_exporter": "python",
   "pygments_lexer": "ipython3",
   "version": "3.7.9"
  }
 },
 "nbformat": 4,
 "nbformat_minor": 5
}
