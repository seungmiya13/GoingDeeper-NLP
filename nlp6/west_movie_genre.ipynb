{
 "cells": [
  {
   "cell_type": "markdown",
   "id": "affecting-opportunity",
   "metadata": {},
   "source": [
    "프로젝트 : 모든 장르 간 편향성 측정해 보기\n",
    "===\n",
    "\n",
    "영화 시놉시스 코퍼스를 가지고 영화 구분과 모든 영화 장르 간에 내재된 편향성을 측정하는 작업을 진행해 보겠습니다. \n",
    "\n",
    "[ 목차 ]\n",
    "1. 형태소 분석기를 이용하여 품사가 명사인 경우 해당 단어를 추출하기\n",
    "2. 추출된 결과로 embedding model 만들기\n",
    "3. target, attribute 단어 셋 만들기\n",
    "4. WEAT score 계산과 시각화"
   ]
  },
  {
   "cell_type": "code",
   "execution_count": null,
   "id": "aquatic-success",
   "metadata": {},
   "outputs": [],
   "source": []
  }
 ],
 "metadata": {
  "kernelspec": {
   "display_name": "Python 3",
   "language": "python",
   "name": "python3"
  },
  "language_info": {
   "codemirror_mode": {
    "name": "ipython",
    "version": 3
   },
   "file_extension": ".py",
   "mimetype": "text/x-python",
   "name": "python",
   "nbconvert_exporter": "python",
   "pygments_lexer": "ipython3",
   "version": "3.7.9"
  }
 },
 "nbformat": 4,
 "nbformat_minor": 5
}
