{
 "cells": [
  {
   "cell_type": "markdown",
   "id": "french-nomination",
   "metadata": {},
   "source": [
    "프로젝트: Vocabulary Size를 변경해서 뉴스 카테고리 다중분류 시도해보기\n",
    "=== \n",
    "\n",
    "뉴스 텍스트의 주제를 분류하는 태스크를 다양한 기법으로 다시 시도해 보고 어떤 방법이 가장 우수한 성능을 보이는지 실험해 본다.\n",
    "     \n",
    "중요도가 낮은 단어들까지 포함해 너무 많은 단어를 사용하는 경우에도 성능이 저하될 수 있고, 반대로 너무 적은 단어들을 사용해도 성능이 저하될 수 있습니다. 이렇게 변화된 단어의 수는 또 어떤 모델을 사용하느냐에 따라 유리할 수도, 불리할 수도 있습니다.\n",
    "     \n",
    "사용할 모델 : 나이브 베이즈 분류기, CNB, 로지스틱 회귀, 서포트 벡터 머신, 결정 트리, 랜덤 포레스트, 그래디언트 부스팅 트리, 보팅\n",
    "    \n",
    "    \n",
    "[ 목차 ]\n",
    "1. 모든 단어 사용\n",
    "2. 빈도수 상위 5,000개의 단어만 사용\n",
    "3. 직접 단어 개수를 설정해서 사용\n",
    "4. 딥러닝 모델과 비교해 보기"
   ]
  },
  {
   "cell_type": "markdown",
   "id": "musical-devil",
   "metadata": {},
   "source": [
    "# 로이터 뉴스 데이터\n",
    "\n",
    "우리가 사용할 데이터는 로이터 뉴스 데이터입니다. 이 데이터는 총 46개의 클래스로 구성되며, 해당 뉴스가 어느 카테고리에 속하는지를 예측하기 위한 데이터입니다. 텐서플로우 데이터셋에서 제공하고 있는 데이터로 아주 쉽게 다운로드가 가능합니다. \n",
    "- tf.keras.datasets.reuters.load_data(num_words)  \n",
    "    num_words :\t(integer or None)      \n",
    "    Words are ranked by how often they occur and only the num_words most frequent words are kept. Any less frequent word will appear as oov_char value in the sequence data.     \n",
    "    If None, all words are kept. Defaults to None, so all words are kept.    \n",
    "    https://www.tensorflow.org/api_docs/python/tf/keras/datasets/reuters/load_data\n",
    "    \n",
    "num_word를 변경하며 단어의 수에 따라서 모델의 성능이 어떻게 변하는지 테스트해 봅니다."
   ]
  },
  {
   "cell_type": "code",
   "execution_count": 18,
   "id": "flush-genre",
   "metadata": {},
   "outputs": [],
   "source": [
    "from tensorflow.keras.datasets import reuters\n",
    "import matplotlib.pyplot as plt\n",
    "import seaborn as sns\n",
    "import numpy as np\n",
    "import pandas as pd\n",
    "from sklearn.feature_extraction.text import CountVectorizer\n",
    "from sklearn.feature_extraction.text import TfidfTransformer"
   ]
  },
  {
   "cell_type": "markdown",
   "id": "native-speech",
   "metadata": {},
   "source": [
    "# 사용할 모델 \n",
    "\n",
    "다음의 여러 머신러닝 알고리즘을 사용해서 텍스트를 분류해 봅니다. \n",
    "\n",
    "- 나이브 베이즈 분류기 (Multinomial Naive Bayes Classifier)    \n",
    "    https://scikit-learn.org/stable/modules/generated/sklearn.naive_bayes.MultinomialNB.html\n",
    "- CNB (Complement Naive Bayes Classifier)    \n",
    "    https://scikit-learn.org/stable/modules/generated/sklearn.naive_bayes.ComplementNB.html\n",
    "- 로지스틱 회귀 (Logistic Regression)    \n",
    "    https://scikit-learn.org/stable/modules/generated/sklearn.linear_model.LogisticRegression.html\n",
    "- 서포트 벡터 머신 (Linear Support Vector Machine)    \n",
    "    https://scikit-learn.org/stable/modules/generated/sklearn.svm.LinearSVC.html\n",
    "- 결정 트리 (Decision Tree)    \n",
    "    https://scikit-learn.org/stable/modules/generated/sklearn.tree.DecisionTreeClassifier.html\n",
    "- 랜덤 포레스트 (Random Forest)    \n",
    "    https://scikit-learn.org/stable/modules/generated/sklearn.ensemble.RandomForestClassifier.html\n",
    "- 그래디언트 부스팅 트리 (GradientBoostingClassifier)    \n",
    "    https://scikit-learn.org/stable/modules/generated/sklearn.ensemble.GradientBoostingClassifier.html\n",
    "- 보팅 (Voting)    \n",
    "    https://scikit-learn.org/stable/modules/generated/sklearn.ensemble.VotingClassifier.html"
   ]
  },
  {
   "cell_type": "code",
   "execution_count": 2,
   "id": "jewish-receptor",
   "metadata": {},
   "outputs": [],
   "source": [
    "from sklearn.naive_bayes import MultinomialNB #다항분포 나이브 베이즈 모델\n",
    "from sklearn.naive_bayes import ComplementNB\n",
    "from sklearn.linear_model import LogisticRegression, SGDClassifier\n",
    "from sklearn.svm import LinearSVC\n",
    "from sklearn.tree import DecisionTreeClassifier\n",
    "from sklearn.ensemble import RandomForestClassifier\n",
    "from sklearn.ensemble import GradientBoostingClassifier\n",
    "from sklearn.ensemble import VotingClassifier\n",
    "from sklearn.metrics import accuracy_score #정확도 계산"
   ]
  },
  {
   "cell_type": "markdown",
   "id": "ideal-champagne",
   "metadata": {},
   "source": [
    "# 1. 모든 단어 사용\n",
    "\n",
    "(x_train, y_train), (x_test, y_test) = reuters.load_data(**num_words=None**, test_split=0.2)"
   ]
  },
  {
   "cell_type": "markdown",
   "id": "secure-classic",
   "metadata": {},
   "source": [
    "## 1.1 데이터 로드하기\n",
    "\n",
    "텐서플로우 데이터셋으로부터 로이터 뉴스 데이터를 받아옵니다."
   ]
  },
  {
   "cell_type": "code",
   "execution_count": 3,
   "id": "living-foundation",
   "metadata": {},
   "outputs": [
    {
     "name": "stdout",
     "output_type": "stream",
     "text": [
      "Downloading data from https://storage.googleapis.com/tensorflow/tf-keras-datasets/reuters.npz\n",
      "2113536/2110848 [==============================] - 0s 0us/step\n"
     ]
    },
    {
     "name": "stderr",
     "output_type": "stream",
     "text": [
      "/opt/conda/lib/python3.7/site-packages/tensorflow/python/keras/datasets/reuters.py:148: VisibleDeprecationWarning: Creating an ndarray from ragged nested sequences (which is a list-or-tuple of lists-or-tuples-or ndarrays with different lengths or shapes) is deprecated. If you meant to do this, you must specify 'dtype=object' when creating the ndarray\n",
      "  x_train, y_train = np.array(xs[:idx]), np.array(labels[:idx])\n",
      "/opt/conda/lib/python3.7/site-packages/tensorflow/python/keras/datasets/reuters.py:149: VisibleDeprecationWarning: Creating an ndarray from ragged nested sequences (which is a list-or-tuple of lists-or-tuples-or ndarrays with different lengths or shapes) is deprecated. If you meant to do this, you must specify 'dtype=object' when creating the ndarray\n",
      "  x_test, y_test = np.array(xs[idx:]), np.array(labels[idx:])\n"
     ]
    }
   ],
   "source": [
    "(x_train, y_train), (x_test, y_test) = reuters.load_data(num_words=None, test_split=0.2)"
   ]
  },
  {
   "cell_type": "code",
   "execution_count": 4,
   "id": "acoustic-secondary",
   "metadata": {},
   "outputs": [
    {
     "name": "stdout",
     "output_type": "stream",
     "text": [
      "훈련 샘플의 수: 8982\n",
      "테스트 샘플의 수: 2246\n"
     ]
    }
   ],
   "source": [
    "# 데이터 구성 확인 \n",
    "print('훈련 샘플의 수: {}'.format(len(x_train)))\n",
    "print('테스트 샘플의 수: {}'.format(len(x_test)))"
   ]
  },
  {
   "cell_type": "markdown",
   "id": "geological-infection",
   "metadata": {},
   "source": [
    "- 훈련용 뉴스는 8,982개. 그리고 테스트용 뉴스는 2,246개가 있습니다. 8:2의 비율을 가집니다.\n",
    "    \n",
    "첫 번째 훈련용 뉴스와 첫 번째 테스트용 뉴스를 출력해 봅니다."
   ]
  },
  {
   "cell_type": "code",
   "execution_count": 5,
   "id": "active-objective",
   "metadata": {},
   "outputs": [
    {
     "name": "stdout",
     "output_type": "stream",
     "text": [
      "[1, 27595, 28842, 8, 43, 10, 447, 5, 25, 207, 270, 5, 3095, 111, 16, 369, 186, 90, 67, 7, 89, 5, 19, 102, 6, 19, 124, 15, 90, 67, 84, 22, 482, 26, 7, 48, 4, 49, 8, 864, 39, 209, 154, 6, 151, 6, 83, 11, 15, 22, 155, 11, 15, 7, 48, 9, 4579, 1005, 504, 6, 258, 6, 272, 11, 15, 22, 134, 44, 11, 15, 16, 8, 197, 1245, 90, 67, 52, 29, 209, 30, 32, 132, 6, 109, 15, 17, 12]\n",
      "[1, 4, 1378, 2025, 9, 697, 4622, 111, 8, 25, 109, 29, 3650, 11, 150, 244, 364, 33, 30, 30, 1398, 333, 6, 18292, 159, 9, 1084, 363, 13, 19231, 71, 9, 16273, 71, 117, 4, 225, 78, 206, 10, 9, 1214, 8, 4, 270, 5, 16273, 7, 748, 48, 9, 19231, 7, 207, 1451, 966, 1864, 793, 97, 133, 336, 7, 4, 493, 98, 273, 104, 284, 25, 39, 338, 22, 905, 220, 3465, 644, 59, 20, 6, 119, 61, 11, 15, 58, 579, 26, 10, 67, 7, 4, 738, 98, 43, 88, 333, 722, 12, 20, 6, 19, 746, 35, 15, 10, 9, 1214, 855, 129, 783, 21, 4, 2280, 244, 364, 51, 16, 299, 452, 16, 515, 4, 99, 29, 5, 4, 364, 281, 48, 10, 9, 1214, 23, 644, 47, 20, 324, 27, 56, 23406, 28185, 5, 192, 510, 17, 12]\n"
     ]
    }
   ],
   "source": [
    "print(x_train[0])\n",
    "print(x_test[0])"
   ]
  },
  {
   "cell_type": "code",
   "execution_count": 6,
   "id": "endless-bikini",
   "metadata": {},
   "outputs": [
    {
     "name": "stdout",
     "output_type": "stream",
     "text": [
      "3\n",
      "3\n"
     ]
    }
   ],
   "source": [
    "# 레이블 출력\n",
    "print(y_train[0])\n",
    "print(y_test[0])"
   ]
  },
  {
   "cell_type": "code",
   "execution_count": 7,
   "id": "assigned-following",
   "metadata": {},
   "outputs": [
    {
     "name": "stdout",
     "output_type": "stream",
     "text": [
      "클래스의 수 : 46\n"
     ]
    }
   ],
   "source": [
    "# 클래스수 확인   \n",
    "num_classes = max(y_train) + 1\n",
    "print('클래스의 수 : {}'.format(num_classes))"
   ]
  },
  {
   "cell_type": "code",
   "execution_count": 8,
   "id": "considerable-mainstream",
   "metadata": {},
   "outputs": [
    {
     "name": "stdout",
     "output_type": "stream",
     "text": [
      "훈련용 뉴스의 최대 길이 :2376\n",
      "훈련용 뉴스의 평균 길이 :145.5398574927633\n"
     ]
    },
    {
     "data": {
      "image/png": "[encoded data removed]",
      "text/plain": [
       "<Figure size 432x288 with 1 Axes>"
      ]
     },
     "metadata": {
      "needs_background": "light"
     },
     "output_type": "display_data"
    }
   ],
   "source": [
    "# 데이터 분포 확인\n",
    "print('훈련용 뉴스의 최대 길이 :{}'.format(max(len(l) for l in x_train)))\n",
    "print('훈련용 뉴스의 평균 길이 :{}'.format(sum(map(len, x_train))/len(x_train)))\n",
    "\n",
    "plt.hist([len(s) for s in x_train], bins=50)\n",
    "plt.xlabel('length of samples')\n",
    "plt.ylabel('number of samples')\n",
    "plt.show()"
   ]
  },
  {
   "cell_type": "code",
   "execution_count": 9,
   "id": "induced-bottom",
   "metadata": {},
   "outputs": [
    {
     "data": {
      "image/png": "[encoded data removed]",
      "text/plain": [
       "<Figure size 792x360 with 1 Axes>"
      ]
     },
     "metadata": {
      "needs_background": "light"
     },
     "output_type": "display_data"
    }
   ],
   "source": [
    "# 클래스 분포 확인 - 그래프\n",
    "fig, axe = plt.subplots(ncols=1)\n",
    "fig.set_size_inches(11,5)\n",
    "sns.countplot(x=y_train)\n",
    "plt.show()"
   ]
  },
  {
   "cell_type": "code",
   "execution_count": 10,
   "id": "framed-bidder",
   "metadata": {},
   "outputs": [
    {
     "name": "stdout",
     "output_type": "stream",
     "text": [
      "각 클래스 빈도수:\n",
      "[[   0    1    2    3    4    5    6    7    8    9   10   11   12   13\n",
      "    14   15   16   17   18   19   20   21   22   23   24   25   26   27\n",
      "    28   29   30   31   32   33   34   35   36   37   38   39   40   41\n",
      "    42   43   44   45]\n",
      " [  55  432   74 3159 1949   17   48   16  139  101  124  390   49  172\n",
      "    26   20  444   39   66  549  269  100   15   41   62   92   24   15\n",
      "    48   19   45   39   32   11   50   10   49   19   19   24   36   30\n",
      "    13   21   12   18]]\n"
     ]
    }
   ],
   "source": [
    "# 클래스 분포 확인 - 수치\n",
    "unique_elements, counts_elements = np.unique(y_train, return_counts=True)\n",
    "print(\"각 클래스 빈도수:\")\n",
    "print(np.asarray((unique_elements, counts_elements)))"
   ]
  },
  {
   "cell_type": "markdown",
   "id": "legislative-haiti",
   "metadata": {},
   "source": [
    "## 1.2 데이터 복원하기\n",
    "\n",
    "정수 시퀀스로 변환된 데이터를 원본 뉴스 데이터인 텍스트로 돌려봅니다."
   ]
  },
  {
   "cell_type": "code",
   "execution_count": 11,
   "id": "general-farmer",
   "metadata": {},
   "outputs": [
    {
     "name": "stdout",
     "output_type": "stream",
     "text": [
      "Downloading data from https://storage.googleapis.com/tensorflow/tf-keras-datasets/reuters_word_index.json\n",
      "557056/550378 [==============================] - 0s 0us/step\n"
     ]
    }
   ],
   "source": [
    "word_index = reuters.get_word_index(path=\"reuters_word_index.json\")"
   ]
  },
  {
   "cell_type": "markdown",
   "id": "given-timer",
   "metadata": {},
   "source": [
    "- 로이터 뉴스 데이터는 '단어'를 key값으로, 고유한 '정수'를 value로 가지는 dictionary를 제공합니다. reuters.get_word_index()에서 얻는 숫자보다 +3을 해야 실제 맵핑되는 정수입니다. 이건 로이터 뉴스 데이터가 정의한 일종의 약속입니다.\n",
    "- tf.keras.datasets.reuters.get_word_index() : Retrieves a dict mapping words to their index in the Reuters dataset    \n",
    "    https://www.tensorflow.org/api_docs/python/tf/keras/datasets/reuters/get_word_index\n",
    "  "
   ]
  },
  {
   "cell_type": "code",
   "execution_count": 12,
   "id": "romantic-object",
   "metadata": {},
   "outputs": [],
   "source": [
    "index_to_word = { index+3 : word for word, index in word_index.items() }\n",
    "\n",
    "# index_to_word에 숫자 0은 <pad>, 숫자 1은 <sos>, 숫자 2는 <unk>를 넣어줍니다.\n",
    "for index, token in enumerate((\"<pad>\", \"<sos>\", \"<unk>\")):\n",
    "    index_to_word[index]=token"
   ]
  },
  {
   "cell_type": "code",
   "execution_count": 13,
   "id": "living-yeast",
   "metadata": {},
   "outputs": [
    {
     "name": "stdout",
     "output_type": "stream",
     "text": [
      "<sos> mcgrath rentcorp said as a result of its december acquisition of space co it expects earnings per share in 1987 of 1 15 to 1 30 dlrs per share up from 70 cts in 1986 the company said pretax net should rise to nine to 10 mln dlrs from six mln dlrs in 1986 and rental operation revenues to 19 to 22 mln dlrs from 12 5 mln dlrs it said cash flow per share this year should be 2 50 to three dlrs reuter 3\n"
     ]
    }
   ],
   "source": [
    "# 첫 번째 훈련용 뉴스 기사를 원래 텍스트로 복원\n",
    "print(' '.join([index_to_word[index] for index in x_train[0]]))"
   ]
  },
  {
   "cell_type": "markdown",
   "id": "informative-verification",
   "metadata": {},
   "source": [
    "- 잘 복원된 것을 확인할 수 있습니다.\n",
    "\n",
    "이제 전체 훈련용 뉴스 데이터와 전체 테스트용 뉴스 데이터를 텍스트 데이터로 변환해 봅니다."
   ]
  },
  {
   "cell_type": "code",
   "execution_count": 46,
   "id": "incorrect-progressive",
   "metadata": {},
   "outputs": [],
   "source": [
    "# 데이터 복원 \n",
    "def convert2text(data):\n",
    "    decoded = []\n",
    "    for i in range(len(data)):\n",
    "        t = ' '.join([index_to_word[index] for index in data[i]])\n",
    "        decoded.append(t)\n",
    "\n",
    "    return decoded"
   ]
  },
  {
   "cell_type": "code",
   "execution_count": 14,
   "id": "passive-witness",
   "metadata": {},
   "outputs": [
    {
     "name": "stdout",
     "output_type": "stream",
     "text": [
      "8982\n"
     ]
    }
   ],
   "source": [
    "# train 데이터 복원 \n",
    "x_train = convert2text(x_train)\n",
    "print(len(x_train))"
   ]
  },
  {
   "cell_type": "code",
   "execution_count": 15,
   "id": "unlimited-black",
   "metadata": {},
   "outputs": [
    {
     "name": "stdout",
     "output_type": "stream",
     "text": [
      "2246\n"
     ]
    }
   ],
   "source": [
    "# test 데이터 복원 \n",
    "x_test = convert2text(x_test)\n",
    "print(len(x_test))"
   ]
  },
  {
   "cell_type": "code",
   "execution_count": 16,
   "id": "selected-presence",
   "metadata": {},
   "outputs": [
    {
     "data": {
      "text/plain": [
       "['<sos> mcgrath rentcorp said as a result of its december acquisition of space co it expects earnings per share in 1987 of 1 15 to 1 30 dlrs per share up from 70 cts in 1986 the company said pretax net should rise to nine to 10 mln dlrs from six mln dlrs in 1986 and rental operation revenues to 19 to 22 mln dlrs from 12 5 mln dlrs it said cash flow per share this year should be 2 50 to three dlrs reuter 3',\n",
       " \"<sos> generale de banque sa lt genb br and lt heller overseas corp of chicago have each taken 50 pct stakes in factoring company sa belgo factors generale de banque said in a statement it gave no financial details of the transaction sa belgo factors' turnover in 1986 was 17 5 billion belgian francs reuter 3\"]"
      ]
     },
     "execution_count": 16,
     "metadata": {},
     "output_type": "execute_result"
    }
   ],
   "source": [
    "x_train[:2]"
   ]
  },
  {
   "cell_type": "code",
   "execution_count": 17,
   "id": "sharp-separation",
   "metadata": {},
   "outputs": [
    {
     "data": {
      "text/plain": [
       "['<sos> the great atlantic and pacific tea co said its three year 345 mln dlr capital program will be be substantially increased to accommodate growth and expansion plans for waldbaum inc and shopwell inc over the next two years a and p said the acquisition of shopwell in august 1986 and waldbaum in december helped us achieve better than expected results in the fourth quarter ended february 28 its net income from continuing operations jumped 52 6 pct to 20 7 mln dlrs or 55 cts a share in the latest quarter as sales increased 48 3 pct to 1 58 billion dlrs a and p gave no details on the expanded capital program but it did say it completed the first year of the program during 1986 a and p is 52 4 pct owned by lt tengelmann warenhandelsgesellschaft of west germany reuter 3',\n",
       " \"<sos> philippine sugar production in the 1987 88 crop year ending august has been set at 1 6 mln tonnes up from a provisional 1 3 mln tonnes this year sugar regulatory administration sra chairman arsenio yulo said yulo told reuters a survey during the current milling season which ends next month showed the 1986 87 estimate would almost certainly be met he said at least 1 2 mln tonnes of the 1987 88 crop would be earmarked for domestic consumption yulo said about 130 000 tonnes would be set aside for the u s sugar quota 150 000 tonnes for strategic reserves and 50 000 tonnes would be sold on the world market he said if the government approved a long standing sra recommendation to manufacture ethanol the project would take up another 150 000 tonnes slightly raising the target the government for its own reasons has been delaying approval of the project but we expect it to come through by july yulo said ethanol could make up five pct of gasoline cutting the oil import bill by about 300 mln pesos yulo said three major philippine distilleries were ready to start manufacturing ethanol if the project was approved the ethanol project would result in employment for about 100 000 people sharply reducing those thrown out of work by depressed world sugar prices and a moribund domestic industry production quotas set for the first time in 1987 88 had been submitted to president corazon aquino i think the president would rather wait till the new congress convenes after the may elections he said but there is really no need for such quotas we are right now producing just slightly over our own consumption level the producers have never enjoyed such high prices yulo said adding sugar was currently selling locally for 320 pesos per picul up from 190 pesos last august yulo said prices were driven up because of speculation following the sra's bid to control production we are no longer concerned so much with the world market he said adding producers in the negros region had learned from their mistakes and diversified into corn and prawn farming and cloth production he said diversification into products other than ethanol was also possible within the sugar industry the brazilians long ago learnt their lessons yulo said they have 300 sugar mills compared with our 41 but they relocated many of them and diversified production we want to call this a 'sugarcane industry' instead of the sugar industry he said sugarcane could be fed to pigs and livestock used for thatching roofs or used in room panelling when you cut sugarcane you don't even have to produce sugar he said yulo said the philippines was lobbying for a renewal of the international sugar agreement which expired in 1984 as a major sugar producer we are urging them to write a new agreement which would revive world prices yulo said if there is no agreement world prices will always be depressed particularly because the european community is subsidising its producers and dumping sugar on the markets he said current world prices holding steady at about 7 60 cents per pound were uneconomical for the philippines where production costs ranged from 12 to 14 cents a pound if the price holds steady for a while at 7 60 cents i expect the level to rise to about 11 cents a pound by the end of this year he said yulo said economists forecast a bullish sugar market by 1990 with world consumption outstripping production he said sugar markets were holding up despite encroachments from artificial sweeteners and high fructose corn syrup but we are not happy with the reagan administration he said since 1935 we have been regular suppliers of sugar to the u s in 1982 when they restored the quota system they cut ours in half without any justification manila was keenly watching washington's moves to cut domestic support prices to 12 cents a pound from 18 cents the u s agriculture department last december slashed its 12 month 1987 sugar import quota from the philippines to 143 780 short tons from 231 660 short tons in 1986 yulo said despite next year's increased production target some philippine mills were expected to shut down at least four of the 41 mills were not working during the 1986 87 season he said we expect two or three more to follow suit during the next season reuter 3\"]"
      ]
     },
     "execution_count": 17,
     "metadata": {},
     "output_type": "execute_result"
    }
   ],
   "source": [
    "x_test[:2]"
   ]
  },
  {
   "cell_type": "markdown",
   "id": "artistic-angel",
   "metadata": {},
   "source": [
    "- 제대로 변환이 되었는지 확인할 수 있습니다. "
   ]
  },
  {
   "cell_type": "markdown",
   "id": "center-cooper",
   "metadata": {},
   "source": [
    "## 1.3 벡터화 하기\n",
    "\n",
    "텍스트 데이터가 있을 때, 모델의 입력으로 넣기 위해서는 우선 각 문서를 벡터화할 필요가 있습니다. 벡터화 방법은 Bag of Words 가설을 기반으로 하는 DTM, TF-IDF 행렬을 사용합니다. \n",
    "- DTM은 사이킷런의 CountVectorizer()를 통해서 생성할 수 있습니다.\n",
    "- TF-IDF Matrix는 사이킷런의 TfidfTransformer()를 통해서 생성할 수 있습니다. "
   ]
  },
  {
   "cell_type": "code",
   "execution_count": 19,
   "id": "restricted-diploma",
   "metadata": {},
   "outputs": [
    {
     "name": "stdout",
     "output_type": "stream",
     "text": [
      "(8982, 26506)\n"
     ]
    }
   ],
   "source": [
    "# DTM 생성 \n",
    "dtmvector = CountVectorizer()\n",
    "x_train_dtm = dtmvector.fit_transform(x_train)\n",
    "print(x_train_dtm.shape)"
   ]
  },
  {
   "cell_type": "code",
   "execution_count": 20,
   "id": "classified-offer",
   "metadata": {},
   "outputs": [
    {
     "name": "stdout",
     "output_type": "stream",
     "text": [
      "(8982, 26506)\n"
     ]
    }
   ],
   "source": [
    "# TF-IDF 행렬 생성 \n",
    "tfidf_transformer = TfidfTransformer()\n",
    "tfidfv = tfidf_transformer.fit_transform(x_train_dtm)\n",
    "print(tfidfv.shape)"
   ]
  },
  {
   "cell_type": "markdown",
   "id": "sticky-eating",
   "metadata": {},
   "source": [
    "테스트 데이터에 대한 정확도를 측정하기 위해서는 테스트 데이터도 훈련 데이터와 동일한 전처리를 거쳐야 합니다. "
   ]
  },
  {
   "cell_type": "code",
   "execution_count": 22,
   "id": "technological-billion",
   "metadata": {},
   "outputs": [
    {
     "name": "stdout",
     "output_type": "stream",
     "text": [
      "(2246, 26506)\n",
      "(2246, 26506)\n"
     ]
    }
   ],
   "source": [
    "x_test_dtm = dtmvector.transform(x_test) #테스트 데이터를 DTM으로 변환\n",
    "print(x_test_dtm.shape)\n",
    "tfidfv_test = tfidf_transformer.transform(x_test_dtm) #DTM을 TF-IDF 행렬로 변환\n",
    "print(tfidfv_test.shape)"
   ]
  },
  {
   "cell_type": "markdown",
   "id": "assured-probability",
   "metadata": {},
   "source": [
    "## 1.4 머신러닝 모델 적용 "
   ]
  },
  {
   "cell_type": "markdown",
   "id": "bibliographic-sitting",
   "metadata": {},
   "source": [
    "### 1) 나이브 베이즈 분류기(Multinomial Naive Bayes Classifier)\n",
    "\n",
    "나이브 베이즈 분류기는 사이킷런의 MultinomialNB()를 통해 사용할 수 있습니다."
   ]
  },
  {
   "cell_type": "code",
   "execution_count": 25,
   "id": "armed-discount",
   "metadata": {},
   "outputs": [
    {
     "data": {
      "text/plain": [
       "MultinomialNB()"
      ]
     },
     "execution_count": 25,
     "metadata": {},
     "output_type": "execute_result"
    }
   ],
   "source": [
    "mnb = MultinomialNB()\n",
    "mnb.fit(tfidfv, y_train)"
   ]
  },
  {
   "cell_type": "code",
   "execution_count": 26,
   "id": "medieval-affiliation",
   "metadata": {},
   "outputs": [
    {
     "name": "stdout",
     "output_type": "stream",
     "text": [
      "정확도: 0.5997328584149599\n"
     ]
    }
   ],
   "source": [
    "predicted = mnb.predict(tfidfv_test) #테스트 데이터에 대한 예측\n",
    "print(\"정확도:\", accuracy_score(y_test, predicted)) #예측값과 실제값 비교"
   ]
  },
  {
   "cell_type": "markdown",
   "id": "prescription-casting",
   "metadata": {},
   "source": [
    "### 2) Complement Naive Bayes Classifier(CNB)"
   ]
  },
  {
   "cell_type": "code",
   "execution_count": 27,
   "id": "nervous-morgan",
   "metadata": {},
   "outputs": [
    {
     "data": {
      "text/plain": [
       "ComplementNB()"
      ]
     },
     "execution_count": 27,
     "metadata": {},
     "output_type": "execute_result"
    }
   ],
   "source": [
    "cnb = ComplementNB()\n",
    "cnb.fit(tfidfv, y_train)"
   ]
  },
  {
   "cell_type": "code",
   "execution_count": 28,
   "id": "moving-reduction",
   "metadata": {},
   "outputs": [
    {
     "name": "stdout",
     "output_type": "stream",
     "text": [
      "정확도: 0.7649154051647373\n"
     ]
    }
   ],
   "source": [
    "predicted = cnb.predict(tfidfv_test) #테스트 데이터에 대한 예측\n",
    "print(\"정확도:\", accuracy_score(y_test, predicted)) #예측값과 실제값 비교"
   ]
  },
  {
   "cell_type": "markdown",
   "id": "certified-panel",
   "metadata": {},
   "source": [
    "### 3) 로지스틱 회귀(Logistic Regression)"
   ]
  },
  {
   "cell_type": "code",
   "execution_count": 29,
   "id": "brazilian-grain",
   "metadata": {},
   "outputs": [
    {
     "name": "stderr",
     "output_type": "stream",
     "text": [
      "/opt/conda/lib/python3.7/site-packages/sklearn/linear_model/_logistic.py:762: ConvergenceWarning: lbfgs failed to converge (status=1):\n",
      "STOP: TOTAL NO. of ITERATIONS REACHED LIMIT.\n",
      "\n",
      "Increase the number of iterations (max_iter) or scale the data as shown in:\n",
      "    https://scikit-learn.org/stable/modules/preprocessing.html\n",
      "Please also refer to the documentation for alternative solver options:\n",
      "    https://scikit-learn.org/stable/modules/linear_model.html#logistic-regression\n",
      "  extra_warning_msg=_LOGISTIC_SOLVER_CONVERGENCE_MSG)\n"
     ]
    },
    {
     "data": {
      "text/plain": [
       "LogisticRegression(C=10000)"
      ]
     },
     "execution_count": 29,
     "metadata": {},
     "output_type": "execute_result"
    }
   ],
   "source": [
    "lr = LogisticRegression(C=10000, penalty='l2')\n",
    "lr.fit(tfidfv, y_train)"
   ]
  },
  {
   "cell_type": "code",
   "execution_count": 30,
   "id": "adaptive-creation",
   "metadata": {},
   "outputs": [
    {
     "name": "stdout",
     "output_type": "stream",
     "text": [
      "정확도: 0.813446126447017\n"
     ]
    }
   ],
   "source": [
    "predicted = lr.predict(tfidfv_test) #테스트 데이터에 대한 예측\n",
    "print(\"정확도:\", accuracy_score(y_test, predicted)) #예측값과 실제값 비교"
   ]
  },
  {
   "cell_type": "markdown",
   "id": "greater-explanation",
   "metadata": {},
   "source": [
    "### 4) 선형 서포트 벡터 머신(Linear Support Vector Machine)"
   ]
  },
  {
   "cell_type": "code",
   "execution_count": 31,
   "id": "planned-chassis",
   "metadata": {},
   "outputs": [
    {
     "name": "stderr",
     "output_type": "stream",
     "text": [
      "/opt/conda/lib/python3.7/site-packages/sklearn/svm/_base.py:975: ConvergenceWarning: Liblinear failed to converge, increase the number of iterations.\n",
      "  \"the number of iterations.\", ConvergenceWarning)\n"
     ]
    },
    {
     "data": {
      "text/plain": [
       "LinearSVC(C=1000, dual=False, max_iter=500, penalty='l1')"
      ]
     },
     "execution_count": 31,
     "metadata": {},
     "output_type": "execute_result"
    }
   ],
   "source": [
    "lsvc = LinearSVC(C=1000, penalty='l1', max_iter=500, dual=False)\n",
    "lsvc.fit(tfidfv, y_train)"
   ]
  },
  {
   "cell_type": "code",
   "execution_count": 32,
   "id": "electronic-witch",
   "metadata": {},
   "outputs": [
    {
     "name": "stdout",
     "output_type": "stream",
     "text": [
      "정확도: 0.7867319679430098\n"
     ]
    }
   ],
   "source": [
    "predicted = lsvc.predict(tfidfv_test) #테스트 데이터에 대한 예측\n",
    "print(\"정확도:\", accuracy_score(y_test, predicted)) #예측값과 실제값 비교"
   ]
  },
  {
   "cell_type": "markdown",
   "id": "aboriginal-legend",
   "metadata": {},
   "source": [
    "### 5) 결정 트리(Decision Tree)"
   ]
  },
  {
   "cell_type": "code",
   "execution_count": 33,
   "id": "developmental-pointer",
   "metadata": {},
   "outputs": [
    {
     "data": {
      "text/plain": [
       "DecisionTreeClassifier(max_depth=10, random_state=0)"
      ]
     },
     "execution_count": 33,
     "metadata": {},
     "output_type": "execute_result"
    }
   ],
   "source": [
    "dtree = DecisionTreeClassifier(max_depth=10, random_state=0)\n",
    "dtree.fit(tfidfv, y_train)"
   ]
  },
  {
   "cell_type": "code",
   "execution_count": 34,
   "id": "experimental-rates",
   "metadata": {},
   "outputs": [
    {
     "name": "stdout",
     "output_type": "stream",
     "text": [
      "정확도: 0.6211041852181657\n"
     ]
    }
   ],
   "source": [
    "predicted = dtree.predict(tfidfv_test) #테스트 데이터에 대한 예측\n",
    "print(\"정확도:\", accuracy_score(y_test, predicted)) #예측값과 실제값 비교"
   ]
  },
  {
   "cell_type": "markdown",
   "id": "played-toronto",
   "metadata": {},
   "source": [
    "### 6) 랜덤 포레스트(Random Forest)"
   ]
  },
  {
   "cell_type": "code",
   "execution_count": 35,
   "id": "informational-tunnel",
   "metadata": {},
   "outputs": [
    {
     "data": {
      "text/plain": [
       "RandomForestClassifier(n_estimators=5, random_state=0)"
      ]
     },
     "execution_count": 35,
     "metadata": {},
     "output_type": "execute_result"
    }
   ],
   "source": [
    "rdforest = RandomForestClassifier(n_estimators=5, random_state=0)\n",
    "rdforest.fit(tfidfv, y_train)"
   ]
  },
  {
   "cell_type": "code",
   "execution_count": 36,
   "id": "chief-national",
   "metadata": {},
   "outputs": [
    {
     "name": "stdout",
     "output_type": "stream",
     "text": [
      "정확도: 0.6544968833481746\n"
     ]
    }
   ],
   "source": [
    "predicted = rdforest.predict(tfidfv_test) #테스트 데이터에 대한 예측\n",
    "print(\"정확도:\", accuracy_score(y_test, predicted)) #예측값과 실제값 비교"
   ]
  },
  {
   "cell_type": "markdown",
   "id": "similar-function",
   "metadata": {},
   "source": [
    "### 7) 그래디언트 부스팅 트리(GradientBoostingClassifier)"
   ]
  },
  {
   "cell_type": "code",
   "execution_count": 38,
   "id": "trained-handling",
   "metadata": {},
   "outputs": [
    {
     "data": {
      "text/plain": [
       "GradientBoostingClassifier(random_state=0)"
      ]
     },
     "execution_count": 38,
     "metadata": {},
     "output_type": "execute_result"
    }
   ],
   "source": [
    "grbt = GradientBoostingClassifier(random_state=0)\n",
    "grbt.fit(tfidfv, y_train)"
   ]
  },
  {
   "cell_type": "code",
   "execution_count": 39,
   "id": "utility-testing",
   "metadata": {},
   "outputs": [
    {
     "name": "stdout",
     "output_type": "stream",
     "text": [
      "정확도: 0.7702582368655387\n"
     ]
    }
   ],
   "source": [
    "predicted = grbt.predict(tfidfv_test) #테스트 데이터에 대한 예측\n",
    "print(\"정확도:\", accuracy_score(y_test, predicted)) #예측값과 실제값 비교"
   ]
  },
  {
   "cell_type": "markdown",
   "id": "premier-guidance",
   "metadata": {},
   "source": [
    "### 8) 보팅(Voting)"
   ]
  },
  {
   "cell_type": "code",
   "execution_count": 40,
   "id": "silent-plenty",
   "metadata": {},
   "outputs": [
    {
     "data": {
      "text/plain": [
       "VotingClassifier(estimators=[('lr', LogisticRegression(C=10000)),\n",
       "                             ('cb', ComplementNB()),\n",
       "                             ('grbt',\n",
       "                              GradientBoostingClassifier(random_state=0))],\n",
       "                 n_jobs=-1, voting='soft')"
      ]
     },
     "execution_count": 40,
     "metadata": {},
     "output_type": "execute_result"
    }
   ],
   "source": [
    "vt_classifier = VotingClassifier(estimators=[\n",
    "         ('lr', LogisticRegression(C=10000, penalty='l2')),\n",
    "        ('cb', ComplementNB()),\n",
    "        ('grbt', GradientBoostingClassifier(random_state=0))\n",
    "], voting='soft', n_jobs=-1)\n",
    "vt_classifier.fit(tfidfv, y_train)"
   ]
  },
  {
   "cell_type": "code",
   "execution_count": 41,
   "id": "brave-strap",
   "metadata": {},
   "outputs": [
    {
     "name": "stdout",
     "output_type": "stream",
     "text": [
      "정확도: 0.8187889581478184\n"
     ]
    }
   ],
   "source": [
    "predicted = vt_classifier.predict(tfidfv_test) #테스트 데이터에 대한 예측\n",
    "print(\"정확도:\", accuracy_score(y_test, predicted)) #예측값과 실제값 비교"
   ]
  },
  {
   "cell_type": "markdown",
   "id": "african-hurricane",
   "metadata": {},
   "source": [
    "# 2. 빈도수 상위 5,000개의 단어만 사용\n",
    "\n",
    "(x_train, y_train), (x_test, y_test) = reuters.load_data(**num_words=5000**, test_split=0.2)"
   ]
  },
  {
   "cell_type": "markdown",
   "id": "subjective-paragraph",
   "metadata": {},
   "source": [
    "## 2.1 데이터 로드하기"
   ]
  },
  {
   "cell_type": "code",
   "execution_count": 43,
   "id": "simplified-costs",
   "metadata": {},
   "outputs": [
    {
     "name": "stderr",
     "output_type": "stream",
     "text": [
      "/opt/conda/lib/python3.7/site-packages/tensorflow/python/keras/datasets/reuters.py:148: VisibleDeprecationWarning: Creating an ndarray from ragged nested sequences (which is a list-or-tuple of lists-or-tuples-or ndarrays with different lengths or shapes) is deprecated. If you meant to do this, you must specify 'dtype=object' when creating the ndarray\n",
      "  x_train, y_train = np.array(xs[:idx]), np.array(labels[:idx])\n",
      "/opt/conda/lib/python3.7/site-packages/tensorflow/python/keras/datasets/reuters.py:149: VisibleDeprecationWarning: Creating an ndarray from ragged nested sequences (which is a list-or-tuple of lists-or-tuples-or ndarrays with different lengths or shapes) is deprecated. If you meant to do this, you must specify 'dtype=object' when creating the ndarray\n",
      "  x_test, y_test = np.array(xs[idx:]), np.array(labels[idx:])\n"
     ]
    }
   ],
   "source": [
    "(x_train2, y_train2), (x_test2, y_test2) = reuters.load_data(num_words=5000, test_split=0.2)"
   ]
  },
  {
   "cell_type": "markdown",
   "id": "respiratory-martial",
   "metadata": {},
   "source": [
    "## 2.2 데이터 복원하기"
   ]
  },
  {
   "cell_type": "code",
   "execution_count": 44,
   "id": "designing-study",
   "metadata": {},
   "outputs": [
    {
     "data": {
      "text/plain": [
       "{10999: 'mdbl',\n",
       " 16263: 'fawc',\n",
       " 12092: 'degussa',\n",
       " 8806: 'woods',\n",
       " 13799: 'hanging',\n",
       " 20675: 'localized',\n",
       " 20676: 'sation',\n",
       " 20678: 'chanthaburi',\n",
       " 11000: 'refunding',\n",
       " 8807: 'hermann',\n",
       " 20679: 'passsengers',\n",
       " 20680: 'stipulate',\n",
       " 8355: 'heublein',\n",
       " 20716: 'screaming',\n",
       " 16264: 'tcby',\n",
       " 188: 'four',\n",
       " 1645: 'grains',\n",
       " 20683: 'broiler',\n",
       " 12093: 'wooden',\n",
       " 1223: 'wednesday',\n",
       " 13800: 'highveld',\n",
       " 7596: 'duffour',\n",
       " 20684: '0053',\n",
       " 3917: 'elections',\n",
       " 2566: '270',\n",
       " 3554: '271',\n",
       " 5116: '272',\n",
       " 3555: '273',\n",
       " 3403: '274',\n",
       " 7978: 'rudman',\n",
       " 3404: '276',\n",
       " 3481: '277',\n",
       " 3635: '278',\n",
       " 4312: '279',\n",
       " 9384: 'dormancy',\n",
       " 7250: 'errors',\n",
       " 3089: 'deferred',\n",
       " 20686: 'sptnd',\n",
       " 8808: 'cooking',\n",
       " 20687: 'stratabit',\n",
       " 16265: 'designing',\n",
       " 20688: 'metalurgicos',\n",
       " 13801: 'databank',\n",
       " 20689: '300er',\n",
       " 20690: 'shocks',\n",
       " 7975: 'nawg',\n",
       " 20691: 'tnta',\n",
       " 20692: 'perforations',\n",
       " 2894: 'affiliates',\n",
       " 20693: '27p',\n",
       " 16266: 'ching',\n",
       " 598: 'china',\n",
       " 16267: 'wagyu',\n",
       " 3192: 'affiliated',\n",
       " 16268: 'chino',\n",
       " 16269: 'chinh',\n",
       " 20695: 'slickline',\n",
       " 13802: 'doldrums',\n",
       " 12095: 'kids',\n",
       " 3031: 'climbed',\n",
       " 6696: 'controversy',\n",
       " 20696: 'kidd',\n",
       " 12096: 'spotty',\n",
       " 12642: 'rebel',\n",
       " 9385: 'millimetres',\n",
       " 4010: 'golden',\n",
       " 5692: 'projection',\n",
       " 12097: 'stern',\n",
       " 7906: \"hudson's\",\n",
       " 10069: 'dna',\n",
       " 20698: 'dnc',\n",
       " 20699: 'hodler',\n",
       " 2397: 'lme',\n",
       " 20700: 'insolvancy',\n",
       " 13803: 'music',\n",
       " 1987: 'therefore',\n",
       " 11001: 'dns',\n",
       " 6962: 'distortions',\n",
       " 13804: 'thassos',\n",
       " 20701: 'populations',\n",
       " 8809: 'meteorologist',\n",
       " 46: 'loss',\n",
       " 9386: 'exco',\n",
       " 20816: 'adventist',\n",
       " 16270: 'murchison',\n",
       " 11002: 'locked',\n",
       " 13805: 'kampala',\n",
       " 20702: 'arndt',\n",
       " 1270: 'nakasone',\n",
       " 20703: 'steinweg',\n",
       " 3636: \"india's\",\n",
       " 3032: 'wang',\n",
       " 10070: 'wane',\n",
       " 13806: 'unjust',\n",
       " 13807: 'titanium',\n",
       " 853: 'want',\n",
       " 20704: 'pinto',\n",
       " 16271: \"institutes'\",\n",
       " 7976: 'absolute',\n",
       " 4680: 'travel',\n",
       " 6425: 'cutback',\n",
       " 16272: 'nazmi',\n",
       " 1861: 'modest',\n",
       " 16273: 'shopwell',\n",
       " 20705: 'sedi',\n",
       " 20706: 'adoped',\n",
       " 16274: 'tulis',\n",
       " 20707: '18th',\n",
       " 20708: \"wmc's\",\n",
       " 20709: 'menlo',\n",
       " 11003: 'reiners',\n",
       " 12098: 'farmlands',\n",
       " 20710: 'nonsensical',\n",
       " 20711: 'elisra',\n",
       " 2464: 'welcomed',\n",
       " 20712: 'peup',\n",
       " 16275: \"holiday's\",\n",
       " 20714: 'activating',\n",
       " 16276: 'avondale',\n",
       " 16277: 'interational',\n",
       " 20715: 'welcomes',\n",
       " 16278: 'fip',\n",
       " 11004: 'tailings',\n",
       " 4208: 'fit',\n",
       " 16279: 'lifeline',\n",
       " 1919: 'bringing',\n",
       " 4822: 'fix',\n",
       " 6167: '624',\n",
       " 12099: 'naturalite',\n",
       " 6168: 'wales',\n",
       " 8810: 'fin',\n",
       " 11132: 'fio',\n",
       " 20717: 'ceremenony',\n",
       " 20718: 'sovr',\n",
       " 20719: \"yeo's\",\n",
       " 1791: 'effects',\n",
       " 13808: 'sixteen',\n",
       " 8811: 'undeveloped',\n",
       " 13809: 'glutted',\n",
       " 20720: 'barton',\n",
       " 20721: 'froday',\n",
       " 10092: 'arrow',\n",
       " 11005: 'stabilises',\n",
       " 6963: 'allan',\n",
       " 20722: '374p',\n",
       " 3894: '393',\n",
       " 4011: '392',\n",
       " 4209: '391',\n",
       " 3082: '390',\n",
       " 4553: '397',\n",
       " 6169: '396',\n",
       " 6426: '395',\n",
       " 4210: '394',\n",
       " 6964: '399',\n",
       " 4211: '398',\n",
       " 7598: 'stabilised',\n",
       " 5117: 'smelters',\n",
       " 20723: 'oprah',\n",
       " 20724: 'orginially',\n",
       " 20725: \"tvx's\",\n",
       " 16281: 'ponomarev',\n",
       " 20726: 'enviroment',\n",
       " 20727: \"reeves'\",\n",
       " 8366: 'mason',\n",
       " 1673: 'encourage',\n",
       " 7599: 'adapt',\n",
       " 12779: 'abbott',\n",
       " 13811: 'stamping',\n",
       " 20729: 'colquiri',\n",
       " 11006: 'ambrit',\n",
       " 8356: 'strata',\n",
       " 4824: 'corrects',\n",
       " 11925: 'sandra',\n",
       " 862: 'estimate',\n",
       " 20730: 'universally',\n",
       " 20731: 'chlorine',\n",
       " 16282: 'competes',\n",
       " 10071: 'leiner',\n",
       " 8812: 'ministries',\n",
       " 8813: 'disturbed',\n",
       " 13812: 'competed',\n",
       " 8814: 'juergen',\n",
       " 13813: 'kfw',\n",
       " 11007: 'turben',\n",
       " 9387: 'reintroduced',\n",
       " 20732: 'maladies',\n",
       " 4104: 'chevron',\n",
       " 16283: 'lazere',\n",
       " 8815: 'antilles',\n",
       " 11910: 'dti',\n",
       " 9073: 'specially',\n",
       " 4681: 'bilzerian',\n",
       " 13814: 'bakelite',\n",
       " 20733: 'renovated',\n",
       " 571: 'service',\n",
       " 16284: 'payless',\n",
       " 20734: 'spiegler',\n",
       " 834: 'needed',\n",
       " 16285: 'wigglesworth',\n",
       " 6965: 'master',\n",
       " 13815: 'antonson',\n",
       " 20735: 'genesis',\n",
       " 13816: 'vismara',\n",
       " 20737: 'organically',\n",
       " 20738: \"accords'\",\n",
       " 5943: 'task',\n",
       " 7977: 'positively',\n",
       " 3482: 'feasibility',\n",
       " 6966: 'ahmed',\n",
       " 13817: \"suralco's\",\n",
       " 20739: 'awacs',\n",
       " 16286: 'idly',\n",
       " 20740: 'regulator',\n",
       " 12100: 'pseudorabies',\n",
       " 16287: 'staubli',\n",
       " 8816: 'nzi',\n",
       " 5118: 'feeling',\n",
       " 3130: '275',\n",
       " 20741: '6819',\n",
       " 16288: 'gorman',\n",
       " 8357: 'sustaining',\n",
       " 9388: 'spectrum',\n",
       " 20742: 'consenting',\n",
       " 12101: 'recapitalized',\n",
       " 11565: 'sailed',\n",
       " 7600: 'dozen',\n",
       " 1988: 'affairs',\n",
       " 2256: 'courier',\n",
       " 8358: 'kremlin',\n",
       " 898: 'shipments',\n",
       " 16289: \"aquino's\",\n",
       " 10073: 'committing',\n",
       " 5296: 'sugarcane',\n",
       " 9389: 'diminishing',\n",
       " 16290: 'vexing',\n",
       " 11008: 'simplify',\n",
       " 6170: 'mouth',\n",
       " 7251: 'steinhardt',\n",
       " 8817: 'conceded',\n",
       " 9390: 'bradford',\n",
       " 7979: 'singer',\n",
       " 20743: '5602',\n",
       " 13819: \"1987's\",\n",
       " 4953: 'tech',\n",
       " 6427: 'teck',\n",
       " 20744: 'majv',\n",
       " 669: 'saying',\n",
       " 16480: 'dickey',\n",
       " 20745: 'sweetner',\n",
       " 21152: 'teresa',\n",
       " 20746: 'ulcer',\n",
       " 13820: 'cheaply',\n",
       " 2364: 'thai',\n",
       " 6967: 'orleans',\n",
       " 16293: 'excavator',\n",
       " 6171: 'rico',\n",
       " 12102: 'lube',\n",
       " 13821: 'rick',\n",
       " 4682: 'rich',\n",
       " 13822: 'kerna',\n",
       " 953: 'rice',\n",
       " 4212: 'rica',\n",
       " 5506: 'plate',\n",
       " 16294: 'platt',\n",
       " 8359: 'altogether',\n",
       " 8818: 'jaguar',\n",
       " 20747: 'dynair',\n",
       " 8819: 'patch',\n",
       " 2895: 'ldp',\n",
       " 13823: 'boarded',\n",
       " 16295: 'precluding',\n",
       " 11009: 'clarified',\n",
       " 16296: 'sensitivity',\n",
       " 1514: 'alternative',\n",
       " 11010: 'clarifies',\n",
       " 5119: 'lots',\n",
       " 7601: 'irs',\n",
       " 20748: 'irv',\n",
       " 13824: 'iri',\n",
       " 13825: 'ira',\n",
       " 5693: 'timber',\n",
       " 20749: 'ire',\n",
       " 5222: 'discipline',\n",
       " 1940: 'extend',\n",
       " 3637: 'nature',\n",
       " 16298: \"amb's\",\n",
       " 16299: 'dunhill',\n",
       " 2145: 'extent',\n",
       " 20750: 'restrcitions',\n",
       " 2399: 'heating',\n",
       " 11011: \"mannesmann's\",\n",
       " 20751: 'outsanding',\n",
       " 20752: 'multimillions',\n",
       " 13827: 'sarcinelli',\n",
       " 6697: 'southeastern',\n",
       " 10074: 'eradicate',\n",
       " 9391: 'libyan',\n",
       " 20753: 'foreclosing',\n",
       " 12104: 'maclaine',\n",
       " 20754: 'fra',\n",
       " 356: 'union',\n",
       " 11012: 'frn',\n",
       " 389: 'much',\n",
       " 12105: 'fry',\n",
       " 20755: 'mothball',\n",
       " 10075: 'chlorazepate',\n",
       " 12106: 'dxns',\n",
       " 19984: 'toyko',\n",
       " 20756: 'spit',\n",
       " 16300: '007050',\n",
       " 16301: 'freehold',\n",
       " 13828: 'davy',\n",
       " 11013: 'dave',\n",
       " 12180: 'spie',\n",
       " 10120: 'aguayo',\n",
       " 12107: 'wildcat',\n",
       " 10072: 'fecs',\n",
       " 20757: 'kennan',\n",
       " 16302: 'intal',\n",
       " 9392: 'contingencies',\n",
       " 16554: 'professionally',\n",
       " 16303: 'microbiological',\n",
       " 20759: 'misconstrued',\n",
       " 412: 'k',\n",
       " 20760: 'securitiesd',\n",
       " 16304: 'deferring',\n",
       " 5944: 'kohl',\n",
       " 3033: 'conditioned',\n",
       " 20761: 'fnhb',\n",
       " 16305: \"october's\",\n",
       " 13957: 'memorial',\n",
       " 6968: 'democracies',\n",
       " 27523: 'conformed',\n",
       " 467: 'split',\n",
       " 12108: \"bond's\",\n",
       " 11115: 'thinly',\n",
       " 16518: 'dunkirk',\n",
       " 16306: 'cavanaugh',\n",
       " 13830: \"securities'\",\n",
       " 21348: 'marches',\n",
       " 16307: 'issam',\n",
       " 2023: 'workforce',\n",
       " 12109: 'meinert',\n",
       " 13831: 'boiler',\n",
       " 5297: \"bp's\",\n",
       " 16308: 'torpedoed',\n",
       " 20765: 'indidate',\n",
       " 13832: 'downwardly',\n",
       " 20766: 'viviez',\n",
       " 20767: 'vladiminovich',\n",
       " 16309: 'academic',\n",
       " 20768: 'architecural',\n",
       " 1120: 'corporate',\n",
       " 16310: 'appropriately',\n",
       " 20769: 'teicc',\n",
       " 20770: \"hanover's\",\n",
       " 8820: 'aristech',\n",
       " 20771: 'portrayed',\n",
       " 21386: 'raffineries',\n",
       " 20773: 'hai',\n",
       " 7602: 'hal',\n",
       " 13833: 'ham',\n",
       " 10076: 'han',\n",
       " 20774: 'e15b',\n",
       " 64: 'had',\n",
       " 20775: 'hay',\n",
       " 13834: 'botchwey',\n",
       " 10077: 'haq',\n",
       " 40: 'has',\n",
       " 13835: 'hat',\n",
       " 20776: 'hav',\n",
       " 20777: 'fortin',\n",
       " 8821: 'municipal',\n",
       " 20778: 'osman',\n",
       " 20779: 'fsical',\n",
       " 3483: 'elders',\n",
       " 12110: 'survival',\n",
       " 16311: 'unequivocally',\n",
       " 2522: 'objective',\n",
       " 6698: 'indicative',\n",
       " 10078: 'shadow',\n",
       " 21414: 'riskiness',\n",
       " 20781: 'positiive',\n",
       " 10079: \"american's\",\n",
       " 16312: 'alick',\n",
       " 16313: 'harima',\n",
       " 12111: 'alice',\n",
       " 20782: 'altschul',\n",
       " 16314: 'festivities',\n",
       " 20783: 'medecines',\n",
       " 2945: 'beneficial',\n",
       " 12112: 'yoweri',\n",
       " 13836: 'crowd',\n",
       " 9393: 'crowe',\n",
       " 3556: 'crown',\n",
       " 13682: 'topping',\n",
       " 8822: 'captive',\n",
       " 12113: 'billboard',\n",
       " 6172: 'fiduciary',\n",
       " 3405: 'bottom',\n",
       " 20785: 'plucked',\n",
       " 20786: 'locksmithing',\n",
       " 9394: 'ecopetrol',\n",
       " 24021: 'pipestone',\n",
       " 5508: \"growers'\",\n",
       " 20788: 'borrows',\n",
       " 16315: 'eduard',\n",
       " 13837: 'venpres',\n",
       " 16316: 'bamboo',\n",
       " 13838: 'foolish',\n",
       " 20789: 'uruguyan',\n",
       " 20790: 'officeholders',\n",
       " 20791: 'economiques',\n",
       " 16317: 'aden',\n",
       " 4825: 'maxwell',\n",
       " 4683: 'marshall',\n",
       " 16318: 'honeymoon',\n",
       " 16319: 'administer',\n",
       " 20793: 'shoots',\n",
       " 16320: 'rubbertech',\n",
       " 16321: 'johsen',\n",
       " 10080: 'reciprocity',\n",
       " 13839: 'fabric',\n",
       " 20794: 'suffice',\n",
       " 20795: 'spokemsan',\n",
       " 20796: \"sonora's\",\n",
       " 16322: '5865',\n",
       " 16323: \"systems'\",\n",
       " 20797: 'perfumes',\n",
       " 20798: 'halycon',\n",
       " 20799: 'nonvoting',\n",
       " 7253: 'safeguard',\n",
       " 21541: 'sawdust',\n",
       " 20800: \"else's\",\n",
       " 13840: 'arrays',\n",
       " 20801: 'aza',\n",
       " 20802: 'smasher',\n",
       " 12114: 'complications',\n",
       " 1816: 'pesos',\n",
       " 20803: 'relabelling',\n",
       " 3725: 'passenger',\n",
       " 12115: \"avon's\",\n",
       " 20804: 'megahertz',\n",
       " 10686: 'mirror',\n",
       " 8360: 'minas',\n",
       " 16325: 'bourdain',\n",
       " 20805: 'crownx',\n",
       " 6428: 'eventual',\n",
       " 1210: 'crowns',\n",
       " 1372: 'role',\n",
       " 20806: 'obliges',\n",
       " 16326: 'rolf',\n",
       " 13841: 'vegetative',\n",
       " 20807: 'rolm',\n",
       " 4422: 'roll',\n",
       " 2466: 'intend',\n",
       " 16327: 'palms',\n",
       " 19258: 'denys',\n",
       " 13842: 'transported',\n",
       " 20808: 'moresby',\n",
       " 16328: 'devon',\n",
       " 1354: 'intent',\n",
       " 20809: \"camco's\",\n",
       " 5945: 'variable',\n",
       " 20810: 'transporter',\n",
       " 16329: 'danske',\n",
       " 13843: 'friedhelm',\n",
       " 8361: 'hawker',\n",
       " 17777: \"sand's\",\n",
       " 20811: 'preseving',\n",
       " 12116: '80386',\n",
       " 16331: 'bnls',\n",
       " 19987: 'ordination',\n",
       " 11014: 'overturned',\n",
       " 16332: 'erred',\n",
       " 6699: 'cincinnati',\n",
       " 16713: 'corps',\n",
       " 20812: 'whoever',\n",
       " 16333: 'osp',\n",
       " 13844: 'osr',\n",
       " 12117: 'ost',\n",
       " 16334: 'chair',\n",
       " 5650: '690',\n",
       " 20813: 'grapples',\n",
       " 13845: 'megawatts',\n",
       " 20814: 'photocopiers',\n",
       " 20815: 'sconninx',\n",
       " 2277: 'circumstances',\n",
       " 13846: 'oversight',\n",
       " 20817: \"paradyne's\",\n",
       " 6366: '691',\n",
       " 20818: 'paychecks',\n",
       " 13847: \"stadelmann's\",\n",
       " 3244: 'choice',\n",
       " 11015: 'vastagh',\n",
       " 8823: 'embark',\n",
       " 9395: 'gloomy',\n",
       " 9396: 'stays',\n",
       " 4012: 'exact',\n",
       " 5120: 'minute',\n",
       " 11895: 'kittiwake',\n",
       " 20819: 'picul',\n",
       " 20820: 'skewed',\n",
       " 11016: 'cooke',\n",
       " 10081: 'defaults',\n",
       " 11017: 'reimpose',\n",
       " 9397: 'hindered',\n",
       " 20821: 'lengthened',\n",
       " 16336: 'chopping',\n",
       " 13848: 'mckiernan',\n",
       " 20822: 'collaspe',\n",
       " 7254: 'corazon',\n",
       " 7603: 'antwerp',\n",
       " 13849: 'abdullah',\n",
       " 13850: 'goldston',\n",
       " 445: '300',\n",
       " 20824: 'cassa',\n",
       " 20825: 'casse',\n",
       " 4084: '695',\n",
       " 2982: 'ground',\n",
       " 842: 'boost',\n",
       " 16337: 'azusa',\n",
       " 9398: 'drafted',\n",
       " 4826: '303',\n",
       " 13851: 'climbs',\n",
       " 7604: 'honour',\n",
       " 20826: 'vanderbilt',\n",
       " 3971: '305',\n",
       " 3034: 'address',\n",
       " 8824: 'dwindling',\n",
       " 7255: 'benson',\n",
       " 12118: 'enroll',\n",
       " 504: 'revenues',\n",
       " 12119: 'impacted',\n",
       " 20829: 'queue',\n",
       " 10082: 'accomplished',\n",
       " 7605: 'throughput',\n",
       " 9399: 'influx',\n",
       " 10083: 'stockbuilding',\n",
       " 20830: 'aproximates',\n",
       " 13852: 'petroleo',\n",
       " 16338: 'sistemas',\n",
       " 14056: 'feretti',\n",
       " 5946: 'opposes',\n",
       " 885: 'working',\n",
       " 20832: 'perished',\n",
       " 13853: 'oldham',\n",
       " 20833: '27000',\n",
       " 19248: 'optimize',\n",
       " 20835: 'vigour',\n",
       " 1583: 'opposed',\n",
       " 16339: 'liberalizing',\n",
       " 20836: 'wvz',\n",
       " 20837: 'dampness',\n",
       " 13854: 'approving',\n",
       " 13499: 'sierra',\n",
       " 20838: 'entrepot',\n",
       " 227: 'currency',\n",
       " 1502: 'originally',\n",
       " 20840: 'tindemans',\n",
       " 16340: 'valorem',\n",
       " 480: 'following',\n",
       " 20841: 'fossen',\n",
       " 11019: 'locke',\n",
       " 20842: 'employess',\n",
       " 12120: 'rotberg',\n",
       " 16341: 'parachute',\n",
       " 11020: 'locks',\n",
       " 12258: 'incremental',\n",
       " 16342: 'woolowrth',\n",
       " 20844: 'listens',\n",
       " 7256: 'litre',\n",
       " 3557: 'edouard',\n",
       " 1380: 'ounce',\n",
       " 20846: 'nicanor',\n",
       " 20847: 'sucocitrico',\n",
       " 16343: 'minicomputers',\n",
       " 16344: \"silva's\",\n",
       " 11021: 'restitutions',\n",
       " 16345: 'custer',\n",
       " 2593: '3rd',\n",
       " 10084: 'fueled',\n",
       " 20848: 'trydahl',\n",
       " 11022: 'aice',\n",
       " 12121: 'harmon',\n",
       " 10085: 'conscious',\n",
       " 20849: 'herbicidesand',\n",
       " 20850: 'subdivisions',\n",
       " 20851: \"veslefrikk's\",\n",
       " 11023: 'swollen',\n",
       " 7981: 'pulled',\n",
       " 20852: 'tilney',\n",
       " 206: 'years',\n",
       " 20853: 'structuring',\n",
       " 20854: 'episodes',\n",
       " 16346: 'sportscene',\n",
       " 16347: \"northair's\",\n",
       " 20855: 'jig',\n",
       " 20856: 'jin',\n",
       " 3406: 'jim',\n",
       " 8362: 'troubles',\n",
       " 13855: 'workforces',\n",
       " 2365: 'suspension',\n",
       " 3895: 'troubled',\n",
       " 16348: 'fondiaria',\n",
       " 6700: 'modestly',\n",
       " 12122: 'recipients',\n",
       " 7982: 'civilian',\n",
       " 13856: 'indigenous',\n",
       " 20857: 'overpowering',\n",
       " 1054: 'drilling',\n",
       " 16349: 'sorted',\n",
       " 16350: 'lichtenstein',\n",
       " 20858: 'bedevil',\n",
       " 20859: 'dispite',\n",
       " 16846: 'battleships',\n",
       " 4827: 'instability',\n",
       " 98: 'quarter',\n",
       " 20860: 'salado',\n",
       " 5695: 'honduras',\n",
       " 13858: \"chevron's\",\n",
       " 12276: \"lazere's\",\n",
       " 2663: 'receipt',\n",
       " 8363: 'sponsor',\n",
       " 4828: 'entering',\n",
       " 16352: \"kcbt's\",\n",
       " 19990: 'nowicki',\n",
       " 13859: 'salads',\n",
       " 16354: 'augar',\n",
       " 7983: '797',\n",
       " 7257: '796',\n",
       " 8364: '795',\n",
       " 5298: '794',\n",
       " 5121: '793',\n",
       " 6173: '792',\n",
       " 5299: '791',\n",
       " 4829: '790',\n",
       " 20861: \"nikko's\",\n",
       " 20862: 'unsaleable',\n",
       " 5723: '799',\n",
       " 5696: '798',\n",
       " 2146: 'seriously',\n",
       " 16355: 'trauma',\n",
       " 20863: 'tvbh',\n",
       " 20864: 'macedon',\n",
       " 21909: 'disintegrated',\n",
       " 21912: 'adddition',\n",
       " 2247: 'incentives',\n",
       " 5947: 'complicated',\n",
       " 20867: 'reevaluating',\n",
       " 21924: 'thatching',\n",
       " 7984: 'brasil',\n",
       " 20868: '79p',\n",
       " 4954: 'wrong',\n",
       " 8825: 'initiate',\n",
       " 16356: 'aboard',\n",
       " 7258: 'saving',\n",
       " 8826: 'spoken',\n",
       " 16367: 'parkinson',\n",
       " 68: 'one',\n",
       " 20870: 'ont',\n",
       " 7259: 'concert',\n",
       " 16357: \"boston's\",\n",
       " 13862: 'stifled',\n",
       " 4625: 'types',\n",
       " 20871: 'lingering',\n",
       " 16359: 'surges',\n",
       " 20872: 'hurdman',\n",
       " 16360: 'herds',\n",
       " 14117: 'absorbs',\n",
       " 4684: 'surged',\n",
       " 14214: 'dalkon',\n",
       " 13863: 'crossroads',\n",
       " 20873: 'shakeup',\n",
       " 20874: 'disasterous',\n",
       " 11024: 'illness',\n",
       " 3245: 'turned',\n",
       " 3804: 'locations',\n",
       " 12123: 'tyranite',\n",
       " 13864: 'minesweepers',\n",
       " 7260: 'turner',\n",
       " 20875: 'borough',\n",
       " 12361: 'underlines',\n",
       " 20876: \"bancorporation's\",\n",
       " 20877: 'fashionable',\n",
       " 20878: \"ae's\",\n",
       " 16361: 'dilutions',\n",
       " 9475: 'goodman',\n",
       " 10513: 'unlawfully',\n",
       " 16362: 'mayer',\n",
       " 16363: 'printer',\n",
       " 20880: 'offload',\n",
       " 13865: 'opposite',\n",
       " 741: 'buffer',\n",
       " 9401: 'printed',\n",
       " 16364: 'pequiven',\n",
       " 13866: 'panoche',\n",
       " 20881: 'knowingly',\n",
       " 16365: 'ecusta',\n",
       " 20882: 'thsl',\n",
       " 8828: 'phil',\n",
       " 13867: 'jitters',\n",
       " 16366: 'touche',\n",
       " 20884: 'jittery',\n",
       " 3294: 'friction',\n",
       " 16368: 'fecal',\n",
       " 22071: 'resurgance',\n",
       " 20885: 'heeding',\n",
       " 2366: 'soviets',\n",
       " 16369: 'imagined',\n",
       " 16370: 'transact',\n",
       " 20886: 'califoirnia',\n",
       " 9402: \"chrysler's\",\n",
       " 16371: 'respecitvely',\n",
       " 16372: 'presse',\n",
       " 10087: 'euromarket',\n",
       " 12124: 'guarded',\n",
       " 16374: 'satisfacotry',\n",
       " 20887: 'authroization',\n",
       " 20888: 'simplistic',\n",
       " 20889: 'monde',\n",
       " 4105: 'awaiting',\n",
       " 13868: 'recombinant',\n",
       " 20890: 'refinancement',\n",
       " 20891: 'comserv',\n",
       " 20892: 'kitakyushu',\n",
       " 16375: 'pima',\n",
       " 11025: 'basle',\n",
       " 20894: '6250',\n",
       " 16376: 'choudhury',\n",
       " 8829: 'vision',\n",
       " 20895: 'interruptible',\n",
       " 13869: 'weatherford',\n",
       " 7985: '832',\n",
       " 5697: '833',\n",
       " 4423: '830',\n",
       " 5122: '831',\n",
       " 5300: '836',\n",
       " 4556: '837',\n",
       " 6175: '834',\n",
       " 4955: '835',\n",
       " 22147: 'alarming',\n",
       " 5698: '838',\n",
       " 6176: '839',\n",
       " 20896: '524p',\n",
       " 20897: 'sponsorship',\n",
       " 12125: 'vendex',\n",
       " 20898: \"amsouth's\",\n",
       " 20899: 'kilometer',\n",
       " 10089: 'enjoys',\n",
       " 20900: 'illiberal',\n",
       " 6177: 'punta',\n",
       " 20901: 'punte',\n",
       " 10090: 'girozentrale',\n",
       " 20902: 'missstatements',\n",
       " 10091: 'marietta',\n",
       " 6178: 'awards',\n",
       " 3638: 'concentrated',\n",
       " 20903: '83p',\n",
       " 13870: 'developpement',\n",
       " 13871: 'rhodes',\n",
       " 5699: 'matheson',\n",
       " 20904: '1720',\n",
       " 20905: 'paring',\n",
       " 38: 's',\n",
       " 4956: 'concentrates',\n",
       " 16377: \"can's\",\n",
       " 22186: 'polysaturated',\n",
       " 20906: 'parini',\n",
       " 13872: 'baden',\n",
       " 20907: 'bader',\n",
       " 12126: 'buoyancy',\n",
       " 20908: 'erdem',\n",
       " 16378: 'properites',\n",
       " 20909: 'comparitive',\n",
       " 12127: 'practises',\n",
       " 20910: 'collides',\n",
       " 192: 'west',\n",
       " 20911: 'wess',\n",
       " 13873: 'collided',\n",
       " 20912: 'practised',\n",
       " 20913: \"amalgamated's\",\n",
       " 20914: 'motives',\n",
       " 1381: 'wants',\n",
       " 1276: 'formed',\n",
       " 20915: 'readings',\n",
       " 12128: 'geothermal',\n",
       " 7318: 'tightened',\n",
       " 11026: \"d'or\",\n",
       " 1112: 'former',\n",
       " 20916: 'venezulean',\n",
       " 19938: 'curd',\n",
       " 12129: 'squeezes',\n",
       " 1022: 'newspaper',\n",
       " 820: 'situation',\n",
       " 13874: 'ivey',\n",
       " 3639: 'engaged',\n",
       " 13875: 'dubious',\n",
       " 17064: 'cayacq',\n",
       " 20919: 'cobol',\n",
       " 20920: 'limping',\n",
       " 886: 'technology',\n",
       " 20922: 'koerner',\n",
       " 16379: 'debilitating',\n",
       " 7986: 'verified',\n",
       " 4013: 'otto',\n",
       " 20923: '7770',\n",
       " 16380: 'emulsions',\n",
       " 16381: \"onic's\",\n",
       " 9078: 'slate',\n",
       " 20924: 'wires',\n",
       " 5509: 'edged',\n",
       " 20925: 'assigns',\n",
       " 1344: 'singapore',\n",
       " 20926: 'deflate',\n",
       " 20927: \"strategy's\",\n",
       " 16382: 'walesa',\n",
       " 4557: 'advertisement',\n",
       " 20928: 'luyten',\n",
       " 20929: 'shrortly',\n",
       " 20930: 'corpoartion',\n",
       " 22293: 'preferance',\n",
       " 16383: 'tracking',\n",
       " 13877: 'sunnyvale',\n",
       " 20931: 'colorants',\n",
       " 16384: 'persistently',\n",
       " 16385: \"officers'\",\n",
       " 20932: \"his's\",\n",
       " 370: 'being',\n",
       " 7262: 'divestitures',\n",
       " 20933: 'steamer',\n",
       " 20934: 'rover',\n",
       " 8365: 'grounded',\n",
       " 16386: \"businessmen's\",\n",
       " 16387: 'cyanidation',\n",
       " 20935: 'overthrow',\n",
       " 20936: 'partnerhip',\n",
       " 16388: 'sumt',\n",
       " 8830: 'sums',\n",
       " 16389: 'oelmuehle',\n",
       " 16390: 'unveil',\n",
       " 13878: 'gestures',\n",
       " 20937: 'penta',\n",
       " 2547: 'traffic',\n",
       " 2431: 'preference',\n",
       " 20938: 'sumi',\n",
       " 169: 'world',\n",
       " 9403: 'postal',\n",
       " 16391: 'bced',\n",
       " 12131: 'dornbush',\n",
       " 14218: 'confine',\n",
       " 20939: '2555',\n",
       " 5948: \"zambia's\",\n",
       " 20940: 'superiority',\n",
       " 20941: 'militate',\n",
       " 2398: 'satisfactory',\n",
       " 20942: 'superintendent',\n",
       " 5949: 'tvx',\n",
       " 16392: 'tvt',\n",
       " 6701: 'magma',\n",
       " 20943: 'diving',\n",
       " 15551: 'tvb',\n",
       " 13879: 'seaman',\n",
       " 11028: 'matsunaga',\n",
       " 4830: '919',\n",
       " 5301: '918',\n",
       " 17073: 'refundable',\n",
       " 5950: '914',\n",
       " 7263: '917',\n",
       " 6702: '916',\n",
       " 5510: '911',\n",
       " 4831: '910',\n",
       " 10216: 'restoring',\n",
       " 4558: '912',\n",
       " 20945: 'squabble',\n",
       " 7264: 'retains',\n",
       " 20946: \"partner's\",\n",
       " 5303: 'leadership',\n",
       " 11029: 'graaf',\n",
       " 20947: 'spacelab',\n",
       " 1803: 'thailand',\n",
       " 9405: 'graan',\n",
       " 20948: 'exasperating',\n",
       " 12132: 'hartmarx',\n",
       " 16393: 'frights',\n",
       " 20949: 'niall',\n",
       " 11030: 'johnston',\n",
       " 16394: '91p',\n",
       " 16395: 'sensitively',\n",
       " 6019: 'porsche',\n",
       " 15497: 'prepares',\n",
       " 12133: 'lively',\n",
       " 10689: 'stoppages',\n",
       " 16397: \"associated's\",\n",
       " 12134: 'pivot',\n",
       " 1040: 'series',\n",
       " 24053: 'sese',\n",
       " 7607: 'bubble',\n",
       " 16398: 'trusses',\n",
       " 20952: 'interestate',\n",
       " 20953: 'continents',\n",
       " 20954: 'societal',\n",
       " 31: 'with',\n",
       " 6179: 'pull',\n",
       " 6703: 'rush',\n",
       " 6225: 'monopoly',\n",
       " 20956: 'operationally',\n",
       " 20957: 'dirty',\n",
       " 10093: 'abuses',\n",
       " 7265: 'prudhoe',\n",
       " 5952: 'pulp',\n",
       " 16399: 'rust',\n",
       " 20958: 'hellman',\n",
       " 20959: 'amdec',\n",
       " 16400: 'australasian',\n",
       " 13881: 'watches',\n",
       " 20960: 'hypertension',\n",
       " 20961: \"hemdale's\",\n",
       " 16401: 'formulation',\n",
       " 7608: 'watched',\n",
       " 20962: 'jargon',\n",
       " 13882: 'cream',\n",
       " 9407: 'ideally',\n",
       " 11031: 'ryavec',\n",
       " 20963: 'microoganisms',\n",
       " 13883: 'indemnify',\n",
       " 20964: 'wincenty',\n",
       " 20965: 'waving',\n",
       " 20966: \"multifood's\",\n",
       " 20967: 'midges',\n",
       " 11032: 'natalie',\n",
       " 13884: 'crosbie',\n",
       " 20968: 'posible',\n",
       " 13885: 'omnibus',\n",
       " 20969: 'assetsof',\n",
       " 13886: 'tricks',\n",
       " 16402: 'rs',\n",
       " 20970: 'kilogram',\n",
       " 25366: 'pruning',\n",
       " 13887: 'dyer',\n",
       " 20971: 'dyes',\n",
       " 20972: 'legislatures',\n",
       " 16403: 'scm',\n",
       " 9408: 'sci',\n",
       " 20973: 'riedel',\n",
       " 16404: 'ceramic',\n",
       " 6704: 'unitholders',\n",
       " 13888: 'scb',\n",
       " 20974: 'dn11',\n",
       " 20975: 'conditionality',\n",
       " 13810: \"stock's\",\n",
       " 20976: 'masland',\n",
       " 7609: 'causes',\n",
       " 10094: 'riots',\n",
       " 20977: 'norf',\n",
       " 9409: 'nord',\n",
       " 3896: 'midwest',\n",
       " 13889: 'tamils',\n",
       " 16405: 'ofthe',\n",
       " 3424: \"colombia's\",\n",
       " 11033: '24th',\n",
       " 20978: 'sant',\n",
       " 10095: 'moines',\n",
       " 22580: 'electrotechnical',\n",
       " 24537: 'proceeded',\n",
       " 20979: 'sanz',\n",
       " 13890: 'insufficiently',\n",
       " 20980: 'sang',\n",
       " 5953: 'sand',\n",
       " 16407: 'bracho',\n",
       " 808: 'small',\n",
       " 20981: 'workloads',\n",
       " 6705: 'sank',\n",
       " 20982: 'kemper',\n",
       " 16408: 'abbreviated',\n",
       " 13891: 'quicker',\n",
       " 3805: '199',\n",
       " 3246: '198',\n",
       " 2664: '195',\n",
       " 3083: '194',\n",
       " 4313: '197',\n",
       " 3897: '196',\n",
       " 2853: '191',\n",
       " 2202: '190',\n",
       " 3484: '193',\n",
       " 3353: '192',\n",
       " 585: 'past',\n",
       " 20983: 'fractionation',\n",
       " 20984: 'displays',\n",
       " 3084: 'pass',\n",
       " 205: 'investment',\n",
       " 27065: 'quals',\n",
       " 16409: 'quicken',\n",
       " 20986: \"centronic's\",\n",
       " 20987: 'menswear',\n",
       " 16410: 'clock',\n",
       " 20988: 'teape',\n",
       " 20989: 'teapa',\n",
       " 10096: 'prevailed',\n",
       " 9410: 'hebei',\n",
       " ...}"
      ]
     },
     "execution_count": 44,
     "metadata": {},
     "output_type": "execute_result"
    }
   ],
   "source": [
    "index_to_word"
   ]
  },
  {
   "cell_type": "code",
   "execution_count": 47,
   "id": "perfect-norman",
   "metadata": {},
   "outputs": [
    {
     "name": "stdout",
     "output_type": "stream",
     "text": [
      "8982\n"
     ]
    }
   ],
   "source": [
    "# train 데이터 복원 \n",
    "x_train2 = convert2text(x_train2)\n",
    "print(len(x_train2))"
   ]
  },
  {
   "cell_type": "code",
   "execution_count": 48,
   "id": "third-poison",
   "metadata": {},
   "outputs": [
    {
     "name": "stdout",
     "output_type": "stream",
     "text": [
      "2246\n"
     ]
    }
   ],
   "source": [
    "# test 데이터 복원 \n",
    "x_test2 = convert2text(x_test2)\n",
    "print(len(x_test2))"
   ]
  },
  {
   "cell_type": "markdown",
   "id": "sufficient-rebecca",
   "metadata": {},
   "source": [
    "## 2.3 벡터화 하기"
   ]
  },
  {
   "cell_type": "code",
   "execution_count": 49,
   "id": "adequate-steps",
   "metadata": {},
   "outputs": [
    {
     "name": "stdout",
     "output_type": "stream",
     "text": [
      "(8982, 4867)\n",
      "(8982, 4867)\n"
     ]
    }
   ],
   "source": [
    "## train data \n",
    "# DTM 생성 \n",
    "#dtmvector = CountVectorizer()\n",
    "x_train2_dtm = dtmvector.fit_transform(x_train2)\n",
    "print(x_train2_dtm.shape)\n",
    "\n",
    "# TF-IDF 행렬 생성 \n",
    "#tfidf_transformer = TfidfTransformer()\n",
    "tfidfv2 = tfidf_transformer.fit_transform(x_train2_dtm)\n",
    "print(tfidfv2.shape)"
   ]
  },
  {
   "cell_type": "code",
   "execution_count": 50,
   "id": "focal-southeast",
   "metadata": {},
   "outputs": [
    {
     "name": "stdout",
     "output_type": "stream",
     "text": [
      "(2246, 4867)\n",
      "(2246, 4867)\n"
     ]
    }
   ],
   "source": [
    "## test data \n",
    "# DTM으로 변환\n",
    "x_test2_dtm = dtmvector.transform(x_test2) \n",
    "print(x_test2_dtm.shape)\n",
    "\n",
    "# DTM을 TF-IDF 행렬로 변환\n",
    "tfidfv_test2 = tfidf_transformer.transform(x_test2_dtm) \n",
    "print(tfidfv_test2.shape)"
   ]
  },
  {
   "cell_type": "markdown",
   "id": "naked-worst",
   "metadata": {},
   "source": [
    "## 2.4 머신러닝 모델 적용"
   ]
  },
  {
   "cell_type": "markdown",
   "id": "russian-apparatus",
   "metadata": {},
   "source": [
    "### 1) 나이브 베이즈 분류기(Multinomial Naive Bayes Classifier)"
   ]
  },
  {
   "cell_type": "code",
   "execution_count": 51,
   "id": "mathematical-glenn",
   "metadata": {},
   "outputs": [
    {
     "name": "stdout",
     "output_type": "stream",
     "text": [
      "정확도: 0.6731967943009796\n"
     ]
    }
   ],
   "source": [
    "#mnb = MultinomialNB()\n",
    "mnb.fit(tfidfv2, y_train2)\n",
    "predicted = mnb.predict(tfidfv_test2) #테스트 데이터에 대한 예측\n",
    "print(\"정확도:\", accuracy_score(y_test2, predicted)) #예측값과 실제값 비교"
   ]
  },
  {
   "cell_type": "markdown",
   "id": "criminal-tomorrow",
   "metadata": {},
   "source": [
    "### 2) Complement Naive Bayes Classifier(CNB)"
   ]
  },
  {
   "cell_type": "code",
   "execution_count": 52,
   "id": "funny-notebook",
   "metadata": {},
   "outputs": [
    {
     "name": "stdout",
     "output_type": "stream",
     "text": [
      "정확도: 0.7707034728406055\n"
     ]
    }
   ],
   "source": [
    "#cnb = ComplementNB()\n",
    "cnb.fit(tfidfv2, y_train2)\n",
    "predicted = cnb.predict(tfidfv_test2) #테스트 데이터에 대한 예측\n",
    "print(\"정확도:\", accuracy_score(y_test2, predicted)) #예측값과 실제값 비교"
   ]
  },
  {
   "cell_type": "markdown",
   "id": "documentary-effects",
   "metadata": {},
   "source": [
    "### 3) 로지스틱 회귀(Logistic Regression)"
   ]
  },
  {
   "cell_type": "code",
   "execution_count": 53,
   "id": "deadly-pleasure",
   "metadata": {},
   "outputs": [
    {
     "name": "stdout",
     "output_type": "stream",
     "text": [
      "정확도: 0.8058771148708815\n"
     ]
    },
    {
     "name": "stderr",
     "output_type": "stream",
     "text": [
      "/opt/conda/lib/python3.7/site-packages/sklearn/linear_model/_logistic.py:762: ConvergenceWarning: lbfgs failed to converge (status=1):\n",
      "STOP: TOTAL NO. of ITERATIONS REACHED LIMIT.\n",
      "\n",
      "Increase the number of iterations (max_iter) or scale the data as shown in:\n",
      "    https://scikit-learn.org/stable/modules/preprocessing.html\n",
      "Please also refer to the documentation for alternative solver options:\n",
      "    https://scikit-learn.org/stable/modules/linear_model.html#logistic-regression\n",
      "  extra_warning_msg=_LOGISTIC_SOLVER_CONVERGENCE_MSG)\n"
     ]
    }
   ],
   "source": [
    "#lr = LogisticRegression(C=10000, penalty='l2')\n",
    "lr.fit(tfidfv2, y_train2)\n",
    "predicted = lr.predict(tfidfv_test2) #테스트 데이터에 대한 예측\n",
    "print(\"정확도:\", accuracy_score(y_test2, predicted)) #예측값과 실제값 비교"
   ]
  },
  {
   "cell_type": "markdown",
   "id": "arctic-fisher",
   "metadata": {},
   "source": [
    "### 4) 선형 서포트 벡터 머신(Linear Support Vector Machine)"
   ]
  },
  {
   "cell_type": "code",
   "execution_count": 54,
   "id": "ranging-turtle",
   "metadata": {},
   "outputs": [
    {
     "name": "stdout",
     "output_type": "stream",
     "text": [
      "정확도: 0.763579697239537\n"
     ]
    },
    {
     "name": "stderr",
     "output_type": "stream",
     "text": [
      "/opt/conda/lib/python3.7/site-packages/sklearn/svm/_base.py:975: ConvergenceWarning: Liblinear failed to converge, increase the number of iterations.\n",
      "  \"the number of iterations.\", ConvergenceWarning)\n"
     ]
    }
   ],
   "source": [
    "#lsvc = LinearSVC(C=1000, penalty='l1', max_iter=500, dual=False)\n",
    "lsvc.fit(tfidfv2, y_train2)\n",
    "predicted = lsvc.predict(tfidfv_test2) #테스트 데이터에 대한 예측\n",
    "print(\"정확도:\", accuracy_score(y_test2, predicted)) #예측값과 실제값 비교"
   ]
  },
  {
   "cell_type": "markdown",
   "id": "sustained-thanksgiving",
   "metadata": {},
   "source": [
    "### 5) 결정 트리(Decision Tree)"
   ]
  },
  {
   "cell_type": "code",
   "execution_count": 55,
   "id": "similar-breast",
   "metadata": {},
   "outputs": [
    {
     "name": "stdout",
     "output_type": "stream",
     "text": [
      "정확도: 0.6179875333926982\n"
     ]
    }
   ],
   "source": [
    "#dtree = DecisionTreeClassifier(max_depth=10, random_state=0)\n",
    "dtree.fit(tfidfv2, y_train2)\n",
    "predicted = dtree.predict(tfidfv_test2) #테스트 데이터에 대한 예측\n",
    "print(\"정확도:\", accuracy_score(y_test2, predicted)) #예측값과 실제값 비교"
   ]
  },
  {
   "cell_type": "markdown",
   "id": "recovered-miami",
   "metadata": {},
   "source": [
    "### 6) 랜덤 포레스트(Random Forest)\n"
   ]
  },
  {
   "cell_type": "code",
   "execution_count": 56,
   "id": "jewish-chamber",
   "metadata": {},
   "outputs": [
    {
     "name": "stdout",
     "output_type": "stream",
     "text": [
      "정확도: 0.701246660730187\n"
     ]
    }
   ],
   "source": [
    "#rdforest = RandomForestClassifier(n_estimators=5, random_state=0)\n",
    "rdforest.fit(tfidfv2, y_train2)\n",
    "predicted = rdforest.predict(tfidfv_test2) #테스트 데이터에 대한 예측\n",
    "print(\"정확도:\", accuracy_score(y_test2, predicted)) #예측값과 실제값 비교"
   ]
  },
  {
   "cell_type": "markdown",
   "id": "prescribed-video",
   "metadata": {},
   "source": [
    "### 7) 그래디언트 부스팅 트리(GradientBoostingClassifier)"
   ]
  },
  {
   "cell_type": "code",
   "execution_count": null,
   "id": "meaningful-oxygen",
   "metadata": {},
   "outputs": [],
   "source": [
    "#grbt = GradientBoostingClassifier(random_state=0)\n",
    "grbt.fit(tfidfv2, y_train2)\n",
    "predicted = grbt.predict(tfidfv_test2) #테스트 데이터에 대한 예측\n",
    "print(\"정확도:\", accuracy_score(y_test2, predicted)) #예측값과 실제값 비교"
   ]
  },
  {
   "cell_type": "markdown",
   "id": "noted-advice",
   "metadata": {},
   "source": [
    "### 8) 보팅(Voting)"
   ]
  },
  {
   "cell_type": "code",
   "execution_count": null,
   "id": "rental-beijing",
   "metadata": {},
   "outputs": [],
   "source": [
    "#vt_classifier = VotingClassifier(estimators=[\n",
    "#         ('lr', LogisticRegression(C=10000, penalty='l2')),\n",
    "#        ('cb', ComplementNB()),\n",
    "#        ('grbt', GradientBoostingClassifier(random_state=0))\n",
    "#], voting='soft', n_jobs=-1)\n",
    "vt_classifier.fit(tfidfv2, y_train2)\n",
    "predicted = vt_classifier.predict(tfidfv_test2) #테스트 데이터에 대한 예측\n",
    "print(\"정확도:\", accuracy_score(y_test2, predicted)) #예측값과 실제값 비교"
   ]
  }
 ],
 "metadata": {
  "kernelspec": {
   "display_name": "Python 3",
   "language": "python",
   "name": "python3"
  },
  "language_info": {
   "codemirror_mode": {
    "name": "ipython",
    "version": 3
   },
   "file_extension": ".py",
   "mimetype": "text/x-python",
   "name": "python",
   "nbconvert_exporter": "python",
   "pygments_lexer": "ipython3",
   "version": "3.7.9"
  }
 },
 "nbformat": 4,
 "nbformat_minor": 5
}
