{
 "cells": [
  {
   "cell_type": "markdown",
   "id": "thermal-express",
   "metadata": {},
   "source": [
    "프로젝트: Vocabulary Size를 변경해서 뉴스 카테고리 다중분류 시도해보기\n",
    "=== \n",
    "\n",
    "중요도가 낮은 단어들까지 포함해 너무 많은 단어를 사용하는 경우에도 성능이 저하될 수 있고, 반대로 너무 적은 단어들을 사용해도 성능이 저하될 수 있습니다. 이렇게 변화된 단어의 수는 또 어떤 모델을 사용하느냐에 따라 유리할 수도, 불리할 수도 있습니다.\n",
    "    \n",
    "단어의 수에 따라서 모델의 성능이 어떻게 변하는지 테스트해 봅시다.\n",
    "    \n",
    "[ 순서 ]\n",
    "1. 모든 단어 사용\n",
    "2. 빈도수 상위 5,000개의 단어만 사용\n",
    "3. 직접 단어 개수를 설정해서 사용\n",
    "4. 딥러닝 모델과 비교해 보기"
   ]
  },
  {
   "cell_type": "code",
   "execution_count": null,
   "id": "liberal-spine",
   "metadata": {},
   "outputs": [],
   "source": []
  }
 ],
 "metadata": {
  "kernelspec": {
   "display_name": "Python 3",
   "language": "python",
   "name": "python3"
  },
  "language_info": {
   "codemirror_mode": {
    "name": "ipython",
    "version": 3
   },
   "file_extension": ".py",
   "mimetype": "text/x-python",
   "name": "python",
   "nbconvert_exporter": "python",
   "pygments_lexer": "ipython3",
   "version": "3.7.9"
  }
 },
 "nbformat": 4,
 "nbformat_minor": 5
}
