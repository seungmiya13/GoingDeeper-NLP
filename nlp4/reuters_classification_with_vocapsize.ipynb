{
 "cells": [
  {
   "cell_type": "markdown",
   "id": "experienced-question",
   "metadata": {},
   "source": [
    "프로젝트: Vocabulary Size를 변경해서 뉴스 카테고리 다중분류 시도해보기\n",
    "=== \n",
    "\n",
    "뉴스 텍스트의 주제를 분류하는 태스크를 다양한 기법으로 다시 시도해 보고 어떤 방법이 가장 우수한 성능을 보이는지 실험해 본다.\n",
    "     \n",
    "중요도가 낮은 단어들까지 포함해 너무 많은 단어를 사용하는 경우에도 성능이 저하될 수 있고, 반대로 너무 적은 단어들을 사용해도 성능이 저하될 수 있습니다. 이렇게 변화된 단어의 수는 또 어떤 모델을 사용하느냐에 따라 유리할 수도, 불리할 수도 있습니다.\n",
    "     \n",
    "사용할 모델 : 나이브 베이즈 분류기, CNB, 로지스틱 회귀, 서포트 벡터 머신, 결정 트리, 랜덤 포레스트, 그래디언트 부스팅 트리, 보팅\n",
    "    \n",
    "    \n",
    "[ 목차 ]\n",
    "1. 모든 단어 사용\n",
    "2. 빈도수 상위 5,000개의 단어만 사용\n",
    "3. 직접 단어 개수를 설정해서 사용\n",
    "4. 딥러닝 모델과 비교해 보기"
   ]
  },
  {
   "cell_type": "markdown",
   "id": "stock-boulder",
   "metadata": {},
   "source": [
    "# 로이터 뉴스 데이터\n",
    "\n",
    "우리가 사용할 데이터는 로이터 뉴스 데이터입니다. 이 데이터는 총 46개의 클래스로 구성되며, 해당 뉴스가 어느 카테고리에 속하는지를 예측하기 위한 데이터입니다. 텐서플로우 데이터셋에서 제공하고 있는 데이터로 아주 쉽게 다운로드가 가능합니다. \n",
    "- tf.keras.datasets.reuters.load_data(num_words)  \n",
    "    num_words :\t(integer or None)      \n",
    "    Words are ranked by how often they occur and only the num_words most frequent words are kept. Any less frequent word will appear as oov_char value in the sequence data.     \n",
    "    If None, all words are kept. Defaults to None, so all words are kept.    \n",
    "    https://www.tensorflow.org/api_docs/python/tf/keras/datasets/reuters/load_data\n",
    "    \n",
    "num_word를 변경하며 단어의 수에 따라서 모델의 성능이 어떻게 변하는지 테스트해 봅니다."
   ]
  },
  {
   "cell_type": "code",
   "execution_count": 18,
   "id": "portable-wagner",
   "metadata": {},
   "outputs": [],
   "source": [
    "from tensorflow.keras.datasets import reuters\n",
    "import matplotlib.pyplot as plt\n",
    "import seaborn as sns\n",
    "import numpy as np\n",
    "import pandas as pd\n",
    "from sklearn.feature_extraction.text import CountVectorizer\n",
    "from sklearn.feature_extraction.text import TfidfTransformer"
   ]
  },
  {
   "cell_type": "markdown",
   "id": "invisible-cigarette",
   "metadata": {},
   "source": [
    "# 사용할 모델 \n",
    "\n",
    "다음의 여러 머신러닝 알고리즘을 사용해서 텍스트를 분류해 봅니다. \n",
    "\n",
    "- 나이브 베이즈 분류기 (Multinomial Naive Bayes Classifier)    \n",
    "    https://scikit-learn.org/stable/modules/generated/sklearn.naive_bayes.MultinomialNB.html\n",
    "- CNB (Complement Naive Bayes Classifier)    \n",
    "    https://scikit-learn.org/stable/modules/generated/sklearn.naive_bayes.ComplementNB.html\n",
    "- 로지스틱 회귀 (Logistic Regression)    \n",
    "    https://scikit-learn.org/stable/modules/generated/sklearn.linear_model.LogisticRegression.html\n",
    "- 서포트 벡터 머신 (Linear Support Vector Machine)    \n",
    "    https://scikit-learn.org/stable/modules/generated/sklearn.svm.LinearSVC.html\n",
    "- 결정 트리 (Decision Tree)    \n",
    "    https://scikit-learn.org/stable/modules/generated/sklearn.tree.DecisionTreeClassifier.html\n",
    "- 랜덤 포레스트 (Random Forest)    \n",
    "    https://scikit-learn.org/stable/modules/generated/sklearn.ensemble.RandomForestClassifier.html\n",
    "- 그래디언트 부스팅 트리 (GradientBoostingClassifier)    \n",
    "    https://scikit-learn.org/stable/modules/generated/sklearn.ensemble.GradientBoostingClassifier.html\n",
    "- 보팅 (Voting)    \n",
    "    https://scikit-learn.org/stable/modules/generated/sklearn.ensemble.VotingClassifier.html"
   ]
  },
  {
   "cell_type": "code",
   "execution_count": 2,
   "id": "painful-netscape",
   "metadata": {},
   "outputs": [],
   "source": [
    "from sklearn.naive_bayes import MultinomialNB #다항분포 나이브 베이즈 모델\n",
    "from sklearn.naive_bayes import ComplementNB\n",
    "from sklearn.linear_model import LogisticRegression, SGDClassifier\n",
    "from sklearn.svm import LinearSVC\n",
    "from sklearn.tree import DecisionTreeClassifier\n",
    "from sklearn.ensemble import RandomForestClassifier\n",
    "from sklearn.ensemble import GradientBoostingClassifier\n",
    "from sklearn.ensemble import VotingClassifier\n",
    "from sklearn.metrics import accuracy_score #정확도 계산"
   ]
  },
  {
   "cell_type": "markdown",
   "id": "driven-fruit",
   "metadata": {},
   "source": [
    "# 1. 모든 단어 사용\n",
    "\n",
    "(x_train, y_train), (x_test, y_test) = reuters.load_data(**num_words=None**, test_split=0.2)"
   ]
  },
  {
   "cell_type": "markdown",
   "id": "moving-saying",
   "metadata": {},
   "source": [
    "## 1.1 데이터 로드하기\n",
    "\n",
    "텐서플로우 데이터셋으로부터 로이터 뉴스 데이터를 받아옵니다."
   ]
  },
  {
   "cell_type": "code",
   "execution_count": 3,
   "id": "developing-george",
   "metadata": {},
   "outputs": [
    {
     "name": "stdout",
     "output_type": "stream",
     "text": [
      "Downloading data from https://storage.googleapis.com/tensorflow/tf-keras-datasets/reuters.npz\n",
      "2113536/2110848 [==============================] - 0s 0us/step\n"
     ]
    },
    {
     "name": "stderr",
     "output_type": "stream",
     "text": [
      "/opt/conda/lib/python3.7/site-packages/tensorflow/python/keras/datasets/reuters.py:148: VisibleDeprecationWarning: Creating an ndarray from ragged nested sequences (which is a list-or-tuple of lists-or-tuples-or ndarrays with different lengths or shapes) is deprecated. If you meant to do this, you must specify 'dtype=object' when creating the ndarray\n",
      "  x_train, y_train = np.array(xs[:idx]), np.array(labels[:idx])\n",
      "/opt/conda/lib/python3.7/site-packages/tensorflow/python/keras/datasets/reuters.py:149: VisibleDeprecationWarning: Creating an ndarray from ragged nested sequences (which is a list-or-tuple of lists-or-tuples-or ndarrays with different lengths or shapes) is deprecated. If you meant to do this, you must specify 'dtype=object' when creating the ndarray\n",
      "  x_test, y_test = np.array(xs[idx:]), np.array(labels[idx:])\n"
     ]
    }
   ],
   "source": [
    "(x_train, y_train), (x_test, y_test) = reuters.load_data(num_words=None, test_split=0.2)"
   ]
  },
  {
   "cell_type": "code",
   "execution_count": 4,
   "id": "exterior-opinion",
   "metadata": {},
   "outputs": [
    {
     "name": "stdout",
     "output_type": "stream",
     "text": [
      "훈련 샘플의 수: 8982\n",
      "테스트 샘플의 수: 2246\n"
     ]
    }
   ],
   "source": [
    "# 데이터 구성 확인 \n",
    "print('훈련 샘플의 수: {}'.format(len(x_train)))\n",
    "print('테스트 샘플의 수: {}'.format(len(x_test)))"
   ]
  },
  {
   "cell_type": "markdown",
   "id": "handled-twist",
   "metadata": {},
   "source": [
    "- 훈련용 뉴스는 8,982개. 그리고 테스트용 뉴스는 2,246개가 있습니다. 8:2의 비율을 가집니다.\n",
    "    \n",
    "첫 번째 훈련용 뉴스와 첫 번째 테스트용 뉴스를 출력해 봅니다."
   ]
  },
  {
   "cell_type": "code",
   "execution_count": 5,
   "id": "precious-conclusion",
   "metadata": {},
   "outputs": [
    {
     "name": "stdout",
     "output_type": "stream",
     "text": [
      "[1, 27595, 28842, 8, 43, 10, 447, 5, 25, 207, 270, 5, 3095, 111, 16, 369, 186, 90, 67, 7, 89, 5, 19, 102, 6, 19, 124, 15, 90, 67, 84, 22, 482, 26, 7, 48, 4, 49, 8, 864, 39, 209, 154, 6, 151, 6, 83, 11, 15, 22, 155, 11, 15, 7, 48, 9, 4579, 1005, 504, 6, 258, 6, 272, 11, 15, 22, 134, 44, 11, 15, 16, 8, 197, 1245, 90, 67, 52, 29, 209, 30, 32, 132, 6, 109, 15, 17, 12]\n",
      "[1, 4, 1378, 2025, 9, 697, 4622, 111, 8, 25, 109, 29, 3650, 11, 150, 244, 364, 33, 30, 30, 1398, 333, 6, 18292, 159, 9, 1084, 363, 13, 19231, 71, 9, 16273, 71, 117, 4, 225, 78, 206, 10, 9, 1214, 8, 4, 270, 5, 16273, 7, 748, 48, 9, 19231, 7, 207, 1451, 966, 1864, 793, 97, 133, 336, 7, 4, 493, 98, 273, 104, 284, 25, 39, 338, 22, 905, 220, 3465, 644, 59, 20, 6, 119, 61, 11, 15, 58, 579, 26, 10, 67, 7, 4, 738, 98, 43, 88, 333, 722, 12, 20, 6, 19, 746, 35, 15, 10, 9, 1214, 855, 129, 783, 21, 4, 2280, 244, 364, 51, 16, 299, 452, 16, 515, 4, 99, 29, 5, 4, 364, 281, 48, 10, 9, 1214, 23, 644, 47, 20, 324, 27, 56, 23406, 28185, 5, 192, 510, 17, 12]\n"
     ]
    }
   ],
   "source": [
    "print(x_train[0])\n",
    "print(x_test[0])"
   ]
  },
  {
   "cell_type": "code",
   "execution_count": 6,
   "id": "welcome-status",
   "metadata": {},
   "outputs": [
    {
     "name": "stdout",
     "output_type": "stream",
     "text": [
      "3\n",
      "3\n"
     ]
    }
   ],
   "source": [
    "# 레이블 출력\n",
    "print(y_train[0])\n",
    "print(y_test[0])"
   ]
  },
  {
   "cell_type": "code",
   "execution_count": 7,
   "id": "rural-richardson",
   "metadata": {},
   "outputs": [
    {
     "name": "stdout",
     "output_type": "stream",
     "text": [
      "클래스의 수 : 46\n"
     ]
    }
   ],
   "source": [
    "# 클래스수 확인   \n",
    "num_classes = max(y_train) + 1\n",
    "print('클래스의 수 : {}'.format(num_classes))"
   ]
  },
  {
   "cell_type": "code",
   "execution_count": 8,
   "id": "democratic-miami",
   "metadata": {},
   "outputs": [
    {
     "name": "stdout",
     "output_type": "stream",
     "text": [
      "훈련용 뉴스의 최대 길이 :2376\n",
      "훈련용 뉴스의 평균 길이 :145.5398574927633\n"
     ]
    },
    {
     "data": {
      "image/png": "[encoded data removed]",
      "text/plain": [
       "<Figure size 432x288 with 1 Axes>"
      ]
     },
     "metadata": {
      "needs_background": "light"
     },
     "output_type": "display_data"
    }
   ],
   "source": [
    "# 데이터 분포 확인\n",
    "print('훈련용 뉴스의 최대 길이 :{}'.format(max(len(l) for l in x_train)))\n",
    "print('훈련용 뉴스의 평균 길이 :{}'.format(sum(map(len, x_train))/len(x_train)))\n",
    "\n",
    "plt.hist([len(s) for s in x_train], bins=50)\n",
    "plt.xlabel('length of samples')\n",
    "plt.ylabel('number of samples')\n",
    "plt.show()"
   ]
  },
  {
   "cell_type": "code",
   "execution_count": 9,
   "id": "hispanic-technique",
   "metadata": {},
   "outputs": [
    {
     "data": {
      "image/png": "[encoded data removed]",
      "text/plain": [
       "<Figure size 792x360 with 1 Axes>"
      ]
     },
     "metadata": {
      "needs_background": "light"
     },
     "output_type": "display_data"
    }
   ],
   "source": [
    "# 클래스 분포 확인 - 그래프\n",
    "fig, axe = plt.subplots(ncols=1)\n",
    "fig.set_size_inches(11,5)\n",
    "sns.countplot(x=y_train)\n",
    "plt.show()"
   ]
  },
  {
   "cell_type": "code",
   "execution_count": 10,
   "id": "virtual-condition",
   "metadata": {},
   "outputs": [
    {
     "name": "stdout",
     "output_type": "stream",
     "text": [
      "각 클래스 빈도수:\n",
      "[[   0    1    2    3    4    5    6    7    8    9   10   11   12   13\n",
      "    14   15   16   17   18   19   20   21   22   23   24   25   26   27\n",
      "    28   29   30   31   32   33   34   35   36   37   38   39   40   41\n",
      "    42   43   44   45]\n",
      " [  55  432   74 3159 1949   17   48   16  139  101  124  390   49  172\n",
      "    26   20  444   39   66  549  269  100   15   41   62   92   24   15\n",
      "    48   19   45   39   32   11   50   10   49   19   19   24   36   30\n",
      "    13   21   12   18]]\n"
     ]
    }
   ],
   "source": [
    "# 클래스 분포 확인 - 수치\n",
    "unique_elements, counts_elements = np.unique(y_train, return_counts=True)\n",
    "print(\"각 클래스 빈도수:\")\n",
    "print(np.asarray((unique_elements, counts_elements)))"
   ]
  },
  {
   "cell_type": "markdown",
   "id": "increased-trader",
   "metadata": {},
   "source": [
    "## 1.2 데이터 복원하기\n",
    "\n",
    "정수 시퀀스로 변환된 데이터를 원본 뉴스 데이터인 텍스트로 돌려봅니다."
   ]
  },
  {
   "cell_type": "code",
   "execution_count": 11,
   "id": "focal-source",
   "metadata": {},
   "outputs": [
    {
     "name": "stdout",
     "output_type": "stream",
     "text": [
      "Downloading data from https://storage.googleapis.com/tensorflow/tf-keras-datasets/reuters_word_index.json\n",
      "557056/550378 [==============================] - 0s 0us/step\n"
     ]
    }
   ],
   "source": [
    "word_index = reuters.get_word_index(path=\"reuters_word_index.json\")"
   ]
  },
  {
   "cell_type": "markdown",
   "id": "canadian-trader",
   "metadata": {},
   "source": [
    "- 로이터 뉴스 데이터는 '단어'를 key값으로, 고유한 '정수'를 value로 가지는 dictionary를 제공합니다. reuters.get_word_index()에서 얻는 숫자보다 +3을 해야 실제 맵핑되는 정수입니다. 이건 로이터 뉴스 데이터가 정의한 일종의 약속입니다.\n",
    "- tf.keras.datasets.reuters.get_word_index() : Retrieves a dict mapping words to their index in the Reuters dataset    \n",
    "    https://www.tensorflow.org/api_docs/python/tf/keras/datasets/reuters/get_word_index\n",
    "  "
   ]
  },
  {
   "cell_type": "code",
   "execution_count": 12,
   "id": "bright-packaging",
   "metadata": {},
   "outputs": [],
   "source": [
    "index_to_word = { index+3 : word for word, index in word_index.items() }\n",
    "\n",
    "# index_to_word에 숫자 0은 <pad>, 숫자 1은 <sos>, 숫자 2는 <unk>를 넣어줍니다.\n",
    "for index, token in enumerate((\"<pad>\", \"<sos>\", \"<unk>\")):\n",
    "    index_to_word[index]=token"
   ]
  },
  {
   "cell_type": "code",
   "execution_count": 13,
   "id": "studied-gentleman",
   "metadata": {},
   "outputs": [
    {
     "name": "stdout",
     "output_type": "stream",
     "text": [
      "<sos> mcgrath rentcorp said as a result of its december acquisition of space co it expects earnings per share in 1987 of 1 15 to 1 30 dlrs per share up from 70 cts in 1986 the company said pretax net should rise to nine to 10 mln dlrs from six mln dlrs in 1986 and rental operation revenues to 19 to 22 mln dlrs from 12 5 mln dlrs it said cash flow per share this year should be 2 50 to three dlrs reuter 3\n"
     ]
    }
   ],
   "source": [
    "# 첫 번째 훈련용 뉴스 기사를 원래 텍스트로 복원\n",
    "print(' '.join([index_to_word[index] for index in x_train[0]]))"
   ]
  },
  {
   "cell_type": "markdown",
   "id": "smart-spoke",
   "metadata": {},
   "source": [
    "- 잘 복원된 것을 확인할 수 있습니다.\n",
    "\n",
    "이제 전체 훈련용 뉴스 데이터와 전체 테스트용 뉴스 데이터를 텍스트 데이터로 변환해 봅니다."
   ]
  },
  {
   "cell_type": "code",
   "execution_count": 46,
   "id": "imposed-graduate",
   "metadata": {},
   "outputs": [],
   "source": [
    "# 데이터 복원 \n",
    "def convert2text(data):\n",
    "    decoded = []\n",
    "    for i in range(len(data)):\n",
    "        t = ' '.join([index_to_word[index] for index in data[i]])\n",
    "        decoded.append(t)\n",
    "\n",
    "    return decoded"
   ]
  },
  {
   "cell_type": "code",
   "execution_count": 14,
   "id": "communist-pharmaceutical",
   "metadata": {},
   "outputs": [
    {
     "name": "stdout",
     "output_type": "stream",
     "text": [
      "8982\n"
     ]
    }
   ],
   "source": [
    "# train 데이터 복원 \n",
    "x_train = convert2text(x_train)\n",
    "print(len(x_train))"
   ]
  },
  {
   "cell_type": "code",
   "execution_count": 15,
   "id": "polar-queensland",
   "metadata": {},
   "outputs": [
    {
     "name": "stdout",
     "output_type": "stream",
     "text": [
      "2246\n"
     ]
    }
   ],
   "source": [
    "# test 데이터 복원 \n",
    "x_test = convert2text(x_test)\n",
    "print(len(x_test))"
   ]
  },
  {
   "cell_type": "code",
   "execution_count": 16,
   "id": "polished-cradle",
   "metadata": {},
   "outputs": [
    {
     "data": {
      "text/plain": [
       "['<sos> mcgrath rentcorp said as a result of its december acquisition of space co it expects earnings per share in 1987 of 1 15 to 1 30 dlrs per share up from 70 cts in 1986 the company said pretax net should rise to nine to 10 mln dlrs from six mln dlrs in 1986 and rental operation revenues to 19 to 22 mln dlrs from 12 5 mln dlrs it said cash flow per share this year should be 2 50 to three dlrs reuter 3',\n",
       " \"<sos> generale de banque sa lt genb br and lt heller overseas corp of chicago have each taken 50 pct stakes in factoring company sa belgo factors generale de banque said in a statement it gave no financial details of the transaction sa belgo factors' turnover in 1986 was 17 5 billion belgian francs reuter 3\"]"
      ]
     },
     "execution_count": 16,
     "metadata": {},
     "output_type": "execute_result"
    }
   ],
   "source": [
    "x_train[:2]"
   ]
  },
  {
   "cell_type": "code",
   "execution_count": 17,
   "id": "elegant-pointer",
   "metadata": {},
   "outputs": [
    {
     "data": {
      "text/plain": [
       "['<sos> the great atlantic and pacific tea co said its three year 345 mln dlr capital program will be be substantially increased to accommodate growth and expansion plans for waldbaum inc and shopwell inc over the next two years a and p said the acquisition of shopwell in august 1986 and waldbaum in december helped us achieve better than expected results in the fourth quarter ended february 28 its net income from continuing operations jumped 52 6 pct to 20 7 mln dlrs or 55 cts a share in the latest quarter as sales increased 48 3 pct to 1 58 billion dlrs a and p gave no details on the expanded capital program but it did say it completed the first year of the program during 1986 a and p is 52 4 pct owned by lt tengelmann warenhandelsgesellschaft of west germany reuter 3',\n",
       " \"<sos> philippine sugar production in the 1987 88 crop year ending august has been set at 1 6 mln tonnes up from a provisional 1 3 mln tonnes this year sugar regulatory administration sra chairman arsenio yulo said yulo told reuters a survey during the current milling season which ends next month showed the 1986 87 estimate would almost certainly be met he said at least 1 2 mln tonnes of the 1987 88 crop would be earmarked for domestic consumption yulo said about 130 000 tonnes would be set aside for the u s sugar quota 150 000 tonnes for strategic reserves and 50 000 tonnes would be sold on the world market he said if the government approved a long standing sra recommendation to manufacture ethanol the project would take up another 150 000 tonnes slightly raising the target the government for its own reasons has been delaying approval of the project but we expect it to come through by july yulo said ethanol could make up five pct of gasoline cutting the oil import bill by about 300 mln pesos yulo said three major philippine distilleries were ready to start manufacturing ethanol if the project was approved the ethanol project would result in employment for about 100 000 people sharply reducing those thrown out of work by depressed world sugar prices and a moribund domestic industry production quotas set for the first time in 1987 88 had been submitted to president corazon aquino i think the president would rather wait till the new congress convenes after the may elections he said but there is really no need for such quotas we are right now producing just slightly over our own consumption level the producers have never enjoyed such high prices yulo said adding sugar was currently selling locally for 320 pesos per picul up from 190 pesos last august yulo said prices were driven up because of speculation following the sra's bid to control production we are no longer concerned so much with the world market he said adding producers in the negros region had learned from their mistakes and diversified into corn and prawn farming and cloth production he said diversification into products other than ethanol was also possible within the sugar industry the brazilians long ago learnt their lessons yulo said they have 300 sugar mills compared with our 41 but they relocated many of them and diversified production we want to call this a 'sugarcane industry' instead of the sugar industry he said sugarcane could be fed to pigs and livestock used for thatching roofs or used in room panelling when you cut sugarcane you don't even have to produce sugar he said yulo said the philippines was lobbying for a renewal of the international sugar agreement which expired in 1984 as a major sugar producer we are urging them to write a new agreement which would revive world prices yulo said if there is no agreement world prices will always be depressed particularly because the european community is subsidising its producers and dumping sugar on the markets he said current world prices holding steady at about 7 60 cents per pound were uneconomical for the philippines where production costs ranged from 12 to 14 cents a pound if the price holds steady for a while at 7 60 cents i expect the level to rise to about 11 cents a pound by the end of this year he said yulo said economists forecast a bullish sugar market by 1990 with world consumption outstripping production he said sugar markets were holding up despite encroachments from artificial sweeteners and high fructose corn syrup but we are not happy with the reagan administration he said since 1935 we have been regular suppliers of sugar to the u s in 1982 when they restored the quota system they cut ours in half without any justification manila was keenly watching washington's moves to cut domestic support prices to 12 cents a pound from 18 cents the u s agriculture department last december slashed its 12 month 1987 sugar import quota from the philippines to 143 780 short tons from 231 660 short tons in 1986 yulo said despite next year's increased production target some philippine mills were expected to shut down at least four of the 41 mills were not working during the 1986 87 season he said we expect two or three more to follow suit during the next season reuter 3\"]"
      ]
     },
     "execution_count": 17,
     "metadata": {},
     "output_type": "execute_result"
    }
   ],
   "source": [
    "x_test[:2]"
   ]
  },
  {
   "cell_type": "markdown",
   "id": "living-bermuda",
   "metadata": {},
   "source": [
    "- 제대로 변환이 되었는지 확인할 수 있습니다. "
   ]
  },
  {
   "cell_type": "markdown",
   "id": "waiting-integral",
   "metadata": {},
   "source": [
    "## 1.3 벡터화 하기\n",
    "\n",
    "텍스트 데이터가 있을 때, 모델의 입력으로 넣기 위해서는 우선 각 문서를 벡터화할 필요가 있습니다. 벡터화 방법은 Bag of Words 가설을 기반으로 하는 DTM, TF-IDF 행렬을 사용합니다. \n",
    "- DTM은 사이킷런의 CountVectorizer()를 통해서 생성할 수 있습니다.\n",
    "- TF-IDF Matrix는 사이킷런의 TfidfTransformer()를 통해서 생성할 수 있습니다. "
   ]
  },
  {
   "cell_type": "code",
   "execution_count": 19,
   "id": "widespread-afghanistan",
   "metadata": {},
   "outputs": [
    {
     "name": "stdout",
     "output_type": "stream",
     "text": [
      "(8982, 26506)\n"
     ]
    }
   ],
   "source": [
    "# DTM 생성 \n",
    "dtmvector = CountVectorizer()\n",
    "x_train_dtm = dtmvector.fit_transform(x_train)\n",
    "print(x_train_dtm.shape)"
   ]
  },
  {
   "cell_type": "code",
   "execution_count": 20,
   "id": "ignored-institute",
   "metadata": {},
   "outputs": [
    {
     "name": "stdout",
     "output_type": "stream",
     "text": [
      "(8982, 26506)\n"
     ]
    }
   ],
   "source": [
    "# TF-IDF 행렬 생성 \n",
    "tfidf_transformer = TfidfTransformer()\n",
    "tfidfv = tfidf_transformer.fit_transform(x_train_dtm)\n",
    "print(tfidfv.shape)"
   ]
  },
  {
   "cell_type": "markdown",
   "id": "theoretical-listening",
   "metadata": {},
   "source": [
    "테스트 데이터에 대한 정확도를 측정하기 위해서는 테스트 데이터도 훈련 데이터와 동일한 전처리를 거쳐야 합니다. "
   ]
  },
  {
   "cell_type": "code",
   "execution_count": 22,
   "id": "protecting-commons",
   "metadata": {},
   "outputs": [
    {
     "name": "stdout",
     "output_type": "stream",
     "text": [
      "(2246, 26506)\n",
      "(2246, 26506)\n"
     ]
    }
   ],
   "source": [
    "x_test_dtm = dtmvector.transform(x_test) #테스트 데이터를 DTM으로 변환\n",
    "print(x_test_dtm.shape)\n",
    "tfidfv_test = tfidf_transformer.transform(x_test_dtm) #DTM을 TF-IDF 행렬로 변환\n",
    "print(tfidfv_test.shape)"
   ]
  },
  {
   "cell_type": "markdown",
   "id": "rural-analyst",
   "metadata": {},
   "source": [
    "## 1.4 머신러닝 모델 적용 "
   ]
  },
  {
   "cell_type": "markdown",
   "id": "found-ministry",
   "metadata": {},
   "source": [
    "### 1) 나이브 베이즈 분류기(Multinomial Naive Bayes Classifier)\n",
    "\n",
    "나이브 베이즈 분류기는 사이킷런의 MultinomialNB()를 통해 사용할 수 있습니다."
   ]
  },
  {
   "cell_type": "code",
   "execution_count": 25,
   "id": "developed-africa",
   "metadata": {},
   "outputs": [
    {
     "data": {
      "text/plain": [
       "MultinomialNB()"
      ]
     },
     "execution_count": 25,
     "metadata": {},
     "output_type": "execute_result"
    }
   ],
   "source": [
    "mnb = MultinomialNB()\n",
    "mnb.fit(tfidfv, y_train)"
   ]
  },
  {
   "cell_type": "code",
   "execution_count": 26,
   "id": "fossil-contrary",
   "metadata": {},
   "outputs": [
    {
     "name": "stdout",
     "output_type": "stream",
     "text": [
      "정확도: 0.5997328584149599\n"
     ]
    }
   ],
   "source": [
    "predicted = mnb.predict(tfidfv_test) #테스트 데이터에 대한 예측\n",
    "print(\"정확도:\", accuracy_score(y_test, predicted)) #예측값과 실제값 비교"
   ]
  },
  {
   "cell_type": "markdown",
   "id": "speaking-abortion",
   "metadata": {},
   "source": [
    "### 2) Complement Naive Bayes Classifier(CNB)"
   ]
  },
  {
   "cell_type": "code",
   "execution_count": 27,
   "id": "dimensional-lawsuit",
   "metadata": {},
   "outputs": [
    {
     "data": {
      "text/plain": [
       "ComplementNB()"
      ]
     },
     "execution_count": 27,
     "metadata": {},
     "output_type": "execute_result"
    }
   ],
   "source": [
    "cnb = ComplementNB()\n",
    "cnb.fit(tfidfv, y_train)"
   ]
  },
  {
   "cell_type": "code",
   "execution_count": 28,
   "id": "radio-september",
   "metadata": {},
   "outputs": [
    {
     "name": "stdout",
     "output_type": "stream",
     "text": [
      "정확도: 0.7649154051647373\n"
     ]
    }
   ],
   "source": [
    "predicted = cnb.predict(tfidfv_test) #테스트 데이터에 대한 예측\n",
    "print(\"정확도:\", accuracy_score(y_test, predicted)) #예측값과 실제값 비교"
   ]
  },
  {
   "cell_type": "markdown",
   "id": "amazing-enzyme",
   "metadata": {},
   "source": [
    "### 3) 로지스틱 회귀(Logistic Regression)"
   ]
  },
  {
   "cell_type": "code",
   "execution_count": 29,
   "id": "greater-wyoming",
   "metadata": {},
   "outputs": [
    {
     "name": "stderr",
     "output_type": "stream",
     "text": [
      "/opt/conda/lib/python3.7/site-packages/sklearn/linear_model/_logistic.py:762: ConvergenceWarning: lbfgs failed to converge (status=1):\n",
      "STOP: TOTAL NO. of ITERATIONS REACHED LIMIT.\n",
      "\n",
      "Increase the number of iterations (max_iter) or scale the data as shown in:\n",
      "    https://scikit-learn.org/stable/modules/preprocessing.html\n",
      "Please also refer to the documentation for alternative solver options:\n",
      "    https://scikit-learn.org/stable/modules/linear_model.html#logistic-regression\n",
      "  extra_warning_msg=_LOGISTIC_SOLVER_CONVERGENCE_MSG)\n"
     ]
    },
    {
     "data": {
      "text/plain": [
       "LogisticRegression(C=10000)"
      ]
     },
     "execution_count": 29,
     "metadata": {},
     "output_type": "execute_result"
    }
   ],
   "source": [
    "lr = LogisticRegression(C=10000, penalty='l2')\n",
    "lr.fit(tfidfv, y_train)"
   ]
  },
  {
   "cell_type": "code",
   "execution_count": 30,
   "id": "universal-champagne",
   "metadata": {},
   "outputs": [
    {
     "name": "stdout",
     "output_type": "stream",
     "text": [
      "정확도: 0.813446126447017\n"
     ]
    }
   ],
   "source": [
    "predicted = lr.predict(tfidfv_test) #테스트 데이터에 대한 예측\n",
    "print(\"정확도:\", accuracy_score(y_test, predicted)) #예측값과 실제값 비교"
   ]
  },
  {
   "cell_type": "markdown",
   "id": "anticipated-shuttle",
   "metadata": {},
   "source": [
    "### 4) 선형 서포트 벡터 머신(Linear Support Vector Machine)"
   ]
  },
  {
   "cell_type": "code",
   "execution_count": 31,
   "id": "boring-meter",
   "metadata": {},
   "outputs": [
    {
     "name": "stderr",
     "output_type": "stream",
     "text": [
      "/opt/conda/lib/python3.7/site-packages/sklearn/svm/_base.py:975: ConvergenceWarning: Liblinear failed to converge, increase the number of iterations.\n",
      "  \"the number of iterations.\", ConvergenceWarning)\n"
     ]
    },
    {
     "data": {
      "text/plain": [
       "LinearSVC(C=1000, dual=False, max_iter=500, penalty='l1')"
      ]
     },
     "execution_count": 31,
     "metadata": {},
     "output_type": "execute_result"
    }
   ],
   "source": [
    "lsvc = LinearSVC(C=1000, penalty='l1', max_iter=500, dual=False)\n",
    "lsvc.fit(tfidfv, y_train)"
   ]
  },
  {
   "cell_type": "code",
   "execution_count": 32,
   "id": "otherwise-eugene",
   "metadata": {},
   "outputs": [
    {
     "name": "stdout",
     "output_type": "stream",
     "text": [
      "정확도: 0.7867319679430098\n"
     ]
    }
   ],
   "source": [
    "predicted = lsvc.predict(tfidfv_test) #테스트 데이터에 대한 예측\n",
    "print(\"정확도:\", accuracy_score(y_test, predicted)) #예측값과 실제값 비교"
   ]
  },
  {
   "cell_type": "markdown",
   "id": "fewer-effort",
   "metadata": {},
   "source": [
    "### 5) 결정 트리(Decision Tree)"
   ]
  },
  {
   "cell_type": "code",
   "execution_count": 33,
   "id": "scheduled-services",
   "metadata": {},
   "outputs": [
    {
     "data": {
      "text/plain": [
       "DecisionTreeClassifier(max_depth=10, random_state=0)"
      ]
     },
     "execution_count": 33,
     "metadata": {},
     "output_type": "execute_result"
    }
   ],
   "source": [
    "dtree = DecisionTreeClassifier(max_depth=10, random_state=0)\n",
    "dtree.fit(tfidfv, y_train)"
   ]
  },
  {
   "cell_type": "code",
   "execution_count": 34,
   "id": "visible-interaction",
   "metadata": {},
   "outputs": [
    {
     "name": "stdout",
     "output_type": "stream",
     "text": [
      "정확도: 0.6211041852181657\n"
     ]
    }
   ],
   "source": [
    "predicted = dtree.predict(tfidfv_test) #테스트 데이터에 대한 예측\n",
    "print(\"정확도:\", accuracy_score(y_test, predicted)) #예측값과 실제값 비교"
   ]
  },
  {
   "cell_type": "markdown",
   "id": "raised-fiction",
   "metadata": {},
   "source": [
    "### 6) 랜덤 포레스트(Random Forest)"
   ]
  },
  {
   "cell_type": "code",
   "execution_count": 35,
   "id": "adaptive-biodiversity",
   "metadata": {},
   "outputs": [
    {
     "data": {
      "text/plain": [
       "RandomForestClassifier(n_estimators=5, random_state=0)"
      ]
     },
     "execution_count": 35,
     "metadata": {},
     "output_type": "execute_result"
    }
   ],
   "source": [
    "rdforest = RandomForestClassifier(n_estimators=5, random_state=0)\n",
    "rdforest.fit(tfidfv, y_train)"
   ]
  },
  {
   "cell_type": "code",
   "execution_count": 36,
   "id": "capable-pension",
   "metadata": {},
   "outputs": [
    {
     "name": "stdout",
     "output_type": "stream",
     "text": [
      "정확도: 0.6544968833481746\n"
     ]
    }
   ],
   "source": [
    "predicted = rdforest.predict(tfidfv_test) #테스트 데이터에 대한 예측\n",
    "print(\"정확도:\", accuracy_score(y_test, predicted)) #예측값과 실제값 비교"
   ]
  },
  {
   "cell_type": "markdown",
   "id": "passive-royal",
   "metadata": {},
   "source": [
    "### 7) 그래디언트 부스팅 트리(GradientBoostingClassifier)"
   ]
  },
  {
   "cell_type": "code",
   "execution_count": 38,
   "id": "numerical-environment",
   "metadata": {},
   "outputs": [
    {
     "data": {
      "text/plain": [
       "GradientBoostingClassifier(random_state=0)"
      ]
     },
     "execution_count": 38,
     "metadata": {},
     "output_type": "execute_result"
    }
   ],
   "source": [
    "grbt = GradientBoostingClassifier(random_state=0)\n",
    "grbt.fit(tfidfv, y_train)"
   ]
  },
  {
   "cell_type": "code",
   "execution_count": 39,
   "id": "independent-morocco",
   "metadata": {},
   "outputs": [
    {
     "name": "stdout",
     "output_type": "stream",
     "text": [
      "정확도: 0.7702582368655387\n"
     ]
    }
   ],
   "source": [
    "predicted = grbt.predict(tfidfv_test) #테스트 데이터에 대한 예측\n",
    "print(\"정확도:\", accuracy_score(y_test, predicted)) #예측값과 실제값 비교"
   ]
  },
  {
   "cell_type": "markdown",
   "id": "consolidated-render",
   "metadata": {},
   "source": [
    "### 8) 보팅(Voting)"
   ]
  },
  {
   "cell_type": "code",
   "execution_count": 40,
   "id": "forced-passage",
   "metadata": {},
   "outputs": [
    {
     "data": {
      "text/plain": [
       "VotingClassifier(estimators=[('lr', LogisticRegression(C=10000)),\n",
       "                             ('cb', ComplementNB()),\n",
       "                             ('grbt',\n",
       "                              GradientBoostingClassifier(random_state=0))],\n",
       "                 n_jobs=-1, voting='soft')"
      ]
     },
     "execution_count": 40,
     "metadata": {},
     "output_type": "execute_result"
    }
   ],
   "source": [
    "vt_classifier = VotingClassifier(estimators=[\n",
    "         ('lr', LogisticRegression(C=10000, penalty='l2')),\n",
    "        ('cb', ComplementNB()),\n",
    "        ('grbt', GradientBoostingClassifier(random_state=0))\n",
    "], voting='soft', n_jobs=-1)\n",
    "vt_classifier.fit(tfidfv, y_train)"
   ]
  },
  {
   "cell_type": "code",
   "execution_count": 41,
   "id": "frozen-lebanon",
   "metadata": {},
   "outputs": [
    {
     "name": "stdout",
     "output_type": "stream",
     "text": [
      "정확도: 0.8187889581478184\n"
     ]
    }
   ],
   "source": [
    "predicted = vt_classifier.predict(tfidfv_test) #테스트 데이터에 대한 예측\n",
    "print(\"정확도:\", accuracy_score(y_test, predicted)) #예측값과 실제값 비교"
   ]
  },
  {
   "cell_type": "markdown",
   "id": "aquatic-figure",
   "metadata": {},
   "source": [
    "# 2. 빈도수 상위 5,000개의 단어만 사용\n",
    "\n",
    "(x_train, y_train), (x_test, y_test) = reuters.load_data(**num_words=5000**, test_split=0.2)"
   ]
  },
  {
   "cell_type": "markdown",
   "id": "fallen-marketing",
   "metadata": {},
   "source": [
    "## 2.1 데이터 로드하기"
   ]
  },
  {
   "cell_type": "code",
   "execution_count": 43,
   "id": "conceptual-auction",
   "metadata": {},
   "outputs": [
    {
     "name": "stderr",
     "output_type": "stream",
     "text": [
      "/opt/conda/lib/python3.7/site-packages/tensorflow/python/keras/datasets/reuters.py:148: VisibleDeprecationWarning: Creating an ndarray from ragged nested sequences (which is a list-or-tuple of lists-or-tuples-or ndarrays with different lengths or shapes) is deprecated. If you meant to do this, you must specify 'dtype=object' when creating the ndarray\n",
      "  x_train, y_train = np.array(xs[:idx]), np.array(labels[:idx])\n",
      "/opt/conda/lib/python3.7/site-packages/tensorflow/python/keras/datasets/reuters.py:149: VisibleDeprecationWarning: Creating an ndarray from ragged nested sequences (which is a list-or-tuple of lists-or-tuples-or ndarrays with different lengths or shapes) is deprecated. If you meant to do this, you must specify 'dtype=object' when creating the ndarray\n",
      "  x_test, y_test = np.array(xs[idx:]), np.array(labels[idx:])\n"
     ]
    }
   ],
   "source": [
    "(x_train2, y_train2), (x_test2, y_test2) = reuters.load_data(num_words=5000, test_split=0.2)"
   ]
  },
  {
   "cell_type": "markdown",
   "id": "lesser-september",
   "metadata": {},
   "source": [
    "## 2.2 데이터 복원하기"
   ]
  },
  {
   "cell_type": "code",
   "execution_count": 74,
   "id": "former-rebound",
   "metadata": {},
   "outputs": [
    {
     "data": {
      "text/plain": [
       "30982"
      ]
     },
     "execution_count": 74,
     "metadata": {},
     "output_type": "execute_result"
    }
   ],
   "source": [
    "len(index_to_word)"
   ]
  },
  {
   "cell_type": "code",
   "execution_count": 47,
   "id": "turkish-joshua",
   "metadata": {},
   "outputs": [
    {
     "name": "stdout",
     "output_type": "stream",
     "text": [
      "8982\n"
     ]
    }
   ],
   "source": [
    "# train 데이터 복원 \n",
    "x_train2 = convert2text(x_train2)\n",
    "print(len(x_train2))"
   ]
  },
  {
   "cell_type": "code",
   "execution_count": 48,
   "id": "yellow-cardiff",
   "metadata": {},
   "outputs": [
    {
     "name": "stdout",
     "output_type": "stream",
     "text": [
      "2246\n"
     ]
    }
   ],
   "source": [
    "# test 데이터 복원 \n",
    "x_test2 = convert2text(x_test2)\n",
    "print(len(x_test2))"
   ]
  },
  {
   "cell_type": "markdown",
   "id": "complimentary-radar",
   "metadata": {},
   "source": [
    "## 2.3 벡터화 하기"
   ]
  },
  {
   "cell_type": "code",
   "execution_count": 49,
   "id": "portuguese-membrane",
   "metadata": {},
   "outputs": [
    {
     "name": "stdout",
     "output_type": "stream",
     "text": [
      "(8982, 4867)\n",
      "(8982, 4867)\n"
     ]
    }
   ],
   "source": [
    "## train data \n",
    "# DTM 생성 \n",
    "#dtmvector = CountVectorizer()\n",
    "x_train2_dtm = dtmvector.fit_transform(x_train2)\n",
    "print(x_train2_dtm.shape)\n",
    "\n",
    "# TF-IDF 행렬 생성 \n",
    "#tfidf_transformer = TfidfTransformer()\n",
    "tfidfv2 = tfidf_transformer.fit_transform(x_train2_dtm)\n",
    "print(tfidfv2.shape)"
   ]
  },
  {
   "cell_type": "code",
   "execution_count": 50,
   "id": "impossible-possibility",
   "metadata": {},
   "outputs": [
    {
     "name": "stdout",
     "output_type": "stream",
     "text": [
      "(2246, 4867)\n",
      "(2246, 4867)\n"
     ]
    }
   ],
   "source": [
    "## test data \n",
    "# DTM으로 변환\n",
    "x_test2_dtm = dtmvector.transform(x_test2) \n",
    "print(x_test2_dtm.shape)\n",
    "\n",
    "# DTM을 TF-IDF 행렬로 변환\n",
    "tfidfv_test2 = tfidf_transformer.transform(x_test2_dtm) \n",
    "print(tfidfv_test2.shape)"
   ]
  },
  {
   "cell_type": "markdown",
   "id": "alpha-prior",
   "metadata": {},
   "source": [
    "## 2.4 머신러닝 모델 적용"
   ]
  },
  {
   "cell_type": "markdown",
   "id": "pharmaceutical-store",
   "metadata": {},
   "source": [
    "### 1) 나이브 베이즈 분류기(Multinomial Naive Bayes Classifier)"
   ]
  },
  {
   "cell_type": "code",
   "execution_count": 51,
   "id": "connected-mission",
   "metadata": {},
   "outputs": [
    {
     "name": "stdout",
     "output_type": "stream",
     "text": [
      "정확도: 0.6731967943009796\n"
     ]
    }
   ],
   "source": [
    "#mnb = MultinomialNB()\n",
    "mnb.fit(tfidfv2, y_train2)\n",
    "predicted = mnb.predict(tfidfv_test2) #테스트 데이터에 대한 예측\n",
    "print(\"정확도:\", accuracy_score(y_test2, predicted)) #예측값과 실제값 비교"
   ]
  },
  {
   "cell_type": "markdown",
   "id": "gothic-violence",
   "metadata": {},
   "source": [
    "### 2) Complement Naive Bayes Classifier(CNB)"
   ]
  },
  {
   "cell_type": "code",
   "execution_count": 52,
   "id": "animated-zealand",
   "metadata": {},
   "outputs": [
    {
     "name": "stdout",
     "output_type": "stream",
     "text": [
      "정확도: 0.7707034728406055\n"
     ]
    }
   ],
   "source": [
    "#cnb = ComplementNB()\n",
    "cnb.fit(tfidfv2, y_train2)\n",
    "predicted = cnb.predict(tfidfv_test2) #테스트 데이터에 대한 예측\n",
    "print(\"정확도:\", accuracy_score(y_test2, predicted)) #예측값과 실제값 비교"
   ]
  },
  {
   "cell_type": "markdown",
   "id": "conscious-renaissance",
   "metadata": {},
   "source": [
    "### 3) 로지스틱 회귀(Logistic Regression)"
   ]
  },
  {
   "cell_type": "code",
   "execution_count": 53,
   "id": "smooth-practice",
   "metadata": {},
   "outputs": [
    {
     "name": "stdout",
     "output_type": "stream",
     "text": [
      "정확도: 0.8058771148708815\n"
     ]
    },
    {
     "name": "stderr",
     "output_type": "stream",
     "text": [
      "/opt/conda/lib/python3.7/site-packages/sklearn/linear_model/_logistic.py:762: ConvergenceWarning: lbfgs failed to converge (status=1):\n",
      "STOP: TOTAL NO. of ITERATIONS REACHED LIMIT.\n",
      "\n",
      "Increase the number of iterations (max_iter) or scale the data as shown in:\n",
      "    https://scikit-learn.org/stable/modules/preprocessing.html\n",
      "Please also refer to the documentation for alternative solver options:\n",
      "    https://scikit-learn.org/stable/modules/linear_model.html#logistic-regression\n",
      "  extra_warning_msg=_LOGISTIC_SOLVER_CONVERGENCE_MSG)\n"
     ]
    }
   ],
   "source": [
    "#lr = LogisticRegression(C=10000, penalty='l2')\n",
    "lr.fit(tfidfv2, y_train2)\n",
    "predicted = lr.predict(tfidfv_test2) #테스트 데이터에 대한 예측\n",
    "print(\"정확도:\", accuracy_score(y_test2, predicted)) #예측값과 실제값 비교"
   ]
  },
  {
   "cell_type": "markdown",
   "id": "helpful-jacob",
   "metadata": {},
   "source": [
    "### 4) 선형 서포트 벡터 머신(Linear Support Vector Machine)"
   ]
  },
  {
   "cell_type": "code",
   "execution_count": 54,
   "id": "afraid-jackson",
   "metadata": {},
   "outputs": [
    {
     "name": "stdout",
     "output_type": "stream",
     "text": [
      "정확도: 0.763579697239537\n"
     ]
    },
    {
     "name": "stderr",
     "output_type": "stream",
     "text": [
      "/opt/conda/lib/python3.7/site-packages/sklearn/svm/_base.py:975: ConvergenceWarning: Liblinear failed to converge, increase the number of iterations.\n",
      "  \"the number of iterations.\", ConvergenceWarning)\n"
     ]
    }
   ],
   "source": [
    "#lsvc = LinearSVC(C=1000, penalty='l1', max_iter=500, dual=False)\n",
    "lsvc.fit(tfidfv2, y_train2)\n",
    "predicted = lsvc.predict(tfidfv_test2) #테스트 데이터에 대한 예측\n",
    "print(\"정확도:\", accuracy_score(y_test2, predicted)) #예측값과 실제값 비교"
   ]
  },
  {
   "cell_type": "markdown",
   "id": "racial-colon",
   "metadata": {},
   "source": [
    "### 5) 결정 트리(Decision Tree)"
   ]
  },
  {
   "cell_type": "code",
   "execution_count": 55,
   "id": "silver-rings",
   "metadata": {},
   "outputs": [
    {
     "name": "stdout",
     "output_type": "stream",
     "text": [
      "정확도: 0.6179875333926982\n"
     ]
    }
   ],
   "source": [
    "#dtree = DecisionTreeClassifier(max_depth=10, random_state=0)\n",
    "dtree.fit(tfidfv2, y_train2)\n",
    "predicted = dtree.predict(tfidfv_test2) #테스트 데이터에 대한 예측\n",
    "print(\"정확도:\", accuracy_score(y_test2, predicted)) #예측값과 실제값 비교"
   ]
  },
  {
   "cell_type": "markdown",
   "id": "legitimate-genome",
   "metadata": {},
   "source": [
    "### 6) 랜덤 포레스트(Random Forest)\n"
   ]
  },
  {
   "cell_type": "code",
   "execution_count": 56,
   "id": "covered-offering",
   "metadata": {},
   "outputs": [
    {
     "name": "stdout",
     "output_type": "stream",
     "text": [
      "정확도: 0.701246660730187\n"
     ]
    }
   ],
   "source": [
    "#rdforest = RandomForestClassifier(n_estimators=5, random_state=0)\n",
    "rdforest.fit(tfidfv2, y_train2)\n",
    "predicted = rdforest.predict(tfidfv_test2) #테스트 데이터에 대한 예측\n",
    "print(\"정확도:\", accuracy_score(y_test2, predicted)) #예측값과 실제값 비교"
   ]
  },
  {
   "cell_type": "markdown",
   "id": "occasional-cisco",
   "metadata": {},
   "source": [
    "### 7) 그래디언트 부스팅 트리(GradientBoostingClassifier)"
   ]
  },
  {
   "cell_type": "code",
   "execution_count": 57,
   "id": "moral-lobby",
   "metadata": {},
   "outputs": [
    {
     "name": "stdout",
     "output_type": "stream",
     "text": [
      "정확도: 0.767586821015138\n"
     ]
    }
   ],
   "source": [
    "#grbt = GradientBoostingClassifier(random_state=0)\n",
    "grbt.fit(tfidfv2, y_train2)\n",
    "predicted = grbt.predict(tfidfv_test2) #테스트 데이터에 대한 예측\n",
    "print(\"정확도:\", accuracy_score(y_test2, predicted)) #예측값과 실제값 비교"
   ]
  },
  {
   "cell_type": "markdown",
   "id": "standard-finder",
   "metadata": {},
   "source": [
    "### 8) 보팅(Voting)"
   ]
  },
  {
   "cell_type": "code",
   "execution_count": 58,
   "id": "professional-preservation",
   "metadata": {},
   "outputs": [
    {
     "name": "stdout",
     "output_type": "stream",
     "text": [
      "정확도: 0.8161175422974176\n"
     ]
    }
   ],
   "source": [
    "#vt_classifier = VotingClassifier(estimators=[\n",
    "#         ('lr', LogisticRegression(C=10000, penalty='l2')),\n",
    "#        ('cb', ComplementNB()),\n",
    "#        ('grbt', GradientBoostingClassifier(random_state=0))\n",
    "#], voting='soft', n_jobs=-1)\n",
    "vt_classifier.fit(tfidfv2, y_train2)\n",
    "predicted = vt_classifier.predict(tfidfv_test2) #테스트 데이터에 대한 예측\n",
    "print(\"정확도:\", accuracy_score(y_test2, predicted)) #예측값과 실제값 비교"
   ]
  },
  {
   "cell_type": "markdown",
   "id": "analyzed-height",
   "metadata": {},
   "source": [
    "# 3. 빈도수 상위 13,000개의 단어만 사용\n",
    "\n",
    "(x_train, y_train), (x_test, y_test) = reuters.load_data(**num_words=13000**, test_split=0.2)"
   ]
  },
  {
   "cell_type": "markdown",
   "id": "processed-ideal",
   "metadata": {},
   "source": [
    "## 3.1 데이터 로드하기"
   ]
  },
  {
   "cell_type": "code",
   "execution_count": 61,
   "id": "usual-feature",
   "metadata": {},
   "outputs": [],
   "source": [
    "(x_train3, y_train3), (x_test3, y_test3) = reuters.load_data(num_words=13000, test_split=0.2)"
   ]
  },
  {
   "cell_type": "markdown",
   "id": "adverse-upper",
   "metadata": {},
   "source": [
    "## 3.2 데이터 복원하기"
   ]
  },
  {
   "cell_type": "code",
   "execution_count": 62,
   "id": "suburban-vintage",
   "metadata": {},
   "outputs": [
    {
     "data": {
      "text/plain": [
       "30982"
      ]
     },
     "execution_count": 62,
     "metadata": {},
     "output_type": "execute_result"
    }
   ],
   "source": [
    "len(index_to_word)"
   ]
  },
  {
   "cell_type": "code",
   "execution_count": 63,
   "id": "dramatic-terror",
   "metadata": {},
   "outputs": [
    {
     "name": "stdout",
     "output_type": "stream",
     "text": [
      "8982\n"
     ]
    }
   ],
   "source": [
    "# train 데이터 복원 \n",
    "x_train3 = convert2text(x_train3)\n",
    "print(len(x_train3))"
   ]
  },
  {
   "cell_type": "code",
   "execution_count": 64,
   "id": "settled-investing",
   "metadata": {},
   "outputs": [
    {
     "name": "stdout",
     "output_type": "stream",
     "text": [
      "2246\n"
     ]
    }
   ],
   "source": [
    "# test 데이터 복원 \n",
    "x_test3 = convert2text(x_test3)\n",
    "print(len(x_test3))"
   ]
  },
  {
   "cell_type": "markdown",
   "id": "several-pocket",
   "metadata": {},
   "source": [
    "## 3.3 벡터화 하기"
   ]
  },
  {
   "cell_type": "code",
   "execution_count": 65,
   "id": "fifth-bridal",
   "metadata": {},
   "outputs": [
    {
     "name": "stdout",
     "output_type": "stream",
     "text": [
      "(8982, 12451)\n",
      "(8982, 12451)\n"
     ]
    }
   ],
   "source": [
    "## train data \n",
    "# DTM 생성 \n",
    "#dtmvector = CountVectorizer()\n",
    "x_train3_dtm = dtmvector.fit_transform(x_train3)\n",
    "print(x_train3_dtm.shape)\n",
    "\n",
    "# TF-IDF 행렬 생성 \n",
    "#tfidf_transformer = TfidfTransformer()\n",
    "tfidfv3 = tfidf_transformer.fit_transform(x_train3_dtm)\n",
    "print(tfidfv3.shape)"
   ]
  },
  {
   "cell_type": "code",
   "execution_count": 66,
   "id": "obvious-concentration",
   "metadata": {},
   "outputs": [
    {
     "name": "stdout",
     "output_type": "stream",
     "text": [
      "(2246, 12451)\n",
      "(2246, 12451)\n"
     ]
    }
   ],
   "source": [
    "## test data \n",
    "# DTM으로 변환\n",
    "x_test3_dtm = dtmvector.transform(x_test3) \n",
    "print(x_test3_dtm.shape)\n",
    "\n",
    "# DTM을 TF-IDF 행렬로 변환\n",
    "tfidfv_test3 = tfidf_transformer.transform(x_test3_dtm) \n",
    "print(tfidfv_test3.shape)"
   ]
  },
  {
   "cell_type": "markdown",
   "id": "affected-drinking",
   "metadata": {},
   "source": [
    "## 3.4 머신러닝 모델 적용"
   ]
  },
  {
   "cell_type": "markdown",
   "id": "apparent-waterproof",
   "metadata": {},
   "source": [
    "### 1) 나이브 베이즈 분류기(Multinomial Naive Bayes Classifier)"
   ]
  },
  {
   "cell_type": "code",
   "execution_count": 67,
   "id": "internal-material",
   "metadata": {},
   "outputs": [
    {
     "name": "stdout",
     "output_type": "stream",
     "text": [
      "정확도: 0.6429207479964381\n"
     ]
    }
   ],
   "source": [
    "#mnb = MultinomialNB()\n",
    "mnb.fit(tfidfv3, y_train3)\n",
    "predicted = mnb.predict(tfidfv_test3) #테스트 데이터에 대한 예측\n",
    "print(\"정확도:\", accuracy_score(y_test3, predicted)) #예측값과 실제값 비교"
   ]
  },
  {
   "cell_type": "markdown",
   "id": "metropolitan-discretion",
   "metadata": {},
   "source": [
    "### 2) Complement Naive Bayes Classifier(CNB)"
   ]
  },
  {
   "cell_type": "code",
   "execution_count": 68,
   "id": "danish-parking",
   "metadata": {},
   "outputs": [
    {
     "name": "stdout",
     "output_type": "stream",
     "text": [
      "정확도: 0.7733748886910062\n"
     ]
    }
   ],
   "source": [
    "#cnb = ComplementNB()\n",
    "cnb.fit(tfidfv3, y_train3)\n",
    "predicted = cnb.predict(tfidfv_test3) #테스트 데이터에 대한 예측\n",
    "print(\"정확도:\", accuracy_score(y_test3, predicted)) #예측값과 실제값 비교"
   ]
  },
  {
   "cell_type": "markdown",
   "id": "macro-following",
   "metadata": {},
   "source": [
    "### 3) 로지스틱 회귀(Logistic Regression)"
   ]
  },
  {
   "cell_type": "code",
   "execution_count": 69,
   "id": "close-shareware",
   "metadata": {},
   "outputs": [
    {
     "name": "stdout",
     "output_type": "stream",
     "text": [
      "정확도: 0.8076580587711487\n"
     ]
    },
    {
     "name": "stderr",
     "output_type": "stream",
     "text": [
      "/opt/conda/lib/python3.7/site-packages/sklearn/linear_model/_logistic.py:762: ConvergenceWarning: lbfgs failed to converge (status=1):\n",
      "STOP: TOTAL NO. of ITERATIONS REACHED LIMIT.\n",
      "\n",
      "Increase the number of iterations (max_iter) or scale the data as shown in:\n",
      "    https://scikit-learn.org/stable/modules/preprocessing.html\n",
      "Please also refer to the documentation for alternative solver options:\n",
      "    https://scikit-learn.org/stable/modules/linear_model.html#logistic-regression\n",
      "  extra_warning_msg=_LOGISTIC_SOLVER_CONVERGENCE_MSG)\n"
     ]
    }
   ],
   "source": [
    "#lr = LogisticRegression(C=10000, penalty='l2')\n",
    "lr.fit(tfidfv3, y_train3)\n",
    "predicted = lr.predict(tfidfv_test3) #테스트 데이터에 대한 예측\n",
    "print(\"정확도:\", accuracy_score(y_test3, predicted)) #예측값과 실제값 비교"
   ]
  },
  {
   "cell_type": "markdown",
   "id": "noticed-danger",
   "metadata": {},
   "source": [
    "### 4) 선형 서포트 벡터 머신(Linear Support Vector Machine)"
   ]
  },
  {
   "cell_type": "code",
   "execution_count": 70,
   "id": "imported-method",
   "metadata": {},
   "outputs": [
    {
     "name": "stdout",
     "output_type": "stream",
     "text": [
      "정확도: 0.773820124666073\n"
     ]
    },
    {
     "name": "stderr",
     "output_type": "stream",
     "text": [
      "/opt/conda/lib/python3.7/site-packages/sklearn/svm/_base.py:975: ConvergenceWarning: Liblinear failed to converge, increase the number of iterations.\n",
      "  \"the number of iterations.\", ConvergenceWarning)\n"
     ]
    }
   ],
   "source": [
    "#lsvc = LinearSVC(C=1000, penalty='l1', max_iter=500, dual=False)\n",
    "lsvc.fit(tfidfv3, y_train3)\n",
    "predicted = lsvc.predict(tfidfv_test3) #테스트 데이터에 대한 예측\n",
    "print(\"정확도:\", accuracy_score(y_test3, predicted)) #예측값과 실제값 비교"
   ]
  },
  {
   "cell_type": "markdown",
   "id": "incredible-pittsburgh",
   "metadata": {},
   "source": [
    "### 5) 결정 트리(Decision Tree)"
   ]
  },
  {
   "cell_type": "code",
   "execution_count": 71,
   "id": "closed-manor",
   "metadata": {},
   "outputs": [
    {
     "name": "stdout",
     "output_type": "stream",
     "text": [
      "정확도: 0.6188780053428317\n"
     ]
    }
   ],
   "source": [
    "#dtree = DecisionTreeClassifier(max_depth=10, random_state=0)\n",
    "dtree.fit(tfidfv3, y_train3)\n",
    "predicted = dtree.predict(tfidfv_test3) #테스트 데이터에 대한 예측\n",
    "print(\"정확도:\", accuracy_score(y_test3, predicted)) #예측값과 실제값 비교"
   ]
  },
  {
   "cell_type": "markdown",
   "id": "frank-colon",
   "metadata": {},
   "source": [
    "### 6) 랜덤 포레스트(Random Forest)"
   ]
  },
  {
   "cell_type": "code",
   "execution_count": 72,
   "id": "known-ottawa",
   "metadata": {},
   "outputs": [
    {
     "name": "stdout",
     "output_type": "stream",
     "text": [
      "정확도: 0.6731967943009796\n"
     ]
    }
   ],
   "source": [
    "#rdforest = RandomForestClassifier(n_estimators=5, random_state=0)\n",
    "rdforest.fit(tfidfv3, y_train3)\n",
    "predicted = rdforest.predict(tfidfv_test3) #테스트 데이터에 대한 예측\n",
    "print(\"정확도:\", accuracy_score(y_test3, predicted)) #예측값과 실제값 비교"
   ]
  },
  {
   "cell_type": "markdown",
   "id": "conservative-hawaiian",
   "metadata": {},
   "source": [
    "### 7) 그래디언트 부스팅 트리(GradientBoostingClassifier)"
   ]
  },
  {
   "cell_type": "code",
   "execution_count": 73,
   "id": "forced-forwarding",
   "metadata": {},
   "outputs": [
    {
     "name": "stdout",
     "output_type": "stream",
     "text": [
      "정확도: 0.7689225289403384\n"
     ]
    }
   ],
   "source": [
    "#grbt = GradientBoostingClassifier(random_state=0)\n",
    "grbt.fit(tfidfv3, y_train3)\n",
    "predicted = grbt.predict(tfidfv_test3) #테스트 데이터에 대한 예측\n",
    "print(\"정확도:\", accuracy_score(y_test3, predicted)) #예측값과 실제값 비교"
   ]
  },
  {
   "cell_type": "markdown",
   "id": "assigned-retrieval",
   "metadata": {},
   "source": [
    "### 8) 보팅(Voting)"
   ]
  },
  {
   "cell_type": "code",
   "execution_count": 75,
   "id": "distinguished-practitioner",
   "metadata": {},
   "outputs": [
    {
     "name": "stdout",
     "output_type": "stream",
     "text": [
      "정확도: 0.8174532502226179\n"
     ]
    }
   ],
   "source": [
    "#vt_classifier = VotingClassifier(estimators=[\n",
    "#         ('lr', LogisticRegression(C=10000, penalty='l2')),\n",
    "#        ('cb', ComplementNB()),\n",
    "#        ('grbt', GradientBoostingClassifier(random_state=0))\n",
    "#], voting='soft', n_jobs=-1)\n",
    "vt_classifier.fit(tfidfv3, y_train3)\n",
    "predicted = vt_classifier.predict(tfidfv_test3) #테스트 데이터에 대한 예측\n",
    "print(\"정확도:\", accuracy_score(y_test3, predicted)) #예측값과 실제값 비교"
   ]
  },
  {
   "cell_type": "markdown",
   "id": "amateur-mills",
   "metadata": {},
   "source": [
    "[accuracy]\n",
    "\n",
    "|num_words=|None|5000|10000|13000|\n",
    "|------:|:---:|:---:|:---:|:---:|\n",
    "|Multinomial Naive Bayes Classifier | 0.5997328584149599 | 0.6731967943009796 | 0.6567230632235085 | 0.6429207479964381|\n",
    "|Complement Naive Bayes Classifier|0.7649154051647373|0.7707034728406055|0.7707034728406055| 0.7733748886910062|\n",
    "|Logistic Regression|0.813446126447017|0.8058771148708815|0.8076580587711487| 0.8076580587711487|\n",
    "|Linear Support Vector Machine|0.7867319679430098|0.763579697239537|0.7804986642920748| 0.773820124666073|\n",
    "|Decision Tree|0.6211041852181657|0.6179875333926982|0.6202137132680321| 0.6188780053428317|\n",
    "|Random Forest|0.6544968833481746|0.701246660730187|0.674087266251113| 0.6731967943009796|\n",
    "|Gradient Boosting Classifier|0.7702582368655387|0.767586821015138|0.7666963490650045| 0.7689225289403384|\n",
    "|Voting|0.8187889581478184|0.8161175422974176|0.8116651825467498| 0.8174532502226179|\n",
    "\n",
    "대체적으로 성능이 좋은 num_words=13000 으로 딥러닝 모델과 비교해 봅니다. "
   ]
  },
  {
   "cell_type": "markdown",
   "id": "greenhouse-timing",
   "metadata": {},
   "source": [
    "# 4. 딥러닝 모델과 비교해 보기\n",
    "\n",
    "- 참고 : 로이터 뉴스 분류하기 https://wikidocs.net/22933"
   ]
  },
  {
   "cell_type": "code",
   "execution_count": 95,
   "id": "mineral-veteran",
   "metadata": {},
   "outputs": [],
   "source": [
    "from tensorflow.keras.models import Sequential\n",
    "from tensorflow.keras.layers import Dense, LSTM, Embedding\n",
    "from tensorflow.keras.preprocessing.sequence import pad_sequences\n",
    "from tensorflow.keras.utils import to_categorical"
   ]
  },
  {
   "cell_type": "code",
   "execution_count": 89,
   "id": "shaped-representative",
   "metadata": {},
   "outputs": [],
   "source": [
    "(X_train, y_train), (X_test, y_test) = reuters.load_data(num_words=13000, test_split=0.2)"
   ]
  },
  {
   "cell_type": "code",
   "execution_count": 96,
   "id": "agricultural-concern",
   "metadata": {},
   "outputs": [],
   "source": [
    "y_train = to_categorical(y_train)\n",
    "y_test = to_categorical(y_test)"
   ]
  },
  {
   "cell_type": "code",
   "execution_count": 97,
   "id": "patent-customer",
   "metadata": {},
   "outputs": [
    {
     "name": "stdout",
     "output_type": "stream",
     "text": [
      "(8982, 2376) (8982, 46)\n"
     ]
    }
   ],
   "source": [
    "print(X_train.shape, y_train.shape)"
   ]
  },
  {
   "cell_type": "code",
   "execution_count": 90,
   "id": "electoral-married",
   "metadata": {},
   "outputs": [],
   "source": [
    "X_train = pad_sequences(X_train, padding='pre')\n",
    "X_test = pad_sequences(X_test, padding='pre')"
   ]
  },
  {
   "cell_type": "code",
   "execution_count": 103,
   "id": "academic-humanity",
   "metadata": {},
   "outputs": [],
   "source": [
    "vocab_size = 13000\n",
    "\n",
    "rnn_model = Sequential()\n",
    "rnn_model.add(Embedding(vocab_size, 128))\n",
    "rnn_model.add(LSTM(128))\n",
    "rnn_model.add(Dense(46, activation='softmax'))"
   ]
  },
  {
   "cell_type": "code",
   "execution_count": 104,
   "id": "adjustable-friend",
   "metadata": {},
   "outputs": [
    {
     "name": "stdout",
     "output_type": "stream",
     "text": [
      "Epoch 1/20\n",
      "71/71 [==============================] - 36s 477ms/step - loss: 2.9813 - acc: 0.3331\n",
      "Epoch 2/20\n",
      "71/71 [==============================] - 33s 460ms/step - loss: 2.1814 - acc: 0.4493\n",
      "Epoch 3/20\n",
      "71/71 [==============================] - 33s 459ms/step - loss: 2.0088 - acc: 0.4807\n",
      "Epoch 4/20\n",
      "71/71 [==============================] - 33s 460ms/step - loss: 1.7465 - acc: 0.5450\n",
      "Epoch 5/20\n",
      "71/71 [==============================] - 33s 459ms/step - loss: 1.6439 - acc: 0.5778\n",
      "Epoch 6/20\n",
      "71/71 [==============================] - 33s 458ms/step - loss: 1.5593 - acc: 0.6034\n",
      "Epoch 7/20\n",
      "71/71 [==============================] - 33s 459ms/step - loss: 1.4208 - acc: 0.6403\n",
      "Epoch 8/20\n",
      "71/71 [==============================] - 33s 458ms/step - loss: 1.2759 - acc: 0.6803\n",
      "Epoch 9/20\n",
      "71/71 [==============================] - 33s 460ms/step - loss: 1.5808 - acc: 0.5986\n",
      "Epoch 10/20\n",
      "71/71 [==============================] - 33s 459ms/step - loss: 1.3207 - acc: 0.6720\n",
      "Epoch 11/20\n",
      "71/71 [==============================] - 33s 463ms/step - loss: 1.2791 - acc: 0.6803\n",
      "Epoch 12/20\n",
      "71/71 [==============================] - 33s 458ms/step - loss: 1.1842 - acc: 0.6897\n",
      "Epoch 13/20\n",
      "71/71 [==============================] - 33s 460ms/step - loss: 0.9602 - acc: 0.7460\n",
      "Epoch 14/20\n",
      "71/71 [==============================] - 33s 459ms/step - loss: 0.8647 - acc: 0.7750\n",
      "Epoch 15/20\n",
      "71/71 [==============================] - 33s 461ms/step - loss: 0.7810 - acc: 0.8013\n",
      "Epoch 16/20\n",
      "71/71 [==============================] - 33s 463ms/step - loss: 0.6852 - acc: 0.8209\n",
      "Epoch 17/20\n",
      "71/71 [==============================] - 33s 459ms/step - loss: 0.6167 - acc: 0.8427\n",
      "Epoch 18/20\n",
      "71/71 [==============================] - 33s 460ms/step - loss: 0.5001 - acc: 0.8760\n",
      "Epoch 19/20\n",
      "71/71 [==============================] - 33s 459ms/step - loss: 0.4884 - acc: 0.8773\n",
      "Epoch 20/20\n",
      "71/71 [==============================] - 33s 461ms/step - loss: 0.4117 - acc: 0.9001\n"
     ]
    }
   ],
   "source": [
    "# 모델 학습\n",
    "rnn_model.compile(loss='categorical_crossentropy', optimizer='adam', metrics=['acc'])\n",
    "history = rnn_model.fit(X_train, y_train, batch_size=128, epochs=20)"
   ]
  },
  {
   "cell_type": "code",
   "execution_count": 105,
   "id": "sustainable-sympathy",
   "metadata": {},
   "outputs": [
    {
     "name": "stdout",
     "output_type": "stream",
     "text": [
      "71/71 - 4s - loss: 1.6048 - acc: 0.6866\n",
      "[1.6047600507736206, 0.6865538954734802]\n"
     ]
    }
   ],
   "source": [
    "# 모델 평가\n",
    "rnn_results = rnn_model.evaluate(X_test,  y_test, verbose=2)\n",
    "print(rnn_results)"
   ]
  },
  {
   "cell_type": "markdown",
   "id": "reliable-entrepreneur",
   "metadata": {},
   "source": [
    "- RNN 모델이 69% 정도의 accuracy인 것을 볼 수 있다. "
   ]
  },
  {
   "cell_type": "markdown",
   "id": "dying-corpus",
   "metadata": {},
   "source": [
    "# 회고 \n",
    "\n",
    "1. 분류 모델의 accuracy가 기준 이상 높게 나왔는가?\n",
    "    - 3가지 단어 개수(None, 5000, 13000)에 대해 8가지 머신러닝 기법을 적용해 보았다. \n",
    "    - 그중 최적의 솔루션을 13000으로 도출하였으나 도출하는 방법의 지표를 accuracy만으로 판단하였다. \n",
    "\n",
    "\n",
    "2. 분류 모델의 F1 score가 기준 이상 높게 나왔는가?\n",
    "    - Vocabulary size에 따른 각 머신러닝 모델의 성능변화 추이를 살펴보았지만 해당 머신러닝 알고리즘의 특성을 잘 파악하지 못해서인지 모델의 성능이 일정하지 않음에 대해 다시 공부해야 할 것 같다. \n",
    "    - 성능 지표를 F1 score가 아닌 accuracy만으로 판단하였다. F1 score에 대한 추가적인 공부를 해야할 것 같다. \n",
    "    \n",
    "\n",
    "3. 딥러닝 모델(RNN)을 활용해 성능이 비교 및 확인되었는가?\n",
    "    - 동일한 데이터셋과 전처리 조건으로 딥러닝 모델의 성능과 비교하였다. \n",
    "    - 하지만 RNN 모델에서 validation set을 사용하지 못하고 epoch=20 으로만 돌려서 인지 성능이 그리 좋지는 않았다. "
   ]
  }
 ],
 "metadata": {
  "kernelspec": {
   "display_name": "Python 3",
   "language": "python",
   "name": "python3"
  },
  "language_info": {
   "codemirror_mode": {
    "name": "ipython",
    "version": 3
   },
   "file_extension": ".py",
   "mimetype": "text/x-python",
   "name": "python",
   "nbconvert_exporter": "python",
   "pygments_lexer": "ipython3",
   "version": "3.7.9"
  }
 },
 "nbformat": 4,
 "nbformat_minor": 5
}
