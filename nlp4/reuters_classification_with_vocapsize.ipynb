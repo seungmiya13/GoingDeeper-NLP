{
 "cells": [
  {
   "cell_type": "markdown",
   "id": "korean-saturn",
   "metadata": {},
   "source": [
    "프로젝트: Vocabulary Size를 변경해서 뉴스 카테고리 다중분류 시도해보기\n",
    "=== \n",
    "\n",
    "뉴스 텍스트의 주제를 분류하는 태스크를 다양한 기법으로 다시 시도해 보고 어떤 방법이 가장 우수한 성능을 보이는지 실험해 본다.\n",
    "     \n",
    "중요도가 낮은 단어들까지 포함해 너무 많은 단어를 사용하는 경우에도 성능이 저하될 수 있고, 반대로 너무 적은 단어들을 사용해도 성능이 저하될 수 있습니다. 이렇게 변화된 단어의 수는 또 어떤 모델을 사용하느냐에 따라 유리할 수도, 불리할 수도 있습니다.\n",
    "     \n",
    "사용할 모델 : 나이브 베이즈 분류기, CNB, 로지스틱 회귀, 서포트 벡터 머신, 결정 트리, 랜덤 포레스트, 그래디언트 부스팅 트리, 보팅\n",
    "    \n",
    "    \n",
    "[ 목차 ]\n",
    "1. 모든 단어 사용\n",
    "2. 빈도수 상위 5,000개의 단어만 사용\n",
    "3. 직접 단어 개수를 설정해서 사용\n",
    "4. 딥러닝 모델과 비교해 보기"
   ]
  },
  {
   "cell_type": "markdown",
   "id": "square-sunglasses",
   "metadata": {},
   "source": [
    "# 로이터 뉴스 데이터\n",
    "\n",
    "우리가 사용할 데이터는 로이터 뉴스 데이터입니다. 이 데이터는 총 46개의 클래스로 구성되며, 해당 뉴스가 어느 카테고리에 속하는지를 예측하기 위한 데이터입니다. 텐서플로우 데이터셋에서 제공하고 있는 데이터로 아주 쉽게 다운로드가 가능합니다. \n",
    "- tf.keras.datasets.reuters.load_data(num_words)  \n",
    "    num_words :\t(integer or None)      \n",
    "    Words are ranked by how often they occur and only the num_words most frequent words are kept. Any less frequent word will appear as oov_char value in the sequence data.     \n",
    "    If None, all words are kept. Defaults to None, so all words are kept.    \n",
    "    https://www.tensorflow.org/api_docs/python/tf/keras/datasets/reuters/load_data\n",
    "    \n",
    "num_word를 변경하며 단어의 수에 따라서 모델의 성능이 어떻게 변하는지 테스트해 봅니다."
   ]
  },
  {
   "cell_type": "code",
   "execution_count": 1,
   "id": "closed-deadline",
   "metadata": {},
   "outputs": [],
   "source": [
    "from tensorflow.keras.datasets import reuters\n",
    "import matplotlib.pyplot as plt\n",
    "import seaborn as sns\n",
    "import numpy as np\n",
    "import pandas as pd"
   ]
  },
  {
   "cell_type": "markdown",
   "id": "literary-facility",
   "metadata": {},
   "source": [
    "# 사용할 모델 \n",
    "\n",
    "다음의 여러 머신러닝 알고리즘을 사용해서 텍스트를 분류해 봅니다. \n",
    "\n",
    "- 나이브 베이즈 분류기 (Multinomial Naive Bayes Classifier)    \n",
    "    https://scikit-learn.org/stable/modules/generated/sklearn.naive_bayes.MultinomialNB.html\n",
    "- CNB (Complement Naive Bayes Classifier)    \n",
    "    https://scikit-learn.org/stable/modules/generated/sklearn.naive_bayes.ComplementNB.html\n",
    "- 로지스틱 회귀 (Logistic Regression)    \n",
    "    https://scikit-learn.org/stable/modules/generated/sklearn.linear_model.LogisticRegression.html\n",
    "- 서포트 벡터 머신 (Linear Support Vector Machine)    \n",
    "    https://scikit-learn.org/stable/modules/generated/sklearn.svm.LinearSVC.html\n",
    "- 결정 트리 (Decision Tree)    \n",
    "    https://scikit-learn.org/stable/modules/generated/sklearn.tree.DecisionTreeClassifier.html\n",
    "- 랜덤 포레스트 (Random Forest)    \n",
    "    https://scikit-learn.org/stable/modules/generated/sklearn.ensemble.RandomForestClassifier.html\n",
    "- 그래디언트 부스팅 트리 (GradientBoostingClassifier)    \n",
    "    https://scikit-learn.org/stable/modules/generated/sklearn.ensemble.GradientBoostingClassifier.html\n",
    "- 보팅 (Voting)    \n",
    "    https://scikit-learn.org/stable/modules/generated/sklearn.ensemble.VotingClassifier.html"
   ]
  },
  {
   "cell_type": "code",
   "execution_count": 2,
   "id": "copyrighted-incidence",
   "metadata": {},
   "outputs": [],
   "source": [
    "from sklearn.naive_bayes import MultinomialNB #다항분포 나이브 베이즈 모델\n",
    "from sklearn.naive_bayes import ComplementNB\n",
    "from sklearn.linear_model import LogisticRegression, SGDClassifier\n",
    "from sklearn.svm import LinearSVC\n",
    "from sklearn.tree import DecisionTreeClassifier\n",
    "from sklearn.ensemble import RandomForestClassifier\n",
    "from sklearn.ensemble import GradientBoostingClassifier\n",
    "from sklearn.ensemble import VotingClassifier\n",
    "from sklearn.metrics import accuracy_score #정확도 계산"
   ]
  },
  {
   "cell_type": "code",
   "execution_count": null,
   "id": "personal-spain",
   "metadata": {},
   "outputs": [],
   "source": []
  }
 ],
 "metadata": {
  "kernelspec": {
   "display_name": "Python 3",
   "language": "python",
   "name": "python3"
  },
  "language_info": {
   "codemirror_mode": {
    "name": "ipython",
    "version": 3
   },
   "file_extension": ".py",
   "mimetype": "text/x-python",
   "name": "python",
   "nbconvert_exporter": "python",
   "pygments_lexer": "ipython3",
   "version": "3.7.9"
  }
 },
 "nbformat": 4,
 "nbformat_minor": 5
}
