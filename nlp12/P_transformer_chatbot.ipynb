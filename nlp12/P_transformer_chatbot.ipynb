{
 "cells": [
  {
   "cell_type": "markdown",
   "id": "reverse-translation",
   "metadata": {},
   "source": [
    "Project : 멋진 챗봇 만들기\n",
    "===\n",
    "\n",
    "트랜스포머 구조를 활용해 한국어 챗봇을 직접 구현해 보는 프로젝트를 진행한다. 또한 번역기 성능 측정법을 챗봇에도 적용해 봅니다. \n",
    "\n",
    "[목차]\n",
    "1. 데이터 다운로드\n",
    "2. 데이터 정제\n",
    "3. 데이터 토큰화\n",
    "4. Augmentation\n",
    "5. 데이터 벡터화\n",
    "6. 훈련하기\n",
    "7. 성능 측정하기"
   ]
  },
  {
   "cell_type": "code",
   "execution_count": null,
   "id": "baking-cookbook",
   "metadata": {},
   "outputs": [],
   "source": []
  }
 ],
 "metadata": {
  "kernelspec": {
   "display_name": "Python 3",
   "language": "python",
   "name": "python3"
  },
  "language_info": {
   "codemirror_mode": {
    "name": "ipython",
    "version": 3
   },
   "file_extension": ".py",
   "mimetype": "text/x-python",
   "name": "python",
   "nbconvert_exporter": "python",
   "pygments_lexer": "ipython3",
   "version": "3.7.9"
  }
 },
 "nbformat": 4,
 "nbformat_minor": 5
}
