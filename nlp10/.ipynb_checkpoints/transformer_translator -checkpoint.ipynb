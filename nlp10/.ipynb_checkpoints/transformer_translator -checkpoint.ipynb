{
 "cells": [
  {
   "cell_type": "markdown",
   "id": "industrial-solid",
   "metadata": {},
   "source": [
    "프로젝트: 더 멋진 번역기 만들기\n",
    "===\n",
    "\n",
    "트랜스포머를 이용해 번역기를 만들어 본다. 먼저 내부 모듈을 하나하나 구현한 후, 조립하여 완성한다. 완성된 번역기를 테스트해 본다.\n",
    "\n",
    "[목차]\n",
    "1. 데이터 다운로드\n",
    "2. 데이터 정제 및 토큰화    \n",
    "    - 중복 제거    \n",
    "    - 정제 함수 정의    \n",
    "    - 토큰화    \n",
    "    - 데이터 선별 및 텐서 변환 \n",
    "3. 모델 설계\n",
    "4. 훈련하기    \n",
    "    - 2 Layer를 가지는 Transformer를 선언    \n",
    "    - Learning Rate Scheduler를 선언, 이를 포함하는 Adam Optimizer를 선언    \n",
    "    - Loss 함수를 정의    \n",
    "    - train_step 함수를 정의    \n",
    "    - 학습 진행 "
   ]
  },
  {
   "cell_type": "markdown",
   "id": "federal-reporter",
   "metadata": {},
   "source": [
    "# 1. 데이터 다운로드 "
   ]
  },
  {
   "cell_type": "markdown",
   "id": "taken-throw",
   "metadata": {},
   "source": [
    "아래 링크에서 korean-english-park.train.tar.gz 를 사용합니다. \n",
    "- korean-parallel-corpora : https://github.com/jungyeul/korean-parallel-corpora/tree/master/korean-english-news-v1\n"
   ]
  },
  {
   "cell_type": "code",
   "execution_count": 1,
   "id": "coordinate-router",
   "metadata": {},
   "outputs": [
    {
     "name": "stdout",
     "output_type": "stream",
     "text": [
      "korean-english-park.train.en  korean-english-park.train.ko\r\n"
     ]
    }
   ],
   "source": [
    "!ls ~/aiffel/GoingDeeper/nlp10/data"
   ]
  },
  {
   "cell_type": "code",
   "execution_count": 3,
   "id": "rural-target",
   "metadata": {},
   "outputs": [
    {
     "name": "stdout",
     "output_type": "stream",
     "text": [
      "2.4.1\n"
     ]
    }
   ],
   "source": [
    "# 라이브러리 임포트\n",
    "import numpy as np\n",
    "import tensorflow as tf\n",
    "import matplotlib.pyplot as plt\n",
    "\n",
    "import re\n",
    "import os\n",
    "import io\n",
    "import time\n",
    "import random\n",
    "\n",
    "import seaborn # 시각화\n",
    "\n",
    "print(tf.__version__)"
   ]
  },
  {
   "cell_type": "code",
   "execution_count": 5,
   "id": "developmental-concrete",
   "metadata": {},
   "outputs": [
    {
     "data": {
      "text/plain": [
       "'/usr/share/fonts/truetype/nanum/NanumBarunGothic.ttf'"
      ]
     },
     "execution_count": 5,
     "metadata": {},
     "output_type": "execute_result"
    }
   ],
   "source": [
    "import matplotlib as mpl\n",
    "import matplotlib.pyplot as plt\n",
    "import matplotlib.font_manager as fm\n",
    "\n",
    "%config InlineBackend.figure_format = 'retina'\n",
    " \n",
    "fontpath = '/usr/share/fonts/truetype/nanum/NanumBarunGothic.ttf'\n",
    "font = fm.FontProperties(fname=fontpath, size=9)\n",
    "plt.rc('font', family='NanumBarunGothic') \n",
    "mpl.font_manager.findfont(font)"
   ]
  },
  {
   "cell_type": "markdown",
   "id": "taken-nightlife",
   "metadata": {},
   "source": [
    "# 2. 데이터 정제 및 토큰화"
   ]
  },
  {
   "cell_type": "markdown",
   "id": "immediate-military",
   "metadata": {},
   "source": [
    "## 중복 제거 \n",
    "\n",
    " set 데이터형이 중복을 허용하지 않는다는 것을 활용해 중복된 데이터를 제거하도록 합니다. 데이터의 병렬 쌍이 흐트러지지 않게 주의합니다. 중복을 제거한 데이터를 cleaned_corpus 에 저장합니다."
   ]
  },
  {
   "cell_type": "code",
   "execution_count": 6,
   "id": "visible-albert",
   "metadata": {},
   "outputs": [],
   "source": [
    "data_dir = os.getenv('HOME')+'/aiffel/GoingDeeper/nlp10/data'\n",
    "kor_path = data_dir+\"/korean-english-park.train.ko\"\n",
    "eng_path = data_dir+\"/korean-english-park.train.en\""
   ]
  },
  {
   "cell_type": "code",
   "execution_count": 11,
   "id": "further-harrison",
   "metadata": {},
   "outputs": [],
   "source": [
    "# 데이터 정제 및 토큰화\n",
    "def clean_corpus(kor_path, eng_path):\n",
    "    with open(kor_path, \"r\") as f: kor = f.read().splitlines()\n",
    "    with open(eng_path, \"r\") as f: eng = f.read().splitlines()\n",
    "    assert len(kor) == len(eng)\n",
    "\n",
    "    # [[YOUR CODE]]\n",
    "    cleaned_corpus = []\n",
    "    for pair in zip(kor, eng) : \n",
    "        cleaned_corpus.append(pair)\n",
    "\n",
    "    return list(set(cleaned_corpus))\n",
    "\n",
    "cleaned_corpus = clean_corpus(kor_path, eng_path)"
   ]
  },
  {
   "cell_type": "code",
   "execution_count": 13,
   "id": "short-crown",
   "metadata": {},
   "outputs": [
    {
     "data": {
      "text/plain": [
       "[('미국은 북한의 핵 무기 계획을 중지 시키기 위한 노력의 일환으로 이 규제조치를 이달안에 마무리 짓겠다고 약속했었다.',\n",
       "  \"The United States had promised to resolve the case this month as part of international efforts to roll back the communist regime's nuclear-weapons program.\"),\n",
       " ('이로써 한국은 2014년까지 10년 간 쌀시장 전면 개방을 유예받는 대신 현행 쌀 평균소비량의4%에서 2014년의 7.96%에 이르기까지 물량을 늘려 수입하게 된다.',\n",
       "  'Under the bill, Seoul will raise its rice import quota to 7.96 percent from the current 4 percent by 2014 in return for a 10-year grace period for the full opening of the local rice market.'),\n",
       " ('한창 때에는, 상승 국면의 자금 시장이 혁신적인 새로운 기업들의 자금 확보를 용이하게 해준다.',\n",
       "  'During the good years, a buoyant financial market makes it easy to find financing for innovative new companies.'),\n",
       " ('미 시인작가 협회의 수상자인 하스(67)는 미 샌프란시스코 출신으로 베이에서 살고 있다.',\n",
       "  'Hass, 67, is a former U.S. poet laureate who grew up in San Francisco and still lives in the Bay area.'),\n",
       " ('다른 해군 마샬 매진칼다 상병(24)은 함다니야 살해사건으로 교도소에서 448일 복역을 마친 뒤 석방될 예정이다.',\n",
       "  'Another Marine, 24-year-old Cpl. Marshall Magincalda, was expected to be freed from prison Friday after having served 448 days for his conviction on a charge of conspiracy to commit murder in the Hamdaniya incident.')]"
      ]
     },
     "execution_count": 13,
     "metadata": {},
     "output_type": "execute_result"
    }
   ],
   "source": [
    "cleaned_corpus[:5]"
   ]
  },
  {
   "cell_type": "markdown",
   "id": "veterinary-frame",
   "metadata": {},
   "source": [
    "## 정제 함수 정의\n",
    "\n",
    "정제 함수를 아래 조건을 만족하게 정의합니다.\n",
    "- 모든 입력을 소문자로 변환합니다.\n",
    "- 알파벳, 문장부호, 한글만 남기고 모두 제거합니다.\n",
    "- 문장부호 양옆에 공백을 추가합니다.\n",
    "- 문장 앞뒤의 불필요한 공백을 제거합니다."
   ]
  },
  {
   "cell_type": "code",
   "execution_count": 14,
   "id": "outstanding-anime",
   "metadata": {},
   "outputs": [],
   "source": [
    "def preprocess_sentence(sentence):\n",
    "    \n",
    "    # 모든 입력을 소문자로 변환\n",
    "    sentence = sentence.lower()\n",
    "    # 알파벳, 문장부호, 한글만 남기고 모두 제거\n",
    "    sentence = re.sub(r\"[^0-9가-힣a-zA-Z?.!,]+\", \" \", sentence)\n",
    "    # 문장부호 양옆에 공백을 추가\n",
    "    sentence = re.sub(r\"([?.!,])\", r\" \\1 \", sentence)\n",
    "    sentence = re.sub(r'[\" \"]+', \" \", sentence)\n",
    "    # 문장 앞뒤의 불필요한 공백을 제거\n",
    "    sentence = sentence.strip()\n",
    "    \n",
    "    return sentence"
   ]
  },
  {
   "cell_type": "markdown",
   "id": "blessed-pizza",
   "metadata": {},
   "source": [
    "\n",
    "# 토큰화\n",
    "한글 말뭉치 kor_corpus 와 영문 말뭉치 eng_corpus 를 각각 분리한 후, 정제하여 토큰화를 진행합니다.     \n",
    "토큰화에는 Sentencepiece를 활용합니다. 공식 사이트를 참고해 아래 조건을 만족하는 generate_tokenizer() 함수를 정의합니다. \n",
    "- google/sentencepiece :     \n",
    "    https://github.com/google/sentencepiece    \n",
    "    https://github.com/google/sentencepiece/blob/master/python/README.md\n",
    "- SentencePiece Tokenizer : https://donghwa-kim.github.io/SPM.html\n",
    "    \n",
    "최종적으로 ko_tokenizer 과 en_tokenizer 를 얻습니다. en_tokenizer에는 set_encode_extra_options(\"bos:eos\") 함수를 실행해 타겟 입력이 문장의 시작 토큰과 끝 토큰을 포함할 수 있게 합니다.\n",
    "- 단어 사전을 매개변수로 받아 원하는 크기의 사전을 정의할 수 있게 합니다. (기본: 20,000)\n",
    "- 학습 후 저장된 model 파일을 SentencePieceProcessor() 클래스에 Load()한 후 반환합니다.\n",
    "- 특수 토큰의 인덱스를 아래와 동일하게 지정합니다.    \n",
    "    \\<PAD> : 0 / \\<BOS> : 1 / \\<EOS> : 2 / \\<UNK> : 3"
   ]
  },
  {
   "cell_type": "code",
   "execution_count": 19,
   "id": "descending-merchandise",
   "metadata": {},
   "outputs": [],
   "source": [
    "# Sentencepiece를 활용하여 학습한 tokenizer를 생성\n",
    "import sentencepiece as spm\n",
    "\n",
    "def generate_tokenizer(corpus,\n",
    "                        vocab_size,\n",
    "                        lang=\"ko\",\n",
    "                        pad_id=0,\n",
    "                        bos_id=1,\n",
    "                        eos_id=2,\n",
    "                        unk_id=3):\n",
    "    # [[YOUR CODE]]\n",
    "    model_prefix = 'spm_'+lang\n",
    "    spm.SentencePieceTrainer.Train( # unigram model \n",
    "        '--input={} --model_prefix={} --vocab_size={} \\\n",
    "        --pad_id={} --bos_id={} --eos_id={} --unk_id={}'.format(corpus, model_prefix, vocab_size, pad_id, bos_id, eos_id, unk_id)    \n",
    "    ) \n",
    "    \n",
    "    tokenizer = spm.SentencePieceProcessor()\n",
    "    tokenizer.Load(model_prefix+'.model')\n",
    "    \n",
    "    return tokenizer"
   ]
  },
  {
   "cell_type": "code",
   "execution_count": 21,
   "id": "polar-waterproof",
   "metadata": {},
   "outputs": [],
   "source": [
    "SRC_VOCAB_SIZE = TGT_VOCAB_SIZE = 20000\n",
    "\n",
    "eng_corpus = []\n",
    "kor_corpus = []\n",
    "\n",
    "for pair in cleaned_corpus:\n",
    "    k = pair[0]\n",
    "    e = pair[1]\n",
    "\n",
    "    kor_corpus.append(preprocess_sentence(k))\n",
    "    eng_corpus.append(preprocess_sentence(e))"
   ]
  },
  {
   "cell_type": "code",
   "execution_count": 23,
   "id": "eligible-bouquet",
   "metadata": {},
   "outputs": [
    {
     "data": {
      "text/plain": [
       "['미국은 북한의 핵 무기 계획을 중지 시키기 위한 노력의 일환으로 이 규제조치를 이달안에 마무리 짓겠다고 약속했었다 .',\n",
       " '이로써 한국은 2014년까지 10년 간 쌀시장 전면 개방을 유예받는 대신 현행 쌀 평균소비량의4 에서 2014년의 7 . 96 에 이르기까지 물량을 늘려 수입하게 된다 .',\n",
       " '한창 때에는 , 상승 국면의 자금 시장이 혁신적인 새로운 기업들의 자금 확보를 용이하게 해준다 .',\n",
       " '미 시인작가 협회의 수상자인 하스 67 는 미 샌프란시스코 출신으로 베이에서 살고 있다 .',\n",
       " '다른 해군 마샬 매진칼다 상병 24 은 함다니야 살해사건으로 교도소에서 448일 복역을 마친 뒤 석방될 예정이다 .']"
      ]
     },
     "execution_count": 23,
     "metadata": {},
     "output_type": "execute_result"
    }
   ],
   "source": [
    "kor_corpus[:5]"
   ]
  },
  {
   "cell_type": "code",
   "execution_count": 24,
   "id": "controlled-request",
   "metadata": {},
   "outputs": [
    {
     "data": {
      "text/plain": [
       "['the united states had promised to resolve the case this month as part of international efforts to roll back the communist regime s nuclear weapons program .',\n",
       " 'under the bill , seoul will raise its rice import quota to 7 . 96 percent from the current 4 percent by 2014 in return for a 10 year grace period for the full opening of the local rice market .',\n",
       " 'during the good years , a buoyant financial market makes it easy to find financing for innovative new companies .',\n",
       " 'hass , 67 , is a former u . s . poet laureate who grew up in san francisco and still lives in the bay area .',\n",
       " 'another marine , 24 year old cpl . marshall magincalda , was expected to be freed from prison friday after having served 448 days for his conviction on a charge of conspiracy to commit murder in the hamdaniya incident .']"
      ]
     },
     "execution_count": 24,
     "metadata": {},
     "output_type": "execute_result"
    }
   ],
   "source": [
    "eng_corpus[:5]"
   ]
  },
  {
   "cell_type": "code",
   "execution_count": null,
   "id": "noble-cream",
   "metadata": {},
   "outputs": [],
   "source": [
    "ko_tokenizer = generate_tokenizer(kor_corpus, SRC_VOCAB_SIZE, \"ko\")\n",
    "en_tokenizer = generate_tokenizer(eng_corpus, TGT_VOCAB_SIZE, \"en\")\n",
    "en_tokenizer.set_encode_extra_options(\"bos:eos\")"
   ]
  }
 ],
 "metadata": {
  "kernelspec": {
   "display_name": "Python 3",
   "language": "python",
   "name": "python3"
  },
  "language_info": {
   "codemirror_mode": {
    "name": "ipython",
    "version": 3
   },
   "file_extension": ".py",
   "mimetype": "text/x-python",
   "name": "python",
   "nbconvert_exporter": "python",
   "pygments_lexer": "ipython3",
   "version": "3.7.9"
  }
 },
 "nbformat": 4,
 "nbformat_minor": 5
}
