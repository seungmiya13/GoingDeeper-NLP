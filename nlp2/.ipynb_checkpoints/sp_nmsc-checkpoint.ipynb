{
 "cells": [
  {
   "cell_type": "markdown",
   "id": "blessed-implementation",
   "metadata": {},
   "source": [
    "프로젝트: SentencePiece 사용하기\n",
    "===\n",
    "\n",
    "SentencePiece는 SentencePiece는 Google에서 제공하는 오픈소스 기반 Sentence Tokenizer/Detokenizer 로서, BPE와 unigram 2가지 subword 토크나이징 모델 중 하나를 선택해서 사용할 수 있도록 패키징한 것입니다.\n",
    "- google/sentencepiece : https://github.com/google/sentencepiece    \n",
    "\n",
    "네이버 영화리뷰 감정 분석 태스크에서 tokenizer를 SentencePiece로 바꾸어 적용해 봅니다. \n",
    "- 네이버 영화리뷰 감정 분석 태스크 : https://github.com/e9t/nsmc/\n",
    "\n",
    "    \n",
    "    \n",
    "[목차]\n",
    "1. SentencePiece 설치하기\n",
    "2. Data 다운로드 및 분석\n",
    "3. SentencePiece 모델 학습\n",
    "4. Tokenizer 함수 작성 및 적용 \n",
    "5. 딥러닝 모델 설계와 훈련 및 validation set 구성\n",
    "6. SentencePiece의 성능 비교분석"
   ]
  },
  {
   "cell_type": "markdown",
   "id": "desirable-contributor",
   "metadata": {},
   "source": [
    "# 1. SentencePiece 설치하기\n",
    "\n",
    "다음과 같이 설치를 진행합니다. SentencePiece는 python에서 쓰라고 만들어진 라이브러리는 아니지만 편리한 파이썬 wrapper를 아래와 같이 제공하고 있습니다."
   ]
  },
  {
   "cell_type": "code",
   "execution_count": 1,
   "id": "commercial-folder",
   "metadata": {},
   "outputs": [
    {
     "name": "stdout",
     "output_type": "stream",
     "text": [
      "Requirement already satisfied: sentencepiece in /opt/conda/lib/python3.7/site-packages (0.1.95)\n",
      "\u001b[33mWARNING: You are using pip version 20.3.3; however, version 21.3.1 is available.\n",
      "You should consider upgrading via the '/opt/conda/bin/python3.7 -m pip install --upgrade pip' command.\u001b[0m\n"
     ]
    }
   ],
   "source": [
    "!pip install sentencepiece"
   ]
  },
  {
   "cell_type": "markdown",
   "id": "accurate-detail",
   "metadata": {},
   "source": [
    "# 2. Data 다운로드 및 분석 "
   ]
  },
  {
   "cell_type": "code",
   "execution_count": 2,
   "id": "false-assumption",
   "metadata": {},
   "outputs": [],
   "source": [
    "# 모듈 임포트\n",
    "import pandas as pd\n",
    "import urllib.request\n",
    "%matplotlib inline\n",
    "import matplotlib.pyplot as plt\n",
    "import tensorflow as tf\n",
    "import numpy as np\n",
    "import re\n",
    "from konlpy.tag import Okt\n",
    "from tensorflow import keras\n",
    "from tensorflow.keras.preprocessing.text import Tokenizer\n",
    "from tensorflow.keras.preprocessing.sequence import pad_sequences\n",
    "from collections import Counter"
   ]
  },
  {
   "cell_type": "markdown",
   "id": "straight-precipitation",
   "metadata": {},
   "source": [
    "## 2.1 데이터 확인 "
   ]
  },
  {
   "cell_type": "code",
   "execution_count": 3,
   "id": "celtic-trial",
   "metadata": {},
   "outputs": [
    {
     "data": {
      "text/html": [
       "<div>\n",
       "<style scoped>\n",
       "    .dataframe tbody tr th:only-of-type {\n",
       "        vertical-align: middle;\n",
       "    }\n",
       "\n",
       "    .dataframe tbody tr th {\n",
       "        vertical-align: top;\n",
       "    }\n",
       "\n",
       "    .dataframe thead th {\n",
       "        text-align: right;\n",
       "    }\n",
       "</style>\n",
       "<table border=\"1\" class=\"dataframe\">\n",
       "  <thead>\n",
       "    <tr style=\"text-align: right;\">\n",
       "      <th></th>\n",
       "      <th>id</th>\n",
       "      <th>document</th>\n",
       "      <th>label</th>\n",
       "    </tr>\n",
       "  </thead>\n",
       "  <tbody>\n",
       "    <tr>\n",
       "      <th>0</th>\n",
       "      <td>9976970</td>\n",
       "      <td>아 더빙.. 진짜 짜증나네요 목소리</td>\n",
       "      <td>0</td>\n",
       "    </tr>\n",
       "    <tr>\n",
       "      <th>1</th>\n",
       "      <td>3819312</td>\n",
       "      <td>흠...포스터보고 초딩영화줄....오버연기조차 가볍지 않구나</td>\n",
       "      <td>1</td>\n",
       "    </tr>\n",
       "    <tr>\n",
       "      <th>2</th>\n",
       "      <td>10265843</td>\n",
       "      <td>너무재밓었다그래서보는것을추천한다</td>\n",
       "      <td>0</td>\n",
       "    </tr>\n",
       "    <tr>\n",
       "      <th>3</th>\n",
       "      <td>9045019</td>\n",
       "      <td>교도소 이야기구먼 ..솔직히 재미는 없다..평점 조정</td>\n",
       "      <td>0</td>\n",
       "    </tr>\n",
       "    <tr>\n",
       "      <th>4</th>\n",
       "      <td>6483659</td>\n",
       "      <td>사이몬페그의 익살스런 연기가 돋보였던 영화!스파이더맨에서 늙어보이기만 했던 커스틴 ...</td>\n",
       "      <td>1</td>\n",
       "    </tr>\n",
       "  </tbody>\n",
       "</table>\n",
       "</div>"
      ],
      "text/plain": [
       "         id                                           document  label\n",
       "0   9976970                                아 더빙.. 진짜 짜증나네요 목소리      0\n",
       "1   3819312                  흠...포스터보고 초딩영화줄....오버연기조차 가볍지 않구나      1\n",
       "2  10265843                                  너무재밓었다그래서보는것을추천한다      0\n",
       "3   9045019                      교도소 이야기구먼 ..솔직히 재미는 없다..평점 조정      0\n",
       "4   6483659  사이몬페그의 익살스런 연기가 돋보였던 영화!스파이더맨에서 늙어보이기만 했던 커스틴 ...      1"
      ]
     },
     "execution_count": 3,
     "metadata": {},
     "output_type": "execute_result"
    }
   ],
   "source": [
    "# 데이터 읽어보기 \n",
    "train_data = pd.read_table('~/aiffel/GoingDeeper/nlp2/data/ratings_train.txt')\n",
    "test_data = pd.read_table('~/aiffel/GoingDeeper/nlp2/data/ratings_test.txt')\n",
    "\n",
    "train_data.head()"
   ]
  },
  {
   "cell_type": "code",
   "execution_count": 4,
   "id": "complete-tiger",
   "metadata": {},
   "outputs": [
    {
     "name": "stdout",
     "output_type": "stream",
     "text": [
      "(150000, 3)\n",
      "(50000, 3)\n"
     ]
    }
   ],
   "source": [
    "print(train_data.shape)\n",
    "print(test_data.shape)"
   ]
  },
  {
   "cell_type": "code",
   "execution_count": 5,
   "id": "aware-integer",
   "metadata": {},
   "outputs": [
    {
     "data": {
      "text/plain": [
       "<AxesSubplot:>"
      ]
     },
     "execution_count": 5,
     "metadata": {},
     "output_type": "execute_result"
    },
    {
     "data": {
      "image/png": "[encoded data removed]",
      "text/plain": [
       "<Figure size 432x288 with 1 Axes>"
      ]
     },
     "metadata": {
      "needs_background": "light"
     },
     "output_type": "display_data"
    }
   ],
   "source": [
    "# train_data의 라벨 분포 확인\n",
    "train_data['label'].value_counts().plot(kind = 'bar')"
   ]
  },
  {
   "cell_type": "code",
   "execution_count": 6,
   "id": "acoustic-population",
   "metadata": {},
   "outputs": [
    {
     "name": "stdout",
     "output_type": "stream",
     "text": [
      "   label  count\n",
      "0      0  75173\n",
      "1      1  74827\n"
     ]
    }
   ],
   "source": [
    "print(train_data.groupby('label').size().reset_index(name = 'count'))"
   ]
  },
  {
   "cell_type": "markdown",
   "id": "sustained-niagara",
   "metadata": {},
   "source": [
    "- 레이블이 비슷하지만 0인 리뷰가 근소하게 많은 것을 확인할 수 있습니다. "
   ]
  },
  {
   "cell_type": "markdown",
   "id": "athletic-bunny",
   "metadata": {},
   "source": [
    "## 2.2 데이터 전처리 "
   ]
  },
  {
   "cell_type": "markdown",
   "id": "adequate-firewall",
   "metadata": {},
   "source": [
    "### 중복 데이터 "
   ]
  },
  {
   "cell_type": "code",
   "execution_count": 7,
   "id": "equipped-compilation",
   "metadata": {},
   "outputs": [
    {
     "name": "stdout",
     "output_type": "stream",
     "text": [
      "146183 49158\n"
     ]
    }
   ],
   "source": [
    "# 중복 데이터 확인 \n",
    "print(len(set(train_data[\"document\"])), len(set(test_data[\"document\"])))"
   ]
  },
  {
   "cell_type": "markdown",
   "id": "harmful-interface",
   "metadata": {},
   "source": [
    "- 전체 데이터와 유니크한 데이터의 개수가 다른 것을 알 수 있습니다. 중복 데이터를 제거해 줍니다. "
   ]
  },
  {
   "cell_type": "code",
   "execution_count": 8,
   "id": "stainless-guitar",
   "metadata": {},
   "outputs": [
    {
     "name": "stdout",
     "output_type": "stream",
     "text": [
      "(146183, 3)\n",
      "(49158, 3)\n"
     ]
    }
   ],
   "source": [
    "# 중복 데이터 제거 \n",
    "train_data.drop_duplicates(subset=['document'], inplace=True)\n",
    "test_data.drop_duplicates(subset=['document'], inplace=True)\n",
    "\n",
    "print(train_data.shape)\n",
    "print(test_data.shape)"
   ]
  },
  {
   "cell_type": "markdown",
   "id": "working-medicine",
   "metadata": {},
   "source": [
    "- 중복 데이터가 잘 제거된 것을 확인할 수 있습니다."
   ]
  },
  {
   "cell_type": "markdown",
   "id": "convertible-equation",
   "metadata": {},
   "source": [
    "###  NULL 데이터 "
   ]
  },
  {
   "cell_type": "code",
   "execution_count": 9,
   "id": "adjacent-treaty",
   "metadata": {},
   "outputs": [
    {
     "name": "stdout",
     "output_type": "stream",
     "text": [
      "id          0\n",
      "document    1\n",
      "label       0\n",
      "dtype: int64\n",
      "id          0\n",
      "document    1\n",
      "label       0\n",
      "dtype: int64\n"
     ]
    }
   ],
   "source": [
    "# train_data의 NULL 개수 확인\n",
    "print(train_data.isnull().sum())\n",
    "print(test_data.isnull().sum())"
   ]
  },
  {
   "cell_type": "markdown",
   "id": "hourly-craft",
   "metadata": {},
   "source": [
    "- NULL 데이터에 대한 처리가 필요합니다. "
   ]
  },
  {
   "cell_type": "code",
   "execution_count": 10,
   "id": "czech-howard",
   "metadata": {},
   "outputs": [
    {
     "name": "stdout",
     "output_type": "stream",
     "text": [
      "(146182, 3)\n",
      "(49157, 3)\n"
     ]
    }
   ],
   "source": [
    "train_data = train_data.dropna(how = 'any') \n",
    "test_data = test_data.dropna(how = 'any') \n",
    "\n",
    "print(train_data.shape)\n",
    "print(test_data.shape)"
   ]
  },
  {
   "cell_type": "markdown",
   "id": "racial-garden",
   "metadata": {},
   "source": [
    "- NULL 데이터가 잘 제거된 것을 확인할 수 있습니다."
   ]
  },
  {
   "cell_type": "markdown",
   "id": "given-clear",
   "metadata": {},
   "source": [
    "### 문장 길이 분포 확인"
   ]
  },
  {
   "cell_type": "code",
   "execution_count": 11,
   "id": "funny-career",
   "metadata": {},
   "outputs": [
    {
     "name": "stdout",
     "output_type": "stream",
     "text": [
      "문장길이 평균 :  35.947880351593895\n",
      "문장길이 최대 :  146\n",
      "문장길이 표준편차 :  29.521958473787635\n"
     ]
    }
   ],
   "source": [
    "# 텍스트데이터 문장길이의 리스트를 생성\n",
    "total_data_text = list(train_data['document']) + list(test_data['document'])\n",
    "\n",
    "num_tokens = [len(tokens) for tokens in total_data_text]\n",
    "num_tokens = np.array(num_tokens)\n",
    "\n",
    "# 문장길이의 평균값, 최대값, 표준편차 계산\n",
    "print('문장길이 평균 : ', np.mean(num_tokens))\n",
    "print('문장길이 최대 : ', np.max(num_tokens))\n",
    "print('문장길이 표준편차 : ', np.std(num_tokens))"
   ]
  },
  {
   "cell_type": "code",
   "execution_count": 12,
   "id": "parallel-horizontal",
   "metadata": {},
   "outputs": [
    {
     "data": {
      "image/png": "[encoded data removed]",
      "text/plain": [
       "<Figure size 432x288 with 1 Axes>"
      ]
     },
     "metadata": {
      "needs_background": "light"
     },
     "output_type": "display_data"
    }
   ],
   "source": [
    "# 문장 길이 분포 확인\n",
    "plt.hist([len(tokens) for tokens in total_data_text], bins=50)\n",
    "plt.xlabel('length of samples')\n",
    "plt.ylabel('number of samples')\n",
    "plt.title(\"Sentence Length Distribution\")\n",
    "plt.show()"
   ]
  },
  {
   "cell_type": "code",
   "execution_count": 13,
   "id": "liked-cookbook",
   "metadata": {},
   "outputs": [],
   "source": [
    "# 문장의 길이 별로 확인하는 함수\n",
    "def check_sentence_with_length(raw, length):\n",
    "    count = 0\n",
    "    \n",
    "    for sen in raw:\n",
    "        if len(sen) == length:\n",
    "            print(sen)\n",
    "            count += 1\n",
    "            if count > 100: return"
   ]
  },
  {
   "cell_type": "code",
   "execution_count": 14,
   "id": "worthy-privilege",
   "metadata": {},
   "outputs": [
    {
     "name": "stdout",
     "output_type": "stream",
     "text": [
      "아\n",
      "잼\n",
      "1\n",
      "4\n",
      "굿\n",
      "짱\n",
      "휴\n",
      ".\n",
      "음\n",
      "?\n",
      "ㅎ\n",
      "ㅋ\n",
      "즐\n",
      "♥\n",
      "굳\n",
      "네\n",
      "ㅇ\n",
      "k\n",
      "ㅠ\n",
      "쒯\n",
      "♬\n",
      "토\n",
      "O\n",
      "똥\n",
      "z\n",
      "헐\n",
      "삼\n",
      "꽝\n",
      "!\n",
      "풉\n",
      "ㅅ\n",
      "왜\n",
      "ㄴ\n",
      "쉣\n",
      "봐\n",
      "뿌\n",
      "ㅜ\n",
      "♡\n",
      "ㅁ\n",
      "0\n",
      "ㅉ\n",
      "d\n",
      "흥\n",
      "乃\n",
      "찜\n",
      "귯\n",
      "린\n",
      "시\n",
      "ㅗ\n",
      "a\n",
      "c\n",
      "흠\n",
      "웅\n",
      "ㅣ\n",
      "오\n",
      "9\n",
      "쩜\n",
      "애\n",
      "헝\n",
      "쨩\n",
      "f\n",
      "움\n",
      "ㄳ\n",
      "업\n",
      "헉\n",
      "군\n",
      "b\n",
      ";\n",
      "g\n",
      "올\n",
      "걍\n",
      "허\n",
      "-\n",
      "쀍\n",
      "로\n",
      "ㄹ\n",
      "ㅂ\n",
      "갑\n",
      "즛\n",
      "킥\n",
      "함\n",
      "진\n",
      "ㅡ\n",
      "잠\n",
      "곧\n",
      "ㅍ\n",
      "h\n",
      "·\n",
      "캬\n",
      "ㅆ\n",
      ",\n",
      "풋\n",
      "ㄱ\n",
      "파\n",
      "ㄷ\n",
      "웩\n",
      "꺅\n",
      "욜\n",
      "ㅄ\n",
      "2\n",
      "핡\n"
     ]
    }
   ],
   "source": [
    "# 길이가 1인 문장 \n",
    "check_sentence_with_length(total_data_text, 1)"
   ]
  },
  {
   "cell_type": "code",
   "execution_count": 15,
   "id": "swedish-removal",
   "metadata": {},
   "outputs": [
    {
     "name": "stdout",
     "output_type": "stream",
     "text": [
      "좋구나\n",
      "10점\n",
      "처ㅝ주\n",
      "솔직히\n",
      "4대강\n",
      "재밌다\n",
      "재밌군\n",
      "좋았다\n",
      "재미무\n",
      "보지마\n",
      "볼만함\n",
      "b b\n",
      "dsa\n",
      "웃스!\n",
      "♥♥♥\n",
      "재밋네\n",
      "최고다\n",
      "재밌음\n",
      "쓰래기\n",
      "갑이다\n",
      "료코짱\n",
      "2빠닼\n",
      "만세-\n",
      "OOO\n",
      "ㅋㅋㅋ\n",
      "아하!\n",
      "재및음\n",
      "좋아여\n",
      "재미쪙\n",
      "대박!\n",
      "에혀~\n",
      "3.6\n",
      "가보자\n",
      "bad\n",
      "신선함\n",
      "와우!\n",
      "즐ㄹㅋ\n",
      "좋아요\n",
      "아ㅅㅂ\n",
      "쨩이야\n",
      "굿~!\n",
      "ㅉㅉㅉ\n",
      "재밋다\n",
      "지못미\n",
      "나이스\n",
      "오짱!\n",
      "전형적\n",
      "원주율\n",
      "좋은테\n",
      "2.6\n",
      "굿!!\n",
      "1등?\n",
      "보세요\n",
      "잼없다\n",
      "다섯개\n",
      "접어라\n",
      "쓰중쓰\n",
      "좋다.\n",
      "음..\n",
      "좋군.\n",
      "싸우자\n",
      "멋져.\n",
      "...\n",
      "직인다\n",
      "짱짱짱\n",
      "별로임\n",
      "진리임\n",
      "감동적\n",
      "최고!\n",
      "재밌어\n",
      "걍 굿\n",
      "아시바\n",
      "최고~\n",
      "팬이다\n",
      "별로다\n",
      "좋다,\n",
      "잼있다\n",
      "최고.\n",
      "감동!\n",
      "잠온다\n",
      "의리!\n",
      "별로~\n",
      "즐..\n",
      "썩었내\n",
      "짱멋짐\n",
      "ㄴㄹㄴ\n",
      "성룡짱\n",
      "꿀잼♥\n",
      "쵝오!\n",
      "괜찮네\n",
      "막장.\n",
      "억지.\n",
      "김서울\n",
      "철규찡\n",
      "무셔움\n",
      "지겨워\n",
      "꼭보셈\n",
      "쓰레기\n",
      "그다지\n",
      "훌륭함\n",
      "최고임\n"
     ]
    }
   ],
   "source": [
    "# 길이가 3인 문장 \n",
    "check_sentence_with_length(total_data_text, 3)"
   ]
  },
  {
   "cell_type": "markdown",
   "id": "collect-distinction",
   "metadata": {},
   "source": [
    "- 짧은 데이터도 감성 분석에서 사용될 수 있으므로 최대 길이만 지정하여 적절한 문장 길이를 지정해 줍니다. "
   ]
  },
  {
   "cell_type": "code",
   "execution_count": 16,
   "id": "scenic-perception",
   "metadata": {},
   "outputs": [
    {
     "name": "stdout",
     "output_type": "stream",
     "text": [
      "pad_sequences maxlen :  103\n",
      "전체 문장의 0.9441944516967937%가 maxlen 설정값 이내에 포함됩니다. \n"
     ]
    }
   ],
   "source": [
    "# 최대 길이를 (평균 + 2.3*표준편차)로 지정한다면,  \n",
    "max_tokens = np.mean(num_tokens) + 2.3 * np.std(num_tokens)\n",
    "maxlen = int(max_tokens)\n",
    "print('pad_sequences maxlen : ', maxlen)\n",
    "print('전체 문장의 {}%가 maxlen 설정값 이내에 포함됩니다. '.format(np.sum(num_tokens < max_tokens) / len(num_tokens)))"
   ]
  },
  {
   "cell_type": "code",
   "execution_count": 17,
   "id": "wired-skirt",
   "metadata": {},
   "outputs": [
    {
     "name": "stdout",
     "output_type": "stream",
     "text": [
      "138008\n",
      "(138008, 3)\n"
     ]
    }
   ],
   "source": [
    "max_len = 103\n",
    "\n",
    "# 길이 조건에 맞는 문장만 선택\n",
    "filtered_train_text = [s for s in list(train_data['document']) if len(s) <= max_len]\n",
    "filtered_train_data = train_data.loc[(train_data['document'].isin(filtered_train_text))]\n",
    "print(len(filtered_train_text))\n",
    "print(filtered_train_data.shape)"
   ]
  },
  {
   "cell_type": "code",
   "execution_count": 18,
   "id": "related-cyprus",
   "metadata": {},
   "outputs": [
    {
     "name": "stdout",
     "output_type": "stream",
     "text": [
      "46430\n",
      "(46430, 3)\n"
     ]
    }
   ],
   "source": [
    "filtered_test_text = [s for s in list(test_data['document']) if len(s) <= max_len]\n",
    "filtered_test_data = test_data.loc[(test_data['document'].isin(filtered_test_text))]\n",
    "print(len(filtered_test_text))\n",
    "print(filtered_test_data.shape)"
   ]
  },
  {
   "cell_type": "code",
   "execution_count": 19,
   "id": "cloudy-passage",
   "metadata": {},
   "outputs": [
    {
     "data": {
      "image/png": "[encoded data removed]",
      "text/plain": [
       "<Figure size 432x288 with 1 Axes>"
      ]
     },
     "metadata": {
      "needs_background": "light"
     },
     "output_type": "display_data"
    }
   ],
   "source": [
    "filtered_corpus = filtered_train_text + filtered_test_text\n",
    "\n",
    "# 분포도 다시 그려보기\n",
    "sentence_length = np.zeros((max_len), dtype=np.int)\n",
    "\n",
    "for sen in filtered_corpus:\n",
    "    sentence_length[len(sen)-1] += 1\n",
    "\n",
    "plt.bar(range(max_len), sentence_length, width=1.0)\n",
    "plt.title(\"Sentence Length Distribution\")\n",
    "plt.xlabel('length of samples')\n",
    "plt.ylabel('number of samples')\n",
    "plt.show()"
   ]
  },
  {
   "cell_type": "markdown",
   "id": "conservative-estimate",
   "metadata": {},
   "source": [
    "- 최종적인 데이터 분포를 확인해 보았습니다."
   ]
  },
  {
   "cell_type": "markdown",
   "id": "beneficial-polls",
   "metadata": {},
   "source": [
    "# 3. SentencePiece 모델 학습\n",
    "\n",
    "sentence piece 모델에서 unigram model을 학습시켜 봅니다. "
   ]
  },
  {
   "cell_type": "code",
   "execution_count": 20,
   "id": "decimal-dream",
   "metadata": {},
   "outputs": [],
   "source": [
    "import sentencepiece as spm\n",
    "import os\n",
    "temp_file = os.getenv('HOME')+'/aiffel/GoingDeeper/nlp2/data/nmsc_spm.train.ko.temp'\n",
    "\n",
    "vocab_size = 8000\n",
    "\n",
    "with open(temp_file, 'w') as f:\n",
    "    for row in filtered_corpus:   # 이전 스텝에서 정제했던 corpus 활용\n",
    "        f.write(str(row) + '\\n')\n",
    "\n",
    "spm.SentencePieceTrainer.Train( # unigram model \n",
    "    '--input={} --model_prefix=nmsc_spm_unigram --vocab_size={}'.format(temp_file, vocab_size)    \n",
    ") "
   ]
  },
  {
   "cell_type": "markdown",
   "id": "scientific-employment",
   "metadata": {},
   "source": [
    "- spm.SentencePieceTrainer.Train() :      \n",
    "    https://github.com/google/sentencepiece/tree/master/python#model-training     \n",
    "    parameter :    \n",
    "    - --input: one-sentence-per-line raw corpus file    \n",
    "    - --model_prefix: output model name prefix\n",
    "    - --vocab_size: vocabulary size    \n",
    "    - --model_type: model type. Choose from unigram (default), bpe, char, or word     \n",
    "    https://github.com/google/sentencepiece#train-sentencepiece-model"
   ]
  },
  {
   "cell_type": "code",
   "execution_count": 21,
   "id": "divided-banks",
   "metadata": {},
   "outputs": [
    {
     "name": "stdout",
     "output_type": "stream",
     "text": [
      "-rw-r--r-- 1 root root 375008 Dec 20 00:49 nmsc_spm_unigram.model\r\n",
      "-rw-r--r-- 1 root root 144447 Dec 20 00:49 nmsc_spm_unigram.vocab\r\n"
     ]
    }
   ],
   "source": [
    "!ls -l nmsc_spm_unigram*"
   ]
  },
  {
   "cell_type": "markdown",
   "id": "possible-vancouver",
   "metadata": {},
   "source": [
    "- 정상적으로 SentencePiece 모델 학습이 완료된 후 nmsc_spm_unigram.model 파일과 nmsc_spm_unigram.vocab vocabulary 파일이 생성되었음을 확인할 수 있습니다.\n",
    "      \n",
    "그럼 이렇게 학습된 SentencePiece 모델을 어떻게 활용하는지 살펴보겠습니다."
   ]
  },
  {
   "cell_type": "code",
   "execution_count": 22,
   "id": "addressed-harrison",
   "metadata": {},
   "outputs": [
    {
     "name": "stdout",
     "output_type": "stream",
     "text": [
      "[1488, 9, 396, 15, 1334, 9, 137, 16, 4]\n",
      "['▁아버지', '가', '방', '에', '들어', '가', '신', '다', '.']\n",
      "아버지가방에들어가신다.\n"
     ]
    }
   ],
   "source": [
    "s = spm.SentencePieceProcessor()\n",
    "s.Load('nmsc_spm_unigram.model')\n",
    "\n",
    "# SentencePiece를 활용한 sentence -> encoding\n",
    "tokensIDs = s.EncodeAsIds('아버지가방에들어가신다.')\n",
    "print(tokensIDs)\n",
    "\n",
    "# SentencePiece를 활용한 sentence -> encoded pieces\n",
    "print(s.SampleEncodeAsPieces('아버지가방에들어가신다.',1, 0.0))\n",
    "\n",
    "# SentencePiece를 활용한 encoding -> sentence 복원\n",
    "print(s.DecodeIds(tokensIDs))"
   ]
  },
  {
   "attachments": {
    "image.png": {
     "image/png": "[encoded data removed]"
    }
   },
   "cell_type": "markdown",
   "id": "ranking-delay",
   "metadata": {},
   "source": [
    "# 4.  Tokenizer 함수 작성\n",
    "\n",
    "\n",
    "![image.png](attachment:image.png)\n",
    "    \n",
    "우리는 위에서 훈련시킨 SentencePiece를 활용하여 위 함수와 유사한 기능을 하는 sp_tokenize() 함수를 정의할 겁니다. 하지만 SentencePiece가 동작하는 방식이 단순 토큰화와는 달라 완전히 동일하게는 정의하기 어렵습니다. 그러니 아래 조건을 만족하는 함수를 정의하도록 하습니다.\n",
    "\n",
    "1. 매개변수로 토큰화된 문장의 list를 전달하는 대신 온전한 문장의 list 를 전달합니다.\n",
    "\n",
    "2. 생성된 vocab 파일을 읽어와 { \\<word> : \\<idx> } 형태를 가지는 word_index 사전과 { \\<idx> : \\<word>} 형태를 가지는 index_word 사전을 생성하고 함께 반환합니다.\n",
    "\n",
    "3. 리턴값인 tensor 는 앞의 함수와 동일하게 토큰화한 후 Encoding된 문장입니다. 바로 학습에 사용할 수 있게 Padding 처리를 해줍니다. "
   ]
  },
  {
   "cell_type": "code",
   "execution_count": 23,
   "id": "minus-geography",
   "metadata": {},
   "outputs": [],
   "source": [
    "def sp_tokenize(s, corpus):\n",
    "    # s : SentencePieceProcessor\n",
    "    # corpus : sentence's List  # 1\n",
    "\n",
    "    tensor = []\n",
    "\n",
    "    for sen in corpus:\n",
    "        tensor.append(s.EncodeAsIds(sen))\n",
    "\n",
    "    with open(\"./nmsc_spm_unigram.vocab\", 'r') as f:\n",
    "        vocab = f.readlines()\n",
    "    \n",
    "    # 2\n",
    "    word_index = {}\n",
    "    index_word = {}\n",
    "\n",
    "    for idx, line in enumerate(vocab):\n",
    "        word = line.split(\"\\t\")[0]\n",
    "\n",
    "        word_index.update({idx:word})\n",
    "        index_word.update({word:idx})\n",
    "    \n",
    "    # 3\n",
    "    tensor = tf.keras.preprocessing.sequence.pad_sequences(tensor, padding='post')\n",
    "\n",
    "    return tensor, word_index, index_word"
   ]
  },
  {
   "cell_type": "markdown",
   "id": "entitled-chassis",
   "metadata": {},
   "source": [
    "- f.readlines() : ead all the lines of a file in a list    \n",
    "    https://docs.python.org/3/tutorial/inputoutput.html#methods-of-file-objects\n",
    "- dict.update() : Update the dictionary with the key/value pairs, overwriting existing keys    \n",
    "    https://docs.python.org/3/library/stdtypes.html#dict.update\n",
    "- tf.keras.preprocessing.sequence.pad_sequences() : Pads sequences to the same length     \n",
    "    https://www.tensorflow.org/api_docs/python/tf/keras/preprocessing/sequence/pad_sequences"
   ]
  },
  {
   "cell_type": "code",
   "execution_count": 24,
   "id": "dense-institute",
   "metadata": {},
   "outputs": [
    {
     "name": "stdout",
     "output_type": "stream",
     "text": [
      "[[ 556 3349   14 1390 2288    4    0    0    0    0]\n",
      " [1592 2304  258  586    9    3   17 7938  599    8]]\n"
     ]
    }
   ],
   "source": [
    "#sp_tokenize(s, corpus) 사용예제\n",
    "\n",
    "my_corpus = ['나는 밥을 먹었습니다.', '그러나 여전히 ㅠㅠ 배가 고픕니다...']\n",
    "tensor, word_index, index_word = sp_tokenize(s, my_corpus)\n",
    "print(tensor)"
   ]
  },
  {
   "cell_type": "markdown",
   "id": "structured-geneva",
   "metadata": {},
   "source": [
    "## SentencePiece 토크나이저로 토큰화"
   ]
  },
  {
   "cell_type": "code",
   "execution_count": 25,
   "id": "emotional-blanket",
   "metadata": {},
   "outputs": [
    {
     "name": "stdout",
     "output_type": "stream",
     "text": [
      "(138008, 3) (46430, 3)\n"
     ]
    }
   ],
   "source": [
    "print(filtered_train_data.shape, filtered_test_data.shape)"
   ]
  },
  {
   "cell_type": "code",
   "execution_count": 27,
   "id": "celtic-editing",
   "metadata": {},
   "outputs": [
    {
     "name": "stdout",
     "output_type": "stream",
     "text": [
      "184438\n"
     ]
    }
   ],
   "source": [
    "print(len(filtered_corpus)) # filtered_train_text + filtered_test_text"
   ]
  },
  {
   "cell_type": "code",
   "execution_count": 28,
   "id": "revised-sleeping",
   "metadata": {},
   "outputs": [],
   "source": [
    "tensor, word_index, index_word = sp_tokenize(s, filtered_corpus)"
   ]
  },
  {
   "cell_type": "code",
   "execution_count": 30,
   "id": "documentary-sperm",
   "metadata": {},
   "outputs": [
    {
     "name": "stdout",
     "output_type": "stream",
     "text": [
      "138008 46430\n",
      "138008 46430\n"
     ]
    }
   ],
   "source": [
    "# X_train, y_train, X_test, y_test 만들기 \n",
    "X_train, y_train = tensor[:138008], np.array(list(filtered_train_data['label']))\n",
    "X_test, y_test = tensor[138008:], np.array(list(filtered_test_data['label']))\n",
    "\n",
    "print(len(X_train), len(X_test))\n",
    "print(len(y_train), len(y_test))"
   ]
  },
  {
   "cell_type": "code",
   "execution_count": 31,
   "id": "addressed-shelter",
   "metadata": {},
   "outputs": [
    {
     "name": "stdout",
     "output_type": "stream",
     "text": [
      "(138008, 79)\n",
      "(46430, 79)\n"
     ]
    }
   ],
   "source": [
    "print(X_train.shape)\n",
    "print(X_test.shape)"
   ]
  },
  {
   "cell_type": "markdown",
   "id": "utility-margin",
   "metadata": {},
   "source": [
    "- train, test 데이터의 tensor가 잘 만들어진 것을 알 수 있다. "
   ]
  },
  {
   "cell_type": "markdown",
   "id": "legal-increase",
   "metadata": {},
   "source": [
    "# 5. 딥러닝 모델 설계와 훈련 및 validation set 구성"
   ]
  },
  {
   "cell_type": "markdown",
   "id": "indie-chicken",
   "metadata": {},
   "source": [
    "## validation set 구성\n",
    "\n",
    "Validation set(검정 데이터)은 training set으로 만들어진 모델의 성능을 측정하기 위해 사용된다. 일반적으로 어떤 모델이 가장 데이터에 적합한지 찾아내기 위해서 다양한 파라미터와 모델을 사용해보게 되며, 그 중 validation set으로 가장 성능이 좋았던 모델을 선택한다.\n",
    "- 참고 : https://modern-manual.tistory.com/19"
   ]
  },
  {
   "cell_type": "code",
   "execution_count": 32,
   "id": "heard-peeing",
   "metadata": {},
   "outputs": [
    {
     "name": "stdout",
     "output_type": "stream",
     "text": [
      "(100000, 79)\n",
      "(100000,)\n",
      "(38008, 79)\n",
      "(38008,)\n"
     ]
    }
   ],
   "source": [
    "# train set 100000건 분리\n",
    "partial_x_train = X_train[:100000]  \n",
    "partial_y_train = y_train[:100000]\n",
    "\n",
    "# train set을 제외한 나머지 validation set\n",
    "x_val = X_train[100000:]   \n",
    "y_val = y_train[100000:]\n",
    "\n",
    "print(partial_x_train.shape)\n",
    "print(partial_y_train.shape)\n",
    "print(x_val.shape)\n",
    "print(y_val.shape)"
   ]
  },
  {
   "cell_type": "markdown",
   "id": "needed-classification",
   "metadata": {},
   "source": [
    "## RNN 모델\n",
    "\n",
    "텍스트 데이터를 다루는 데 주로 사용되는 딥러닝 모델은 바로 Recurrent Neural Network(RNN)입니다. RNN은 시퀀스(Sequence) 형태의 데이터를 처리하기에 최적인 모델로 알려져 있습니다."
   ]
  },
  {
   "cell_type": "code",
   "execution_count": 33,
   "id": "occasional-norfolk",
   "metadata": {},
   "outputs": [
    {
     "name": "stdout",
     "output_type": "stream",
     "text": [
      "Model: \"sequential\"\n",
      "_________________________________________________________________\n",
      "Layer (type)                 Output Shape              Param #   \n",
      "=================================================================\n",
      "embedding (Embedding)        (None, None, 32)          256000    \n",
      "_________________________________________________________________\n",
      "lstm (LSTM)                  (None, 8)                 1312      \n",
      "_________________________________________________________________\n",
      "dense (Dense)                (None, 8)                 72        \n",
      "_________________________________________________________________\n",
      "dense_1 (Dense)              (None, 1)                 9         \n",
      "=================================================================\n",
      "Total params: 257,393\n",
      "Trainable params: 257,393\n",
      "Non-trainable params: 0\n",
      "_________________________________________________________________\n"
     ]
    }
   ],
   "source": [
    "vocab_size = 8000    # 어휘 사전의 크기 (8000개의 단어)\n",
    "word_vector_dim = 32  # 워드 벡터의 차원 수 (변경 가능한 하이퍼파라미터)\n",
    "\n",
    "# 모델 설계 \n",
    "rnn_model = keras.Sequential()\n",
    "rnn_model.add(keras.layers.Embedding(vocab_size, word_vector_dim, input_shape=(None,)))\n",
    "rnn_model.add(keras.layers.LSTM(8))   # 가장 널리 쓰이는 RNN인 LSTM 레이어를 사용, LSTM state 벡터의 차원수는 8로 \n",
    "rnn_model.add(keras.layers.Dense(8, activation='relu'))\n",
    "rnn_model.add(keras.layers.Dense(1, activation='sigmoid'))  # 최종 출력은 긍정/부정을 나타내는 1dim 입니다.\n",
    "\n",
    "rnn_model.summary()"
   ]
  },
  {
   "cell_type": "code",
   "execution_count": 34,
   "id": "sticky-louisiana",
   "metadata": {},
   "outputs": [
    {
     "name": "stdout",
     "output_type": "stream",
     "text": [
      "Epoch 1/20\n",
      "196/196 [==============================] - 7s 22ms/step - loss: 0.6932 - accuracy: 0.5018 - val_loss: 0.6932 - val_accuracy: 0.5014\n",
      "Epoch 2/20\n",
      "196/196 [==============================] - 4s 18ms/step - loss: 0.6932 - accuracy: 0.5005 - val_loss: 0.6932 - val_accuracy: 0.5014\n",
      "Epoch 3/20\n",
      "196/196 [==============================] - 4s 19ms/step - loss: 0.6932 - accuracy: 0.5001 - val_loss: 0.6931 - val_accuracy: 0.5014\n",
      "Epoch 4/20\n",
      "196/196 [==============================] - 4s 19ms/step - loss: 0.6931 - accuracy: 0.5011 - val_loss: 0.6931 - val_accuracy: 0.5014\n",
      "Epoch 5/20\n",
      "196/196 [==============================] - 4s 19ms/step - loss: 0.6931 - accuracy: 0.5009 - val_loss: 0.6931 - val_accuracy: 0.5014\n",
      "Epoch 6/20\n",
      "196/196 [==============================] - 4s 19ms/step - loss: 0.6931 - accuracy: 0.5014 - val_loss: 0.6931 - val_accuracy: 0.5014\n",
      "Epoch 7/20\n",
      "196/196 [==============================] - 4s 19ms/step - loss: 0.6932 - accuracy: 0.5002 - val_loss: 0.6932 - val_accuracy: 0.5014\n",
      "Epoch 8/20\n",
      "196/196 [==============================] - 4s 19ms/step - loss: 0.6931 - accuracy: 0.5022 - val_loss: 0.6931 - val_accuracy: 0.5014\n",
      "Epoch 9/20\n",
      "196/196 [==============================] - 4s 19ms/step - loss: 0.6931 - accuracy: 0.4994 - val_loss: 0.6931 - val_accuracy: 0.5014\n",
      "Epoch 10/20\n",
      "196/196 [==============================] - 4s 19ms/step - loss: 0.6931 - accuracy: 0.5011 - val_loss: 0.6931 - val_accuracy: 0.5014\n",
      "Epoch 11/20\n",
      "196/196 [==============================] - 4s 19ms/step - loss: 0.6932 - accuracy: 0.5023 - val_loss: 0.6931 - val_accuracy: 0.5014\n",
      "Epoch 12/20\n",
      "196/196 [==============================] - 4s 19ms/step - loss: 0.6931 - accuracy: 0.5004 - val_loss: 0.6931 - val_accuracy: 0.5014\n",
      "Epoch 13/20\n",
      "196/196 [==============================] - 4s 19ms/step - loss: 0.6931 - accuracy: 0.5034 - val_loss: 0.6931 - val_accuracy: 0.4986\n",
      "Epoch 14/20\n",
      "196/196 [==============================] - 4s 19ms/step - loss: 0.6931 - accuracy: 0.4986 - val_loss: 0.6931 - val_accuracy: 0.5014\n",
      "Epoch 15/20\n",
      "196/196 [==============================] - 4s 19ms/step - loss: 0.6931 - accuracy: 0.5031 - val_loss: 0.6931 - val_accuracy: 0.5014\n",
      "Epoch 16/20\n",
      "196/196 [==============================] - 4s 19ms/step - loss: 0.6931 - accuracy: 0.5019 - val_loss: 0.6931 - val_accuracy: 0.5014\n",
      "Epoch 17/20\n",
      "196/196 [==============================] - 4s 19ms/step - loss: 0.6932 - accuracy: 0.4965 - val_loss: 0.6931 - val_accuracy: 0.5014\n",
      "Epoch 18/20\n",
      "196/196 [==============================] - 4s 19ms/step - loss: 0.6932 - accuracy: 0.4975 - val_loss: 0.6931 - val_accuracy: 0.5014\n",
      "Epoch 19/20\n",
      "196/196 [==============================] - 4s 19ms/step - loss: 0.6931 - accuracy: 0.5007 - val_loss: 0.6931 - val_accuracy: 0.5014\n",
      "Epoch 20/20\n",
      "196/196 [==============================] - 4s 18ms/step - loss: 0.6931 - accuracy: 0.5047 - val_loss: 0.6931 - val_accuracy: 0.5014\n"
     ]
    }
   ],
   "source": [
    "# 모델 학습 \n",
    "rnn_model.compile(optimizer='adam',\n",
    "              loss='binary_crossentropy',\n",
    "              metrics=['accuracy'])\n",
    "              \n",
    "epochs=20  # 몇 epoch를 훈련하면 좋을지 결과를 보면서 바꾸어 보기\n",
    "\n",
    "rnn_history = rnn_model.fit(partial_x_train,\n",
    "                    partial_y_train,\n",
    "                    epochs=epochs,\n",
    "                    batch_size=512,\n",
    "                    validation_data=(x_val, y_val),\n",
    "                    verbose=1)"
   ]
  },
  {
   "cell_type": "code",
   "execution_count": 35,
   "id": "domestic-driving",
   "metadata": {},
   "outputs": [
    {
     "name": "stdout",
     "output_type": "stream",
     "text": [
      "dict_keys(['loss', 'accuracy', 'val_loss', 'val_accuracy'])\n"
     ]
    }
   ],
   "source": [
    "# train/validation loss, accuracy 확인\n",
    "rnn_history_dict = rnn_history.history\n",
    "print(rnn_history_dict.keys()) # epoch에 따른 그래프를 그려볼 수 있는 항목들"
   ]
  },
  {
   "cell_type": "code",
   "execution_count": 36,
   "id": "perfect-vampire",
   "metadata": {},
   "outputs": [],
   "source": [
    "rnn_acc = rnn_history_dict['accuracy']\n",
    "rnn_val_acc = rnn_history_dict['val_accuracy']\n",
    "rnn_loss = rnn_history_dict['loss']\n",
    "rnn_val_loss = rnn_history_dict['val_loss']"
   ]
  },
  {
   "cell_type": "code",
   "execution_count": 37,
   "id": "alternate-collaboration",
   "metadata": {},
   "outputs": [
    {
     "data": {
      "image/png": "[encoded data removed]",
      "text/plain": [
       "<Figure size 432x288 with 1 Axes>"
      ]
     },
     "metadata": {
      "needs_background": "light"
     },
     "output_type": "display_data"
    }
   ],
   "source": [
    "## Training loss & Validation loss 그래프 \n",
    "epochs = range(1, len(rnn_acc) + 1)\n",
    "\n",
    "# r는 \"빨간 실선\"\n",
    "plt.plot(epochs, rnn_loss, 'r', label='Training loss')\n",
    "# b는 \"파란 실선\"\n",
    "plt.plot(epochs, rnn_val_loss, 'b', label='Validation loss')\n",
    "plt.title('RNN Training and validation loss')\n",
    "plt.xlabel('Epochs')\n",
    "plt.ylabel('Loss')\n",
    "plt.legend()\n",
    "\n",
    "plt.show()"
   ]
  },
  {
   "cell_type": "code",
   "execution_count": 38,
   "id": "vital-anchor",
   "metadata": {},
   "outputs": [
    {
     "data": {
      "image/png": "[encoded data removed]",
      "text/plain": [
       "<Figure size 432x288 with 1 Axes>"
      ]
     },
     "metadata": {
      "needs_background": "light"
     },
     "output_type": "display_data"
    }
   ],
   "source": [
    "## Training accuracy & validation accuracy 그래프\n",
    "\n",
    "plt.clf()   # 그림 초기화\n",
    "\n",
    "plt.plot(epochs, rnn_acc, 'r', label='Training acc')\n",
    "plt.plot(epochs, rnn_val_acc, 'b', label='Validation acc')\n",
    "plt.title('RNN Training and validation accuracy')\n",
    "plt.xlabel('Epochs')\n",
    "plt.ylabel('Accuracy')\n",
    "plt.legend()\n",
    "\n",
    "plt.show()"
   ]
  },
  {
   "cell_type": "code",
   "execution_count": 39,
   "id": "developed-plymouth",
   "metadata": {},
   "outputs": [
    {
     "name": "stdout",
     "output_type": "stream",
     "text": [
      "1451/1451 - 7s - loss: 0.6931 - accuracy: 0.5059\n",
      "[0.6931450366973877, 0.5059229135513306]\n"
     ]
    }
   ],
   "source": [
    "# 모델 평가 \n",
    "rnn_results = rnn_model.evaluate(X_test,  y_test, verbose=2)\n",
    "\n",
    "print(rnn_results)"
   ]
  },
  {
   "cell_type": "markdown",
   "id": "inappropriate-final",
   "metadata": {},
   "source": [
    "- 일반적으로 성능 좋은 RNN 모델이 여기서 50.6% 의 test accuracy를 달성한 것을 볼 수 있다. "
   ]
  },
  {
   "cell_type": "markdown",
   "id": "forward-tissue",
   "metadata": {},
   "source": [
    "## 1-D CNN 모델\n",
    "\n",
    "텍스트를 처리하기 위해 RNN이 아니라 1-D Convolution Neural Network(1-D CNN)를 사용할 수도 있습니다.\n",
    "    \n",
    "1-D CNN은 문장 전체를 한꺼번에 한 방향으로 길이 7짜리 필터로 스캐닝 하면서 7단어 이내에서 발견되는 특징을 추출하여 그것으로 문장을 분류하는 방식으로 사용됩니다. 이 방식도 텍스트를 처리하는 데 RNN 못지않은 효율을 보여줍니다.    \n",
    "\n",
    "그리고 CNN 계열은 RNN 계열보다 병렬처리가 효율적이기 때문에 학습 속도도 훨씬 빠르게 진행된다는 장점이 있습니다."
   ]
  },
  {
   "cell_type": "code",
   "execution_count": 40,
   "id": "entire-holocaust",
   "metadata": {},
   "outputs": [
    {
     "name": "stdout",
     "output_type": "stream",
     "text": [
      "Model: \"sequential_1\"\n",
      "_________________________________________________________________\n",
      "Layer (type)                 Output Shape              Param #   \n",
      "=================================================================\n",
      "embedding_1 (Embedding)      (None, None, 32)          256000    \n",
      "_________________________________________________________________\n",
      "conv1d (Conv1D)              (None, None, 16)          3600      \n",
      "_________________________________________________________________\n",
      "max_pooling1d (MaxPooling1D) (None, None, 16)          0         \n",
      "_________________________________________________________________\n",
      "conv1d_1 (Conv1D)            (None, None, 16)          1808      \n",
      "_________________________________________________________________\n",
      "global_max_pooling1d (Global (None, 16)                0         \n",
      "_________________________________________________________________\n",
      "dense_2 (Dense)              (None, 8)                 136       \n",
      "_________________________________________________________________\n",
      "dense_3 (Dense)              (None, 1)                 9         \n",
      "=================================================================\n",
      "Total params: 261,553\n",
      "Trainable params: 261,553\n",
      "Non-trainable params: 0\n",
      "_________________________________________________________________\n"
     ]
    }
   ],
   "source": [
    "vocab_size = 8000    # 어휘 사전의 크기 (8000개의 단어)\n",
    "word_vector_dim = 32  # 워드 벡터의 차원 수 (변경 가능한 하이퍼파라미터)\n",
    "\n",
    "# 모델 설계\n",
    "cnn1d_model = keras.Sequential()\n",
    "cnn1d_model.add(keras.layers.Embedding(vocab_size, word_vector_dim, input_shape=(None,)))\n",
    "cnn1d_model.add(keras.layers.Conv1D(16, 7, activation='relu'))\n",
    "cnn1d_model.add(keras.layers.MaxPooling1D(5))\n",
    "cnn1d_model.add(keras.layers.Conv1D(16, 7, activation='relu'))\n",
    "cnn1d_model.add(keras.layers.GlobalMaxPooling1D())\n",
    "cnn1d_model.add(keras.layers.Dense(8, activation='relu'))\n",
    "cnn1d_model.add(keras.layers.Dense(1, activation='sigmoid'))  # 최종 출력은 긍정/부정을 나타내는 1dim \n",
    "\n",
    "cnn1d_model.summary()"
   ]
  },
  {
   "cell_type": "code",
   "execution_count": 41,
   "id": "stunning-luxembourg",
   "metadata": {},
   "outputs": [
    {
     "name": "stdout",
     "output_type": "stream",
     "text": [
      "Epoch 1/20\n",
      "196/196 [==============================] - 10s 31ms/step - loss: 0.6243 - accuracy: 0.6214 - val_loss: 0.3587 - val_accuracy: 0.8442\n",
      "Epoch 2/20\n",
      "196/196 [==============================] - 2s 13ms/step - loss: 0.3140 - accuracy: 0.8678 - val_loss: 0.3415 - val_accuracy: 0.8509\n",
      "Epoch 3/20\n",
      "196/196 [==============================] - 3s 13ms/step - loss: 0.2676 - accuracy: 0.8905 - val_loss: 0.3429 - val_accuracy: 0.8511\n",
      "Epoch 4/20\n",
      "196/196 [==============================] - 3s 13ms/step - loss: 0.2307 - accuracy: 0.9122 - val_loss: 0.3587 - val_accuracy: 0.8488\n",
      "Epoch 5/20\n",
      "196/196 [==============================] - 3s 13ms/step - loss: 0.1826 - accuracy: 0.9354 - val_loss: 0.4011 - val_accuracy: 0.8426\n",
      "Epoch 6/20\n",
      "196/196 [==============================] - 3s 13ms/step - loss: 0.1234 - accuracy: 0.9629 - val_loss: 0.4681 - val_accuracy: 0.8359\n",
      "Epoch 7/20\n",
      "196/196 [==============================] - 3s 13ms/step - loss: 0.0768 - accuracy: 0.9802 - val_loss: 0.5600 - val_accuracy: 0.8313\n",
      "Epoch 8/20\n",
      "196/196 [==============================] - 3s 13ms/step - loss: 0.0453 - accuracy: 0.9897 - val_loss: 0.6582 - val_accuracy: 0.8286\n",
      "Epoch 9/20\n",
      "196/196 [==============================] - 3s 13ms/step - loss: 0.0263 - accuracy: 0.9944 - val_loss: 0.7431 - val_accuracy: 0.8273\n",
      "Epoch 10/20\n",
      "196/196 [==============================] - 3s 13ms/step - loss: 0.0179 - accuracy: 0.9960 - val_loss: 0.8193 - val_accuracy: 0.8264\n",
      "Epoch 11/20\n",
      "196/196 [==============================] - 3s 13ms/step - loss: 0.0127 - accuracy: 0.9968 - val_loss: 0.8899 - val_accuracy: 0.8231\n",
      "Epoch 12/20\n",
      "196/196 [==============================] - 2s 13ms/step - loss: 0.0083 - accuracy: 0.9982 - val_loss: 0.9594 - val_accuracy: 0.8237\n",
      "Epoch 13/20\n",
      "196/196 [==============================] - 3s 13ms/step - loss: 0.0069 - accuracy: 0.9982 - val_loss: 1.0368 - val_accuracy: 0.8245\n",
      "Epoch 14/20\n",
      "196/196 [==============================] - 3s 13ms/step - loss: 0.0059 - accuracy: 0.9985 - val_loss: 1.0940 - val_accuracy: 0.8239\n",
      "Epoch 15/20\n",
      "196/196 [==============================] - 3s 13ms/step - loss: 0.0044 - accuracy: 0.9988 - val_loss: 1.1367 - val_accuracy: 0.8227\n",
      "Epoch 16/20\n",
      "196/196 [==============================] - 2s 13ms/step - loss: 0.0040 - accuracy: 0.9990 - val_loss: 1.1853 - val_accuracy: 0.8230\n",
      "Epoch 17/20\n",
      "196/196 [==============================] - 3s 13ms/step - loss: 0.0028 - accuracy: 0.9993 - val_loss: 1.2348 - val_accuracy: 0.8230\n",
      "Epoch 18/20\n",
      "196/196 [==============================] - 3s 13ms/step - loss: 0.0024 - accuracy: 0.9995 - val_loss: 1.3060 - val_accuracy: 0.8214\n",
      "Epoch 19/20\n",
      "196/196 [==============================] - 3s 13ms/step - loss: 0.0029 - accuracy: 0.9993 - val_loss: 1.3256 - val_accuracy: 0.8227\n",
      "Epoch 20/20\n",
      "196/196 [==============================] - 3s 13ms/step - loss: 0.0028 - accuracy: 0.9994 - val_loss: 1.3825 - val_accuracy: 0.8198\n"
     ]
    }
   ],
   "source": [
    "# 모델 학습\n",
    "cnn1d_model.compile(optimizer='adam',\n",
    "              loss='binary_crossentropy',\n",
    "              metrics=['accuracy'])\n",
    "              \n",
    "epochs=20  # 몇 epoch를 훈련하면 좋을지 결과를 보면서 바꾸어 보기\n",
    "\n",
    "cnn1d_history = cnn1d_model.fit(partial_x_train,\n",
    "                    partial_y_train,\n",
    "                    epochs=epochs,\n",
    "                    batch_size=512,\n",
    "                    validation_data=(x_val, y_val),\n",
    "                    verbose=1)"
   ]
  },
  {
   "cell_type": "code",
   "execution_count": 42,
   "id": "essential-liability",
   "metadata": {},
   "outputs": [
    {
     "name": "stdout",
     "output_type": "stream",
     "text": [
      "dict_keys(['loss', 'accuracy', 'val_loss', 'val_accuracy'])\n"
     ]
    }
   ],
   "source": [
    "# train/validation loss, accuracy 확인\n",
    "cnn1d_history_dict = cnn1d_history.history\n",
    "print(cnn1d_history_dict.keys()) # epoch에 따른 그래프를 그려볼 수 있는 항목들"
   ]
  },
  {
   "cell_type": "code",
   "execution_count": 43,
   "id": "photographic-little",
   "metadata": {},
   "outputs": [],
   "source": [
    "cnn1d_acc = cnn1d_history_dict['accuracy']\n",
    "cnn1d_val_acc = cnn1d_history_dict['val_accuracy']\n",
    "cnn1d_loss = cnn1d_history_dict['loss']\n",
    "cnn1d_val_loss = cnn1d_history_dict['val_loss']"
   ]
  },
  {
   "cell_type": "code",
   "execution_count": 44,
   "id": "greater-salem",
   "metadata": {},
   "outputs": [
    {
     "data": {
      "image/png": "[encoded data removed]",
      "text/plain": [
       "<Figure size 432x288 with 1 Axes>"
      ]
     },
     "metadata": {
      "needs_background": "light"
     },
     "output_type": "display_data"
    }
   ],
   "source": [
    "## Training loss & Validation loss 그래프 \n",
    "epochs = range(1, len(cnn1d_acc) + 1)\n",
    "\n",
    "# r는 \"빨간 실선\"\n",
    "plt.plot(epochs, cnn1d_loss, 'r', label='Training loss')\n",
    "# b는 \"파란 실선\"\n",
    "plt.plot(epochs, cnn1d_val_loss, 'b', label='Validation loss')\n",
    "plt.title('1-D CNN Training and validation loss')\n",
    "plt.xlabel('Epochs')\n",
    "plt.ylabel('Loss')\n",
    "plt.legend()\n",
    "\n",
    "plt.show()"
   ]
  },
  {
   "cell_type": "code",
   "execution_count": 45,
   "id": "accomplished-affect",
   "metadata": {},
   "outputs": [
    {
     "data": {
      "image/png": "[encoded data removed]",
      "text/plain": [
       "<Figure size 432x288 with 1 Axes>"
      ]
     },
     "metadata": {
      "needs_background": "light"
     },
     "output_type": "display_data"
    }
   ],
   "source": [
    "## Training accuracy & validation accuracy 그래프\n",
    "\n",
    "plt.clf()   # 그림 초기화\n",
    "\n",
    "plt.plot(epochs, cnn1d_acc, 'r', label='Training acc')\n",
    "plt.plot(epochs, cnn1d_val_acc, 'b', label='Validation acc')\n",
    "plt.title('1-D CNN Training and validation accuracy')\n",
    "plt.xlabel('Epochs')\n",
    "plt.ylabel('Accuracy')\n",
    "plt.legend()\n",
    "\n",
    "plt.show()"
   ]
  },
  {
   "cell_type": "code",
   "execution_count": 46,
   "id": "hazardous-workplace",
   "metadata": {},
   "outputs": [
    {
     "name": "stdout",
     "output_type": "stream",
     "text": [
      "1451/1451 - 5s - loss: 1.4185 - accuracy: 0.8183\n",
      "[1.418500304222107, 0.818307101726532]\n"
     ]
    }
   ],
   "source": [
    "# 모델 평가\n",
    "cnn1d_results = cnn1d_model.evaluate(X_test,  y_test, verbose=2)\n",
    "\n",
    "print(cnn1d_results)"
   ]
  },
  {
   "cell_type": "markdown",
   "id": "spread-bahamas",
   "metadata": {},
   "source": [
    "- test accuracy 81.8% 달성한 것을 볼 수 있다. "
   ]
  }
 ],
 "metadata": {
  "kernelspec": {
   "display_name": "Python 3",
   "language": "python",
   "name": "python3"
  },
  "language_info": {
   "codemirror_mode": {
    "name": "ipython",
    "version": 3
   },
   "file_extension": ".py",
   "mimetype": "text/x-python",
   "name": "python",
   "nbconvert_exporter": "python",
   "pygments_lexer": "ipython3",
   "version": "3.7.9"
  }
 },
 "nbformat": 4,
 "nbformat_minor": 5
}
