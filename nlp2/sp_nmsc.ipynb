{
 "cells": [
  {
   "cell_type": "markdown",
   "id": "flying-intake",
   "metadata": {},
   "source": [
    "프로젝트: SentencePiece 사용하기\n",
    "===\n",
    "\n",
    "SentencePiece는 SentencePiece는 Google에서 제공하는 오픈소스 기반 Sentence Tokenizer/Detokenizer 로서, BPE와 unigram 2가지 subword 토크나이징 모델 중 하나를 선택해서 사용할 수 있도록 패키징한 것입니다.\n",
    "- google/sentencepiece : https://github.com/google/sentencepiece    \n",
    "\n",
    "네이버 영화리뷰 감정 분석 태스크에서 tokenizer를 SentencePiece로 바꾸어 적용해 봅니다. \n",
    "- 네이버 영화리뷰 감정 분석 태스크 : https://github.com/e9t/nsmc/\n",
    "\n",
    "    \n",
    "    \n",
    "[목차]\n",
    "1. SentencePiece 설치하기\n",
    "2. Data 다운로드 및 분석\n",
    "3. SentencePiece 모델 학습\n",
    "4. Tokenizer 함수 작성 및 적용 \n",
    "5. 딥러닝 모델 설계와 훈련 및 validation set 구성\n",
    "6. SentencePiece의 성능 비교분석"
   ]
  },
  {
   "cell_type": "markdown",
   "id": "southern-pencil",
   "metadata": {},
   "source": [
    "# 1. SentencePiece 설치하기\n",
    "\n",
    "다음과 같이 설치를 진행합니다. SentencePiece는 python에서 쓰라고 만들어진 라이브러리는 아니지만 편리한 파이썬 wrapper를 아래와 같이 제공하고 있습니다."
   ]
  },
  {
   "cell_type": "code",
   "execution_count": 1,
   "id": "desperate-alpha",
   "metadata": {},
   "outputs": [
    {
     "name": "stdout",
     "output_type": "stream",
     "text": [
      "Requirement already satisfied: sentencepiece in /opt/conda/lib/python3.7/site-packages (0.1.95)\n",
      "\u001b[33mWARNING: You are using pip version 20.3.3; however, version 21.3.1 is available.\n",
      "You should consider upgrading via the '/opt/conda/bin/python3.7 -m pip install --upgrade pip' command.\u001b[0m\n"
     ]
    }
   ],
   "source": [
    "!pip install sentencepiece"
   ]
  },
  {
   "cell_type": "markdown",
   "id": "bridal-caribbean",
   "metadata": {},
   "source": [
    "# 2. Data 다운로드 및 분석 "
   ]
  },
  {
   "cell_type": "code",
   "execution_count": 2,
   "id": "macro-redhead",
   "metadata": {},
   "outputs": [],
   "source": [
    "# 모듈 임포트\n",
    "import pandas as pd\n",
    "import urllib.request\n",
    "%matplotlib inline\n",
    "import matplotlib.pyplot as plt\n",
    "import tensorflow as tf\n",
    "import numpy as np\n",
    "import re\n",
    "from konlpy.tag import Okt\n",
    "from tensorflow import keras\n",
    "from tensorflow.keras.preprocessing.text import Tokenizer\n",
    "from tensorflow.keras.preprocessing.sequence import pad_sequences\n",
    "from collections import Counter"
   ]
  },
  {
   "cell_type": "markdown",
   "id": "cardiac-asthma",
   "metadata": {},
   "source": [
    "## 2.1 데이터 확인 "
   ]
  },
  {
   "cell_type": "code",
   "execution_count": 3,
   "id": "electrical-patent",
   "metadata": {},
   "outputs": [
    {
     "data": {
      "text/html": [
       "<div>\n",
       "<style scoped>\n",
       "    .dataframe tbody tr th:only-of-type {\n",
       "        vertical-align: middle;\n",
       "    }\n",
       "\n",
       "    .dataframe tbody tr th {\n",
       "        vertical-align: top;\n",
       "    }\n",
       "\n",
       "    .dataframe thead th {\n",
       "        text-align: right;\n",
       "    }\n",
       "</style>\n",
       "<table border=\"1\" class=\"dataframe\">\n",
       "  <thead>\n",
       "    <tr style=\"text-align: right;\">\n",
       "      <th></th>\n",
       "      <th>id</th>\n",
       "      <th>document</th>\n",
       "      <th>label</th>\n",
       "    </tr>\n",
       "  </thead>\n",
       "  <tbody>\n",
       "    <tr>\n",
       "      <th>0</th>\n",
       "      <td>9976970</td>\n",
       "      <td>아 더빙.. 진짜 짜증나네요 목소리</td>\n",
       "      <td>0</td>\n",
       "    </tr>\n",
       "    <tr>\n",
       "      <th>1</th>\n",
       "      <td>3819312</td>\n",
       "      <td>흠...포스터보고 초딩영화줄....오버연기조차 가볍지 않구나</td>\n",
       "      <td>1</td>\n",
       "    </tr>\n",
       "    <tr>\n",
       "      <th>2</th>\n",
       "      <td>10265843</td>\n",
       "      <td>너무재밓었다그래서보는것을추천한다</td>\n",
       "      <td>0</td>\n",
       "    </tr>\n",
       "    <tr>\n",
       "      <th>3</th>\n",
       "      <td>9045019</td>\n",
       "      <td>교도소 이야기구먼 ..솔직히 재미는 없다..평점 조정</td>\n",
       "      <td>0</td>\n",
       "    </tr>\n",
       "    <tr>\n",
       "      <th>4</th>\n",
       "      <td>6483659</td>\n",
       "      <td>사이몬페그의 익살스런 연기가 돋보였던 영화!스파이더맨에서 늙어보이기만 했던 커스틴 ...</td>\n",
       "      <td>1</td>\n",
       "    </tr>\n",
       "  </tbody>\n",
       "</table>\n",
       "</div>"
      ],
      "text/plain": [
       "         id                                           document  label\n",
       "0   9976970                                아 더빙.. 진짜 짜증나네요 목소리      0\n",
       "1   3819312                  흠...포스터보고 초딩영화줄....오버연기조차 가볍지 않구나      1\n",
       "2  10265843                                  너무재밓었다그래서보는것을추천한다      0\n",
       "3   9045019                      교도소 이야기구먼 ..솔직히 재미는 없다..평점 조정      0\n",
       "4   6483659  사이몬페그의 익살스런 연기가 돋보였던 영화!스파이더맨에서 늙어보이기만 했던 커스틴 ...      1"
      ]
     },
     "execution_count": 3,
     "metadata": {},
     "output_type": "execute_result"
    }
   ],
   "source": [
    "# 데이터 읽어보기 \n",
    "train_data = pd.read_table('~/aiffel/GoingDeeper/nlp2/data/ratings_train.txt')\n",
    "test_data = pd.read_table('~/aiffel/GoingDeeper/nlp2/data/ratings_test.txt')\n",
    "\n",
    "train_data.head()"
   ]
  },
  {
   "cell_type": "code",
   "execution_count": 4,
   "id": "verbal-cassette",
   "metadata": {},
   "outputs": [
    {
     "name": "stdout",
     "output_type": "stream",
     "text": [
      "(150000, 3)\n",
      "(50000, 3)\n"
     ]
    }
   ],
   "source": [
    "print(train_data.shape)\n",
    "print(test_data.shape)"
   ]
  },
  {
   "cell_type": "code",
   "execution_count": 5,
   "id": "fewer-wrestling",
   "metadata": {},
   "outputs": [
    {
     "data": {
      "text/plain": [
       "<AxesSubplot:>"
      ]
     },
     "execution_count": 5,
     "metadata": {},
     "output_type": "execute_result"
    },
    {
     "data": {
      "image/png": "[encoded data removed]",
      "text/plain": [
       "<Figure size 432x288 with 1 Axes>"
      ]
     },
     "metadata": {
      "needs_background": "light"
     },
     "output_type": "display_data"
    }
   ],
   "source": [
    "# train_data의 라벨 분포 확인\n",
    "train_data['label'].value_counts().plot(kind = 'bar')"
   ]
  },
  {
   "cell_type": "code",
   "execution_count": 6,
   "id": "going-mitchell",
   "metadata": {},
   "outputs": [
    {
     "name": "stdout",
     "output_type": "stream",
     "text": [
      "   label  count\n",
      "0      0  75173\n",
      "1      1  74827\n"
     ]
    }
   ],
   "source": [
    "print(train_data.groupby('label').size().reset_index(name = 'count'))"
   ]
  },
  {
   "cell_type": "markdown",
   "id": "relevant-disposition",
   "metadata": {},
   "source": [
    "- 레이블이 비슷하지만 0인 리뷰가 근소하게 많은 것을 확인할 수 있습니다. "
   ]
  },
  {
   "cell_type": "markdown",
   "id": "modular-packaging",
   "metadata": {},
   "source": [
    "## 2.2 데이터 전처리 "
   ]
  },
  {
   "cell_type": "markdown",
   "id": "hawaiian-departure",
   "metadata": {},
   "source": [
    "### 중복 데이터 "
   ]
  },
  {
   "cell_type": "code",
   "execution_count": 7,
   "id": "changed-blackberry",
   "metadata": {},
   "outputs": [
    {
     "name": "stdout",
     "output_type": "stream",
     "text": [
      "146183 49158\n"
     ]
    }
   ],
   "source": [
    "# 중복 데이터 확인 \n",
    "print(len(set(train_data[\"document\"])), len(set(test_data[\"document\"])))"
   ]
  },
  {
   "cell_type": "markdown",
   "id": "front-ideal",
   "metadata": {},
   "source": [
    "- 전체 데이터와 유니크한 데이터의 개수가 다른 것을 알 수 있습니다. 중복 데이터를 제거해 줍니다. "
   ]
  },
  {
   "cell_type": "code",
   "execution_count": 8,
   "id": "given-cisco",
   "metadata": {},
   "outputs": [
    {
     "name": "stdout",
     "output_type": "stream",
     "text": [
      "(146183, 3)\n",
      "(49158, 3)\n"
     ]
    }
   ],
   "source": [
    "# 중복 데이터 제거 \n",
    "train_data.drop_duplicates(subset=['document'], inplace=True)\n",
    "test_data.drop_duplicates(subset=['document'], inplace=True)\n",
    "\n",
    "print(train_data.shape)\n",
    "print(test_data.shape)"
   ]
  },
  {
   "cell_type": "markdown",
   "id": "amber-jason",
   "metadata": {},
   "source": [
    "- 중복 데이터가 잘 제거된 것을 확인할 수 있습니다."
   ]
  },
  {
   "cell_type": "markdown",
   "id": "diagnostic-cooperative",
   "metadata": {},
   "source": [
    "###  NULL 데이터 "
   ]
  },
  {
   "cell_type": "code",
   "execution_count": 9,
   "id": "linear-closing",
   "metadata": {},
   "outputs": [
    {
     "name": "stdout",
     "output_type": "stream",
     "text": [
      "id          0\n",
      "document    1\n",
      "label       0\n",
      "dtype: int64\n",
      "id          0\n",
      "document    1\n",
      "label       0\n",
      "dtype: int64\n"
     ]
    }
   ],
   "source": [
    "# train_data의 NULL 개수 확인\n",
    "print(train_data.isnull().sum())\n",
    "print(test_data.isnull().sum())"
   ]
  },
  {
   "cell_type": "markdown",
   "id": "quality-charles",
   "metadata": {},
   "source": [
    "- NULL 데이터에 대한 처리가 필요합니다. "
   ]
  },
  {
   "cell_type": "code",
   "execution_count": 10,
   "id": "express-outdoors",
   "metadata": {},
   "outputs": [
    {
     "name": "stdout",
     "output_type": "stream",
     "text": [
      "(146182, 3)\n",
      "(49157, 3)\n"
     ]
    }
   ],
   "source": [
    "train_data = train_data.dropna(how = 'any') \n",
    "test_data = test_data.dropna(how = 'any') \n",
    "\n",
    "print(train_data.shape)\n",
    "print(test_data.shape)"
   ]
  },
  {
   "cell_type": "markdown",
   "id": "clinical-stephen",
   "metadata": {},
   "source": [
    "- NULL 데이터가 잘 제거된 것을 확인할 수 있습니다."
   ]
  },
  {
   "cell_type": "markdown",
   "id": "incomplete-second",
   "metadata": {},
   "source": [
    "### 문장 길이 분포 확인"
   ]
  },
  {
   "cell_type": "code",
   "execution_count": 11,
   "id": "historical-devil",
   "metadata": {},
   "outputs": [
    {
     "name": "stdout",
     "output_type": "stream",
     "text": [
      "문장길이 평균 :  35.947880351593895\n",
      "문장길이 최대 :  146\n",
      "문장길이 표준편차 :  29.521958473787635\n"
     ]
    }
   ],
   "source": [
    "# 텍스트데이터 문장길이의 리스트를 생성\n",
    "total_data_text = list(train_data['document']) + list(test_data['document'])\n",
    "\n",
    "num_tokens = [len(tokens) for tokens in total_data_text]\n",
    "num_tokens = np.array(num_tokens)\n",
    "\n",
    "# 문장길이의 평균값, 최대값, 표준편차 계산\n",
    "print('문장길이 평균 : ', np.mean(num_tokens))\n",
    "print('문장길이 최대 : ', np.max(num_tokens))\n",
    "print('문장길이 표준편차 : ', np.std(num_tokens))"
   ]
  },
  {
   "cell_type": "code",
   "execution_count": 12,
   "id": "important-tourist",
   "metadata": {},
   "outputs": [
    {
     "data": {
      "image/png": "[encoded data removed]",
      "text/plain": [
       "<Figure size 432x288 with 1 Axes>"
      ]
     },
     "metadata": {
      "needs_background": "light"
     },
     "output_type": "display_data"
    }
   ],
   "source": [
    "# 문장 길이 분포 확인\n",
    "plt.hist([len(tokens) for tokens in total_data_text], bins=50)\n",
    "plt.xlabel('length of samples')\n",
    "plt.ylabel('number of samples')\n",
    "plt.title(\"Sentence Length Distribution\")\n",
    "plt.show()"
   ]
  },
  {
   "cell_type": "code",
   "execution_count": 13,
   "id": "fancy-start",
   "metadata": {},
   "outputs": [],
   "source": [
    "# 문장의 길이 별로 확인하는 함수\n",
    "def check_sentence_with_length(raw, length):\n",
    "    count = 0\n",
    "    \n",
    "    for sen in raw:\n",
    "        if len(sen) == length:\n",
    "            print(sen)\n",
    "            count += 1\n",
    "            if count > 100: return"
   ]
  },
  {
   "cell_type": "code",
   "execution_count": 14,
   "id": "express-adolescent",
   "metadata": {},
   "outputs": [
    {
     "name": "stdout",
     "output_type": "stream",
     "text": [
      "아\n",
      "잼\n",
      "1\n",
      "4\n",
      "굿\n",
      "짱\n",
      "휴\n",
      ".\n",
      "음\n",
      "?\n",
      "ㅎ\n",
      "ㅋ\n",
      "즐\n",
      "♥\n",
      "굳\n",
      "네\n",
      "ㅇ\n",
      "k\n",
      "ㅠ\n",
      "쒯\n",
      "♬\n",
      "토\n",
      "O\n",
      "똥\n",
      "z\n",
      "헐\n",
      "삼\n",
      "꽝\n",
      "!\n",
      "풉\n",
      "ㅅ\n",
      "왜\n",
      "ㄴ\n",
      "쉣\n",
      "봐\n",
      "뿌\n",
      "ㅜ\n",
      "♡\n",
      "ㅁ\n",
      "0\n",
      "ㅉ\n",
      "d\n",
      "흥\n",
      "乃\n",
      "찜\n",
      "귯\n",
      "린\n",
      "시\n",
      "ㅗ\n",
      "a\n",
      "c\n",
      "흠\n",
      "웅\n",
      "ㅣ\n",
      "오\n",
      "9\n",
      "쩜\n",
      "애\n",
      "헝\n",
      "쨩\n",
      "f\n",
      "움\n",
      "ㄳ\n",
      "업\n",
      "헉\n",
      "군\n",
      "b\n",
      ";\n",
      "g\n",
      "올\n",
      "걍\n",
      "허\n",
      "-\n",
      "쀍\n",
      "로\n",
      "ㄹ\n",
      "ㅂ\n",
      "갑\n",
      "즛\n",
      "킥\n",
      "함\n",
      "진\n",
      "ㅡ\n",
      "잠\n",
      "곧\n",
      "ㅍ\n",
      "h\n",
      "·\n",
      "캬\n",
      "ㅆ\n",
      ",\n",
      "풋\n",
      "ㄱ\n",
      "파\n",
      "ㄷ\n",
      "웩\n",
      "꺅\n",
      "욜\n",
      "ㅄ\n",
      "2\n",
      "핡\n"
     ]
    }
   ],
   "source": [
    "# 길이가 1인 문장 \n",
    "check_sentence_with_length(total_data_text, 1)"
   ]
  },
  {
   "cell_type": "code",
   "execution_count": 15,
   "id": "median-shirt",
   "metadata": {},
   "outputs": [
    {
     "name": "stdout",
     "output_type": "stream",
     "text": [
      "좋구나\n",
      "10점\n",
      "처ㅝ주\n",
      "솔직히\n",
      "4대강\n",
      "재밌다\n",
      "재밌군\n",
      "좋았다\n",
      "재미무\n",
      "보지마\n",
      "볼만함\n",
      "b b\n",
      "dsa\n",
      "웃스!\n",
      "♥♥♥\n",
      "재밋네\n",
      "최고다\n",
      "재밌음\n",
      "쓰래기\n",
      "갑이다\n",
      "료코짱\n",
      "2빠닼\n",
      "만세-\n",
      "OOO\n",
      "ㅋㅋㅋ\n",
      "아하!\n",
      "재및음\n",
      "좋아여\n",
      "재미쪙\n",
      "대박!\n",
      "에혀~\n",
      "3.6\n",
      "가보자\n",
      "bad\n",
      "신선함\n",
      "와우!\n",
      "즐ㄹㅋ\n",
      "좋아요\n",
      "아ㅅㅂ\n",
      "쨩이야\n",
      "굿~!\n",
      "ㅉㅉㅉ\n",
      "재밋다\n",
      "지못미\n",
      "나이스\n",
      "오짱!\n",
      "전형적\n",
      "원주율\n",
      "좋은테\n",
      "2.6\n",
      "굿!!\n",
      "1등?\n",
      "보세요\n",
      "잼없다\n",
      "다섯개\n",
      "접어라\n",
      "쓰중쓰\n",
      "좋다.\n",
      "음..\n",
      "좋군.\n",
      "싸우자\n",
      "멋져.\n",
      "...\n",
      "직인다\n",
      "짱짱짱\n",
      "별로임\n",
      "진리임\n",
      "감동적\n",
      "최고!\n",
      "재밌어\n",
      "걍 굿\n",
      "아시바\n",
      "최고~\n",
      "팬이다\n",
      "별로다\n",
      "좋다,\n",
      "잼있다\n",
      "최고.\n",
      "감동!\n",
      "잠온다\n",
      "의리!\n",
      "별로~\n",
      "즐..\n",
      "썩었내\n",
      "짱멋짐\n",
      "ㄴㄹㄴ\n",
      "성룡짱\n",
      "꿀잼♥\n",
      "쵝오!\n",
      "괜찮네\n",
      "막장.\n",
      "억지.\n",
      "김서울\n",
      "철규찡\n",
      "무셔움\n",
      "지겨워\n",
      "꼭보셈\n",
      "쓰레기\n",
      "그다지\n",
      "훌륭함\n",
      "최고임\n"
     ]
    }
   ],
   "source": [
    "# 길이가 3인 문장 \n",
    "check_sentence_with_length(total_data_text, 3)"
   ]
  },
  {
   "cell_type": "markdown",
   "id": "centered-rwanda",
   "metadata": {},
   "source": [
    "- 짧은 데이터도 감성 분석에서 사용될 수 있으므로 최대 길이만 지정하여 적절한 문장 길이를 지정해 줍니다. "
   ]
  },
  {
   "cell_type": "code",
   "execution_count": 16,
   "id": "hindu-throw",
   "metadata": {},
   "outputs": [
    {
     "name": "stdout",
     "output_type": "stream",
     "text": [
      "pad_sequences maxlen :  103\n",
      "전체 문장의 0.9441944516967937%가 maxlen 설정값 이내에 포함됩니다. \n"
     ]
    }
   ],
   "source": [
    "# 최대 길이를 (평균 + 2.3*표준편차)로 지정한다면,  \n",
    "max_tokens = np.mean(num_tokens) + 2.3 * np.std(num_tokens)\n",
    "maxlen = int(max_tokens)\n",
    "print('pad_sequences maxlen : ', maxlen)\n",
    "print('전체 문장의 {}%가 maxlen 설정값 이내에 포함됩니다. '.format(np.sum(num_tokens < max_tokens) / len(num_tokens)))"
   ]
  },
  {
   "cell_type": "code",
   "execution_count": 17,
   "id": "latest-labor",
   "metadata": {},
   "outputs": [
    {
     "name": "stdout",
     "output_type": "stream",
     "text": [
      "138008\n",
      "(138008, 3)\n"
     ]
    }
   ],
   "source": [
    "max_len = 103\n",
    "\n",
    "# 길이 조건에 맞는 문장만 선택\n",
    "filtered_train_text = [s for s in list(train_data['document']) if len(s) <= max_len]\n",
    "filtered_train_data = train_data.loc[(train_data['document'].isin(filtered_train_text))]\n",
    "print(len(filtered_train_text))\n",
    "print(filtered_train_data.shape)"
   ]
  },
  {
   "cell_type": "code",
   "execution_count": 18,
   "id": "transsexual-device",
   "metadata": {},
   "outputs": [
    {
     "name": "stdout",
     "output_type": "stream",
     "text": [
      "46430\n",
      "(46430, 3)\n"
     ]
    }
   ],
   "source": [
    "filtered_test_text = [s for s in list(test_data['document']) if len(s) <= max_len]\n",
    "filtered_test_data = test_data.loc[(test_data['document'].isin(filtered_test_text))]\n",
    "print(len(filtered_test_text))\n",
    "print(filtered_test_data.shape)"
   ]
  },
  {
   "cell_type": "code",
   "execution_count": 19,
   "id": "brazilian-exhaust",
   "metadata": {},
   "outputs": [
    {
     "data": {
      "image/png": "[encoded data removed]",
      "text/plain": [
       "<Figure size 432x288 with 1 Axes>"
      ]
     },
     "metadata": {
      "needs_background": "light"
     },
     "output_type": "display_data"
    }
   ],
   "source": [
    "filtered_corpus = filtered_train_text + filtered_test_text\n",
    "\n",
    "# 분포도 다시 그려보기\n",
    "sentence_length = np.zeros((max_len), dtype=np.int)\n",
    "\n",
    "for sen in filtered_corpus:\n",
    "    sentence_length[len(sen)-1] += 1\n",
    "\n",
    "plt.bar(range(max_len), sentence_length, width=1.0)\n",
    "plt.title(\"Sentence Length Distribution\")\n",
    "plt.xlabel('length of samples')\n",
    "plt.ylabel('number of samples')\n",
    "plt.show()"
   ]
  },
  {
   "cell_type": "markdown",
   "id": "severe-astronomy",
   "metadata": {},
   "source": [
    "- 최종적인 데이터 분포를 확인해 보았습니다."
   ]
  },
  {
   "cell_type": "markdown",
   "id": "stylish-jason",
   "metadata": {},
   "source": [
    "# 3. SentencePiece 모델 학습\n",
    "\n",
    "sentence piece 모델에서 Subword type = unigram으로 학습시켜 봅니다. \n",
    "- Unigram Language Model Tokenizer : 유니그램 언어 모델 토크나이저는 각각의 서브워드 들에 대해서 손실을 계산한다. 여기서 서브 단어 손실이라는 것은 해당 서브워드가 단어 집합에서 제거 되었을 경우, 코퍼스의 likelihood가 감소하는 정도를 말한다.     \n",
    "    https://algopoolja.tistory.com/64"
   ]
  },
  {
   "cell_type": "code",
   "execution_count": 20,
   "id": "signed-interval",
   "metadata": {},
   "outputs": [],
   "source": [
    "import sentencepiece as spm\n",
    "import os\n",
    "temp_file = os.getenv('HOME')+'/aiffel/GoingDeeper/nlp2/data/nmsc_spm.train.ko.temp'\n",
    "\n",
    "vocab_size = 8000\n",
    "\n",
    "with open(temp_file, 'w') as f:\n",
    "    for row in filtered_corpus:   # 이전 스텝에서 정제했던 corpus 활용\n",
    "        f.write(str(row) + '\\n')\n",
    "\n",
    "spm.SentencePieceTrainer.Train( # unigram model \n",
    "    '--input={} --model_prefix=nmsc_spm_unigram --vocab_size={}'.format(temp_file, vocab_size)    \n",
    ") "
   ]
  },
  {
   "cell_type": "markdown",
   "id": "racial-briefing",
   "metadata": {},
   "source": [
    "- spm.SentencePieceTrainer.Train() :      \n",
    "    https://github.com/google/sentencepiece/tree/master/python#model-training     \n",
    "    parameter :    \n",
    "    - --input: one-sentence-per-line raw corpus file    \n",
    "    - --model_prefix: output model name prefix\n",
    "    - --vocab_size: vocabulary size    \n",
    "    - --model_type: model type. Choose from unigram (default), bpe, char, or word     \n",
    "    https://github.com/google/sentencepiece#train-sentencepiece-model"
   ]
  },
  {
   "cell_type": "code",
   "execution_count": 21,
   "id": "tribal-circus",
   "metadata": {},
   "outputs": [
    {
     "name": "stdout",
     "output_type": "stream",
     "text": [
      "-rw-r--r-- 1 root root 375008 Dec 20 10:56 nmsc_spm_unigram.model\r\n",
      "-rw-r--r-- 1 root root 144447 Dec 20 10:56 nmsc_spm_unigram.vocab\r\n"
     ]
    }
   ],
   "source": [
    "!ls -l nmsc_spm_unigram*"
   ]
  },
  {
   "cell_type": "markdown",
   "id": "great-strategy",
   "metadata": {},
   "source": [
    "- 정상적으로 SentencePiece 모델 학습이 완료된 후 nmsc_spm_unigram.model 파일과 nmsc_spm_unigram.vocab vocabulary 파일이 생성되었음을 확인할 수 있습니다.\n",
    "      \n",
    "그럼 이렇게 학습된 SentencePiece 모델을 어떻게 활용하는지 살펴보겠습니다."
   ]
  },
  {
   "cell_type": "code",
   "execution_count": 22,
   "id": "jewish-strap",
   "metadata": {},
   "outputs": [
    {
     "name": "stdout",
     "output_type": "stream",
     "text": [
      "[1488, 9, 396, 15, 1334, 9, 137, 16, 4]\n",
      "['▁아버지', '가', '방', '에', '들어', '가', '신', '다', '.']\n",
      "아버지가방에들어가신다.\n"
     ]
    }
   ],
   "source": [
    "s = spm.SentencePieceProcessor()\n",
    "s.Load('nmsc_spm_unigram.model')\n",
    "\n",
    "# SentencePiece를 활용한 sentence -> encoding\n",
    "tokensIDs = s.EncodeAsIds('아버지가방에들어가신다.')\n",
    "print(tokensIDs)\n",
    "\n",
    "# SentencePiece를 활용한 sentence -> encoded pieces\n",
    "print(s.SampleEncodeAsPieces('아버지가방에들어가신다.',1, 0.0))\n",
    "\n",
    "# SentencePiece를 활용한 encoding -> sentence 복원\n",
    "print(s.DecodeIds(tokensIDs))"
   ]
  },
  {
   "attachments": {
    "image.png": {
     "image/png": "[encoded data removed]"
    }
   },
   "cell_type": "markdown",
   "id": "descending-blond",
   "metadata": {},
   "source": [
    "# 4.  Tokenizer 함수(unigram) 작성\n",
    "\n",
    "\n",
    "![image.png](attachment:image.png)\n",
    "    \n",
    "우리는 위에서 훈련시킨 SentencePiece를 활용하여 위 함수와 유사한 기능을 하는 sp_tokenize() 함수를 정의할 겁니다. 하지만 SentencePiece가 동작하는 방식이 단순 토큰화와는 달라 완전히 동일하게는 정의하기 어렵습니다. 그러니 아래 조건을 만족하는 함수를 정의하도록 하습니다.\n",
    "\n",
    "1. 매개변수로 토큰화된 문장의 list를 전달하는 대신 온전한 문장의 list 를 전달합니다.\n",
    "\n",
    "2. 생성된 vocab 파일을 읽어와 { \\<word> : \\<idx> } 형태를 가지는 word_index 사전과 { \\<idx> : \\<word>} 형태를 가지는 index_word 사전을 생성하고 함께 반환합니다.\n",
    "\n",
    "3. 리턴값인 tensor 는 앞의 함수와 동일하게 토큰화한 후 Encoding된 문장입니다. 바로 학습에 사용할 수 있게 Padding 처리를 해줍니다. "
   ]
  },
  {
   "cell_type": "code",
   "execution_count": 23,
   "id": "thick-headquarters",
   "metadata": {},
   "outputs": [],
   "source": [
    "def sp_tokenize(s, corpus):\n",
    "    # s : SentencePieceProcessor\n",
    "    # corpus : sentence's List  # 1\n",
    "\n",
    "    tensor = []\n",
    "\n",
    "    for sen in corpus:\n",
    "        tensor.append(s.EncodeAsIds(sen))\n",
    "\n",
    "    with open(\"./nmsc_spm_unigram.vocab\", 'r') as f:\n",
    "        vocab = f.readlines()\n",
    "    \n",
    "    # 2\n",
    "    word_index = {}\n",
    "    index_word = {}\n",
    "\n",
    "    for idx, line in enumerate(vocab):\n",
    "        word = line.split(\"\\t\")[0]\n",
    "\n",
    "        word_index.update({idx:word})\n",
    "        index_word.update({word:idx})\n",
    "    \n",
    "    # 3\n",
    "    tensor = tf.keras.preprocessing.sequence.pad_sequences(tensor, padding='post')\n",
    "\n",
    "    return tensor, word_index, index_word"
   ]
  },
  {
   "cell_type": "markdown",
   "id": "convenient-renaissance",
   "metadata": {},
   "source": [
    "- f.readlines() : ead all the lines of a file in a list    \n",
    "    https://docs.python.org/3/tutorial/inputoutput.html#methods-of-file-objects\n",
    "- dict.update() : Update the dictionary with the key/value pairs, overwriting existing keys    \n",
    "    https://docs.python.org/3/library/stdtypes.html#dict.update\n",
    "- tf.keras.preprocessing.sequence.pad_sequences() : Pads sequences to the same length     \n",
    "    https://www.tensorflow.org/api_docs/python/tf/keras/preprocessing/sequence/pad_sequences"
   ]
  },
  {
   "cell_type": "code",
   "execution_count": 24,
   "id": "equal-halloween",
   "metadata": {},
   "outputs": [
    {
     "name": "stdout",
     "output_type": "stream",
     "text": [
      "[[ 556 3349   14 1390 2288    4    0    0    0    0]\n",
      " [1592 2304  258  586    9    3   17 7938  599    8]]\n"
     ]
    }
   ],
   "source": [
    "#sp_tokenize(s, corpus) 사용예제\n",
    "\n",
    "my_corpus = ['나는 밥을 먹었습니다.', '그러나 여전히 ㅠㅠ 배가 고픕니다...']\n",
    "tensor, word_index, index_word = sp_tokenize(s, my_corpus)\n",
    "print(tensor)"
   ]
  },
  {
   "cell_type": "markdown",
   "id": "convertible-patent",
   "metadata": {},
   "source": [
    "- 토큰화가 잘 되는 것을 볼 수 있습니다. "
   ]
  },
  {
   "cell_type": "markdown",
   "id": "secret-latex",
   "metadata": {},
   "source": [
    "## SentencePiece 토크나이저로 토큰화"
   ]
  },
  {
   "cell_type": "code",
   "execution_count": 25,
   "id": "colored-honolulu",
   "metadata": {},
   "outputs": [
    {
     "name": "stdout",
     "output_type": "stream",
     "text": [
      "(138008, 3) (46430, 3)\n"
     ]
    }
   ],
   "source": [
    "print(filtered_train_data.shape, filtered_test_data.shape)"
   ]
  },
  {
   "cell_type": "code",
   "execution_count": 26,
   "id": "greatest-bradford",
   "metadata": {},
   "outputs": [
    {
     "name": "stdout",
     "output_type": "stream",
     "text": [
      "184438\n"
     ]
    }
   ],
   "source": [
    "print(len(filtered_corpus)) # filtered_train_text + filtered_test_text"
   ]
  },
  {
   "cell_type": "code",
   "execution_count": 27,
   "id": "embedded-plain",
   "metadata": {},
   "outputs": [],
   "source": [
    "tensor, word_index, index_word = sp_tokenize(s, filtered_corpus) # unigram tokenizer "
   ]
  },
  {
   "cell_type": "code",
   "execution_count": 28,
   "id": "annual-delight",
   "metadata": {},
   "outputs": [
    {
     "name": "stdout",
     "output_type": "stream",
     "text": [
      "138008 46430\n",
      "138008 46430\n"
     ]
    }
   ],
   "source": [
    "# X_train, y_train, X_test, y_test 만들기 \n",
    "X_train, y_train = tensor[:138008], np.array(list(filtered_train_data['label']))\n",
    "X_test, y_test = tensor[138008:], np.array(list(filtered_test_data['label']))\n",
    "\n",
    "print(len(X_train), len(X_test))\n",
    "print(len(y_train), len(y_test))"
   ]
  },
  {
   "cell_type": "code",
   "execution_count": 29,
   "id": "accomplished-capability",
   "metadata": {},
   "outputs": [
    {
     "name": "stdout",
     "output_type": "stream",
     "text": [
      "(138008, 79)\n",
      "(46430, 79)\n"
     ]
    }
   ],
   "source": [
    "print(X_train.shape)\n",
    "print(X_test.shape)"
   ]
  },
  {
   "cell_type": "markdown",
   "id": "equal-public",
   "metadata": {},
   "source": [
    "- train, test 데이터의 tensor가 잘 만들어진 것을 알 수 있다. "
   ]
  },
  {
   "cell_type": "markdown",
   "id": "fallen-venture",
   "metadata": {},
   "source": [
    "# 5. 딥러닝 모델 설계와 훈련 및 validation set 구성"
   ]
  },
  {
   "cell_type": "markdown",
   "id": "otherwise-protocol",
   "metadata": {},
   "source": [
    "## validation set 구성\n",
    "\n",
    "Validation set(검정 데이터)은 training set으로 만들어진 모델의 성능을 측정하기 위해 사용된다. 일반적으로 어떤 모델이 가장 데이터에 적합한지 찾아내기 위해서 다양한 파라미터와 모델을 사용해보게 되며, 그 중 validation set으로 가장 성능이 좋았던 모델을 선택한다.\n",
    "- 참고 : https://modern-manual.tistory.com/19"
   ]
  },
  {
   "cell_type": "code",
   "execution_count": 30,
   "id": "vietnamese-microphone",
   "metadata": {},
   "outputs": [
    {
     "name": "stdout",
     "output_type": "stream",
     "text": [
      "(100000, 79)\n",
      "(100000,)\n",
      "(38008, 79)\n",
      "(38008,)\n"
     ]
    }
   ],
   "source": [
    "# train set 100000건 분리\n",
    "partial_x_train = X_train[:100000]  \n",
    "partial_y_train = y_train[:100000]\n",
    "\n",
    "# train set을 제외한 나머지 validation set\n",
    "x_val = X_train[100000:]   \n",
    "y_val = y_train[100000:]\n",
    "\n",
    "print(partial_x_train.shape)\n",
    "print(partial_y_train.shape)\n",
    "print(x_val.shape)\n",
    "print(y_val.shape)"
   ]
  },
  {
   "cell_type": "markdown",
   "id": "familiar-debut",
   "metadata": {},
   "source": [
    "## RNN 모델\n",
    "\n",
    "텍스트 데이터를 다루는 데 주로 사용되는 딥러닝 모델은 바로 Recurrent Neural Network(RNN)입니다. RNN은 시퀀스(Sequence) 형태의 데이터를 처리하기에 최적인 모델로 알려져 있습니다."
   ]
  },
  {
   "cell_type": "code",
   "execution_count": 31,
   "id": "hispanic-tutorial",
   "metadata": {},
   "outputs": [
    {
     "name": "stdout",
     "output_type": "stream",
     "text": [
      "Model: \"sequential\"\n",
      "_________________________________________________________________\n",
      "Layer (type)                 Output Shape              Param #   \n",
      "=================================================================\n",
      "embedding (Embedding)        (None, None, 32)          256000    \n",
      "_________________________________________________________________\n",
      "lstm (LSTM)                  (None, 8)                 1312      \n",
      "_________________________________________________________________\n",
      "dense (Dense)                (None, 8)                 72        \n",
      "_________________________________________________________________\n",
      "dense_1 (Dense)              (None, 1)                 9         \n",
      "=================================================================\n",
      "Total params: 257,393\n",
      "Trainable params: 257,393\n",
      "Non-trainable params: 0\n",
      "_________________________________________________________________\n"
     ]
    }
   ],
   "source": [
    "vocab_size = 8000    # 어휘 사전의 크기 (8000개의 단어)\n",
    "word_vector_dim = 32  # 워드 벡터의 차원 수 (변경 가능한 하이퍼파라미터)\n",
    "\n",
    "# 모델 설계 \n",
    "rnn_model = keras.Sequential()\n",
    "rnn_model.add(keras.layers.Embedding(vocab_size, word_vector_dim, input_shape=(None,)))\n",
    "rnn_model.add(keras.layers.LSTM(8))   # 가장 널리 쓰이는 RNN인 LSTM 레이어를 사용, LSTM state 벡터의 차원수는 8로 \n",
    "rnn_model.add(keras.layers.Dense(8, activation='relu'))\n",
    "rnn_model.add(keras.layers.Dense(1, activation='sigmoid'))  # 최종 출력은 긍정/부정을 나타내는 1dim 입니다.\n",
    "\n",
    "rnn_model.summary()"
   ]
  },
  {
   "cell_type": "code",
   "execution_count": 32,
   "id": "interior-indiana",
   "metadata": {},
   "outputs": [
    {
     "name": "stdout",
     "output_type": "stream",
     "text": [
      "Epoch 1/20\n",
      "196/196 [==============================] - 8s 24ms/step - loss: 0.6932 - accuracy: 0.5018 - val_loss: 0.6931 - val_accuracy: 0.5014\n",
      "Epoch 2/20\n",
      "196/196 [==============================] - 4s 20ms/step - loss: 0.6932 - accuracy: 0.5001 - val_loss: 0.6931 - val_accuracy: 0.5014\n",
      "Epoch 3/20\n",
      "196/196 [==============================] - 4s 20ms/step - loss: 0.6932 - accuracy: 0.5015 - val_loss: 0.6931 - val_accuracy: 0.5014\n",
      "Epoch 4/20\n",
      "196/196 [==============================] - 4s 20ms/step - loss: 0.6932 - accuracy: 0.4966 - val_loss: 0.6931 - val_accuracy: 0.5014\n",
      "Epoch 5/20\n",
      "196/196 [==============================] - 4s 20ms/step - loss: 0.6932 - accuracy: 0.4983 - val_loss: 0.6931 - val_accuracy: 0.5014\n",
      "Epoch 6/20\n",
      "196/196 [==============================] - 4s 20ms/step - loss: 0.6932 - accuracy: 0.4984 - val_loss: 0.6931 - val_accuracy: 0.5014\n",
      "Epoch 7/20\n",
      "196/196 [==============================] - 4s 20ms/step - loss: 0.6932 - accuracy: 0.5011 - val_loss: 0.6931 - val_accuracy: 0.5014\n",
      "Epoch 8/20\n",
      "196/196 [==============================] - 4s 20ms/step - loss: 0.6931 - accuracy: 0.5024 - val_loss: 0.6931 - val_accuracy: 0.5014\n",
      "Epoch 9/20\n",
      "196/196 [==============================] - 4s 20ms/step - loss: 0.6931 - accuracy: 0.5033 - val_loss: 0.6931 - val_accuracy: 0.5014\n",
      "Epoch 10/20\n",
      "196/196 [==============================] - 4s 20ms/step - loss: 0.6932 - accuracy: 0.5006 - val_loss: 0.6931 - val_accuracy: 0.5014\n",
      "Epoch 11/20\n",
      "196/196 [==============================] - 4s 20ms/step - loss: 0.6932 - accuracy: 0.5004 - val_loss: 0.6931 - val_accuracy: 0.5014\n",
      "Epoch 12/20\n",
      "196/196 [==============================] - 4s 20ms/step - loss: 0.6931 - accuracy: 0.5024 - val_loss: 0.6931 - val_accuracy: 0.5014\n",
      "Epoch 13/20\n",
      "196/196 [==============================] - 4s 20ms/step - loss: 0.6931 - accuracy: 0.5034 - val_loss: 0.6931 - val_accuracy: 0.5014\n",
      "Epoch 14/20\n",
      "196/196 [==============================] - 4s 20ms/step - loss: 0.6931 - accuracy: 0.5020 - val_loss: 0.6932 - val_accuracy: 0.4986\n",
      "Epoch 15/20\n",
      "196/196 [==============================] - 4s 20ms/step - loss: 0.6932 - accuracy: 0.5006 - val_loss: 0.6931 - val_accuracy: 0.5014\n",
      "Epoch 16/20\n",
      "196/196 [==============================] - 4s 20ms/step - loss: 0.6931 - accuracy: 0.5018 - val_loss: 0.6931 - val_accuracy: 0.5014\n",
      "Epoch 17/20\n",
      "196/196 [==============================] - 4s 20ms/step - loss: 0.6932 - accuracy: 0.5010 - val_loss: 0.6931 - val_accuracy: 0.5014\n",
      "Epoch 18/20\n",
      "196/196 [==============================] - 4s 20ms/step - loss: 0.6931 - accuracy: 0.5020 - val_loss: 0.6931 - val_accuracy: 0.5014\n",
      "Epoch 19/20\n",
      "196/196 [==============================] - 4s 20ms/step - loss: 0.6931 - accuracy: 0.5016 - val_loss: 0.6931 - val_accuracy: 0.5014\n",
      "Epoch 20/20\n",
      "196/196 [==============================] - 4s 20ms/step - loss: 0.6932 - accuracy: 0.5000 - val_loss: 0.6931 - val_accuracy: 0.5014\n"
     ]
    }
   ],
   "source": [
    "# 모델 학습 \n",
    "rnn_model.compile(optimizer='adam',\n",
    "              loss='binary_crossentropy',\n",
    "              metrics=['accuracy'])\n",
    "              \n",
    "epochs=20  # 몇 epoch를 훈련하면 좋을지 결과를 보면서 바꾸어 보기\n",
    "\n",
    "rnn_history = rnn_model.fit(partial_x_train,\n",
    "                    partial_y_train,\n",
    "                    epochs=epochs,\n",
    "                    batch_size=512,\n",
    "                    validation_data=(x_val, y_val),\n",
    "                    verbose=1)"
   ]
  },
  {
   "cell_type": "code",
   "execution_count": 33,
   "id": "frequent-atlanta",
   "metadata": {},
   "outputs": [
    {
     "name": "stdout",
     "output_type": "stream",
     "text": [
      "dict_keys(['loss', 'accuracy', 'val_loss', 'val_accuracy'])\n"
     ]
    }
   ],
   "source": [
    "# train/validation loss, accuracy 확인\n",
    "rnn_history_dict = rnn_history.history\n",
    "print(rnn_history_dict.keys()) # epoch에 따른 그래프를 그려볼 수 있는 항목들"
   ]
  },
  {
   "cell_type": "code",
   "execution_count": 34,
   "id": "aquatic-cathedral",
   "metadata": {},
   "outputs": [],
   "source": [
    "rnn_acc = rnn_history_dict['accuracy']\n",
    "rnn_val_acc = rnn_history_dict['val_accuracy']\n",
    "rnn_loss = rnn_history_dict['loss']\n",
    "rnn_val_loss = rnn_history_dict['val_loss']"
   ]
  },
  {
   "cell_type": "code",
   "execution_count": 64,
   "id": "first-salad",
   "metadata": {},
   "outputs": [
    {
     "data": {
      "image/png": "[encoded data removed]",
      "text/plain": [
       "<Figure size 432x288 with 1 Axes>"
      ]
     },
     "metadata": {
      "needs_background": "light"
     },
     "output_type": "display_data"
    }
   ],
   "source": [
    "## Training loss & Validation loss 그래프 \n",
    "epochs = range(1, len(rnn_acc) + 1)\n",
    "\n",
    "# r는 \"빨간 실선\"\n",
    "plt.plot(epochs, rnn_loss, 'r', label='Training loss')\n",
    "# b는 \"파란 실선\"\n",
    "plt.plot(epochs, rnn_val_loss, 'b', label='Validation loss')\n",
    "plt.title('RNN Training and validation loss with unigram_sp')\n",
    "plt.xlabel('Epochs')\n",
    "plt.ylabel('Loss')\n",
    "plt.legend()\n",
    "\n",
    "plt.show()"
   ]
  },
  {
   "cell_type": "code",
   "execution_count": 65,
   "id": "impossible-circuit",
   "metadata": {},
   "outputs": [
    {
     "data": {
      "image/png": "[encoded data removed]",
      "text/plain": [
       "<Figure size 432x288 with 1 Axes>"
      ]
     },
     "metadata": {
      "needs_background": "light"
     },
     "output_type": "display_data"
    }
   ],
   "source": [
    "## Training accuracy & validation accuracy 그래프\n",
    "\n",
    "plt.clf()   # 그림 초기화\n",
    "\n",
    "plt.plot(epochs, rnn_acc, 'r', label='Training acc')\n",
    "plt.plot(epochs, rnn_val_acc, 'b', label='Validation acc')\n",
    "plt.title('RNN Training and validation accuracy with unigram_sp')\n",
    "plt.xlabel('Epochs')\n",
    "plt.ylabel('Accuracy')\n",
    "plt.legend()\n",
    "\n",
    "plt.show()"
   ]
  },
  {
   "cell_type": "code",
   "execution_count": 37,
   "id": "stylish-construction",
   "metadata": {},
   "outputs": [
    {
     "name": "stdout",
     "output_type": "stream",
     "text": [
      "1451/1451 - 7s - loss: 0.6931 - accuracy: 0.5059\n",
      "[0.6931086778640747, 0.5059229135513306]\n"
     ]
    }
   ],
   "source": [
    "# 모델 평가 \n",
    "rnn_results = rnn_model.evaluate(X_test,  y_test, verbose=2)\n",
    "\n",
    "print(rnn_results)"
   ]
  },
  {
   "cell_type": "markdown",
   "id": "regulated-ordering",
   "metadata": {},
   "source": [
    "- 일반적으로 성능 좋은 RNN 모델이 Sentence Piece(Unigram) 토크나이저로 50.6% 의 test accuracy를 달성한 것을 볼 수 있다. "
   ]
  },
  {
   "cell_type": "markdown",
   "id": "cloudy-milan",
   "metadata": {},
   "source": [
    "## 1-D CNN 모델\n",
    "\n",
    "텍스트를 처리하기 위해 RNN이 아니라 1-D Convolution Neural Network(1-D CNN)를 사용할 수도 있습니다.\n",
    "    \n",
    "1-D CNN은 문장 전체를 한꺼번에 한 방향으로 길이 7짜리 필터로 스캐닝 하면서 7단어 이내에서 발견되는 특징을 추출하여 그것으로 문장을 분류하는 방식으로 사용됩니다. 이 방식도 텍스트를 처리하는 데 RNN 못지않은 효율을 보여줍니다.    \n",
    "\n",
    "그리고 CNN 계열은 RNN 계열보다 병렬처리가 효율적이기 때문에 학습 속도도 훨씬 빠르게 진행된다는 장점이 있습니다."
   ]
  },
  {
   "cell_type": "code",
   "execution_count": 38,
   "id": "round-german",
   "metadata": {},
   "outputs": [
    {
     "name": "stdout",
     "output_type": "stream",
     "text": [
      "Model: \"sequential_1\"\n",
      "_________________________________________________________________\n",
      "Layer (type)                 Output Shape              Param #   \n",
      "=================================================================\n",
      "embedding_1 (Embedding)      (None, None, 32)          256000    \n",
      "_________________________________________________________________\n",
      "conv1d (Conv1D)              (None, None, 16)          3600      \n",
      "_________________________________________________________________\n",
      "max_pooling1d (MaxPooling1D) (None, None, 16)          0         \n",
      "_________________________________________________________________\n",
      "conv1d_1 (Conv1D)            (None, None, 16)          1808      \n",
      "_________________________________________________________________\n",
      "global_max_pooling1d (Global (None, 16)                0         \n",
      "_________________________________________________________________\n",
      "dense_2 (Dense)              (None, 8)                 136       \n",
      "_________________________________________________________________\n",
      "dense_3 (Dense)              (None, 1)                 9         \n",
      "=================================================================\n",
      "Total params: 261,553\n",
      "Trainable params: 261,553\n",
      "Non-trainable params: 0\n",
      "_________________________________________________________________\n"
     ]
    }
   ],
   "source": [
    "vocab_size = 8000    # 어휘 사전의 크기 (8000개의 단어)\n",
    "word_vector_dim = 32  # 워드 벡터의 차원 수 (변경 가능한 하이퍼파라미터)\n",
    "\n",
    "# 모델 설계\n",
    "cnn1d_model = keras.Sequential()\n",
    "cnn1d_model.add(keras.layers.Embedding(vocab_size, word_vector_dim, input_shape=(None,)))\n",
    "cnn1d_model.add(keras.layers.Conv1D(16, 7, activation='relu'))\n",
    "cnn1d_model.add(keras.layers.MaxPooling1D(5))\n",
    "cnn1d_model.add(keras.layers.Conv1D(16, 7, activation='relu'))\n",
    "cnn1d_model.add(keras.layers.GlobalMaxPooling1D())\n",
    "cnn1d_model.add(keras.layers.Dense(8, activation='relu'))\n",
    "cnn1d_model.add(keras.layers.Dense(1, activation='sigmoid'))  # 최종 출력은 긍정/부정을 나타내는 1dim \n",
    "\n",
    "cnn1d_model.summary()"
   ]
  },
  {
   "cell_type": "code",
   "execution_count": 39,
   "id": "coordinate-bronze",
   "metadata": {},
   "outputs": [
    {
     "name": "stdout",
     "output_type": "stream",
     "text": [
      "Epoch 1/20\n",
      "196/196 [==============================] - 11s 34ms/step - loss: 0.6591 - accuracy: 0.5790 - val_loss: 0.3866 - val_accuracy: 0.8310\n",
      "Epoch 2/20\n",
      "196/196 [==============================] - 3s 14ms/step - loss: 0.3396 - accuracy: 0.8576 - val_loss: 0.3492 - val_accuracy: 0.8486\n",
      "Epoch 3/20\n",
      "196/196 [==============================] - 3s 14ms/step - loss: 0.2881 - accuracy: 0.8829 - val_loss: 0.3470 - val_accuracy: 0.8509\n",
      "Epoch 4/20\n",
      "196/196 [==============================] - 3s 14ms/step - loss: 0.2549 - accuracy: 0.8982 - val_loss: 0.3539 - val_accuracy: 0.8497\n",
      "Epoch 5/20\n",
      "196/196 [==============================] - 3s 14ms/step - loss: 0.2251 - accuracy: 0.9146 - val_loss: 0.3759 - val_accuracy: 0.8434\n",
      "Epoch 6/20\n",
      "196/196 [==============================] - 3s 14ms/step - loss: 0.1896 - accuracy: 0.9325 - val_loss: 0.4018 - val_accuracy: 0.8418\n",
      "Epoch 7/20\n",
      "196/196 [==============================] - 3s 15ms/step - loss: 0.1498 - accuracy: 0.9511 - val_loss: 0.4586 - val_accuracy: 0.8351\n",
      "Epoch 8/20\n",
      "196/196 [==============================] - 3s 14ms/step - loss: 0.1183 - accuracy: 0.9636 - val_loss: 0.5209 - val_accuracy: 0.8340\n",
      "Epoch 9/20\n",
      "196/196 [==============================] - 3s 14ms/step - loss: 0.0875 - accuracy: 0.9760 - val_loss: 0.6141 - val_accuracy: 0.8306\n",
      "Epoch 10/20\n",
      "196/196 [==============================] - 3s 14ms/step - loss: 0.0626 - accuracy: 0.9842 - val_loss: 0.7019 - val_accuracy: 0.8258\n",
      "Epoch 11/20\n",
      "196/196 [==============================] - 3s 14ms/step - loss: 0.0452 - accuracy: 0.9888 - val_loss: 0.7913 - val_accuracy: 0.8220\n",
      "Epoch 12/20\n",
      "196/196 [==============================] - 3s 14ms/step - loss: 0.0334 - accuracy: 0.9923 - val_loss: 0.8652 - val_accuracy: 0.8215\n",
      "Epoch 13/20\n",
      "196/196 [==============================] - 3s 14ms/step - loss: 0.0267 - accuracy: 0.9940 - val_loss: 0.9557 - val_accuracy: 0.8202\n",
      "Epoch 14/20\n",
      "196/196 [==============================] - 3s 14ms/step - loss: 0.0215 - accuracy: 0.9949 - val_loss: 1.0180 - val_accuracy: 0.8181\n",
      "Epoch 15/20\n",
      "196/196 [==============================] - 3s 14ms/step - loss: 0.0174 - accuracy: 0.9959 - val_loss: 1.1041 - val_accuracy: 0.8187\n",
      "Epoch 16/20\n",
      "196/196 [==============================] - 3s 14ms/step - loss: 0.0146 - accuracy: 0.9965 - val_loss: 1.1926 - val_accuracy: 0.8190\n",
      "Epoch 17/20\n",
      "196/196 [==============================] - 3s 14ms/step - loss: 0.0108 - accuracy: 0.9974 - val_loss: 1.2741 - val_accuracy: 0.8176\n",
      "Epoch 18/20\n",
      "196/196 [==============================] - 3s 14ms/step - loss: 0.0098 - accuracy: 0.9975 - val_loss: 1.3228 - val_accuracy: 0.8190\n",
      "Epoch 19/20\n",
      "196/196 [==============================] - 3s 15ms/step - loss: 0.0087 - accuracy: 0.9977 - val_loss: 1.3807 - val_accuracy: 0.8179\n",
      "Epoch 20/20\n",
      "196/196 [==============================] - 3s 14ms/step - loss: 0.0082 - accuracy: 0.9978 - val_loss: 1.5092 - val_accuracy: 0.8125\n"
     ]
    }
   ],
   "source": [
    "# 모델 학습\n",
    "cnn1d_model.compile(optimizer='adam',\n",
    "              loss='binary_crossentropy',\n",
    "              metrics=['accuracy'])\n",
    "              \n",
    "epochs=20  # 몇 epoch를 훈련하면 좋을지 결과를 보면서 바꾸어 보기\n",
    "\n",
    "cnn1d_history = cnn1d_model.fit(partial_x_train,\n",
    "                    partial_y_train,\n",
    "                    epochs=epochs,\n",
    "                    batch_size=512,\n",
    "                    validation_data=(x_val, y_val),\n",
    "                    verbose=1)"
   ]
  },
  {
   "cell_type": "code",
   "execution_count": 40,
   "id": "collected-ending",
   "metadata": {},
   "outputs": [
    {
     "name": "stdout",
     "output_type": "stream",
     "text": [
      "dict_keys(['loss', 'accuracy', 'val_loss', 'val_accuracy'])\n"
     ]
    }
   ],
   "source": [
    "# train/validation loss, accuracy 확인\n",
    "cnn1d_history_dict = cnn1d_history.history\n",
    "print(cnn1d_history_dict.keys()) # epoch에 따른 그래프를 그려볼 수 있는 항목들"
   ]
  },
  {
   "cell_type": "code",
   "execution_count": 41,
   "id": "nominated-nightmare",
   "metadata": {},
   "outputs": [],
   "source": [
    "cnn1d_acc = cnn1d_history_dict['accuracy']\n",
    "cnn1d_val_acc = cnn1d_history_dict['val_accuracy']\n",
    "cnn1d_loss = cnn1d_history_dict['loss']\n",
    "cnn1d_val_loss = cnn1d_history_dict['val_loss']"
   ]
  },
  {
   "cell_type": "code",
   "execution_count": 66,
   "id": "furnished-pepper",
   "metadata": {},
   "outputs": [
    {
     "data": {
      "image/png": "[encoded data removed]",
      "text/plain": [
       "<Figure size 432x288 with 1 Axes>"
      ]
     },
     "metadata": {
      "needs_background": "light"
     },
     "output_type": "display_data"
    }
   ],
   "source": [
    "## Training loss & Validation loss 그래프 \n",
    "epochs = range(1, len(cnn1d_acc) + 1)\n",
    "\n",
    "# r는 \"빨간 실선\"\n",
    "plt.plot(epochs, cnn1d_loss, 'r', label='Training loss')\n",
    "# b는 \"파란 실선\"\n",
    "plt.plot(epochs, cnn1d_val_loss, 'b', label='Validation loss')\n",
    "plt.title('1-D CNN Training and validation loss with unigram_sp')\n",
    "plt.xlabel('Epochs')\n",
    "plt.ylabel('Loss')\n",
    "plt.legend()\n",
    "\n",
    "plt.show()"
   ]
  },
  {
   "cell_type": "code",
   "execution_count": 67,
   "id": "entire-rabbit",
   "metadata": {},
   "outputs": [
    {
     "data": {
      "image/png": "[encoded data removed]",
      "text/plain": [
       "<Figure size 432x288 with 1 Axes>"
      ]
     },
     "metadata": {
      "needs_background": "light"
     },
     "output_type": "display_data"
    }
   ],
   "source": [
    "## Training accuracy & validation accuracy 그래프\n",
    "\n",
    "plt.clf()   # 그림 초기화\n",
    "\n",
    "plt.plot(epochs, cnn1d_acc, 'r', label='Training acc')\n",
    "plt.plot(epochs, cnn1d_val_acc, 'b', label='Validation acc')\n",
    "plt.title('1-D CNN Training and validation accuracy with unigram_sp')\n",
    "plt.xlabel('Epochs')\n",
    "plt.ylabel('Accuracy')\n",
    "plt.legend()\n",
    "\n",
    "plt.show()"
   ]
  },
  {
   "cell_type": "code",
   "execution_count": 44,
   "id": "burning-montana",
   "metadata": {},
   "outputs": [
    {
     "name": "stdout",
     "output_type": "stream",
     "text": [
      "1451/1451 - 5s - loss: 1.5507 - accuracy: 0.8101\n",
      "[1.55072820186615, 0.8100581765174866]\n"
     ]
    }
   ],
   "source": [
    "# 모델 평가\n",
    "cnn1d_results = cnn1d_model.evaluate(X_test,  y_test, verbose=2)\n",
    "\n",
    "print(cnn1d_results)"
   ]
  },
  {
   "cell_type": "markdown",
   "id": "configured-appendix",
   "metadata": {},
   "source": [
    "- 1D-CNN 모델이 Sentence Piece(Unigram) 토크나이저를 이용하였을 때 test accuracy 81.0% 달성한 것을 볼 수 있다. "
   ]
  },
  {
   "cell_type": "markdown",
   "id": "front-sheriff",
   "metadata": {},
   "source": [
    "# 6. SentencePiece의 성능 비교분석\n",
    "\n",
    "앞에서는 subword 방식으로 unigram type 모델을 학습시켰다면 이번에는 BPE 타입의 모델을 학습시켜 봅니다.\n",
    "- BPE (Byte Pair Encoding) : 연속적으로 가장 많이 등장한 글자의 쌍을 찾아서 하나의 글자로 병합하는 방식을 수행한다.     \n",
    "    https://algopoolja.tistory.com/64\n"
   ]
  },
  {
   "cell_type": "markdown",
   "id": "rural-archive",
   "metadata": {},
   "source": [
    "## 6.1 SentencePiece(bpe) 모델 학습"
   ]
  },
  {
   "cell_type": "code",
   "execution_count": 45,
   "id": "authorized-david",
   "metadata": {},
   "outputs": [],
   "source": [
    "spm.SentencePieceTrainer.Train( # bpe model \n",
    "    '--input={} --model_prefix=nmsc_spm_bpe --vocab_size={} --model_type={}'.format(temp_file, vocab_size, 'bpe')    \n",
    ") "
   ]
  },
  {
   "cell_type": "code",
   "execution_count": 46,
   "id": "german-description",
   "metadata": {},
   "outputs": [
    {
     "name": "stdout",
     "output_type": "stream",
     "text": [
      "-rw-r--r-- 1 root root 370629 Dec 20 11:06 nmsc_spm_bpe.model\r\n",
      "-rw-r--r-- 1 root root 115862 Dec 20 11:06 nmsc_spm_bpe.vocab\r\n"
     ]
    }
   ],
   "source": [
    "!ls -l nmsc_spm_bpe*"
   ]
  },
  {
   "cell_type": "code",
   "execution_count": 47,
   "id": "sought-yemen",
   "metadata": {},
   "outputs": [
    {
     "name": "stdout",
     "output_type": "stream",
     "text": [
      "[4971, 910, 6548, 6283, 1452, 6279, 6384, 6273, 6271]\n",
      "['▁아버', '지가', '방', '에', '들어', '가', '신', '다', '.']\n",
      "아버지가방에들어가신다.\n"
     ]
    }
   ],
   "source": [
    "s2 = spm.SentencePieceProcessor()\n",
    "s2.Load('nmsc_spm_bpe.model')\n",
    "\n",
    "# SentencePiece를 활용한 sentence -> encoding\n",
    "tokensIDs = s2.EncodeAsIds('아버지가방에들어가신다.')\n",
    "print(tokensIDs)\n",
    "\n",
    "# SentencePiece를 활용한 sentence -> encoded pieces\n",
    "print(s2.SampleEncodeAsPieces('아버지가방에들어가신다.',1, 0.0))\n",
    "\n",
    "# SentencePiece를 활용한 encoding -> sentence 복원\n",
    "print(s2.DecodeIds(tokensIDs))"
   ]
  },
  {
   "cell_type": "markdown",
   "id": "federal-season",
   "metadata": {},
   "source": [
    "- 앞에서 본 unigram 타입과 조금 다르게 토큰화된 것을 볼 수 있다."
   ]
  },
  {
   "cell_type": "markdown",
   "id": "outside-textbook",
   "metadata": {},
   "source": [
    "## 6.2 SentencePiece(bpe) 토크나이저로 토큰화"
   ]
  },
  {
   "cell_type": "code",
   "execution_count": 48,
   "id": "unauthorized-cliff",
   "metadata": {},
   "outputs": [],
   "source": [
    "# Tokenizer 함수 작성\n",
    "def sp_tokenize2(s2, corpus):\n",
    "    # s2 : SentencePieceProcessor(bpe)\n",
    "    # corpus : sentence's List  \n",
    "\n",
    "    tensor = []\n",
    "\n",
    "    for sen in corpus:\n",
    "        tensor.append(s2.EncodeAsIds(sen))\n",
    "\n",
    "    with open(\"./nmsc_spm_bpe.vocab\", 'r') as f:\n",
    "        vocab = f.readlines()\n",
    "    \n",
    "    word_index = {}\n",
    "    index_word = {}\n",
    "\n",
    "    for idx, line in enumerate(vocab):\n",
    "        word = line.split(\"\\t\")[0]\n",
    "\n",
    "        word_index.update({idx:word})\n",
    "        index_word.update({word:idx})\n",
    "    \n",
    "    tensor = tf.keras.preprocessing.sequence.pad_sequences(tensor, padding='post')\n",
    "\n",
    "    return tensor, word_index, index_word"
   ]
  },
  {
   "cell_type": "code",
   "execution_count": 49,
   "id": "congressional-productivity",
   "metadata": {},
   "outputs": [
    {
     "name": "stdout",
     "output_type": "stream",
     "text": [
      "[[ 721 3119 6300  569  832 6271    0    0    0]\n",
      " [1690 2315  324  321 6279  157 7626   14    7]]\n"
     ]
    }
   ],
   "source": [
    "#sp_tokenize2(s2, corpus) 사용예제\n",
    "\n",
    "my_corpus = ['나는 밥을 먹었습니다.', '그러나 여전히 ㅠㅠ 배가 고픕니다...']\n",
    "tensor, word_index, index_word = sp_tokenize2(s2, my_corpus)\n",
    "print(tensor)"
   ]
  },
  {
   "cell_type": "code",
   "execution_count": 50,
   "id": "silent-appearance",
   "metadata": {},
   "outputs": [
    {
     "name": "stdout",
     "output_type": "stream",
     "text": [
      "(138008, 3) (46430, 3)\n"
     ]
    }
   ],
   "source": [
    "print(filtered_train_data.shape, filtered_test_data.shape) # 앞에서 전처리한 데이터 "
   ]
  },
  {
   "cell_type": "code",
   "execution_count": 51,
   "id": "upper-europe",
   "metadata": {},
   "outputs": [
    {
     "name": "stdout",
     "output_type": "stream",
     "text": [
      "184438\n"
     ]
    }
   ],
   "source": [
    "print(len(filtered_corpus)) # filtered_train_text + filtered_test_text"
   ]
  },
  {
   "cell_type": "code",
   "execution_count": 52,
   "id": "based-progress",
   "metadata": {},
   "outputs": [],
   "source": [
    "tensor2, word_index2, index_word2 = sp_tokenize2(s2, filtered_corpus)"
   ]
  },
  {
   "cell_type": "code",
   "execution_count": 53,
   "id": "positive-connection",
   "metadata": {},
   "outputs": [
    {
     "name": "stdout",
     "output_type": "stream",
     "text": [
      "138008 46430\n",
      "138008 46430\n"
     ]
    }
   ],
   "source": [
    "# X_train, y_train, X_test, y_test 만들기 \n",
    "X_train2, y_train2 = tensor2[:138008], np.array(list(filtered_train_data['label']))\n",
    "X_test2, y_test2 = tensor2[138008:], np.array(list(filtered_test_data['label']))\n",
    "\n",
    "print(len(X_train2), len(X_test2))\n",
    "print(len(y_train2), len(y_test2))"
   ]
  },
  {
   "cell_type": "code",
   "execution_count": 54,
   "id": "signal-inclusion",
   "metadata": {},
   "outputs": [
    {
     "name": "stdout",
     "output_type": "stream",
     "text": [
      "(138008, 80)\n",
      "(46430, 80)\n"
     ]
    }
   ],
   "source": [
    "print(X_train2.shape)\n",
    "print(X_test2.shape)"
   ]
  },
  {
   "cell_type": "markdown",
   "id": "historic-namibia",
   "metadata": {},
   "source": [
    "- tensor의 size가 unigram보다 조금 증가한 것을 알 수 있다. "
   ]
  },
  {
   "cell_type": "markdown",
   "id": "animated-nursery",
   "metadata": {},
   "source": [
    "## 6.3 딥러닝 모델 훈련\n",
    "\n",
    "딥러닝 모델은 앞에서 설계한 RNN, 1DCNN을 동일하게 사용하도록 합니다. "
   ]
  },
  {
   "cell_type": "code",
   "execution_count": 55,
   "id": "fewer-village",
   "metadata": {},
   "outputs": [
    {
     "name": "stdout",
     "output_type": "stream",
     "text": [
      "(100000, 80)\n",
      "(100000,)\n",
      "(38008, 80)\n",
      "(38008,)\n"
     ]
    }
   ],
   "source": [
    "# validation set 구성\n",
    "# train set 100000건 분리\n",
    "partial_x_train2 = X_train2[:100000]  \n",
    "partial_y_train2 = y_train2[:100000]\n",
    "\n",
    "# train set을 제외한 나머지 validation set\n",
    "x_val2 = X_train2[100000:]   \n",
    "y_val2 = y_train2[100000:]\n",
    "\n",
    "print(partial_x_train2.shape)\n",
    "print(partial_y_train2.shape)\n",
    "print(x_val2.shape)\n",
    "print(y_val2.shape)"
   ]
  },
  {
   "cell_type": "markdown",
   "id": "right-medicare",
   "metadata": {},
   "source": [
    "### RNN 모델"
   ]
  },
  {
   "cell_type": "code",
   "execution_count": 56,
   "id": "arctic-harassment",
   "metadata": {},
   "outputs": [
    {
     "name": "stdout",
     "output_type": "stream",
     "text": [
      "Model: \"sequential_2\"\n",
      "_________________________________________________________________\n",
      "Layer (type)                 Output Shape              Param #   \n",
      "=================================================================\n",
      "embedding_2 (Embedding)      (None, None, 32)          256000    \n",
      "_________________________________________________________________\n",
      "lstm_1 (LSTM)                (None, 8)                 1312      \n",
      "_________________________________________________________________\n",
      "dense_4 (Dense)              (None, 8)                 72        \n",
      "_________________________________________________________________\n",
      "dense_5 (Dense)              (None, 1)                 9         \n",
      "=================================================================\n",
      "Total params: 257,393\n",
      "Trainable params: 257,393\n",
      "Non-trainable params: 0\n",
      "_________________________________________________________________\n"
     ]
    }
   ],
   "source": [
    "# 앞에서 설계한 RNN 모델 \n",
    "vocab_size = 8000    # 어휘 사전의 크기 (8000개의 단어)\n",
    "word_vector_dim = 32  # 워드 벡터의 차원 수 (변경 가능한 하이퍼파라미터)\n",
    "\n",
    "# 모델 설계 \n",
    "rnn_model2 = keras.Sequential()\n",
    "rnn_model2.add(keras.layers.Embedding(vocab_size, word_vector_dim, input_shape=(None,)))\n",
    "rnn_model2.add(keras.layers.LSTM(8))   # 가장 널리 쓰이는 RNN인 LSTM 레이어를 사용, LSTM state 벡터의 차원수는 8로 \n",
    "rnn_model2.add(keras.layers.Dense(8, activation='relu'))\n",
    "rnn_model2.add(keras.layers.Dense(1, activation='sigmoid'))  # 최종 출력은 긍정/부정을 나타내는 1dim \n",
    "\n",
    "rnn_model2.summary()"
   ]
  },
  {
   "cell_type": "code",
   "execution_count": 57,
   "id": "common-chemical",
   "metadata": {},
   "outputs": [
    {
     "name": "stdout",
     "output_type": "stream",
     "text": [
      "Epoch 1/20\n",
      "196/196 [==============================] - 6s 23ms/step - loss: 0.6932 - accuracy: 0.5016 - val_loss: 0.6931 - val_accuracy: 0.5014\n",
      "Epoch 2/20\n",
      "196/196 [==============================] - 4s 20ms/step - loss: 0.6931 - accuracy: 0.5012 - val_loss: 0.6931 - val_accuracy: 0.5014\n",
      "Epoch 3/20\n",
      "196/196 [==============================] - 4s 20ms/step - loss: 0.6931 - accuracy: 0.5015 - val_loss: 0.6931 - val_accuracy: 0.5014\n",
      "Epoch 4/20\n",
      "196/196 [==============================] - 4s 20ms/step - loss: 0.6932 - accuracy: 0.5016 - val_loss: 0.6931 - val_accuracy: 0.4986\n",
      "Epoch 5/20\n",
      "196/196 [==============================] - 4s 20ms/step - loss: 0.6932 - accuracy: 0.5022 - val_loss: 0.6931 - val_accuracy: 0.5014\n",
      "Epoch 6/20\n",
      "196/196 [==============================] - 4s 20ms/step - loss: 0.6931 - accuracy: 0.5041 - val_loss: 0.6931 - val_accuracy: 0.4986\n",
      "Epoch 7/20\n",
      "196/196 [==============================] - 4s 20ms/step - loss: 0.6931 - accuracy: 0.4984 - val_loss: 0.6931 - val_accuracy: 0.5014\n",
      "Epoch 8/20\n",
      "196/196 [==============================] - 4s 20ms/step - loss: 0.6931 - accuracy: 0.5023 - val_loss: 0.6931 - val_accuracy: 0.5014\n",
      "Epoch 9/20\n",
      "196/196 [==============================] - 4s 20ms/step - loss: 0.6931 - accuracy: 0.4995 - val_loss: 0.6932 - val_accuracy: 0.5014\n",
      "Epoch 10/20\n",
      "196/196 [==============================] - 4s 20ms/step - loss: 0.6931 - accuracy: 0.5006 - val_loss: 0.6931 - val_accuracy: 0.5014\n",
      "Epoch 11/20\n",
      "196/196 [==============================] - 4s 20ms/step - loss: 0.6931 - accuracy: 0.5025 - val_loss: 0.6931 - val_accuracy: 0.4986\n",
      "Epoch 12/20\n",
      "196/196 [==============================] - 4s 20ms/step - loss: 0.6932 - accuracy: 0.4999 - val_loss: 0.6931 - val_accuracy: 0.5014\n",
      "Epoch 13/20\n",
      "196/196 [==============================] - 4s 20ms/step - loss: 0.6932 - accuracy: 0.4987 - val_loss: 0.6931 - val_accuracy: 0.5014\n",
      "Epoch 14/20\n",
      "196/196 [==============================] - 4s 20ms/step - loss: 0.6935 - accuracy: 0.5025 - val_loss: 0.6931 - val_accuracy: 0.5014\n",
      "Epoch 15/20\n",
      "196/196 [==============================] - 4s 20ms/step - loss: 0.6931 - accuracy: 0.5010 - val_loss: 0.6931 - val_accuracy: 0.5014\n",
      "Epoch 16/20\n",
      "196/196 [==============================] - 4s 20ms/step - loss: 0.6931 - accuracy: 0.4995 - val_loss: 0.6931 - val_accuracy: 0.5014\n",
      "Epoch 17/20\n",
      "196/196 [==============================] - 4s 20ms/step - loss: 0.6932 - accuracy: 0.5000 - val_loss: 0.6931 - val_accuracy: 0.5014\n",
      "Epoch 18/20\n",
      "196/196 [==============================] - 4s 20ms/step - loss: 0.6931 - accuracy: 0.5026 - val_loss: 0.6931 - val_accuracy: 0.5014\n",
      "Epoch 19/20\n",
      "196/196 [==============================] - 4s 20ms/step - loss: 0.6931 - accuracy: 0.5003 - val_loss: 0.6931 - val_accuracy: 0.5014\n",
      "Epoch 20/20\n",
      "196/196 [==============================] - 4s 20ms/step - loss: 0.6931 - accuracy: 0.5010 - val_loss: 0.6931 - val_accuracy: 0.5014\n"
     ]
    }
   ],
   "source": [
    "# 모델 학습 \n",
    "rnn_model2.compile(optimizer='adam',\n",
    "              loss='binary_crossentropy',\n",
    "              metrics=['accuracy'])\n",
    "              \n",
    "epochs=20  \n",
    "\n",
    "rnn_history2 = rnn_model2.fit(partial_x_train2,\n",
    "                    partial_y_train2,\n",
    "                    epochs=epochs,\n",
    "                    batch_size=512,\n",
    "                    validation_data=(x_val2, y_val2),\n",
    "                    verbose=1)"
   ]
  },
  {
   "cell_type": "code",
   "execution_count": 58,
   "id": "difficult-commonwealth",
   "metadata": {},
   "outputs": [
    {
     "name": "stdout",
     "output_type": "stream",
     "text": [
      "dict_keys(['loss', 'accuracy', 'val_loss', 'val_accuracy'])\n"
     ]
    }
   ],
   "source": [
    "# train/validation loss, accuracy 확인\n",
    "rnn_history_dict2 = rnn_history2.history\n",
    "print(rnn_history_dict2.keys()) # epoch에 따른 그래프를 그려볼 수 있는 항목들\n",
    "\n",
    "rnn_acc2 = rnn_history_dict2['accuracy']\n",
    "rnn_val_acc2 = rnn_history_dict2['val_accuracy']\n",
    "rnn_loss2 = rnn_history_dict2['loss']\n",
    "rnn_val_loss2 = rnn_history_dict2['val_loss']"
   ]
  },
  {
   "cell_type": "code",
   "execution_count": 59,
   "id": "lesbian-eating",
   "metadata": {},
   "outputs": [
    {
     "data": {
      "image/png": "[encoded data removed]",
      "text/plain": [
       "<Figure size 432x288 with 1 Axes>"
      ]
     },
     "metadata": {
      "needs_background": "light"
     },
     "output_type": "display_data"
    }
   ],
   "source": [
    "## Training loss & Validation loss 그래프 \n",
    "epochs = range(1, len(rnn_acc2) + 1)\n",
    "\n",
    "# r는 \"빨간 실선\"\n",
    "plt.plot(epochs, rnn_loss2, 'r', label='Training loss')\n",
    "# b는 \"파란 실선\"\n",
    "plt.plot(epochs, rnn_val_loss2, 'b', label='Validation loss')\n",
    "plt.title('RNN Training and validation loss with BPE_sp')\n",
    "plt.xlabel('Epochs')\n",
    "plt.ylabel('Loss')\n",
    "plt.legend()\n",
    "\n",
    "plt.show()"
   ]
  },
  {
   "cell_type": "code",
   "execution_count": 60,
   "id": "major-bacteria",
   "metadata": {},
   "outputs": [
    {
     "data": {
      "image/png": "[encoded data removed]",
      "text/plain": [
       "<Figure size 432x288 with 1 Axes>"
      ]
     },
     "metadata": {
      "needs_background": "light"
     },
     "output_type": "display_data"
    }
   ],
   "source": [
    "## Training accuracy & validation accuracy 그래프\n",
    "\n",
    "plt.clf()   # 그림 초기화\n",
    "\n",
    "plt.plot(epochs, rnn_acc2, 'r', label='Training acc')\n",
    "plt.plot(epochs, rnn_val_acc2, 'b', label='Validation acc')\n",
    "plt.title('RNN Training and validation accuracy with bpe_sp')\n",
    "plt.xlabel('Epochs')\n",
    "plt.ylabel('Accuracy')\n",
    "plt.legend()\n",
    "\n",
    "plt.show()"
   ]
  },
  {
   "cell_type": "code",
   "execution_count": 61,
   "id": "assured-editor",
   "metadata": {},
   "outputs": [
    {
     "name": "stdout",
     "output_type": "stream",
     "text": [
      "1451/1451 - 7s - loss: 0.6931 - accuracy: 0.5059\n",
      "[0.6931195259094238, 0.5059229135513306]\n"
     ]
    }
   ],
   "source": [
    "# 모델 평가 \n",
    "rnn_results2 = rnn_model2.evaluate(X_test2,  y_test2, verbose=2)\n",
    "\n",
    "print(rnn_results2)"
   ]
  },
  {
   "cell_type": "markdown",
   "id": "similar-waste",
   "metadata": {},
   "source": [
    "- 앞의 Sentence Piece(Unigram) 토크나이저와 같이 BPE 토크나이저도 50.6% 의 test accuracy를 달성한 것을 볼 수 있다."
   ]
  },
  {
   "cell_type": "markdown",
   "id": "greater-tower",
   "metadata": {},
   "source": [
    "### 1-D CNN 모델"
   ]
  },
  {
   "cell_type": "code",
   "execution_count": 62,
   "id": "opened-research",
   "metadata": {},
   "outputs": [
    {
     "name": "stdout",
     "output_type": "stream",
     "text": [
      "Model: \"sequential_3\"\n",
      "_________________________________________________________________\n",
      "Layer (type)                 Output Shape              Param #   \n",
      "=================================================================\n",
      "embedding_3 (Embedding)      (None, None, 32)          256000    \n",
      "_________________________________________________________________\n",
      "conv1d_2 (Conv1D)            (None, None, 16)          3600      \n",
      "_________________________________________________________________\n",
      "max_pooling1d_1 (MaxPooling1 (None, None, 16)          0         \n",
      "_________________________________________________________________\n",
      "conv1d_3 (Conv1D)            (None, None, 16)          1808      \n",
      "_________________________________________________________________\n",
      "global_max_pooling1d_1 (Glob (None, 16)                0         \n",
      "_________________________________________________________________\n",
      "dense_6 (Dense)              (None, 8)                 136       \n",
      "_________________________________________________________________\n",
      "dense_7 (Dense)              (None, 1)                 9         \n",
      "=================================================================\n",
      "Total params: 261,553\n",
      "Trainable params: 261,553\n",
      "Non-trainable params: 0\n",
      "_________________________________________________________________\n"
     ]
    }
   ],
   "source": [
    "# 앞에서 설계한 1d CNN 모델 \n",
    "vocab_size = 8000    # 어휘 사전의 크기 (8000개의 단어)\n",
    "word_vector_dim = 32  # 워드 벡터의 차원 수 (변경 가능한 하이퍼파라미터)\n",
    "\n",
    "# 모델 설계\n",
    "cnn1d_model2 = keras.Sequential()\n",
    "cnn1d_model2.add(keras.layers.Embedding(vocab_size, word_vector_dim, input_shape=(None,)))\n",
    "cnn1d_model2.add(keras.layers.Conv1D(16, 7, activation='relu'))\n",
    "cnn1d_model2.add(keras.layers.MaxPooling1D(5))\n",
    "cnn1d_model2.add(keras.layers.Conv1D(16, 7, activation='relu'))\n",
    "cnn1d_model2.add(keras.layers.GlobalMaxPooling1D())\n",
    "cnn1d_model2.add(keras.layers.Dense(8, activation='relu'))\n",
    "cnn1d_model2.add(keras.layers.Dense(1, activation='sigmoid'))  # 최종 출력은 긍정/부정을 나타내는 1dim \n",
    "\n",
    "cnn1d_model2.summary()"
   ]
  },
  {
   "cell_type": "code",
   "execution_count": 63,
   "id": "requested-artwork",
   "metadata": {},
   "outputs": [
    {
     "name": "stdout",
     "output_type": "stream",
     "text": [
      "Epoch 1/20\n",
      "196/196 [==============================] - 8s 27ms/step - loss: 0.6500 - accuracy: 0.5874 - val_loss: 0.3735 - val_accuracy: 0.8354\n",
      "Epoch 2/20\n",
      "196/196 [==============================] - 3s 14ms/step - loss: 0.3285 - accuracy: 0.8608 - val_loss: 0.3445 - val_accuracy: 0.8506\n",
      "Epoch 3/20\n",
      "196/196 [==============================] - 3s 14ms/step - loss: 0.2831 - accuracy: 0.8824 - val_loss: 0.3466 - val_accuracy: 0.8513\n",
      "Epoch 4/20\n",
      "196/196 [==============================] - 3s 14ms/step - loss: 0.2555 - accuracy: 0.8973 - val_loss: 0.3504 - val_accuracy: 0.8510\n",
      "Epoch 5/20\n",
      "196/196 [==============================] - 3s 14ms/step - loss: 0.2224 - accuracy: 0.9141 - val_loss: 0.3648 - val_accuracy: 0.8472\n",
      "Epoch 6/20\n",
      "196/196 [==============================] - 3s 14ms/step - loss: 0.1885 - accuracy: 0.9319 - val_loss: 0.4064 - val_accuracy: 0.8425\n",
      "Epoch 7/20\n",
      "196/196 [==============================] - 3s 14ms/step - loss: 0.1503 - accuracy: 0.9501 - val_loss: 0.4626 - val_accuracy: 0.8384\n",
      "Epoch 8/20\n",
      "196/196 [==============================] - 3s 14ms/step - loss: 0.1105 - accuracy: 0.9661 - val_loss: 0.5226 - val_accuracy: 0.8322\n",
      "Epoch 9/20\n",
      "196/196 [==============================] - 3s 14ms/step - loss: 0.0813 - accuracy: 0.9776 - val_loss: 0.6021 - val_accuracy: 0.8310\n",
      "Epoch 10/20\n",
      "196/196 [==============================] - 3s 14ms/step - loss: 0.0600 - accuracy: 0.9846 - val_loss: 0.6865 - val_accuracy: 0.8290\n",
      "Epoch 11/20\n",
      "196/196 [==============================] - 3s 14ms/step - loss: 0.0460 - accuracy: 0.9892 - val_loss: 0.7844 - val_accuracy: 0.8268\n",
      "Epoch 12/20\n",
      "196/196 [==============================] - 3s 14ms/step - loss: 0.0373 - accuracy: 0.9911 - val_loss: 0.8295 - val_accuracy: 0.8248\n",
      "Epoch 13/20\n",
      "196/196 [==============================] - 3s 14ms/step - loss: 0.0328 - accuracy: 0.9923 - val_loss: 0.8999 - val_accuracy: 0.8239\n",
      "Epoch 14/20\n",
      "196/196 [==============================] - 3s 14ms/step - loss: 0.0277 - accuracy: 0.9937 - val_loss: 1.0100 - val_accuracy: 0.8243\n",
      "Epoch 15/20\n",
      "196/196 [==============================] - 3s 14ms/step - loss: 0.0246 - accuracy: 0.9941 - val_loss: 1.0060 - val_accuracy: 0.8233\n",
      "Epoch 16/20\n",
      "196/196 [==============================] - 3s 14ms/step - loss: 0.0239 - accuracy: 0.9941 - val_loss: 1.0832 - val_accuracy: 0.8234\n",
      "Epoch 17/20\n",
      "196/196 [==============================] - 3s 14ms/step - loss: 0.0227 - accuracy: 0.9946 - val_loss: 1.1624 - val_accuracy: 0.8220\n",
      "Epoch 18/20\n",
      "196/196 [==============================] - 3s 14ms/step - loss: 0.0196 - accuracy: 0.9949 - val_loss: 1.2162 - val_accuracy: 0.8219\n",
      "Epoch 19/20\n",
      "196/196 [==============================] - 3s 14ms/step - loss: 0.0184 - accuracy: 0.9951 - val_loss: 1.2805 - val_accuracy: 0.8207\n",
      "Epoch 20/20\n",
      "196/196 [==============================] - 3s 14ms/step - loss: 0.0187 - accuracy: 0.9951 - val_loss: 1.3670 - val_accuracy: 0.8209\n"
     ]
    }
   ],
   "source": [
    "# 모델 학습\n",
    "cnn1d_model2.compile(optimizer='adam',\n",
    "              loss='binary_crossentropy',\n",
    "              metrics=['accuracy'])\n",
    "              \n",
    "epochs=20  \n",
    "\n",
    "cnn1d_history2 = cnn1d_model2.fit(partial_x_train2,\n",
    "                    partial_y_train2,\n",
    "                    epochs=epochs,\n",
    "                    batch_size=512,\n",
    "                    validation_data=(x_val2, y_val2),\n",
    "                    verbose=1)"
   ]
  },
  {
   "cell_type": "code",
   "execution_count": 68,
   "id": "eight-currency",
   "metadata": {},
   "outputs": [
    {
     "name": "stdout",
     "output_type": "stream",
     "text": [
      "dict_keys(['loss', 'accuracy', 'val_loss', 'val_accuracy'])\n"
     ]
    }
   ],
   "source": [
    "# train/validation loss, accuracy 확인\n",
    "cnn1d_history_dict2 = cnn1d_history2.history\n",
    "print(cnn1d_history_dict2.keys()) \n",
    "\n",
    "cnn1d_acc2 = cnn1d_history_dict2['accuracy']\n",
    "cnn1d_val_acc2 = cnn1d_history_dict2['val_accuracy']\n",
    "cnn1d_loss2 = cnn1d_history_dict2['loss']\n",
    "cnn1d_val_loss2 = cnn1d_history_dict2['val_loss']"
   ]
  },
  {
   "cell_type": "code",
   "execution_count": 69,
   "id": "connected-amount",
   "metadata": {},
   "outputs": [
    {
     "data": {
      "image/png": "[encoded data removed]",
      "text/plain": [
       "<Figure size 432x288 with 1 Axes>"
      ]
     },
     "metadata": {
      "needs_background": "light"
     },
     "output_type": "display_data"
    }
   ],
   "source": [
    "## Training loss & Validation loss 그래프 \n",
    "epochs = range(1, len(cnn1d_acc2) + 1)\n",
    "\n",
    "# r는 \"빨간 실선\"\n",
    "plt.plot(epochs, cnn1d_loss2, 'r', label='Training loss')\n",
    "# b는 \"파란 실선\"\n",
    "plt.plot(epochs, cnn1d_val_loss2, 'b', label='Validation loss')\n",
    "plt.title('1-D CNN Training and validation loss with bpe_sp')\n",
    "plt.xlabel('Epochs')\n",
    "plt.ylabel('Loss')\n",
    "plt.legend()\n",
    "\n",
    "plt.show()"
   ]
  },
  {
   "cell_type": "code",
   "execution_count": 70,
   "id": "roman-generation",
   "metadata": {},
   "outputs": [
    {
     "data": {
      "image/png": "[encoded data removed]",
      "text/plain": [
       "<Figure size 432x288 with 1 Axes>"
      ]
     },
     "metadata": {
      "needs_background": "light"
     },
     "output_type": "display_data"
    }
   ],
   "source": [
    "## Training accuracy & validation accuracy 그래프\n",
    "\n",
    "plt.clf()   # 그림 초기화\n",
    "\n",
    "plt.plot(epochs, cnn1d_acc2, 'r', label='Training acc')\n",
    "plt.plot(epochs, cnn1d_val_acc2, 'b', label='Validation acc')\n",
    "plt.title('1-D CNN Training and validation accuracy with bpe_sp')\n",
    "plt.xlabel('Epochs')\n",
    "plt.ylabel('Accuracy')\n",
    "plt.legend()\n",
    "\n",
    "plt.show()"
   ]
  },
  {
   "cell_type": "code",
   "execution_count": 72,
   "id": "twenty-decline",
   "metadata": {},
   "outputs": [
    {
     "name": "stdout",
     "output_type": "stream",
     "text": [
      "1451/1451 - 4s - loss: 1.3743 - accuracy: 0.8190\n",
      "[1.374263048171997, 0.8190178871154785]\n"
     ]
    }
   ],
   "source": [
    "# 모델 평가\n",
    "cnn1d_results2 = cnn1d_model2.evaluate(X_test2,  y_test2, verbose=2)\n",
    "\n",
    "print(cnn1d_results2)"
   ]
  },
  {
   "cell_type": "markdown",
   "id": "swiss-waterproof",
   "metadata": {},
   "source": [
    "- 1D-CNN 모델이 Sentence Piece(Unigram) 토크나이저를 이용하였을 때보다는 BPE 토크나이저를 사용하였을 때 test accuracy 81.9%로 향상한 것을 볼 수 있다."
   ]
  },
  {
   "cell_type": "markdown",
   "id": "otherwise-macro",
   "metadata": {},
   "source": [
    "# 회고 \n",
    "\n",
    "1. SentencePiece를 이용하여 모델을 만들기까지의 과정이 정상적으로 진행되었는가?    \n",
    "    - 네이버 영화리뷰 감정 분석 태스크 데이터의 코퍼스 분석, 전처리, SentencePiece 적용, 토크나이저 구현 순으로 모델의 동작이 정상적으로 진행되었다. \n",
    "\n",
    "    \n",
    "2. SentencePiece를 통해 만든 Tokenizer가 자연어처리 모델과 결합하여 동작하는가?\n",
    "    - SentencePiece 토크나이저가 적용된 Text Classifier 모델을 RNN, 1D-CNN으로 설계하고 평가해보았다. \n",
    "    - RNN 모델은 test accuracy가 50% 정도로 나왔다. 어떤 이유인지 좀 더 공부해야 할 것 같다. \n",
    "    - 1D-CNN 모델에서는 정상적으로 수렴하여 80% 이상의 test accuracy가 확인되었다.\n",
    "\n",
    "    \n",
    "3. SentencePiece의 성능을 다각도로 비교분석하였는가?\n",
    "    - SentencePiece 토크나이저(Unigram)를 활용했을 때의 성능을 SentencePiece의 다른 옵션(BPE)의 경우와 비교하여 분석을 체계적으로 진행하였다.\n",
    "    - 각 토크나이저의 tensor size는 서로 달랐지만, 모델과 결합하였을 때는 비슷한 성능을 확인하였다. \n",
    "    - 이전 Exploration7(네이버 영화리뷰 감성분석) 에서 konlpy의 Mecab을 이용하여 토큰화 하였을 때, RNN 모델은 83.4%의 test accuracy, 1D-CNN 모델은 72.7%의 test accuracy를 볼 수 있었다.     \n",
    "    https://github.com/seungmiya13/LMS-Exploration/blob/master/E7/NaverMovies_sentiment_classification.ipynb\n",
    "    - 이번 SentencePiece 토크나이저를 활용하였을 때에는 RNN 모델은 50% 정도의 test accuracy, 1D-CNN 모델은 80%의 test accuracy를 볼 수 있었다. "
   ]
  }
 ],
 "metadata": {
  "kernelspec": {
   "display_name": "Python 3",
   "language": "python",
   "name": "python3"
  },
  "language_info": {
   "codemirror_mode": {
    "name": "ipython",
    "version": 3
   },
   "file_extension": ".py",
   "mimetype": "text/x-python",
   "name": "python",
   "nbconvert_exporter": "python",
   "pygments_lexer": "ipython3",
   "version": "3.7.9"
  }
 },
 "nbformat": 4,
 "nbformat_minor": 5
}
